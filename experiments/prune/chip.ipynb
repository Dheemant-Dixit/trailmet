{
  "cells": [
    {
      "cell_type": "markdown",
      "metadata": {
        "id": "view-in-github",
        "colab_type": "text"
      },
      "source": [
        "<a href=\"https://colab.research.google.com/github/hachons/trailmet/blob/dev/experiments/prune/chip.ipynb\" target=\"_parent\"><img src=\"https://colab.research.google.com/assets/colab-badge.svg\" alt=\"Open In Colab\"/></a>"
      ]
    },
    {
      "cell_type": "code",
      "source": [
        "!git clone https://github.com/hachons/trailmet.git"
      ],
      "metadata": {
        "colab": {
          "base_uri": "https://localhost:8080/"
        },
        "id": "hAYAZNfi2IRI",
        "outputId": "12247f8c-b2fc-4836-f7f3-af8735c7451a"
      },
      "id": "hAYAZNfi2IRI",
      "execution_count": 1,
      "outputs": [
        {
          "output_type": "stream",
          "name": "stdout",
          "text": [
            "Cloning into 'trailmet'...\n",
            "remote: Enumerating objects: 1205, done.\u001b[K\n",
            "remote: Counting objects: 100% (571/571), done.\u001b[K\n",
            "remote: Compressing objects: 100% (271/271), done.\u001b[K\n",
            "remote: Total 1205 (delta 399), reused 361 (delta 295), pack-reused 634\u001b[K\n",
            "Receiving objects: 100% (1205/1205), 2.34 MiB | 11.42 MiB/s, done.\n",
            "Resolving deltas: 100% (729/729), done.\n"
          ]
        }
      ]
    },
    {
      "cell_type": "code",
      "source": [
        "cd /content/trailmet"
      ],
      "metadata": {
        "colab": {
          "base_uri": "https://localhost:8080/"
        },
        "id": "Xz7xeLZG2ULD",
        "outputId": "d1229921-03df-4efa-b986-345d53ee4341"
      },
      "id": "Xz7xeLZG2ULD",
      "execution_count": 2,
      "outputs": [
        {
          "output_type": "stream",
          "name": "stdout",
          "text": [
            "/content/trailmet\n"
          ]
        }
      ]
    },
    {
      "cell_type": "code",
      "execution_count": 3,
      "id": "e835cceb",
      "metadata": {
        "id": "e835cceb",
        "colab": {
          "base_uri": "https://localhost:8080/",
          "height": 356
        },
        "outputId": "8133c8a2-2a9e-4b39-80b6-bb0acc733443"
      },
      "outputs": [
        {
          "output_type": "error",
          "ename": "ModuleNotFoundError",
          "evalue": "ignored",
          "traceback": [
            "\u001b[0;31m---------------------------------------------------------------------------\u001b[0m",
            "\u001b[0;31mModuleNotFoundError\u001b[0m                       Traceback (most recent call last)",
            "\u001b[0;32m<ipython-input-3-808747a8b7ac>\u001b[0m in \u001b[0;36m<module>\u001b[0;34m\u001b[0m\n\u001b[1;32m      3\u001b[0m \u001b[0;32mfrom\u001b[0m \u001b[0mtorchvision\u001b[0m \u001b[0;32mimport\u001b[0m \u001b[0mtransforms\u001b[0m\u001b[0;34m\u001b[0m\u001b[0;34m\u001b[0m\u001b[0m\n\u001b[1;32m      4\u001b[0m \u001b[0;32mfrom\u001b[0m \u001b[0mtrailmet\u001b[0m\u001b[0;34m.\u001b[0m\u001b[0mmodels\u001b[0m \u001b[0;32mimport\u001b[0m \u001b[0mModelsFactory\u001b[0m\u001b[0;34m\u001b[0m\u001b[0;34m\u001b[0m\u001b[0m\n\u001b[0;32m----> 5\u001b[0;31m \u001b[0;32mfrom\u001b[0m \u001b[0mtrailmet\u001b[0m\u001b[0;34m.\u001b[0m\u001b[0mmodels\u001b[0m\u001b[0;34m.\u001b[0m\u001b[0mresnet_chip\u001b[0m \u001b[0;32mimport\u001b[0m \u001b[0mresnet_50\u001b[0m\u001b[0;34m\u001b[0m\u001b[0;34m\u001b[0m\u001b[0m\n\u001b[0m\u001b[1;32m      6\u001b[0m \u001b[0;32mfrom\u001b[0m \u001b[0mtrailmet\u001b[0m\u001b[0;34m.\u001b[0m\u001b[0mdatasets\u001b[0m\u001b[0;34m.\u001b[0m\u001b[0mclassification\u001b[0m \u001b[0;32mimport\u001b[0m \u001b[0mDatasetFactory\u001b[0m\u001b[0;34m\u001b[0m\u001b[0;34m\u001b[0m\u001b[0m\n",
            "\u001b[0;31mModuleNotFoundError\u001b[0m: No module named 'trailmet.models.resnet_chip'",
            "",
            "\u001b[0;31m---------------------------------------------------------------------------\u001b[0;32m\nNOTE: If your import is failing due to a missing package, you can\nmanually install dependencies using either !pip or !apt.\n\nTo view examples of installing some common dependencies, click the\n\"Open Examples\" button below.\n\u001b[0;31m---------------------------------------------------------------------------\u001b[0m\n"
          ],
          "errorDetails": {
            "actions": [
              {
                "action": "open_url",
                "actionText": "Open Examples",
                "url": "/notebooks/snippets/importing_libraries.ipynb"
              }
            ]
          }
        }
      ],
      "source": [
        "import torch\n",
        "import matplotlib.pyplot as plt\n",
        "from torchvision import transforms\n",
        "from trailmet.models import ModelsFactory\n",
        "from trailmet.models.resnet_chip import resnet_50\n",
        "from trailmet.datasets.classification import DatasetFactory"
      ]
    },
    {
      "cell_type": "code",
      "execution_count": null,
      "id": "934d25e2",
      "metadata": {
        "id": "934d25e2"
      },
      "outputs": [],
      "source": [
        "import yaml"
      ]
    },
    {
      "cell_type": "code",
      "execution_count": null,
      "id": "1a2655f4",
      "metadata": {
        "id": "1a2655f4"
      },
      "outputs": [],
      "source": [
        "root = \"/workspace/code/janhavi/trailmet/experiments/chip\"\n",
        "from trailmet.datasets.classification import DatasetFactory\n",
        "data_root = \"/content/data_dir\""
      ]
    },
    {
      "cell_type": "code",
      "execution_count": null,
      "id": "46356062",
      "metadata": {
        "id": "46356062"
      },
      "outputs": [],
      "source": [
        "!mkdir /content/data_dir"
      ]
    },
    {
      "cell_type": "code",
      "execution_count": null,
      "id": "4d803a41",
      "metadata": {
        "id": "4d803a41"
      },
      "outputs": [],
      "source": [
        "train_transform = transforms.Compose(\n",
        "[transforms.ToTensor()])\n",
        "\n",
        "val_transform = transforms.Compose(\n",
        "[transforms.ToTensor()])\n",
        "\n",
        "test_transform = transforms.Compose(\n",
        "[transforms.ToTensor()])\n",
        "\n",
        "transforms1 = {\n",
        "    'train': train_transform, \n",
        "    'val': val_transform, \n",
        "    'test': test_transform}\n",
        "def train_target_transform(label):\n",
        "    return label\n",
        "\n",
        "def val_target_transform(label):\n",
        "    return label\n",
        "\n",
        "def test_target_transform(label):\n",
        "    return label\n",
        "\n",
        "target_transforms = {\n",
        "    'train': None, \n",
        "    'val': None, \n",
        "    'test': None}\n",
        "\n",
        "\n",
        "cifar_dataset = DatasetFactory.create_dataset(name = 'CIFAR100', \n",
        "                                        root = data_root,\n",
        "                                        split_types = ['train', 'val', 'test'],\n",
        "                                        val_fraction = 0.2,\n",
        "                                        transform = transforms1,\n",
        "                                        target_transform = target_transforms\n",
        "                                        )"
      ]
    },
    {
      "cell_type": "code",
      "execution_count": null,
      "id": "ad43977a",
      "metadata": {
        "id": "ad43977a"
      },
      "outputs": [],
      "source": [
        "class CFG:\n",
        "    def __init__(self):\n",
        "        self.batch_size = 128\n",
        "        self.arch = 'resnet_50'\n",
        "        self.repeat = 5\n",
        "        self.ci_dir = './CI_resnet_50'\n",
        "        self.lr_type = 'cos'\n",
        "        self.learning_rate = 0.01\n",
        "        self.epochs = 5\n",
        "        self.num_layers = 53\n",
        "        self.feature_map_dir = './conv_feature_map'\n",
        "        self.sparsity = [0.]+[0.1]*3+[0.35]*16\n",
        "        self.label_smooth = 0\n",
        "        self.device = 'cuda'\n",
        "        self.momentum = 0.9\n",
        "        self.weight_decay = 0.005\n",
        "        self.lr_decay_step = 0.9\n",
        "        self.result_dir = './result'\n",
        "        self.pretrain_dir = './pretrained_models/resnet_50.pt'\n",
        "        self.conv_index = torch.tensor(1)"
      ]
    },
    {
      "cell_type": "code",
      "execution_count": null,
      "id": "08a93f58",
      "metadata": {
        "id": "08a93f58"
      },
      "outputs": [],
      "source": [
        "args = CFG()\n",
        "args = args.__dict__\n",
        "dataloaders = { 'train' : torch.utils.data.DataLoader(\n",
        "        cifar_dataset['train'], batch_size=128, \n",
        "        sampler=cifar_dataset['train_sampler'],\n",
        "        num_workers=0\n",
        "    ),\n",
        "               'val':  torch.utils.data.DataLoader(\n",
        "        cifar_dataset['val'], batch_size=128, \n",
        "        sampler=cifar_dataset['val_sampler'],\n",
        "        num_workers=0\n",
        "    ),  \n",
        "               'test':  torch.utils.data.DataLoader(\n",
        "        cifar_dataset['test'], batch_size=128, \n",
        "        sampler=cifar_dataset['test_sampler'],\n",
        "        num_workers=0\n",
        "    )}"
      ]
    },
    {
      "cell_type": "code",
      "execution_count": null,
      "id": "1fbaf9ef",
      "metadata": {
        "id": "1fbaf9ef"
      },
      "outputs": [],
      "source": [
        "model = eval(args['arch'])(sparsity=[0.]*100).to(args['device'])\n",
        "checkpoint = torch.load(args['pretrain_dir'])\n",
        "model.load_state_dict(checkpoint)"
      ]
    },
    {
      "cell_type": "code",
      "execution_count": 11,
      "id": "17ea8863",
      "metadata": {
        "id": "17ea8863"
      },
      "outputs": [],
      "source": [
        "from trailmet.algorithms.prune.chip import Chip"
      ]
    },
    {
      "cell_type": "code",
      "execution_count": 12,
      "id": "bf7f8365",
      "metadata": {
        "id": "bf7f8365"
      },
      "outputs": [],
      "source": [
        "a = Chip(model,dataloaders,**args)"
      ]
    },
    {
      "cell_type": "code",
      "execution_count": null,
      "id": "35e6becd",
      "metadata": {
        "id": "35e6becd",
        "colab": {
          "base_uri": "https://localhost:8080/"
        },
        "outputId": "62ee8445-5d13-4484-b451-36a40091b602"
      },
      "outputs": [
        {
          "output_type": "stream",
          "name": "stderr",
          "text": [
            "/content/drive/MyDrive/trailmet-dev/trailmet/algorithms/prune/chip.py:91: UserWarning: To copy construct from a tensor, it is recommended to use sourceTensor.clone().detach() or sourceTensor.clone().detach().requires_grad_(True), rather than torch.tensor(sourceTensor).\n",
            "  original_norm = torch.norm(torch.tensor(conv_reshape[i, :, :]), p='nuc').item()\n"
          ]
        }
      ],
      "source": [
        "a.compress_model()"
      ]
    },
    {
      "cell_type": "code",
      "execution_count": null,
      "id": "7ab07e91",
      "metadata": {
        "id": "7ab07e91"
      },
      "outputs": [],
      "source": []
    }
  ],
  "metadata": {
    "kernelspec": {
      "display_name": "Python 3 (ipykernel)",
      "language": "python",
      "name": "python3"
    },
    "language_info": {
      "codemirror_mode": {
        "name": "ipython",
        "version": 3
      },
      "file_extension": ".py",
      "mimetype": "text/x-python",
      "name": "python",
      "nbconvert_exporter": "python",
      "pygments_lexer": "ipython3",
      "version": "3.8.10"
    },
    "colab": {
      "provenance": [],
      "include_colab_link": true
    },
    "accelerator": "GPU",
    "gpuClass": "standard"
  },
  "nbformat": 4,
  "nbformat_minor": 5
}