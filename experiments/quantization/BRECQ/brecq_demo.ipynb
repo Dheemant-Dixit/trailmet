{
 "cells": [
  {
   "cell_type": "markdown",
   "id": "e93b505f",
   "metadata": {},
   "source": [
    "## BRECQ\n",
    "This notebook demonstrates the implementation of the paper [BRECQ: Pushing the Limit of Post-Training Quantization by Block Reconstruction](https://arxiv.org/abs/2102.05426)\n",
    "\n",
    "### Steps to quantize the pretrained model\n",
    "- Load the dataset and create dataloader. A subset of training data is used for calibration.\n",
    "- Load the pretrained full precision model.\n",
    "- Load the configurations from the YAML file.\n",
    "- Create a `BRECQ` object and pass the full precision model, dataloaders and configurations.\n",
    "- Quantize the model by calling the `compress_model` method."
   ]
  },
  {
   "cell_type": "code",
   "execution_count": 1,
   "id": "22f166e8",
   "metadata": {},
   "outputs": [],
   "source": [
    "import sys\n",
    "sys.path.append(\"./trail/trailmet/\")"
   ]
  },
  {
   "cell_type": "code",
   "execution_count": 3,
   "id": "99cdc79a",
   "metadata": {},
   "outputs": [],
   "source": [
    "import yaml\n",
    "import torch\n",
    "from torch.utils.data import DataLoader\n",
    "from torchvision import transforms\n",
    "from trailmet.datasets.classification import DatasetFactory\n",
    "from trailmet.models import resnet, mobilenet\n",
    "from trailmet.algorithms import quantize"
   ]
  },
  {
   "cell_type": "markdown",
   "id": "bc544434",
   "metadata": {},
   "source": [
    "## Datasets"
   ]
  },
  {
   "cell_type": "markdown",
   "id": "7e45ff56",
   "metadata": {},
   "source": [
    "### Augmentations"
   ]
  },
  {
   "cell_type": "code",
   "execution_count": 4,
   "id": "3e0a5878",
   "metadata": {},
   "outputs": [],
   "source": [
    "stats = ((0.5071, 0.4867, 0.4408), (0.2675, 0.2565, 0.2761))\n",
    "\n",
    "train_transform = transforms.Compose([\n",
    "    transforms.RandomCrop(32, padding=4, padding_mode='reflect'),\n",
    "    transforms.RandomHorizontalFlip(),\n",
    "    transforms.ToTensor(),\n",
    "    transforms.Normalize(*stats, inplace=True)\n",
    "])\n",
    "val_transform = transforms.Compose([\n",
    "    transforms.ToTensor(),\n",
    "    transforms.Normalize(*stats)\n",
    "])\n",
    "test_transform = transforms.Compose([\n",
    "    transforms.ToTensor(),\n",
    "    transforms.Normalize(*stats)\n",
    "])\n",
    "\n",
    "input_transforms = {\n",
    "    'train': train_transform, \n",
    "    'val': val_transform, \n",
    "    'test': test_transform}\n",
    "\n",
    "target_transforms = {\n",
    "    'train': None, \n",
    "    'val': None, \n",
    "    'test': None}"
   ]
  },
  {
   "cell_type": "markdown",
   "id": "435a9a39",
   "metadata": {},
   "source": [
    "### Load Datasets"
   ]
  },
  {
   "cell_type": "code",
   "execution_count": 5,
   "id": "b0e84a60",
   "metadata": {},
   "outputs": [
    {
     "name": "stdout",
     "output_type": "stream",
     "text": [
      "Files already downloaded and verified\n",
      "Files already downloaded and verified\n",
      "Files already downloaded and verified\n",
      "Train samples:  40000\n",
      "Val samples:  10000\n",
      "Test samples:  10000\n"
     ]
    }
   ],
   "source": [
    "cifar100_dataset = DatasetFactory.create_dataset(\n",
    "        name = 'CIFAR100', \n",
    "        root = './data',\n",
    "        split_types = ['train', 'val', 'test'],\n",
    "        val_fraction = 0.2,\n",
    "        transform = input_transforms,\n",
    "        target_transform = target_transforms)\n",
    "\n",
    "# getting the size of the different splits\n",
    "print('Train samples: ',cifar100_dataset['info']['train_size'])\n",
    "print('Val samples: ',cifar100_dataset['info']['val_size'])\n",
    "print('Test samples: ',cifar100_dataset['info']['test_size'] )"
   ]
  },
  {
   "cell_type": "markdown",
   "id": "a8f1dd95",
   "metadata": {},
   "source": [
    "### Create Dataloaders"
   ]
  },
  {
   "cell_type": "code",
   "execution_count": 6,
   "id": "c2b5c706",
   "metadata": {},
   "outputs": [
    {
     "name": "stdout",
     "output_type": "stream",
     "text": [
      "No. of training batches:  313\n",
      "No. of validation batches:  79\n",
      "No. of test batches:  79\n"
     ]
    }
   ],
   "source": [
    "train_loader = DataLoader(\n",
    "        cifar100_dataset['train'], batch_size=128, \n",
    "        sampler=cifar100_dataset['train_sampler'],\n",
    "        num_workers=0)\n",
    "val_loader = DataLoader(\n",
    "        cifar100_dataset['val'], batch_size=128, \n",
    "        sampler=cifar100_dataset['val_sampler'],\n",
    "        num_workers=0)\n",
    "test_loader = DataLoader(\n",
    "        cifar100_dataset['test'], batch_size=128, \n",
    "        sampler=cifar100_dataset['test_sampler'],\n",
    "        num_workers=0)\n",
    "\n",
    "dataloaders = {\"train\": train_loader, \"val\": val_loader, \"test\": test_loader}\n",
    "\n",
    "print('No. of training batches: ', len(dataloaders['train']))\n",
    "print('No. of validation batches: ', len(dataloaders['val']))\n",
    "print('No. of test batches: ', len(dataloaders['test']))"
   ]
  },
  {
   "cell_type": "markdown",
   "id": "77d829f6",
   "metadata": {},
   "source": [
    "### Load Pretrained Model"
   ]
  },
  {
   "cell_type": "code",
   "execution_count": 7,
   "id": "af857a0e",
   "metadata": {},
   "outputs": [
    {
     "data": {
      "text/plain": [
       "<All keys matched successfully>"
      ]
     },
     "execution_count": 7,
     "metadata": {},
     "output_type": "execute_result"
    }
   ],
   "source": [
    "r50_model = resnet.make_resnet50(100,32)\n",
    "checkpoint = torch.load(\"./weights/resnet50_cifar100_pretrained.pth\", map_location='cuda:0')\n",
    "r50_model.load_state_dict(checkpoint['state_dict'])"
   ]
  },
  {
   "cell_type": "markdown",
   "id": "2f14ba61",
   "metadata": {},
   "source": [
    "### Load Method Config"
   ]
  },
  {
   "cell_type": "code",
   "execution_count": 8,
   "id": "b462cc34",
   "metadata": {},
   "outputs": [
    {
     "data": {
      "text/plain": [
       "{'ARCH': 'ResNet50',\n",
       " 'DATASET': 'CIFAR100',\n",
       " 'GPU_ID': 0,\n",
       " 'SEED': 42,\n",
       " 'W_BUDGET': 0.125,\n",
       " 'A_BITS': 8,\n",
       " 'ACT_QUANT': True,\n",
       " 'CHANNEL_WISE': True,\n",
       " 'NUM_SAMPLES': 128,\n",
       " 'ITERS_A': 1000,\n",
       " 'OPTIMIZER': 'adam',\n",
       " 'SAVE_PATH': './scales/',\n",
       " 'W_BITS': 4,\n",
       " 'ITERS_W': 1000}"
      ]
     },
     "execution_count": 8,
     "metadata": {},
     "output_type": "execute_result"
    }
   ],
   "source": [
    "with open('./brecq_config.yaml', 'r') as f:\n",
    "    config = yaml.safe_load(f)\n",
    "    kwargs = config['GENERAL']\n",
    "    assert kwargs['W_BUDGET'] in config['W_ARGS'], 'given weight budget not supported'\n",
    "    kwargs.update(config['W_ARGS'][kwargs['W_BUDGET']])\n",
    "\n",
    "# This is sample run with reduced samples and iterations. \n",
    "# Comment out the following lines for best results.\n",
    "kwargs['NUM_SAMPLES'] = 128\n",
    "kwargs['ITERS_W'] = 1000\n",
    "kwargs['ITERS_A'] = 1000\n",
    "\n",
    "kwargs"
   ]
  },
  {
   "cell_type": "markdown",
   "id": "6425ed61",
   "metadata": {},
   "source": [
    "### Quantization Method: BRECQ"
   ]
  },
  {
   "cell_type": "code",
   "execution_count": 9,
   "id": "7dab5d41",
   "metadata": {},
   "outputs": [
    {
     "name": "stdout",
     "output_type": "stream",
     "text": [
      "==> Using seed : 42\n",
      "testing pretrained model before quantization\n"
     ]
    },
    {
     "name": "stderr",
     "output_type": "stream",
     "text": [
      "100%|██████████████████████████████████████████████| 79/79 [00:09<00:00,  8.18it/s, acc1=72.5, acc5=91.5]\n"
     ]
    },
    {
     "name": "stdout",
     "output_type": "stream",
     "text": [
      "top-1 acc: 72.52%, top-5 acc: 91.53%\n",
      "==> Initializing weight quantization parameters\n"
     ]
    },
    {
     "name": "stderr",
     "output_type": "stream",
     "text": [
      "100%|██████████████████████████████████████████████| 79/79 [00:05<00:00, 13.96it/s, acc1=70.7, acc5=90.7]\n"
     ]
    },
    {
     "name": "stdout",
     "output_type": "stream",
     "text": [
      "Quantized accuracy before brecq: (70.69818037974683, 90.65466772151899)\n",
      "==> Starting weight calibration\n",
      "Reconstruction for layer conv1\n"
     ]
    },
    {
     "name": "stderr",
     "output_type": "stream",
     "text": [
      "100%|███████████████████████████████████████████████| 1000/1000 [00:03<00:00, 259.26it/s, b=2, loss=2.66]\n"
     ]
    },
    {
     "name": "stdout",
     "output_type": "stream",
     "text": [
      "Reconstruction for block 0\n"
     ]
    },
    {
     "name": "stderr",
     "output_type": "stream",
     "text": [
      "100%|█████████████████████████████████████████████████| 1000/1000 [00:10<00:00, 98.60it/s, b=2, loss=111]\n"
     ]
    },
    {
     "name": "stdout",
     "output_type": "stream",
     "text": [
      "Reconstruction for block 1\n"
     ]
    },
    {
     "name": "stderr",
     "output_type": "stream",
     "text": [
      "100%|███████████████████████████████████████████████| 1000/1000 [00:08<00:00, 116.83it/s, b=2, loss=96.6]\n"
     ]
    },
    {
     "name": "stdout",
     "output_type": "stream",
     "text": [
      "Reconstruction for block 2\n"
     ]
    },
    {
     "name": "stderr",
     "output_type": "stream",
     "text": [
      "100%|███████████████████████████████████████████████| 1000/1000 [00:08<00:00, 123.69it/s, b=2, loss=75.2]\n"
     ]
    },
    {
     "name": "stdout",
     "output_type": "stream",
     "text": [
      "Reconstruction for block 0\n"
     ]
    },
    {
     "name": "stderr",
     "output_type": "stream",
     "text": [
      "100%|█████████████████████████████████████████████████| 1000/1000 [00:14<00:00, 69.36it/s, b=2, loss=537]\n"
     ]
    },
    {
     "name": "stdout",
     "output_type": "stream",
     "text": [
      "Reconstruction for block 1\n"
     ]
    },
    {
     "name": "stderr",
     "output_type": "stream",
     "text": [
      "100%|█████████████████████████████████████████████████| 1000/1000 [00:12<00:00, 82.10it/s, b=2, loss=375]\n"
     ]
    },
    {
     "name": "stdout",
     "output_type": "stream",
     "text": [
      "Reconstruction for block 2\n"
     ]
    },
    {
     "name": "stderr",
     "output_type": "stream",
     "text": [
      "100%|█████████████████████████████████████████████████| 1000/1000 [00:11<00:00, 86.03it/s, b=2, loss=385]\n"
     ]
    },
    {
     "name": "stdout",
     "output_type": "stream",
     "text": [
      "Reconstruction for block 3\n"
     ]
    },
    {
     "name": "stderr",
     "output_type": "stream",
     "text": [
      "100%|████████████████████████████████████████████████| 1000/1000 [00:09<00:00, 103.58it/s, b=2, loss=375]\n"
     ]
    },
    {
     "name": "stdout",
     "output_type": "stream",
     "text": [
      "Reconstruction for block 0\n"
     ]
    },
    {
     "name": "stderr",
     "output_type": "stream",
     "text": [
      "100%|█████████████████████████████████████████████| 1000/1000 [00:10<00:00, 92.88it/s, b=2, loss=2.16e+3]\n"
     ]
    },
    {
     "name": "stdout",
     "output_type": "stream",
     "text": [
      "Reconstruction for block 1\n"
     ]
    },
    {
     "name": "stderr",
     "output_type": "stream",
     "text": [
      "100%|████████████████████████████████████████████| 1000/1000 [00:08<00:00, 118.84it/s, b=2, loss=1.54e+3]\n"
     ]
    },
    {
     "name": "stdout",
     "output_type": "stream",
     "text": [
      "Reconstruction for block 2\n"
     ]
    },
    {
     "name": "stderr",
     "output_type": "stream",
     "text": [
      "100%|████████████████████████████████████████████| 1000/1000 [00:08<00:00, 117.26it/s, b=2, loss=1.51e+3]\n"
     ]
    },
    {
     "name": "stdout",
     "output_type": "stream",
     "text": [
      "Reconstruction for block 3\n"
     ]
    },
    {
     "name": "stderr",
     "output_type": "stream",
     "text": [
      "100%|████████████████████████████████████████████| 1000/1000 [00:09<00:00, 107.57it/s, b=2, loss=1.49e+3]\n"
     ]
    },
    {
     "name": "stdout",
     "output_type": "stream",
     "text": [
      "Reconstruction for block 4\n"
     ]
    },
    {
     "name": "stderr",
     "output_type": "stream",
     "text": [
      "100%|████████████████████████████████████████████| 1000/1000 [00:09<00:00, 109.70it/s, b=2, loss=1.47e+3]\n"
     ]
    },
    {
     "name": "stdout",
     "output_type": "stream",
     "text": [
      "Reconstruction for block 5\n"
     ]
    },
    {
     "name": "stderr",
     "output_type": "stream",
     "text": [
      "100%|████████████████████████████████████████████| 1000/1000 [00:08<00:00, 115.09it/s, b=2, loss=1.47e+3]\n"
     ]
    },
    {
     "name": "stdout",
     "output_type": "stream",
     "text": [
      "Reconstruction for block 0\n"
     ]
    },
    {
     "name": "stderr",
     "output_type": "stream",
     "text": [
      "100%|████████████████████████████████████████████| 1000/1000 [00:09<00:00, 101.63it/s, b=2, loss=9.01e+3]\n"
     ]
    },
    {
     "name": "stdout",
     "output_type": "stream",
     "text": [
      "Reconstruction for block 1\n"
     ]
    },
    {
     "name": "stderr",
     "output_type": "stream",
     "text": [
      "100%|█████████████████████████████████████████████| 1000/1000 [00:07<00:00, 129.27it/s, b=2, loss=7.2e+3]\n"
     ]
    },
    {
     "name": "stdout",
     "output_type": "stream",
     "text": [
      "Reconstruction for block 2\n"
     ]
    },
    {
     "name": "stderr",
     "output_type": "stream",
     "text": [
      "100%|████████████████████████████████████████████| 1000/1000 [00:08<00:00, 115.06it/s, b=2, loss=6.98e+3]\n"
     ]
    },
    {
     "name": "stdout",
     "output_type": "stream",
     "text": [
      "Reconstruction for layer fc\n"
     ]
    },
    {
     "name": "stderr",
     "output_type": "stream",
     "text": [
      "100%|████████████████████████████████████████████████| 1000/1000 [00:03<00:00, 280.20it/s, b=2, loss=504]\n",
      "100%|██████████████████████████████████████████████| 79/79 [00:05<00:00, 13.82it/s, acc1=72.5, acc5=91.4]\n"
     ]
    },
    {
     "name": "stdout",
     "output_type": "stream",
     "text": [
      "Weight quantization accuracy: (72.52768987341773, 91.40625)\n",
      "Reconstruction for layer conv1\n"
     ]
    },
    {
     "name": "stderr",
     "output_type": "stream",
     "text": [
      "100%|███████████████████████████████████████████| 1000/1000 [00:03<00:00, 295.97it/s, b=0, loss=0.000386]\n"
     ]
    },
    {
     "name": "stdout",
     "output_type": "stream",
     "text": [
      "Reconstruction for block 0\n"
     ]
    },
    {
     "name": "stderr",
     "output_type": "stream",
     "text": [
      "100%|████████████████████████████████████████████| 1000/1000 [00:08<00:00, 116.17it/s, b=0, loss=0.00152]\n"
     ]
    },
    {
     "name": "stdout",
     "output_type": "stream",
     "text": [
      "Reconstruction for block 1\n"
     ]
    },
    {
     "name": "stderr",
     "output_type": "stream",
     "text": [
      "100%|████████████████████████████████████████████| 1000/1000 [00:07<00:00, 127.02it/s, b=0, loss=0.00016]\n"
     ]
    },
    {
     "name": "stdout",
     "output_type": "stream",
     "text": [
      "Reconstruction for block 2\n"
     ]
    },
    {
     "name": "stderr",
     "output_type": "stream",
     "text": [
      "100%|████████████████████████████████████████████| 1000/1000 [00:08<00:00, 122.08it/s, b=0, loss=4.88e-5]\n"
     ]
    },
    {
     "name": "stdout",
     "output_type": "stream",
     "text": [
      "Reconstruction for block 0\n"
     ]
    },
    {
     "name": "stderr",
     "output_type": "stream",
     "text": [
      "100%|████████████████████████████████████████████| 1000/1000 [00:07<00:00, 127.18it/s, b=0, loss=0.00106]\n"
     ]
    },
    {
     "name": "stdout",
     "output_type": "stream",
     "text": [
      "Reconstruction for block 1\n"
     ]
    },
    {
     "name": "stderr",
     "output_type": "stream",
     "text": [
      "100%|███████████████████████████████████████████| 1000/1000 [00:06<00:00, 152.98it/s, b=0, loss=0.000216]\n"
     ]
    },
    {
     "name": "stdout",
     "output_type": "stream",
     "text": [
      "Reconstruction for block 2\n"
     ]
    },
    {
     "name": "stderr",
     "output_type": "stream",
     "text": [
      "100%|███████████████████████████████████████████| 1000/1000 [00:08<00:00, 122.01it/s, b=0, loss=0.000211]\n"
     ]
    },
    {
     "name": "stdout",
     "output_type": "stream",
     "text": [
      "Reconstruction for block 3\n"
     ]
    },
    {
     "name": "stderr",
     "output_type": "stream",
     "text": [
      "100%|███████████████████████████████████████████| 1000/1000 [00:07<00:00, 125.68it/s, b=0, loss=0.000184]\n"
     ]
    },
    {
     "name": "stdout",
     "output_type": "stream",
     "text": [
      "Reconstruction for block 0\n"
     ]
    },
    {
     "name": "stderr",
     "output_type": "stream",
     "text": [
      "100%|████████████████████████████████████████████| 1000/1000 [00:09<00:00, 108.87it/s, b=0, loss=0.00173]\n"
     ]
    },
    {
     "name": "stdout",
     "output_type": "stream",
     "text": [
      "Reconstruction for block 1\n"
     ]
    },
    {
     "name": "stderr",
     "output_type": "stream",
     "text": [
      "100%|███████████████████████████████████████████| 1000/1000 [00:07<00:00, 130.99it/s, b=0, loss=0.000682]\n"
     ]
    },
    {
     "name": "stdout",
     "output_type": "stream",
     "text": [
      "Reconstruction for block 2\n"
     ]
    },
    {
     "name": "stderr",
     "output_type": "stream",
     "text": [
      "100%|███████████████████████████████████████████| 1000/1000 [00:07<00:00, 132.14it/s, b=0, loss=0.000355]\n"
     ]
    },
    {
     "name": "stdout",
     "output_type": "stream",
     "text": [
      "Reconstruction for block 3\n"
     ]
    },
    {
     "name": "stderr",
     "output_type": "stream",
     "text": [
      "100%|███████████████████████████████████████████| 1000/1000 [00:08<00:00, 121.54it/s, b=0, loss=0.000216]\n"
     ]
    },
    {
     "name": "stdout",
     "output_type": "stream",
     "text": [
      "Reconstruction for block 4\n"
     ]
    },
    {
     "name": "stderr",
     "output_type": "stream",
     "text": [
      "100%|███████████████████████████████████████████| 1000/1000 [00:07<00:00, 125.02it/s, b=0, loss=0.000191]\n"
     ]
    },
    {
     "name": "stdout",
     "output_type": "stream",
     "text": [
      "Reconstruction for block 5\n"
     ]
    },
    {
     "name": "stderr",
     "output_type": "stream",
     "text": [
      "100%|███████████████████████████████████████████| 1000/1000 [00:08<00:00, 124.69it/s, b=0, loss=0.000227]\n"
     ]
    },
    {
     "name": "stdout",
     "output_type": "stream",
     "text": [
      "Reconstruction for block 0\n"
     ]
    },
    {
     "name": "stderr",
     "output_type": "stream",
     "text": [
      "100%|████████████████████████████████████████████| 1000/1000 [00:08<00:00, 112.77it/s, b=0, loss=0.00929]\n"
     ]
    },
    {
     "name": "stdout",
     "output_type": "stream",
     "text": [
      "Reconstruction for block 1\n"
     ]
    },
    {
     "name": "stderr",
     "output_type": "stream",
     "text": [
      "100%|█████████████████████████████████████████████| 1000/1000 [00:07<00:00, 132.72it/s, b=0, loss=0.0242]\n"
     ]
    },
    {
     "name": "stdout",
     "output_type": "stream",
     "text": [
      "Reconstruction for block 2\n"
     ]
    },
    {
     "name": "stderr",
     "output_type": "stream",
     "text": [
      "100%|█████████████████████████████████████████████| 1000/1000 [00:07<00:00, 125.60it/s, b=0, loss=0.0196]\n"
     ]
    },
    {
     "name": "stdout",
     "output_type": "stream",
     "text": [
      "Reconstruction for layer fc\n"
     ]
    },
    {
     "name": "stderr",
     "output_type": "stream",
     "text": [
      "100%|█████████████████████████████████████████████| 1000/1000 [00:02<00:00, 430.09it/s, b=0, loss=0.0351]\n",
      "100%|██████████████████████████████████████████████| 79/79 [00:07<00:00, 11.23it/s, acc1=72.5, acc5=91.4]"
     ]
    },
    {
     "name": "stdout",
     "output_type": "stream",
     "text": [
      "Full quantization (W4A8) accuracy: (72.4881329113924, 91.39636075949367)\n"
     ]
    },
    {
     "name": "stderr",
     "output_type": "stream",
     "text": [
      "\n"
     ]
    }
   ],
   "source": [
    "quantizer = quantize.brecq.BRECQ(r50_model, dataloaders, **kwargs)\n",
    "\n",
    "print('testing pretrained model before quantization')\n",
    "acc1, acc5 = quantizer.test(model=r50_model, dataloader=dataloaders['test'], device=torch.device('cuda:0'))\n",
    "print(f'top-1 acc: {acc1:.2f}%, top-5 acc: {acc5:.2f}%')\n",
    "\n",
    "qmodel = quantizer.compress_model()"
   ]
  },
  {
   "cell_type": "code",
   "execution_count": 10,
   "id": "1265d44a",
   "metadata": {},
   "outputs": [
    {
     "name": "stdout",
     "output_type": "stream",
     "text": [
      "testing quantized model\n"
     ]
    },
    {
     "name": "stderr",
     "output_type": "stream",
     "text": [
      "100%|██████████████████████████████████████████████| 79/79 [00:07<00:00, 10.66it/s, acc1=72.5, acc5=91.4]"
     ]
    },
    {
     "name": "stdout",
     "output_type": "stream",
     "text": [
      "top-1 acc: 72.49%, top-5 acc: 91.40%\n"
     ]
    },
    {
     "name": "stderr",
     "output_type": "stream",
     "text": [
      "\n"
     ]
    }
   ],
   "source": [
    "print('testing quantized model')\n",
    "acc1, acc5 = quantizer.test(model=qmodel, dataloader=dataloaders['test'], device=torch.device('cuda:0'))\n",
    "print(f'top-1 acc: {acc1:.2f}%, top-5 acc: {acc5:.2f}%')"
   ]
  },
  {
   "cell_type": "code",
   "execution_count": null,
   "id": "8a2e14a1",
   "metadata": {},
   "outputs": [],
   "source": []
  }
 ],
 "metadata": {
  "kernelspec": {
   "display_name": "Python 3 (ipykernel)",
   "language": "python",
   "name": "python3"
  },
  "language_info": {
   "codemirror_mode": {
    "name": "ipython",
    "version": 3
   },
   "file_extension": ".py",
   "mimetype": "text/x-python",
   "name": "python",
   "nbconvert_exporter": "python",
   "pygments_lexer": "ipython3",
   "version": "3.8.13"
  }
 },
 "nbformat": 4,
 "nbformat_minor": 5
}
