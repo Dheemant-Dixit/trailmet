{
 "cells": [
  {
   "cell_type": "markdown",
   "id": "e93b505f",
   "metadata": {},
   "source": [
    "## BRECQ\n",
    "This notebook demonstrates the implementation of the paper [BRECQ: Pushing the Limit of Post-Training Quantization by Block Reconstruction](https://arxiv.org/abs/2102.05426)\n",
    "\n",
    "### Steps to quantize the pretrained model\n",
    "- Load the dataset and create dataloader. A subset of training data is used for calibration.\n",
    "- Load the pretrained full precision model.\n",
    "- Load the configurations from the YAML file.\n",
    "- Create a `BRECQ` object and pass the full precision model, dataloaders and configurations.\n",
    "- Quantize the model by calling the `compress_model` method."
   ]
  },
  {
   "cell_type": "code",
   "execution_count": 3,
   "id": "22f166e8",
   "metadata": {},
   "outputs": [],
   "source": [
    "import sys\n",
    "sys.path.append(\"../../../\")\n",
    "\n",
    "import os\n",
    "os.environ[\"CUDA_DEVICE_ORDER\"]=\"PCI_BUS_ID\"   \n",
    "os.environ[\"CUDA_VISIBLE_DEVICES\"]=\"1\""
   ]
  },
  {
   "cell_type": "code",
   "execution_count": 4,
   "id": "99cdc79a",
   "metadata": {},
   "outputs": [],
   "source": [
    "import yaml\n",
    "import torch\n",
    "from torch.utils.data import DataLoader\n",
    "from torchvision import transforms\n",
    "from trailmet.datasets.classification import DatasetFactory\n",
    "from trailmet.models import ModelsFactory\n",
    "from trailmet.algorithms import quantize"
   ]
  },
  {
   "cell_type": "markdown",
   "id": "bc544434",
   "metadata": {},
   "source": [
    "## Datasets"
   ]
  },
  {
   "cell_type": "markdown",
   "id": "7e45ff56",
   "metadata": {},
   "source": [
    "### Augmentations"
   ]
  },
  {
   "cell_type": "code",
   "execution_count": 5,
   "id": "3e0a5878",
   "metadata": {},
   "outputs": [],
   "source": [
    "stats = ((0.5071, 0.4867, 0.4408), (0.2675, 0.2565, 0.2761))\n",
    "\n",
    "train_transform = transforms.Compose([\n",
    "    transforms.RandomCrop(32, padding=4, padding_mode='reflect'),\n",
    "    transforms.RandomHorizontalFlip(),\n",
    "    transforms.ToTensor(),\n",
    "    transforms.Normalize(*stats, inplace=True)\n",
    "])\n",
    "val_transform = transforms.Compose([\n",
    "    transforms.ToTensor(),\n",
    "    transforms.Normalize(*stats)\n",
    "])\n",
    "test_transform = transforms.Compose([\n",
    "    transforms.ToTensor(),\n",
    "    transforms.Normalize(*stats)\n",
    "])\n",
    "\n",
    "input_transforms = {\n",
    "    'train': train_transform, \n",
    "    'val': val_transform, \n",
    "    'test': test_transform}\n",
    "\n",
    "target_transforms = {\n",
    "    'train': None, \n",
    "    'val': None, \n",
    "    'test': None}"
   ]
  },
  {
   "cell_type": "markdown",
   "id": "435a9a39",
   "metadata": {},
   "source": [
    "### Load Datasets"
   ]
  },
  {
   "cell_type": "code",
   "execution_count": 6,
   "id": "b0e84a60",
   "metadata": {},
   "outputs": [
    {
     "name": "stdout",
     "output_type": "stream",
     "text": [
      "Files already downloaded and verified\n",
      "Files already downloaded and verified\n",
      "Files already downloaded and verified\n",
      "Train samples:  40000\n",
      "Val samples:  10000\n",
      "Test samples:  10000\n"
     ]
    }
   ],
   "source": [
    "cifar100_dataset = DatasetFactory.create_dataset(\n",
    "        name = 'CIFAR100', \n",
    "        root = './data',\n",
    "        split_types = ['train', 'val', 'test'],\n",
    "        val_fraction = 0.2,\n",
    "        transform = input_transforms,\n",
    "        target_transform = target_transforms)\n",
    "\n",
    "# getting the size of the different splits\n",
    "print('Train samples: ',cifar100_dataset['info']['train_size'])\n",
    "print('Val samples: ',cifar100_dataset['info']['val_size'])\n",
    "print('Test samples: ',cifar100_dataset['info']['test_size'] )"
   ]
  },
  {
   "cell_type": "markdown",
   "id": "a8f1dd95",
   "metadata": {},
   "source": [
    "### Create Dataloaders"
   ]
  },
  {
   "cell_type": "code",
   "execution_count": 7,
   "id": "c2b5c706",
   "metadata": {},
   "outputs": [
    {
     "name": "stdout",
     "output_type": "stream",
     "text": [
      "No. of training batches:  313\n",
      "No. of validation batches:  79\n",
      "No. of test batches:  79\n"
     ]
    }
   ],
   "source": [
    "train_loader = DataLoader(\n",
    "        cifar100_dataset['train'], batch_size=128, \n",
    "        sampler=cifar100_dataset['train_sampler'],\n",
    "        num_workers=2)\n",
    "val_loader = DataLoader(\n",
    "        cifar100_dataset['val'], batch_size=128, \n",
    "        sampler=cifar100_dataset['val_sampler'],\n",
    "        num_workers=2)\n",
    "test_loader = DataLoader(\n",
    "        cifar100_dataset['test'], batch_size=128, \n",
    "        sampler=cifar100_dataset['test_sampler'],\n",
    "        num_workers=2)\n",
    "\n",
    "dataloaders = {\"train\": train_loader, \"val\": val_loader, \"test\": test_loader}\n",
    "\n",
    "print('No. of training batches: ', len(dataloaders['train']))\n",
    "print('No. of validation batches: ', len(dataloaders['val']))\n",
    "print('No. of test batches: ', len(dataloaders['test']))"
   ]
  },
  {
   "attachments": {},
   "cell_type": "markdown",
   "id": "77d829f6",
   "metadata": {},
   "source": [
    "### Load Model"
   ]
  },
  {
   "cell_type": "code",
   "execution_count": 8,
   "id": "af857a0e",
   "metadata": {},
   "outputs": [],
   "source": [
    "res50_model = ModelsFactory.create_model(name='resnet50', num_classes=100, pretrained=False, insize=32)"
   ]
  },
  {
   "cell_type": "markdown",
   "id": "2f14ba61",
   "metadata": {},
   "source": [
    "### Load Method Config"
   ]
  },
  {
   "cell_type": "code",
   "execution_count": 9,
   "id": "b462cc34",
   "metadata": {},
   "outputs": [
    {
     "data": {
      "text/plain": [
       "{'ARCH': 'ResNet50',\n",
       " 'DATASET': 'CIFAR100',\n",
       " 'GPU_ID': 0,\n",
       " 'SEED': 42,\n",
       " 'W_BUDGET': 0.125,\n",
       " 'A_BITS': 8,\n",
       " 'ACT_QUANT': True,\n",
       " 'CHANNEL_WISE': True,\n",
       " 'NUM_SAMPLES': 128,\n",
       " 'ITERS_A': 1000,\n",
       " 'WEIGHT': 0.01,\n",
       " 'LR': 0.0004,\n",
       " 'OPTIMIZER': 'adam',\n",
       " 'SAVE_PATH': './scales/',\n",
       " 'W_BITS': 4,\n",
       " 'ITERS_W': 1000}"
      ]
     },
     "execution_count": 9,
     "metadata": {},
     "output_type": "execute_result"
    }
   ],
   "source": [
    "with open('./brecq_config.yaml', 'r') as f:\n",
    "    config = yaml.safe_load(f)\n",
    "    kwargs = config['GENERAL']\n",
    "    assert kwargs['W_BUDGET'] in config['W_ARGS'], 'given weight budget not supported'\n",
    "    kwargs.update(config['W_ARGS'][kwargs['W_BUDGET']])\n",
    "\n",
    "# This is sample run with reduced samples and iterations. \n",
    "# Comment out the following lines for best results.\n",
    "kwargs['NUM_SAMPLES'] = 128\n",
    "kwargs['ITERS_W'] = 1000\n",
    "kwargs['ITERS_A'] = 1000\n",
    "\n",
    "kwargs"
   ]
  },
  {
   "cell_type": "markdown",
   "id": "6425ed61",
   "metadata": {},
   "source": [
    "### Quantization Method: BRECQ"
   ]
  },
  {
   "cell_type": "code",
   "execution_count": 12,
   "id": "7dab5d41",
   "metadata": {},
   "outputs": [
    {
     "name": "stdout",
     "output_type": "stream",
     "text": [
      "==> Using seed : 42\n"
     ]
    },
    {
     "data": {
      "text/html": [
       "Finishing last run (ID:vsvosgtp) before initializing another..."
      ],
      "text/plain": [
       "<IPython.core.display.HTML object>"
      ]
     },
     "metadata": {},
     "output_type": "display_data"
    },
    {
     "data": {
      "text/html": [
       "Waiting for W&B process to finish... <strong style=\"color:green\">(success).</strong>"
      ],
      "text/plain": [
       "<IPython.core.display.HTML object>"
      ]
     },
     "metadata": {},
     "output_type": "display_data"
    },
    {
     "data": {
      "text/html": [
       " View run <strong style=\"color:#cdcd00\">CIFAR100_8_0.0004_Jun-25_22:45:55</strong> at: <a href='https://wandb.ai/animesh-007/Trailmet%20BRECQ/runs/vsvosgtp' target=\"_blank\">https://wandb.ai/animesh-007/Trailmet%20BRECQ/runs/vsvosgtp</a><br/>Synced 7 W&B file(s), 0 media file(s), 0 artifact file(s) and 0 other file(s)"
      ],
      "text/plain": [
       "<IPython.core.display.HTML object>"
      ]
     },
     "metadata": {},
     "output_type": "display_data"
    },
    {
     "data": {
      "text/html": [
       "Find logs at: <code>./wandb/run-20230625_224556-vsvosgtp/logs</code>"
      ],
      "text/plain": [
       "<IPython.core.display.HTML object>"
      ]
     },
     "metadata": {},
     "output_type": "display_data"
    },
    {
     "data": {
      "text/html": [
       "Successfully finished last run (ID:vsvosgtp). Initializing new run:<br/>"
      ],
      "text/plain": [
       "<IPython.core.display.HTML object>"
      ]
     },
     "metadata": {},
     "output_type": "display_data"
    },
    {
     "data": {
      "text/html": [
       "wandb version 0.15.4 is available!  To upgrade, please run:\n",
       " $ pip install wandb --upgrade"
      ],
      "text/plain": [
       "<IPython.core.display.HTML object>"
      ]
     },
     "metadata": {},
     "output_type": "display_data"
    },
    {
     "data": {
      "text/html": [
       "Tracking run with wandb version 0.14.0"
      ],
      "text/plain": [
       "<IPython.core.display.HTML object>"
      ]
     },
     "metadata": {},
     "output_type": "display_data"
    },
    {
     "data": {
      "text/html": [
       "Run data is saved locally in <code>/workspace/animesh_trailmet/experiments/quantization/BRECQ/wandb/run-20230625_224625-xjo14rq4</code>"
      ],
      "text/plain": [
       "<IPython.core.display.HTML object>"
      ]
     },
     "metadata": {},
     "output_type": "display_data"
    },
    {
     "data": {
      "text/html": [
       "Syncing run <strong><a href='https://wandb.ai/animesh-007/Trailmet%20BRECQ/runs/xjo14rq4' target=\"_blank\">CIFAR100_8_0.0004_Jun-25_22:46:25</a></strong> to <a href='https://wandb.ai/animesh-007/Trailmet%20BRECQ' target=\"_blank\">Weights & Biases</a> (<a href='https://wandb.me/run' target=\"_blank\">docs</a>)<br/>"
      ],
      "text/plain": [
       "<IPython.core.display.HTML object>"
      ]
     },
     "metadata": {},
     "output_type": "display_data"
    },
    {
     "data": {
      "text/html": [
       " View project at <a href='https://wandb.ai/animesh-007/Trailmet%20BRECQ' target=\"_blank\">https://wandb.ai/animesh-007/Trailmet%20BRECQ</a>"
      ],
      "text/plain": [
       "<IPython.core.display.HTML object>"
      ]
     },
     "metadata": {},
     "output_type": "display_data"
    },
    {
     "data": {
      "text/html": [
       " View run at <a href='https://wandb.ai/animesh-007/Trailmet%20BRECQ/runs/xjo14rq4' target=\"_blank\">https://wandb.ai/animesh-007/Trailmet%20BRECQ/runs/xjo14rq4</a>"
      ],
      "text/plain": [
       "<IPython.core.display.HTML object>"
      ]
     },
     "metadata": {},
     "output_type": "display_data"
    },
    {
     "name": "stdout",
     "output_type": "stream",
     "text": [
      "testing pretrained model before quantization\n"
     ]
    },
    {
     "name": "stderr",
     "output_type": "stream",
     "text": [
      "Validating network (79 / 79 Steps) (batch time=0.01762s) (loss=9.17796) (top1=0.00000) (top5=0.00000): 100%|| 79/79 [00:04<00:00, 15.80it/s] \n"
     ]
    },
    {
     "name": "stdout",
     "output_type": "stream",
     "text": [
      " * acc@1 1.040 acc@5 5.190\n",
      "top-1 acc: 1.04%, top-5 acc: 5.19%\n",
      "==> Initializing weight quantization parameters\n"
     ]
    },
    {
     "name": "stderr",
     "output_type": "stream",
     "text": [
      "Validating network (79 / 79 Steps) (batch time=0.02110s) (loss=8.81658) (top1=0.00000) (top5=0.00000): 100%|| 79/79 [00:02<00:00, 31.80it/s] \n"
     ]
    },
    {
     "name": "stdout",
     "output_type": "stream",
     "text": [
      " * acc@1 1.300 acc@5 5.130\n",
      "Quantized accuracy before brecq: 1.2999999523162842\n",
      "==> Starting weight calibration\n",
      "Reconstruction for layer conv1\n"
     ]
    },
    {
     "name": "stderr",
     "output_type": "stream",
     "text": [
      "Reconstructing Layer: Loss (3.518) b (2.0): 100%|| 1000/1000 [00:02<00:00, 382.29it/s] \n"
     ]
    },
    {
     "name": "stdout",
     "output_type": "stream",
     "text": [
      "Reconstruction for block 0\n"
     ]
    },
    {
     "name": "stderr",
     "output_type": "stream",
     "text": [
      "Reconstructing Block: Loss (131.894) b (2.0): 100%|| 1000/1000 [00:06<00:00, 149.93it/s]\n"
     ]
    },
    {
     "name": "stdout",
     "output_type": "stream",
     "text": [
      "Reconstruction for block 1\n"
     ]
    },
    {
     "name": "stderr",
     "output_type": "stream",
     "text": [
      "Reconstructing Block: Loss (137.555) b (2.0): 100%|| 1000/1000 [00:05<00:00, 186.71it/s]\n"
     ]
    },
    {
     "name": "stdout",
     "output_type": "stream",
     "text": [
      "Reconstruction for block 2\n"
     ]
    },
    {
     "name": "stderr",
     "output_type": "stream",
     "text": [
      "Reconstructing Block: Loss (148.040) b (2.0): 100%|| 1000/1000 [00:05<00:00, 197.38it/s]\n"
     ]
    },
    {
     "name": "stdout",
     "output_type": "stream",
     "text": [
      "Reconstruction for block 0\n"
     ]
    },
    {
     "name": "stderr",
     "output_type": "stream",
     "text": [
      "Reconstructing Block: Loss (750.630) b (2.0): 100%|| 1000/1000 [00:07<00:00, 138.81it/s] \n"
     ]
    },
    {
     "name": "stdout",
     "output_type": "stream",
     "text": [
      "Reconstruction for block 1\n"
     ]
    },
    {
     "name": "stderr",
     "output_type": "stream",
     "text": [
      "Reconstructing Block: Loss (610.501) b (2.0): 100%|| 1000/1000 [00:05<00:00, 184.58it/s] \n"
     ]
    },
    {
     "name": "stdout",
     "output_type": "stream",
     "text": [
      "Reconstruction for block 2\n"
     ]
    },
    {
     "name": "stderr",
     "output_type": "stream",
     "text": [
      "Reconstructing Block: Loss (679.711) b (2.0): 100%|| 1000/1000 [00:05<00:00, 184.35it/s] \n"
     ]
    },
    {
     "name": "stdout",
     "output_type": "stream",
     "text": [
      "Reconstruction for block 3\n"
     ]
    },
    {
     "name": "stderr",
     "output_type": "stream",
     "text": [
      "Reconstructing Block: Loss (737.091) b (2.0): 100%|| 1000/1000 [00:05<00:00, 177.89it/s] \n"
     ]
    },
    {
     "name": "stdout",
     "output_type": "stream",
     "text": [
      "Reconstruction for block 0\n"
     ]
    },
    {
     "name": "stderr",
     "output_type": "stream",
     "text": [
      "Reconstructing Block: Loss (3709.193) b (2.0): 100%|| 1000/1000 [00:06<00:00, 148.69it/s] \n"
     ]
    },
    {
     "name": "stdout",
     "output_type": "stream",
     "text": [
      "Reconstruction for block 1\n"
     ]
    },
    {
     "name": "stderr",
     "output_type": "stream",
     "text": [
      "Reconstructing Block: Loss (3016.720) b (2.0): 100%|| 1000/1000 [00:05<00:00, 185.82it/s] \n"
     ]
    },
    {
     "name": "stdout",
     "output_type": "stream",
     "text": [
      "Reconstruction for block 2\n"
     ]
    },
    {
     "name": "stderr",
     "output_type": "stream",
     "text": [
      "Reconstructing Block: Loss (3416.183) b (2.0): 100%|| 1000/1000 [00:05<00:00, 185.97it/s] \n"
     ]
    },
    {
     "name": "stdout",
     "output_type": "stream",
     "text": [
      "Reconstruction for block 3\n"
     ]
    },
    {
     "name": "stderr",
     "output_type": "stream",
     "text": [
      "Reconstructing Block: Loss (3782.748) b (2.0): 100%|| 1000/1000 [00:05<00:00, 191.07it/s] \n"
     ]
    },
    {
     "name": "stdout",
     "output_type": "stream",
     "text": [
      "Reconstruction for block 4\n"
     ]
    },
    {
     "name": "stderr",
     "output_type": "stream",
     "text": [
      "Reconstructing Block: Loss (4219.022) b (2.0): 100%|| 1000/1000 [00:05<00:00, 169.18it/s] \n"
     ]
    },
    {
     "name": "stdout",
     "output_type": "stream",
     "text": [
      "Reconstruction for block 5\n"
     ]
    },
    {
     "name": "stderr",
     "output_type": "stream",
     "text": [
      "Reconstructing Block: Loss (4588.935) b (2.0): 100%|| 1000/1000 [00:05<00:00, 169.72it/s] \n"
     ]
    },
    {
     "name": "stdout",
     "output_type": "stream",
     "text": [
      "Reconstruction for block 0\n"
     ]
    },
    {
     "name": "stderr",
     "output_type": "stream",
     "text": [
      "Reconstructing Block: Loss (21842.725) b (2.0): 100%|| 1000/1000 [00:07<00:00, 141.11it/s]\n"
     ]
    },
    {
     "name": "stdout",
     "output_type": "stream",
     "text": [
      "Reconstruction for block 1\n"
     ]
    },
    {
     "name": "stderr",
     "output_type": "stream",
     "text": [
      "Reconstructing Block: Loss (16233.676) b (2.0): 100%|| 1000/1000 [00:05<00:00, 177.23it/s]\n"
     ]
    },
    {
     "name": "stdout",
     "output_type": "stream",
     "text": [
      "Reconstruction for block 2\n"
     ]
    },
    {
     "name": "stderr",
     "output_type": "stream",
     "text": [
      "Reconstructing Block: Loss (17142.783) b (2.0): 100%|| 1000/1000 [00:05<00:00, 185.41it/s]\n"
     ]
    },
    {
     "name": "stdout",
     "output_type": "stream",
     "text": [
      "Reconstruction for layer fc\n"
     ]
    },
    {
     "name": "stderr",
     "output_type": "stream",
     "text": [
      "Reconstructing Layer: Loss (808.284) b (2.0): 100%|| 1000/1000 [00:02<00:00, 462.91it/s] \n",
      "Validating network (79 / 79 Steps) (batch time=0.02218s) (loss=9.12264) (top1=0.00000) (top5=6.25000): 100%|| 79/79 [00:02<00:00, 31.10it/s] \n"
     ]
    },
    {
     "name": "stdout",
     "output_type": "stream",
     "text": [
      " * acc@1 1.410 acc@5 5.040\n",
      "Weight quantization accuracy: 1.409999966621399\n",
      "Reconstruction for layer conv1\n"
     ]
    },
    {
     "name": "stderr",
     "output_type": "stream",
     "text": [
      "Reconstructing Layer: Loss (0.001) b (0.0): 100%|| 1000/1000 [00:02<00:00, 481.38it/s]\n"
     ]
    },
    {
     "name": "stdout",
     "output_type": "stream",
     "text": [
      "Reconstruction for block 0\n"
     ]
    },
    {
     "name": "stderr",
     "output_type": "stream",
     "text": [
      "Reconstructing Block: Loss (0.012) b (0.0): 100%|| 1000/1000 [00:05<00:00, 194.20it/s]\n"
     ]
    },
    {
     "name": "stdout",
     "output_type": "stream",
     "text": [
      "Reconstruction for block 1\n"
     ]
    },
    {
     "name": "stderr",
     "output_type": "stream",
     "text": [
      "Reconstructing Block: Loss (0.036) b (0.0): 100%|| 1000/1000 [00:04<00:00, 241.08it/s]\n"
     ]
    },
    {
     "name": "stdout",
     "output_type": "stream",
     "text": [
      "Reconstruction for block 2\n"
     ]
    },
    {
     "name": "stderr",
     "output_type": "stream",
     "text": [
      "Reconstructing Block: Loss (0.095) b (0.0): 100%|| 1000/1000 [00:03<00:00, 250.58it/s]\n"
     ]
    },
    {
     "name": "stdout",
     "output_type": "stream",
     "text": [
      "Reconstruction for block 0\n"
     ]
    },
    {
     "name": "stderr",
     "output_type": "stream",
     "text": [
      "Reconstructing Block: Loss (0.170) b (0.0): 100%|| 1000/1000 [00:05<00:00, 179.23it/s]\n"
     ]
    },
    {
     "name": "stdout",
     "output_type": "stream",
     "text": [
      "Reconstruction for block 1\n"
     ]
    },
    {
     "name": "stderr",
     "output_type": "stream",
     "text": [
      "Reconstructing Block: Loss (0.329) b (0.0): 100%|| 1000/1000 [00:04<00:00, 216.24it/s]\n"
     ]
    },
    {
     "name": "stdout",
     "output_type": "stream",
     "text": [
      "Reconstruction for block 2\n"
     ]
    },
    {
     "name": "stderr",
     "output_type": "stream",
     "text": [
      "Reconstructing Block: Loss (1.400) b (0.0): 100%|| 1000/1000 [00:04<00:00, 207.09it/s]\n"
     ]
    },
    {
     "name": "stdout",
     "output_type": "stream",
     "text": [
      "Reconstruction for block 3\n"
     ]
    },
    {
     "name": "stderr",
     "output_type": "stream",
     "text": [
      "Reconstructing Block: Loss (3.608) b (0.0): 100%|| 1000/1000 [00:04<00:00, 221.21it/s]\n"
     ]
    },
    {
     "name": "stdout",
     "output_type": "stream",
     "text": [
      "Reconstruction for block 0\n"
     ]
    },
    {
     "name": "stderr",
     "output_type": "stream",
     "text": [
      "Reconstructing Block: Loss (10.746) b (0.0): 100%|| 1000/1000 [00:04<00:00, 205.43it/s]\n"
     ]
    },
    {
     "name": "stdout",
     "output_type": "stream",
     "text": [
      "Reconstruction for block 1\n"
     ]
    },
    {
     "name": "stderr",
     "output_type": "stream",
     "text": [
      "Reconstructing Block: Loss (19.581) b (0.0): 100%|| 1000/1000 [00:04<00:00, 235.84it/s]\n"
     ]
    },
    {
     "name": "stdout",
     "output_type": "stream",
     "text": [
      "Reconstruction for block 2\n"
     ]
    },
    {
     "name": "stderr",
     "output_type": "stream",
     "text": [
      "Reconstructing Block: Loss (53.050) b (0.0): 100%|| 1000/1000 [00:04<00:00, 235.11it/s]\n"
     ]
    },
    {
     "name": "stdout",
     "output_type": "stream",
     "text": [
      "Reconstruction for block 3\n"
     ]
    },
    {
     "name": "stderr",
     "output_type": "stream",
     "text": [
      "Reconstructing Block: Loss (193.496) b (0.0): 100%|| 1000/1000 [00:04<00:00, 217.34it/s]\n"
     ]
    },
    {
     "name": "stdout",
     "output_type": "stream",
     "text": [
      "Reconstruction for block 4\n"
     ]
    },
    {
     "name": "stderr",
     "output_type": "stream",
     "text": [
      "Reconstructing Block: Loss (516.756) b (0.0): 100%|| 1000/1000 [00:05<00:00, 181.13it/s]\n"
     ]
    },
    {
     "name": "stdout",
     "output_type": "stream",
     "text": [
      "Reconstruction for block 5\n"
     ]
    },
    {
     "name": "stderr",
     "output_type": "stream",
     "text": [
      "Reconstructing Block: Loss (1702.890) b (0.0): 100%|| 1000/1000 [00:05<00:00, 182.47it/s]\n"
     ]
    },
    {
     "name": "stdout",
     "output_type": "stream",
     "text": [
      "Reconstruction for block 0\n"
     ]
    },
    {
     "name": "stderr",
     "output_type": "stream",
     "text": [
      "Reconstructing Block: Loss (3935.217) b (0.0): 100%|| 1000/1000 [00:06<00:00, 150.33it/s]\n"
     ]
    },
    {
     "name": "stdout",
     "output_type": "stream",
     "text": [
      "Reconstruction for block 1\n"
     ]
    },
    {
     "name": "stderr",
     "output_type": "stream",
     "text": [
      "Reconstructing Block: Loss (7556.854) b (0.0): 100%|| 1000/1000 [00:05<00:00, 175.66it/s]\n"
     ]
    },
    {
     "name": "stdout",
     "output_type": "stream",
     "text": [
      "Reconstruction for block 2\n"
     ]
    },
    {
     "name": "stderr",
     "output_type": "stream",
     "text": [
      "Reconstructing Block: Loss (8373.395) b (0.0): 100%|| 1000/1000 [00:05<00:00, 173.69it/s]\n"
     ]
    },
    {
     "name": "stdout",
     "output_type": "stream",
     "text": [
      "Reconstruction for layer fc\n"
     ]
    },
    {
     "name": "stderr",
     "output_type": "stream",
     "text": [
      "Reconstructing Layer: Loss (16.654) b (0.0): 100%|| 1000/1000 [00:01<00:00, 804.19it/s]\n",
      "Validating network (79 / 79 Steps) (batch time=0.03732s) (loss=9.09431) (top1=0.00000) (top5=6.25000): 100%|| 79/79 [00:03<00:00, 21.76it/s] "
     ]
    },
    {
     "name": "stdout",
     "output_type": "stream",
     "text": [
      " * acc@1 1.400 acc@5 5.040\n",
      "Full quantization (W4A8) accuracy: 1.399999976158142\n"
     ]
    },
    {
     "name": "stderr",
     "output_type": "stream",
     "text": [
      "\n"
     ]
    }
   ],
   "source": [
    "quantizer = quantize.brecq.BRECQ(res50_model, dataloaders, **kwargs)\n",
    "\n",
    "print('testing pretrained model before quantization')\n",
    "_, acc1, acc5 = quantizer.test(model=res50_model, dataloader=dataloaders['test'], loss_fn=torch.nn.CrossEntropyLoss())\n",
    "print(f'top-1 acc: {acc1:.2f}%, top-5 acc: {acc5:.2f}%')\n",
    "\n",
    "qmodel = quantizer.compress_model()"
   ]
  },
  {
   "cell_type": "code",
   "execution_count": 13,
   "id": "1265d44a",
   "metadata": {},
   "outputs": [
    {
     "name": "stdout",
     "output_type": "stream",
     "text": [
      "testing quantized model\n"
     ]
    },
    {
     "name": "stderr",
     "output_type": "stream",
     "text": [
      "Validating network (79 / 79 Steps) (batch time=0.03837s) (loss=9.09431) (top1=0.00000) (top5=6.25000): 100%|| 79/79 [00:03<00:00, 23.16it/s] "
     ]
    },
    {
     "name": "stdout",
     "output_type": "stream",
     "text": [
      " * acc@1 1.400 acc@5 5.040\n",
      "top-1 acc: 1.40%, top-5 acc: 5.04%\n"
     ]
    },
    {
     "name": "stderr",
     "output_type": "stream",
     "text": [
      "\n"
     ]
    }
   ],
   "source": [
    "print('testing quantized model')\n",
    "_, acc1, acc5 = quantizer.test(model=qmodel, dataloader=dataloaders['test'], loss_fn=torch.nn.CrossEntropyLoss())\n",
    "print(f'top-1 acc: {acc1:.2f}%, top-5 acc: {acc5:.2f}%')"
   ]
  }
 ],
 "metadata": {
  "kernelspec": {
   "display_name": "Python 3 (ipykernel)",
   "language": "python",
   "name": "python3"
  },
  "language_info": {
   "codemirror_mode": {
    "name": "ipython",
    "version": 3
   },
   "file_extension": ".py",
   "mimetype": "text/x-python",
   "name": "python",
   "nbconvert_exporter": "python",
   "pygments_lexer": "ipython3",
   "version": "3.10.9"
  }
 },
 "nbformat": 4,
 "nbformat_minor": 5
}
