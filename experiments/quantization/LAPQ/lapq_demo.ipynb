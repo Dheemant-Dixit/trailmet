{
 "cells": [
  {
   "cell_type": "markdown",
   "id": "498871cf",
   "metadata": {},
   "source": [
    "## LAPQ\n",
    "This notebook demonstrates the implimentation of the paper [Loss Aware Post-training Quantization](https://arxiv.org/abs/1911.07190)\n",
    "\n",
    "### Steps to quantize the pretrained model\n",
    "- Load the dataset and create dataloader. A subset of training data is used for calibration.\n",
    "- Load the pretrained full precision model.\n",
    "- Load the configurations from the YAML file.\n",
    "- Create a `LAPQ` object and pass the full precision model, dataloaders and configurations.\n",
    "- Quantize the model by calling the `compress_model` method."
   ]
  },
  {
   "cell_type": "code",
   "execution_count": 1,
   "id": "dafbd1b3",
   "metadata": {},
   "outputs": [],
   "source": [
    "import sys\n",
    "sys.path.append(\"./trail/trailmet/\")"
   ]
  },
  {
   "cell_type": "code",
   "execution_count": 3,
   "id": "417e9692",
   "metadata": {},
   "outputs": [],
   "source": [
    "import yaml\n",
    "import torch\n",
    "from torch.utils.data import DataLoader\n",
    "from torchvision import transforms\n",
    "from trailmet.datasets.classification import DatasetFactory\n",
    "from trailmet.models import resnet, mobilenet\n",
    "from trailmet.algorithms import quantize"
   ]
  },
  {
   "cell_type": "markdown",
   "id": "c67e2359",
   "metadata": {},
   "source": [
    "## Datasets"
   ]
  },
  {
   "cell_type": "markdown",
   "id": "64a12f9a",
   "metadata": {},
   "source": [
    "### Augmentations"
   ]
  },
  {
   "cell_type": "code",
   "execution_count": 4,
   "id": "4c8c6192",
   "metadata": {},
   "outputs": [],
   "source": [
    "stats = ((0.5071, 0.4867, 0.4408), (0.2675, 0.2565, 0.2761))\n",
    "\n",
    "train_transform = transforms.Compose([\n",
    "    transforms.RandomCrop(32, padding=4, padding_mode='reflect'),\n",
    "    transforms.RandomHorizontalFlip(),\n",
    "    transforms.ToTensor(),\n",
    "    transforms.Normalize(*stats, inplace=True)\n",
    "])\n",
    "val_transform = transforms.Compose([\n",
    "    transforms.ToTensor(),\n",
    "    transforms.Normalize(*stats)\n",
    "])\n",
    "test_transform = transforms.Compose([\n",
    "    transforms.ToTensor(),\n",
    "    transforms.Normalize(*stats)\n",
    "])\n",
    "\n",
    "input_transforms = {\n",
    "    'train': train_transform, \n",
    "    'val': val_transform, \n",
    "    'test': test_transform}\n",
    "\n",
    "target_transforms = {\n",
    "    'train': None, \n",
    "    'val': None, \n",
    "    'test': None}"
   ]
  },
  {
   "cell_type": "markdown",
   "id": "0c41f2b1",
   "metadata": {},
   "source": [
    "### Load Datasets"
   ]
  },
  {
   "cell_type": "code",
   "execution_count": 5,
   "id": "b377f3bb",
   "metadata": {},
   "outputs": [
    {
     "name": "stdout",
     "output_type": "stream",
     "text": [
      "Files already downloaded and verified\n",
      "Files already downloaded and verified\n",
      "Files already downloaded and verified\n",
      "Train samples:  40000\n",
      "Val samples:  10000\n",
      "Test samples:  10000\n"
     ]
    }
   ],
   "source": [
    "cifar100_dataset = DatasetFactory.create_dataset(\n",
    "        name = 'CIFAR100', \n",
    "        root = './data',\n",
    "        split_types = ['train', 'val', 'test'],\n",
    "        val_fraction = 0.2,\n",
    "        transform = input_transforms,\n",
    "        target_transform = target_transforms)\n",
    "\n",
    "# getting the size of the different splits\n",
    "print('Train samples: ',cifar100_dataset['info']['train_size'])\n",
    "print('Val samples: ',cifar100_dataset['info']['val_size'])\n",
    "print('Test samples: ',cifar100_dataset['info']['test_size'] )"
   ]
  },
  {
   "cell_type": "markdown",
   "id": "eec91853",
   "metadata": {},
   "source": [
    "### Define Dataloaders"
   ]
  },
  {
   "cell_type": "code",
   "execution_count": 6,
   "id": "464c2e93",
   "metadata": {},
   "outputs": [
    {
     "name": "stdout",
     "output_type": "stream",
     "text": [
      "No. of training batches:  313\n",
      "No. of validation batches:  79\n",
      "No. of test batches:  79\n"
     ]
    }
   ],
   "source": [
    "train_loader = DataLoader(\n",
    "        cifar100_dataset['train'], batch_size=128, \n",
    "        sampler=cifar100_dataset['train_sampler'],\n",
    "        num_workers=0)\n",
    "val_loader = DataLoader(\n",
    "        cifar100_dataset['val'], batch_size=128, \n",
    "        sampler=cifar100_dataset['val_sampler'],\n",
    "        num_workers=0)\n",
    "test_loader = DataLoader(\n",
    "        cifar100_dataset['test'], batch_size=128, \n",
    "        sampler=cifar100_dataset['test_sampler'],\n",
    "        num_workers=0)\n",
    "\n",
    "dataloaders = {\"train\": train_loader, \"val\": val_loader, \"test\": test_loader}\n",
    "\n",
    "print('No. of training batches: ', len(dataloaders['train']))\n",
    "print('No. of validation batches: ', len(dataloaders['val']))\n",
    "print('No. of test batches: ', len(dataloaders['test']))"
   ]
  },
  {
   "cell_type": "markdown",
   "id": "85812739",
   "metadata": {},
   "source": [
    "### Load Pretrained Model"
   ]
  },
  {
   "cell_type": "code",
   "execution_count": 7,
   "id": "e4db07ac",
   "metadata": {},
   "outputs": [
    {
     "data": {
      "text/plain": [
       "<All keys matched successfully>"
      ]
     },
     "execution_count": 7,
     "metadata": {},
     "output_type": "execute_result"
    }
   ],
   "source": [
    "r50_model = resnet.make_resnet50(100,32)\n",
    "checkpoint = torch.load(\"./weights/resnet50_cifar100_pretrained.pth\", map_location='cuda:0')\n",
    "r50_model.load_state_dict(checkpoint['state_dict'])"
   ]
  },
  {
   "cell_type": "markdown",
   "id": "0ca3e796",
   "metadata": {},
   "source": [
    "### Load Method Config"
   ]
  },
  {
   "cell_type": "code",
   "execution_count": 8,
   "id": "5b9625ad",
   "metadata": {},
   "outputs": [
    {
     "data": {
      "text/plain": [
       "{'ARCH': 'ResNet50',\n",
       " 'DATASET': 'CIFAR100',\n",
       " 'SAVE_PATH': './scales/',\n",
       " 'GPU_ID': 0,\n",
       " 'SEED': 42,\n",
       " 'W_BITS': 4,\n",
       " 'A_BITS': 8,\n",
       " 'ACT_QUANT': True,\n",
       " 'CALIB_BATCHES': 4,\n",
       " 'MAX_ITER': 1000,\n",
       " 'MAX_FEV': 1000,\n",
       " 'VERBOSE': True}"
      ]
     },
     "execution_count": 8,
     "metadata": {},
     "output_type": "execute_result"
    }
   ],
   "source": [
    "with open('./lapq_config.yaml', 'r') as f:\n",
    "    config = yaml.safe_load(f)\n",
    "    kwargs = config['GENERAL']\n",
    "    \n",
    "kwargs"
   ]
  },
  {
   "cell_type": "markdown",
   "id": "87e6c554",
   "metadata": {},
   "source": [
    "### Quantization Method: BRECQ"
   ]
  },
  {
   "cell_type": "code",
   "execution_count": 9,
   "id": "e21d5073",
   "metadata": {},
   "outputs": [
    {
     "name": "stdout",
     "output_type": "stream",
     "text": [
      "==> Using seed: 42 and device: cuda:0\n",
      "testing pretrained model before quantization\n"
     ]
    },
    {
     "name": "stderr",
     "output_type": "stream",
     "text": [
      "100%|██████████████████████████████████████████████| 79/79 [00:11<00:00,  6.73it/s, acc1=72.5, acc5=91.5]\n"
     ]
    },
    {
     "name": "stdout",
     "output_type": "stream",
     "text": [
      "top-1 acc: 72.52%, top-5 acc: 91.53%\n"
     ]
    },
    {
     "name": "stderr",
     "output_type": "stream",
     "text": [
      "100%|██████████████████████████████████████████████| 79/79 [00:11<00:00,  7.02it/s, acc1=13.7, acc5=33.7]\n"
     ]
    },
    {
     "name": "stdout",
     "output_type": "stream",
     "text": [
      "==> Quantization (W4A8) accuracy before LAPQ: 13.7164 | 33.7322\n"
     ]
    },
    {
     "name": "stderr",
     "output_type": "stream",
     "text": [
      "100%|███████████████████████████████████████████████| 10/10 [00:16<00:00,  1.62s/it, loss=0.971, p_val=4]\n"
     ]
    },
    {
     "name": "stdout",
     "output_type": "stream",
     "text": [
      "==> using p intr : 3.19\n"
     ]
    },
    {
     "name": "stderr",
     "output_type": "stream",
     "text": [
      "100%|███████████████████████████████████| 79/79 [00:10<00:00,  7.32it/s, acc1=65.8, acc5=86.7, loss=1.45]\n"
     ]
    },
    {
     "name": "stdout",
     "output_type": "stream",
     "text": [
      "==> Quantization (W4A8) accuracy before Optimization: 65.8327 | 86.6990\n",
      "==> Loss after LpNormQuantization: 1.4541\n",
      "==> Starting Powell Optimization\n"
     ]
    },
    {
     "name": "stderr",
     "output_type": "stream",
     "text": [
      "1460it [06:26,  3.78it/s, curr_loss=0.28, min_loss=0.28]                                                 \n"
     ]
    },
    {
     "name": "stdout",
     "output_type": "stream",
     "text": [
      "\n",
      "==> Loss at end of iter [0] : 0.2799\n",
      "\n",
      "==> Layer-wise Scales :\n",
      " [0.50955792 0.18828929 0.31613244 0.81631171 0.42218429 0.366656\n",
      " 0.55021008 0.38726476 1.41155748 0.10301812 0.24723457 0.85611573\n",
      " 2.48589166 0.24058036 0.1148315  0.40290593 0.47664084 0.22061472\n",
      " 0.07745003 0.0908086  0.34169396 0.44500282 0.10184874 0.1226325\n",
      " 0.45055139 2.31353931 0.12635786 0.12439413 0.37995522 0.42099514\n",
      " 0.2080612  0.1430494  0.16357016 1.0591869  0.1679621  0.04993571\n",
      " 0.08009648 0.37081608 0.32296252 0.06324497 0.171397   0.24212186\n",
      " 1.04833014 0.07766192 0.09171855 0.34700797 0.90700426 0.09967942\n",
      " 0.10883904 0.47051399 2.91956117 0.08315149 0.12278894 0.42552245\n",
      " 1.72949481 0.1811553  0.10039172 0.49262293 0.91781381 0.04820398\n",
      " 0.02332346 1.01650378 1.05462085 1.97667816 0.01142614 0.19098938]\n"
     ]
    },
    {
     "name": "stderr",
     "output_type": "stream",
     "text": [
      "100%|██████████████████████████████████████████████| 79/79 [00:07<00:00, 11.01it/s, acc1=68.4, acc5=88.8]"
     ]
    },
    {
     "name": "stdout",
     "output_type": "stream",
     "text": [
      "==> Full quantization (W4A8) accuracy: (68.40387658227849, 88.76582278481013)\n"
     ]
    },
    {
     "name": "stderr",
     "output_type": "stream",
     "text": [
      "\n"
     ]
    }
   ],
   "source": [
    "quantizer = quantize.lapq.LAPQ(r50_model, dataloaders, **kwargs)\n",
    "\n",
    "print('testing pretrained model before quantization')\n",
    "acc1, acc5 = quantizer.test(model=r50_model, dataloader=dataloaders['test'], device=torch.device('cuda:0'))\n",
    "print(f'top-1 acc: {acc1:.2f}%, top-5 acc: {acc5:.2f}%')\n",
    "\n",
    "qmodel = quantizer.compress_model()"
   ]
  },
  {
   "cell_type": "code",
   "execution_count": 10,
   "id": "c6edd9e9",
   "metadata": {},
   "outputs": [
    {
     "name": "stdout",
     "output_type": "stream",
     "text": [
      "testing quantized model\n"
     ]
    },
    {
     "name": "stderr",
     "output_type": "stream",
     "text": [
      "100%|██████████████████████████████████████████████| 79/79 [00:07<00:00, 10.12it/s, acc1=68.4, acc5=88.8]"
     ]
    },
    {
     "name": "stdout",
     "output_type": "stream",
     "text": [
      "top-1 acc: 68.40%, top-5 acc: 88.77%\n"
     ]
    },
    {
     "name": "stderr",
     "output_type": "stream",
     "text": [
      "\n"
     ]
    }
   ],
   "source": [
    "print('testing quantized model')\n",
    "acc1, acc5 = quantizer.test(model=qmodel, dataloader=dataloaders['test'], device=torch.device('cuda:0'))\n",
    "print(f'top-1 acc: {acc1:.2f}%, top-5 acc: {acc5:.2f}%')"
   ]
  },
  {
   "cell_type": "code",
   "execution_count": null,
   "id": "56e04513",
   "metadata": {},
   "outputs": [],
   "source": []
  }
 ],
 "metadata": {
  "kernelspec": {
   "display_name": "Python 3 (ipykernel)",
   "language": "python",
   "name": "python3"
  },
  "language_info": {
   "codemirror_mode": {
    "name": "ipython",
    "version": 3
   },
   "file_extension": ".py",
   "mimetype": "text/x-python",
   "name": "python",
   "nbconvert_exporter": "python",
   "pygments_lexer": "ipython3",
   "version": "3.8.13"
  }
 },
 "nbformat": 4,
 "nbformat_minor": 5
}
