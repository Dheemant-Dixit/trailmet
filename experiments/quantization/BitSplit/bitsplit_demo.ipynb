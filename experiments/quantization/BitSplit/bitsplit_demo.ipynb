{
 "cells": [
  {
   "cell_type": "markdown",
   "id": "839a035f",
   "metadata": {},
   "source": [
    "## BitSplit\n",
    "This notebook demonstrates the implimentation of the paper [Towards accurate post-training network quantization via bit-split and stitching](https://dl.acm.org/doi/abs/10.5555/3524938.3525851)\n",
    "\n",
    "### Steps to quantize the pretrained model\n",
    "- Load the dataset and create dataloader. A subset of training data is used for calibration.\n",
    "- Load the pretrained full precision model.\n",
    "- Load the configurations from the YAML file.\n",
    "- Create a `BitSplit` object and pass the full precision model, dataloaders and configurations.\n",
    "- Quantize the model by calling the `compress_model` method."
   ]
  },
  {
   "cell_type": "code",
   "execution_count": 1,
   "id": "9093decc",
   "metadata": {},
   "outputs": [],
   "source": [
    "import sys\n",
    "sys.path.append(\"./trail/trailmet/\")"
   ]
  },
  {
   "cell_type": "code",
   "execution_count": 3,
   "id": "588d4ab0",
   "metadata": {},
   "outputs": [],
   "source": [
    "import yaml\n",
    "import torch\n",
    "from torch.utils.data import DataLoader\n",
    "from torchvision import transforms\n",
    "from trailmet.datasets.classification import DatasetFactory\n",
    "from trailmet.models import resnet, mobilenet\n",
    "from trailmet.algorithms import quantize"
   ]
  },
  {
   "cell_type": "markdown",
   "id": "e628928e",
   "metadata": {},
   "source": [
    "## Datasets"
   ]
  },
  {
   "cell_type": "markdown",
   "id": "c9b0fba4",
   "metadata": {},
   "source": [
    "### Augmentations"
   ]
  },
  {
   "cell_type": "code",
   "execution_count": 4,
   "id": "075851ea",
   "metadata": {},
   "outputs": [],
   "source": [
    "stats = ((0.5071, 0.4867, 0.4408), (0.2675, 0.2565, 0.2761))\n",
    "\n",
    "train_transform = transforms.Compose([\n",
    "    transforms.RandomCrop(32, padding=4, padding_mode='reflect'),\n",
    "    transforms.RandomHorizontalFlip(),\n",
    "    transforms.ToTensor(),\n",
    "    transforms.Normalize(*stats, inplace=True)\n",
    "])\n",
    "val_transform = transforms.Compose([\n",
    "    transforms.ToTensor(),\n",
    "    transforms.Normalize(*stats)\n",
    "])\n",
    "test_transform = transforms.Compose([\n",
    "    transforms.ToTensor(),\n",
    "    transforms.Normalize(*stats)\n",
    "])\n",
    "\n",
    "input_transforms = {\n",
    "    'train': train_transform, \n",
    "    'val': val_transform, \n",
    "    'test': test_transform}\n",
    "\n",
    "target_transforms = {\n",
    "    'train': None, \n",
    "    'val': None, \n",
    "    'test': None}"
   ]
  },
  {
   "cell_type": "markdown",
   "id": "87073037",
   "metadata": {},
   "source": [
    "### Load Datasets"
   ]
  },
  {
   "cell_type": "code",
   "execution_count": 5,
   "id": "0b020495",
   "metadata": {},
   "outputs": [
    {
     "name": "stdout",
     "output_type": "stream",
     "text": [
      "Files already downloaded and verified\n",
      "Files already downloaded and verified\n",
      "Files already downloaded and verified\n",
      "Train samples:  40000\n",
      "Val samples:  10000\n",
      "Test samples:  10000\n"
     ]
    }
   ],
   "source": [
    "cifar100_dataset = DatasetFactory.create_dataset(\n",
    "        name = 'CIFAR100', \n",
    "        root = './data',\n",
    "        split_types = ['train', 'val', 'test'],\n",
    "        val_fraction = 0.2,\n",
    "        transform = input_transforms,\n",
    "        target_transform = target_transforms)\n",
    "\n",
    "# getting the size of the different splits\n",
    "print('Train samples: ',cifar100_dataset['info']['train_size'])\n",
    "print('Val samples: ',cifar100_dataset['info']['val_size'])\n",
    "print('Test samples: ',cifar100_dataset['info']['test_size'] )"
   ]
  },
  {
   "cell_type": "markdown",
   "id": "09c0bf99",
   "metadata": {},
   "source": [
    "### Define Dataloaders"
   ]
  },
  {
   "cell_type": "code",
   "execution_count": 6,
   "id": "239d8b74",
   "metadata": {},
   "outputs": [
    {
     "name": "stdout",
     "output_type": "stream",
     "text": [
      "No. of training batches:  313\n",
      "No. of validation batches:  79\n",
      "No. of test batches:  79\n"
     ]
    }
   ],
   "source": [
    "train_loader = DataLoader(\n",
    "        cifar100_dataset['train'], batch_size=128, \n",
    "        sampler=cifar100_dataset['train_sampler'],\n",
    "        num_workers=0)\n",
    "val_loader = DataLoader(\n",
    "        cifar100_dataset['val'], batch_size=128, \n",
    "        sampler=cifar100_dataset['val_sampler'],\n",
    "        num_workers=0)\n",
    "test_loader = DataLoader(\n",
    "        cifar100_dataset['test'], batch_size=128, \n",
    "        sampler=cifar100_dataset['test_sampler'],\n",
    "        num_workers=0)\n",
    "\n",
    "dataloaders = {\"train\": train_loader, \"val\": val_loader, \"test\": test_loader}\n",
    "\n",
    "print('No. of training batches: ', len(dataloaders['train']))\n",
    "print('No. of validation batches: ', len(dataloaders['val']))\n",
    "print('No. of test batches: ', len(dataloaders['test']))"
   ]
  },
  {
   "cell_type": "markdown",
   "id": "50ccef42",
   "metadata": {},
   "source": [
    "### Load Pretrained Model"
   ]
  },
  {
   "cell_type": "code",
   "execution_count": 7,
   "id": "6b696a05",
   "metadata": {},
   "outputs": [
    {
     "data": {
      "text/plain": [
       "<All keys matched successfully>"
      ]
     },
     "execution_count": 7,
     "metadata": {},
     "output_type": "execute_result"
    }
   ],
   "source": [
    "res50_model = resnet.make_resnet50(100,32)\n",
    "checkpoint = torch.load(\"./weights/resnet50_cifar100_pretrained.pth\", map_location='cuda:0')\n",
    "res50_model.load_state_dict(checkpoint['state_dict'])"
   ]
  },
  {
   "cell_type": "markdown",
   "id": "77095c14",
   "metadata": {},
   "source": [
    "### Load Method Config"
   ]
  },
  {
   "cell_type": "code",
   "execution_count": 8,
   "id": "7ed72cd1",
   "metadata": {},
   "outputs": [
    {
     "data": {
      "text/plain": [
       "{'ARCH': 'ResNet50',\n",
       " 'DATASET': 'CIFAR100',\n",
       " 'GPU_ID': 0,\n",
       " 'SEED': 42,\n",
       " 'W_BUDGET': 0.125,\n",
       " 'A_BITS': 8,\n",
       " 'ACT_QUANT': True,\n",
       " 'CHANNEL_WISE': True,\n",
       " 'CALIB_BATCHES': 2,\n",
       " 'SAVE_PATH': './scales/',\n",
       " 'LOAD_ACT_SCALES': False,\n",
       " 'LOAD_WEIGHT_SCALES': False,\n",
       " 'W_BITS': 4}"
      ]
     },
     "execution_count": 8,
     "metadata": {},
     "output_type": "execute_result"
    }
   ],
   "source": [
    "with open('./bitsplit_config.yaml', 'r') as f:\n",
    "    config = yaml.safe_load(f)\n",
    "    kwargs = config['GENERAL']\n",
    "    assert kwargs['W_BUDGET'] in config['W_ARGS'], 'given weight budget not supported'\n",
    "    kwargs.update(config['W_ARGS'][kwargs['W_BUDGET']])\n",
    "    \n",
    "# This is sample run with reduced batches. \n",
    "# Comment out the following lines for best results.\n",
    "kwargs['CALIB_BATCHES'] = 2\n",
    "\n",
    "kwargs"
   ]
  },
  {
   "cell_type": "markdown",
   "id": "bb871eb8",
   "metadata": {},
   "source": [
    "### Quantization Method: Bitsplit"
   ]
  },
  {
   "cell_type": "code",
   "execution_count": 9,
   "id": "79131959",
   "metadata": {},
   "outputs": [
    {
     "name": "stdout",
     "output_type": "stream",
     "text": [
      "testing pretrained model before quantization\n"
     ]
    },
    {
     "name": "stderr",
     "output_type": "stream",
     "text": [
      "100%|██████████████████████████████████████████████| 79/79 [00:08<00:00,  9.55it/s, acc1=72.5, acc5=91.5]\n"
     ]
    },
    {
     "name": "stdout",
     "output_type": "stream",
     "text": [
      "top-1 acc: 72.52%, top-5 acc: 91.53%\n",
      "==> Starting weight quantization\n"
     ]
    },
    {
     "name": "stderr",
     "output_type": "stream",
     "text": [
      "100%|██████████████████████████████████████████████████████████████████| 54/54 [1:18:17<00:00, 86.99s/it]\n"
     ]
    },
    {
     "name": "stdout",
     "output_type": "stream",
     "text": [
      "==> Starting '8-bit' activation quantization\n"
     ]
    },
    {
     "name": "stderr",
     "output_type": "stream",
     "text": [
      "100%|█████████████████████████| 50/50 [2:45:04<00:00, 198.10s/it, batch=300/300, prev_layer_scale=0.0145]\n",
      "/opt/conda/lib/python3.8/site-packages/torch/nn/modules/module.py:1402: UserWarning: positional arguments and argument \"destination\" are deprecated. nn.Module.state_dict will not accept them in the future. Refer to https://pytorch.org/docs/master/generated/torch.nn.Module.html#torch.nn.Module.state_dict for details.\n",
      "  warnings.warn(\n"
     ]
    }
   ],
   "source": [
    "quantizer = quantize.bitsplit.BitSplit(res50_model, dataloaders, **kwargs)\n",
    "\n",
    "print('testing pretrained model before quantization')\n",
    "acc1, acc5 = quantizer.test(model=res50_model, dataloader=dataloaders['test'], device=torch.device('cuda:0'))\n",
    "print(f'top-1 acc: {acc1:.2f}%, top-5 acc: {acc5:.2f}%')\n",
    "\n",
    "qmodel = quantizer.compress_model()"
   ]
  },
  {
   "cell_type": "code",
   "execution_count": 10,
   "id": "4a88aa78",
   "metadata": {},
   "outputs": [
    {
     "name": "stdout",
     "output_type": "stream",
     "text": [
      "testing quantized model\n"
     ]
    },
    {
     "name": "stderr",
     "output_type": "stream",
     "text": [
      "100%|██████████████████████████████████████████████| 79/79 [00:04<00:00, 16.65it/s, acc1=70.1, acc5=89.9]"
     ]
    },
    {
     "name": "stdout",
     "output_type": "stream",
     "text": [
      "top-1 acc: 70.07%, top-5 acc: 89.94%\n"
     ]
    },
    {
     "name": "stderr",
     "output_type": "stream",
     "text": [
      "\n"
     ]
    }
   ],
   "source": [
    "print('testing quantized model')\n",
    "acc1, acc5 = quantizer.test(model=qmodel, dataloader=dataloaders['test'], device=torch.device('cuda:0'))\n",
    "print(f'top-1 acc: {acc1:.2f}%, top-5 acc: {acc5:.2f}%')"
   ]
  },
  {
   "cell_type": "code",
   "execution_count": null,
   "id": "92aca25e",
   "metadata": {},
   "outputs": [],
   "source": []
  }
 ],
 "metadata": {
  "kernelspec": {
   "display_name": "Python 3 (ipykernel)",
   "language": "python",
   "name": "python3"
  },
  "language_info": {
   "codemirror_mode": {
    "name": "ipython",
    "version": 3
   },
   "file_extension": ".py",
   "mimetype": "text/x-python",
   "name": "python",
   "nbconvert_exporter": "python",
   "pygments_lexer": "ipython3",
   "version": "3.8.13"
  }
 },
 "nbformat": 4,
 "nbformat_minor": 5
}
