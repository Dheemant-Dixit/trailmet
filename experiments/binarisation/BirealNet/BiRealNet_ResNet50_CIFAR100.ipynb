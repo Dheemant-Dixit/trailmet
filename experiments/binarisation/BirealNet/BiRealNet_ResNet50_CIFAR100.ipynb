{
 "cells": [
  {
   "cell_type": "markdown",
   "id": "12582f51",
   "metadata": {},
   "source": [
    "### BiRealNet\n",
    "This notebook demonstrates the binarization of ResNet Model using the BiRealNet"
   ]
  },
  {
   "cell_type": "code",
   "execution_count": null,
   "id": "e06b579d",
   "metadata": {},
   "outputs": [],
   "source": [
    "import os\n",
    "os.environ[\"CUDA_DEVICE_ORDER\"]=\"PCI_BUS_ID\"   \n",
    "os.environ[\"CUDA_VISIBLE_DEVICES\"]=\"1\""
   ]
  },
  {
   "cell_type": "code",
   "execution_count": null,
   "id": "015082ac",
   "metadata": {},
   "outputs": [],
   "source": [
    "import sys\n",
    "import os\n",
    "import shutil\n",
    "sys.path.append(\"../../../\")\n",
    "sys.path.append(\"../../\")"
   ]
  },
  {
   "cell_type": "code",
   "execution_count": 3,
   "id": "baf8a4c0",
   "metadata": {},
   "outputs": [],
   "source": [
    "# load important packages\n",
    "import torch\n",
    "import torchvision\n",
    "import matplotlib.pyplot as plt\n",
    "from torchvision import transforms\n",
    "from trailmet.datasets.classification import DatasetFactory"
   ]
  },
  {
   "cell_type": "markdown",
   "id": "dc2a9d90",
   "metadata": {},
   "source": [
    "###  Define Model and Model Compression Strategy"
   ]
  },
  {
   "cell_type": "code",
   "execution_count": 4,
   "id": "d9b571ed",
   "metadata": {},
   "outputs": [],
   "source": [
    "from trailmet.algorithms.binarize.birealnet import BirealNet\n",
    "from trailmet.models.resnet_bireal import make_birealnet50"
   ]
  },
  {
   "cell_type": "code",
   "execution_count": 5,
   "id": "d38b998b",
   "metadata": {},
   "outputs": [],
   "source": [
    "data_root = './'"
   ]
  },
  {
   "cell_type": "code",
   "execution_count": 6,
   "id": "a2b3fc00",
   "metadata": {},
   "outputs": [
    {
     "name": "stdout",
     "output_type": "stream",
     "text": [
      "> SEEDING DONE\n"
     ]
    }
   ],
   "source": [
    "def set_seed(seed):\n",
    "    torch.manual_seed(seed)\n",
    "    torch.cuda.manual_seed(seed)\n",
    "    torch.backends.cudnn.deterministic = True\n",
    "    torch.backends.cudnn.benchmark = False\n",
    "    os.environ['PYTHONHASHSEED'] = str(seed)\n",
    "    print('> SEEDING DONE')\n",
    "    \n",
    "set_seed(1024)  "
   ]
  },
  {
   "cell_type": "markdown",
   "id": "7bcf6147",
   "metadata": {},
   "source": [
    "### Augmentations"
   ]
  },
  {
   "cell_type": "code",
   "execution_count": 7,
   "id": "017ce072",
   "metadata": {},
   "outputs": [],
   "source": [
    "# Augmentation\n",
    "crop_scale = 0.08\n",
    "lighting_param = 0.1\n",
    "train_transform = transforms.Compose([\n",
    "    transforms.RandomResizedCrop(32, scale=(crop_scale, 1.0)),\n",
    "    transforms.RandomHorizontalFlip(),\n",
    "    transforms.ToTensor()])\n",
    "\n",
    "valid_transform = transforms.Compose([\n",
    "        transforms.Resize(36),\n",
    "        transforms.CenterCrop(32),\n",
    "        transforms.ToTensor()\n",
    "    ])\n",
    "test_transform = valid_transform\n",
    "\n",
    "input_transforms = {\n",
    "    'train': train_transform, \n",
    "    'val': valid_transform, \n",
    "    'test': test_transform}\n",
    "\n",
    "target_transforms = {\n",
    "    'train': None, \n",
    "    'val': None, \n",
    "    'test': None}"
   ]
  },
  {
   "cell_type": "markdown",
   "id": "8630b765",
   "metadata": {},
   "source": [
    "### Configuration Class"
   ]
  },
  {
   "cell_type": "code",
   "execution_count": 8,
   "id": "f9e1b198",
   "metadata": {},
   "outputs": [
    {
     "data": {
      "text/plain": [
       "{'batch_size': 256,\n",
       " 'valid_size': 0.1,\n",
       " 'num_train': 0,\n",
       " 'epochs': 1,\n",
       " 'optimizer': 'torch.optim.Adam',\n",
       " 'lr': 0.001,\n",
       " 'momentum': 0.9,\n",
       " 'save_path': './save_path_resnet50_cifar100_fullbin',\n",
       " 'data_path': '',\n",
       " 'label_smooth': 0.1,\n",
       " 'weight_decay': 0,\n",
       " 'workers': 4,\n",
       " 'device': 'cuda',\n",
       " 'dataset': 'c100',\n",
       " 'num_classes': 100,\n",
       " 'num_fp': 0}"
      ]
     },
     "execution_count": 8,
     "metadata": {},
     "output_type": "execute_result"
    }
   ],
   "source": [
    "root_dir = './'\n",
    "import yaml\n",
    "with open(os.path.join(root_dir,\"birealnet_cifar100.yaml\"),'r') as stream:\n",
    "    kwargs = yaml.safe_load(stream)\n",
    "kwargs"
   ]
  },
  {
   "cell_type": "markdown",
   "id": "5997e10d",
   "metadata": {},
   "source": [
    "### Define DataLoaders"
   ]
  },
  {
   "cell_type": "code",
   "execution_count": 9,
   "id": "d0d9b346",
   "metadata": {},
   "outputs": [
    {
     "name": "stdout",
     "output_type": "stream",
     "text": [
      "Files already downloaded and verified\n",
      "Files already downloaded and verified\n",
      "Files already downloaded and verified\n"
     ]
    }
   ],
   "source": [
    "# Create Dataset\n",
    "cifar100_dataset = DatasetFactory.create_dataset(name = 'CIFAR100', \n",
    "                                        root = root_dir,\n",
    "                                        split_types = ['train', 'val', 'test'],\n",
    "                                        val_fraction = 0.15,\n",
    "                                        transform = input_transforms,\n",
    "                                        target_transform = target_transforms\n",
    "                                        )\n",
    "# Define DataLoaders\n",
    "train_loader100 = torch.utils.data.DataLoader(\n",
    "        cifar100_dataset['train'], batch_size=kwargs['batch_size'], \n",
    "        sampler=cifar100_dataset['train_sampler'],\n",
    "        num_workers=kwargs['workers']\n",
    "    )\n",
    "val_loader100 = torch.utils.data.DataLoader(\n",
    "        cifar100_dataset['val'], batch_size=kwargs['batch_size'], \n",
    "        sampler=cifar100_dataset['val_sampler'],\n",
    "        num_workers=kwargs['workers']\n",
    "    )\n",
    "test_loader100 = torch.utils.data.DataLoader(\n",
    "        cifar100_dataset['test'], batch_size=kwargs['batch_size'], \n",
    "        sampler=cifar100_dataset['test_sampler'],\n",
    "        num_workers=kwargs['workers']\n",
    "    )\n",
    "\n",
    "dataloaders = {\n",
    "        'train': train_loader100, 'val': val_loader100, \"test\": test_loader100\n",
    "}\n"
   ]
  },
  {
   "cell_type": "markdown",
   "id": "b71327b5",
   "metadata": {},
   "source": [
    "### Model"
   ]
  },
  {
   "cell_type": "code",
   "execution_count": 10,
   "id": "8e072095",
   "metadata": {},
   "outputs": [],
   "source": [
    "model = make_birealnet50(num_classes=kwargs['num_classes'], insize=32, num_fp=kwargs['num_fp'])"
   ]
  },
  {
   "cell_type": "code",
   "execution_count": 11,
   "id": "3cf65a0b",
   "metadata": {},
   "outputs": [],
   "source": [
    "algo = BirealNet(model, dataloaders, **kwargs)"
   ]
  },
  {
   "cell_type": "markdown",
   "id": "2772f340",
   "metadata": {},
   "source": [
    "### Training and Evaluating the Binarized ResNet Model"
   ]
  },
  {
   "cell_type": "code",
   "execution_count": 12,
   "id": "2dd2ff1b",
   "metadata": {},
   "outputs": [
    {
     "name": "stdout",
     "output_type": "stream",
     "text": [
      "03/19 01:28:38 PM CFG = {'batch_size': 256, 'valid_size': 0.1, 'num_train': 0, 'epochs': 1, 'optimizer': 'torch.optim.Adam', 'lr': 0.001, 'momentum': 0.9, 'save_path': './save_path_resnet50_cifar100_fullbin', 'data_path': '', 'label_smooth': 0.1, 'weight_decay': 0, 'workers': 4, 'device': 'cuda', 'dataset': 'c100', 'num_classes': 100, 'num_fp': 0}\n",
      "03/19 01:28:38 PM BirealNet(\n",
      "  (conv1): Conv2d(3, 64, kernel_size=(3, 3), stride=(1, 1), padding=(1, 1), bias=False)\n",
      "  (bn1): BatchNorm2d(64, eps=1e-05, momentum=0.1, affine=True, track_running_stats=True)\n",
      "  (activ): ReLU(inplace=True)\n",
      "  (maxpool): MaxPool2d(kernel_size=3, stride=2, padding=1, dilation=1, ceil_mode=False)\n",
      "  (layer1): Sequential(\n",
      "    (0): BinaryBasicBlock(\n",
      "      (activation): BinaryActivation()\n",
      "      (conv): HardBinaryConv()\n",
      "      (bn1): BatchNorm2d(64, eps=1e-05, momentum=0.1, affine=True, track_running_stats=True)\n",
      "    )\n",
      "    (1): BinaryBasicBlock(\n",
      "      (activation): BinaryActivation()\n",
      "      (conv): HardBinaryConv()\n",
      "      (bn1): BatchNorm2d(64, eps=1e-05, momentum=0.1, affine=True, track_running_stats=True)\n",
      "    )\n",
      "    (2): BinaryBasicBlock(\n",
      "      (activation): BinaryActivation()\n",
      "      (conv): HardBinaryConv()\n",
      "      (bn1): BatchNorm2d(64, eps=1e-05, momentum=0.1, affine=True, track_running_stats=True)\n",
      "    )\n",
      "  )\n",
      "  (layer2): Sequential(\n",
      "    (0): BinaryBasicBlock(\n",
      "      (activation): BinaryActivation()\n",
      "      (conv): HardBinaryConv()\n",
      "      (bn1): BatchNorm2d(128, eps=1e-05, momentum=0.1, affine=True, track_running_stats=True)\n",
      "      (downsample): Sequential(\n",
      "        (0): AvgPool2d(kernel_size=2, stride=2, padding=0)\n",
      "        (1): Conv2d(64, 128, kernel_size=(1, 1), stride=(1, 1), bias=False)\n",
      "        (2): BatchNorm2d(128, eps=1e-05, momentum=0.1, affine=True, track_running_stats=True)\n",
      "      )\n",
      "    )\n",
      "    (1): BinaryBasicBlock(\n",
      "      (activation): BinaryActivation()\n",
      "      (conv): HardBinaryConv()\n",
      "      (bn1): BatchNorm2d(128, eps=1e-05, momentum=0.1, affine=True, track_running_stats=True)\n",
      "    )\n",
      "    (2): BinaryBasicBlock(\n",
      "      (activation): BinaryActivation()\n",
      "      (conv): HardBinaryConv()\n",
      "      (bn1): BatchNorm2d(128, eps=1e-05, momentum=0.1, affine=True, track_running_stats=True)\n",
      "    )\n",
      "    (3): BinaryBasicBlock(\n",
      "      (activation): BinaryActivation()\n",
      "      (conv): HardBinaryConv()\n",
      "      (bn1): BatchNorm2d(128, eps=1e-05, momentum=0.1, affine=True, track_running_stats=True)\n",
      "    )\n",
      "  )\n",
      "  (layer3): Sequential(\n",
      "    (0): BinaryBasicBlock(\n",
      "      (activation): BinaryActivation()\n",
      "      (conv): HardBinaryConv()\n",
      "      (bn1): BatchNorm2d(256, eps=1e-05, momentum=0.1, affine=True, track_running_stats=True)\n",
      "      (downsample): Sequential(\n",
      "        (0): AvgPool2d(kernel_size=2, stride=2, padding=0)\n",
      "        (1): Conv2d(128, 256, kernel_size=(1, 1), stride=(1, 1), bias=False)\n",
      "        (2): BatchNorm2d(256, eps=1e-05, momentum=0.1, affine=True, track_running_stats=True)\n",
      "      )\n",
      "    )\n",
      "    (1): BinaryBasicBlock(\n",
      "      (activation): BinaryActivation()\n",
      "      (conv): HardBinaryConv()\n",
      "      (bn1): BatchNorm2d(256, eps=1e-05, momentum=0.1, affine=True, track_running_stats=True)\n",
      "    )\n",
      "    (2): BinaryBasicBlock(\n",
      "      (activation): BinaryActivation()\n",
      "      (conv): HardBinaryConv()\n",
      "      (bn1): BatchNorm2d(256, eps=1e-05, momentum=0.1, affine=True, track_running_stats=True)\n",
      "    )\n",
      "    (3): BinaryBasicBlock(\n",
      "      (activation): BinaryActivation()\n",
      "      (conv): HardBinaryConv()\n",
      "      (bn1): BatchNorm2d(256, eps=1e-05, momentum=0.1, affine=True, track_running_stats=True)\n",
      "    )\n",
      "    (4): BinaryBasicBlock(\n",
      "      (activation): BinaryActivation()\n",
      "      (conv): HardBinaryConv()\n",
      "      (bn1): BatchNorm2d(256, eps=1e-05, momentum=0.1, affine=True, track_running_stats=True)\n",
      "    )\n",
      "    (5): BinaryBasicBlock(\n",
      "      (activation): BinaryActivation()\n",
      "      (conv): HardBinaryConv()\n",
      "      (bn1): BatchNorm2d(256, eps=1e-05, momentum=0.1, affine=True, track_running_stats=True)\n",
      "    )\n",
      "  )\n",
      "  (layer4): Sequential(\n",
      "    (0): BinaryBasicBlock(\n",
      "      (activation): BinaryActivation()\n",
      "      (conv): HardBinaryConv()\n",
      "      (bn1): BatchNorm2d(512, eps=1e-05, momentum=0.1, affine=True, track_running_stats=True)\n",
      "      (downsample): Sequential(\n",
      "        (0): AvgPool2d(kernel_size=2, stride=2, padding=0)\n",
      "        (1): Conv2d(256, 512, kernel_size=(1, 1), stride=(1, 1), bias=False)\n",
      "        (2): BatchNorm2d(512, eps=1e-05, momentum=0.1, affine=True, track_running_stats=True)\n",
      "      )\n",
      "    )\n",
      "    (1): BinaryBasicBlock(\n",
      "      (activation): BinaryActivation()\n",
      "      (conv): HardBinaryConv()\n",
      "      (bn1): BatchNorm2d(512, eps=1e-05, momentum=0.1, affine=True, track_running_stats=True)\n",
      "    )\n",
      "    (2): BinaryBasicBlock(\n",
      "      (activation): BinaryActivation()\n",
      "      (conv): HardBinaryConv()\n",
      "      (bn1): BatchNorm2d(512, eps=1e-05, momentum=0.1, affine=True, track_running_stats=True)\n",
      "    )\n",
      "  )\n",
      "  (avgpool): AdaptiveAvgPool2d(output_size=1)\n",
      "  (fc): Linear(in_features=512, out_features=100, bias=True)\n",
      ")\n",
      "03/19 01:28:40 PM epoch, train accuracy, train loss, val accuracy, val loss\n",
      "learning_rate: 0.0\n"
     ]
    },
    {
     "name": "stderr",
     "output_type": "stream",
     "text": [
      "/opt/conda/envs/ml/lib/python3.10/site-packages/torch/optim/lr_scheduler.py:138: UserWarning: Detected call of `lr_scheduler.step()` before `optimizer.step()`. In PyTorch 1.1.0 and later, you should call them in the opposite order: `optimizer.step()` before `lr_scheduler.step()`.  Failure to do this will result in PyTorch skipping the first value of the learning rate schedule. See more details at https://pytorch.org/docs/stable/optim.html#how-to-adjust-learning-rate\n",
      "  warnings.warn(\"Detected call of `lr_scheduler.step()` before `optimizer.step()`. \"\n"
     ]
    },
    {
     "name": "stdout",
     "output_type": "stream",
     "text": [
      "Epoch: [0][  0/167]\tTime  3.609 ( 3.609)\tData  0.594 ( 0.594)\tLoss 4.7160e+00 (4.7160e+00)\tAcc@1   1.17 (  1.17)\tAcc@5   4.69 (  4.69)\n",
      "Epoch: [0][  1/167]\tTime  0.057 ( 1.833)\tData  0.003 ( 0.299)\tLoss 4.7138e+00 (4.7149e+00)\tAcc@1   1.17 (  1.17)\tAcc@5   5.08 (  4.88)\n",
      "Epoch: [0][  2/167]\tTime  0.053 ( 1.239)\tData  0.004 ( 0.200)\tLoss 4.7252e+00 (4.7183e+00)\tAcc@1   1.17 (  1.17)\tAcc@5   3.91 (  4.56)\n",
      "Epoch: [0][  3/167]\tTime  0.049 ( 0.942)\tData  0.003 ( 0.151)\tLoss 4.7311e+00 (4.7215e+00)\tAcc@1   1.56 (  1.27)\tAcc@5   7.03 (  5.18)\n",
      "Epoch: [0][  4/167]\tTime  0.052 ( 0.764)\tData  0.005 ( 0.122)\tLoss 4.7660e+00 (4.7304e+00)\tAcc@1   1.17 (  1.25)\tAcc@5   4.69 (  5.08)\n",
      "Epoch: [0][  5/167]\tTime  0.050 ( 0.645)\tData  0.003 ( 0.102)\tLoss 4.7695e+00 (4.7369e+00)\tAcc@1   1.17 (  1.24)\tAcc@5   5.08 (  5.08)\n",
      "Epoch: [0][  6/167]\tTime  0.049 ( 0.560)\tData  0.004 ( 0.088)\tLoss 4.7660e+00 (4.7411e+00)\tAcc@1   0.39 (  1.12)\tAcc@5   3.91 (  4.91)\n",
      "Epoch: [0][  7/167]\tTime  0.047 ( 0.496)\tData  0.003 ( 0.078)\tLoss 4.7909e+00 (4.7473e+00)\tAcc@1   1.17 (  1.12)\tAcc@5   4.30 (  4.83)\n",
      "Epoch: [0][  8/167]\tTime  0.046 ( 0.446)\tData  0.003 ( 0.069)\tLoss 4.7480e+00 (4.7474e+00)\tAcc@1   1.17 (  1.13)\tAcc@5   4.30 (  4.77)\n",
      "Epoch: [0][  9/167]\tTime  0.050 ( 0.406)\tData  0.003 ( 0.063)\tLoss 4.7962e+00 (4.7523e+00)\tAcc@1   0.39 (  1.05)\tAcc@5   5.47 (  4.84)\n",
      "Epoch: [0][ 10/167]\tTime  0.048 ( 0.374)\tData  0.004 ( 0.057)\tLoss 4.7857e+00 (4.7553e+00)\tAcc@1   0.39 (  0.99)\tAcc@5   5.86 (  4.94)\n",
      "Epoch: [0][ 11/167]\tTime  0.048 ( 0.346)\tData  0.003 ( 0.053)\tLoss 4.7353e+00 (4.7536e+00)\tAcc@1   1.56 (  1.04)\tAcc@5   3.91 (  4.85)\n",
      "Epoch: [0][ 12/167]\tTime  0.047 ( 0.323)\tData  0.003 ( 0.049)\tLoss 4.7663e+00 (4.7546e+00)\tAcc@1   1.17 (  1.05)\tAcc@5   4.69 (  4.84)\n",
      "Epoch: [0][ 13/167]\tTime  0.045 ( 0.304)\tData  0.003 ( 0.046)\tLoss 4.7501e+00 (4.7543e+00)\tAcc@1   1.95 (  1.12)\tAcc@5   6.64 (  4.97)\n",
      "Epoch: [0][ 14/167]\tTime  0.067 ( 0.288)\tData  0.003 ( 0.043)\tLoss 4.8093e+00 (4.7579e+00)\tAcc@1   0.39 (  1.07)\tAcc@5   3.52 (  4.87)\n",
      "Epoch: [0][ 15/167]\tTime  0.065 ( 0.274)\tData  0.004 ( 0.040)\tLoss 4.7639e+00 (4.7583e+00)\tAcc@1   1.95 (  1.12)\tAcc@5   7.03 (  5.00)\n",
      "Epoch: [0][ 16/167]\tTime  0.051 ( 0.261)\tData  0.003 ( 0.038)\tLoss 4.7951e+00 (4.7605e+00)\tAcc@1   0.39 (  1.08)\tAcc@5   4.69 (  4.99)\n",
      "Epoch: [0][ 17/167]\tTime  0.049 ( 0.249)\tData  0.003 ( 0.036)\tLoss 4.7298e+00 (4.7588e+00)\tAcc@1   0.78 (  1.06)\tAcc@5   6.25 (  5.06)\n",
      "Epoch: [0][ 18/167]\tTime  0.051 ( 0.239)\tData  0.004 ( 0.035)\tLoss 4.7727e+00 (4.7595e+00)\tAcc@1   1.56 (  1.09)\tAcc@5   5.86 (  5.10)\n",
      "Epoch: [0][ 19/167]\tTime  0.044 ( 0.229)\tData  0.004 ( 0.033)\tLoss 4.7436e+00 (4.7587e+00)\tAcc@1   0.39 (  1.05)\tAcc@5   5.47 (  5.12)\n",
      "Epoch: [0][ 20/167]\tTime  0.076 ( 0.222)\tData  0.003 ( 0.032)\tLoss 4.7280e+00 (4.7573e+00)\tAcc@1   1.56 (  1.08)\tAcc@5   5.86 (  5.15)\n",
      "Epoch: [0][ 21/167]\tTime  0.055 ( 0.214)\tData  0.003 ( 0.030)\tLoss 4.7919e+00 (4.7588e+00)\tAcc@1   1.17 (  1.08)\tAcc@5   7.03 (  5.24)\n",
      "Epoch: [0][ 22/167]\tTime  0.059 ( 0.207)\tData  0.005 ( 0.029)\tLoss 4.8209e+00 (4.7615e+00)\tAcc@1   0.78 (  1.07)\tAcc@5   3.12 (  5.15)\n",
      "Epoch: [0][ 23/167]\tTime  0.052 ( 0.201)\tData  0.004 ( 0.028)\tLoss 4.8092e+00 (4.7635e+00)\tAcc@1   1.95 (  1.11)\tAcc@5   3.91 (  5.09)\n",
      "Epoch: [0][ 24/167]\tTime  0.044 ( 0.194)\tData  0.003 ( 0.027)\tLoss 4.7920e+00 (4.7647e+00)\tAcc@1   0.00 (  1.06)\tAcc@5   3.52 (  5.03)\n",
      "Epoch: [0][ 25/167]\tTime  0.044 ( 0.189)\tData  0.002 ( 0.026)\tLoss 4.7767e+00 (4.7651e+00)\tAcc@1   1.17 (  1.07)\tAcc@5   5.08 (  5.03)\n",
      "Epoch: [0][ 26/167]\tTime  0.081 ( 0.185)\tData  0.003 ( 0.025)\tLoss 4.7673e+00 (4.7652e+00)\tAcc@1   0.78 (  1.06)\tAcc@5   4.69 (  5.02)\n",
      "Epoch: [0][ 27/167]\tTime  0.073 ( 0.181)\tData  0.004 ( 0.024)\tLoss 4.7153e+00 (4.7634e+00)\tAcc@1   1.56 (  1.07)\tAcc@5   7.42 (  5.11)\n",
      "Epoch: [0][ 28/167]\tTime  0.043 ( 0.176)\tData  0.003 ( 0.024)\tLoss 4.7661e+00 (4.7635e+00)\tAcc@1   1.17 (  1.08)\tAcc@5   4.69 (  5.09)\n",
      "Epoch: [0][ 29/167]\tTime  0.059 ( 0.172)\tData  0.003 ( 0.023)\tLoss 4.8246e+00 (4.7656e+00)\tAcc@1   0.78 (  1.07)\tAcc@5   3.52 (  5.04)\n",
      "Epoch: [0][ 30/167]\tTime  0.049 ( 0.168)\tData  0.003 ( 0.022)\tLoss 4.7876e+00 (4.7663e+00)\tAcc@1   0.00 (  1.03)\tAcc@5   3.52 (  4.99)\n",
      "Epoch: [0][ 31/167]\tTime  0.046 ( 0.164)\tData  0.004 ( 0.022)\tLoss 4.8202e+00 (4.7679e+00)\tAcc@1   0.78 (  1.03)\tAcc@5   3.91 (  4.96)\n",
      "Epoch: [0][ 32/167]\tTime  0.054 ( 0.161)\tData  0.005 ( 0.021)\tLoss 4.7262e+00 (4.7667e+00)\tAcc@1   1.95 (  1.05)\tAcc@5   8.20 (  5.05)\n",
      "Epoch: [0][ 33/167]\tTime  0.049 ( 0.158)\tData  0.006 ( 0.021)\tLoss 4.7093e+00 (4.7650e+00)\tAcc@1   1.56 (  1.07)\tAcc@5   8.20 (  5.15)\n",
      "Epoch: [0][ 34/167]\tTime  0.045 ( 0.154)\tData  0.003 ( 0.020)\tLoss 4.7646e+00 (4.7650e+00)\tAcc@1   3.12 (  1.13)\tAcc@5   7.81 (  5.22)\n",
      "Epoch: [0][ 35/167]\tTime  0.083 ( 0.152)\tData  0.003 ( 0.020)\tLoss 4.6953e+00 (4.7630e+00)\tAcc@1   0.78 (  1.12)\tAcc@5   5.86 (  5.24)\n",
      "Epoch: [0][ 36/167]\tTime  0.050 ( 0.150)\tData  0.009 ( 0.020)\tLoss 4.7550e+00 (4.7628e+00)\tAcc@1   0.00 (  1.09)\tAcc@5   3.12 (  5.18)\n",
      "Epoch: [0][ 37/167]\tTime  0.045 ( 0.147)\tData  0.003 ( 0.019)\tLoss 4.7851e+00 (4.7634e+00)\tAcc@1   1.56 (  1.10)\tAcc@5   7.03 (  5.23)\n",
      "Epoch: [0][ 38/167]\tTime  0.047 ( 0.144)\tData  0.003 ( 0.019)\tLoss 4.7534e+00 (4.7632e+00)\tAcc@1   1.17 (  1.10)\tAcc@5   7.03 (  5.28)\n",
      "Epoch: [0][ 39/167]\tTime  0.048 ( 0.142)\tData  0.003 ( 0.018)\tLoss 4.7961e+00 (4.7640e+00)\tAcc@1   0.39 (  1.08)\tAcc@5   4.30 (  5.25)\n",
      "Epoch: [0][ 40/167]\tTime  0.053 ( 0.140)\tData  0.003 ( 0.018)\tLoss 4.7957e+00 (4.7648e+00)\tAcc@1   0.78 (  1.08)\tAcc@5   3.52 (  5.21)\n",
      "Epoch: [0][ 41/167]\tTime  0.047 ( 0.138)\tData  0.004 ( 0.018)\tLoss 4.7410e+00 (4.7642e+00)\tAcc@1   1.95 (  1.10)\tAcc@5   8.20 (  5.28)\n",
      "Epoch: [0][ 42/167]\tTime  0.046 ( 0.135)\tData  0.004 ( 0.017)\tLoss 4.7547e+00 (4.7640e+00)\tAcc@1   0.78 (  1.09)\tAcc@5   4.69 (  5.27)\n",
      "Epoch: [0][ 43/167]\tTime  0.047 ( 0.133)\tData  0.004 ( 0.017)\tLoss 4.7535e+00 (4.7637e+00)\tAcc@1   1.56 (  1.10)\tAcc@5   6.25 (  5.29)\n",
      "Epoch: [0][ 44/167]\tTime  0.055 ( 0.132)\tData  0.003 ( 0.017)\tLoss 4.7746e+00 (4.7640e+00)\tAcc@1   1.95 (  1.12)\tAcc@5   6.64 (  5.32)\n",
      "Epoch: [0][ 45/167]\tTime  0.052 ( 0.130)\tData  0.004 ( 0.016)\tLoss 4.7402e+00 (4.7635e+00)\tAcc@1   1.56 (  1.13)\tAcc@5   4.30 (  5.30)\n",
      "Epoch: [0][ 46/167]\tTime  0.049 ( 0.128)\tData  0.004 ( 0.016)\tLoss 4.8066e+00 (4.7644e+00)\tAcc@1   0.78 (  1.12)\tAcc@5   5.47 (  5.30)\n",
      "Epoch: [0][ 47/167]\tTime  0.043 ( 0.126)\tData  0.003 ( 0.016)\tLoss 4.7546e+00 (4.7642e+00)\tAcc@1   1.56 (  1.13)\tAcc@5   4.69 (  5.29)\n",
      "Epoch: [0][ 48/167]\tTime  0.045 ( 0.125)\tData  0.003 ( 0.016)\tLoss 4.7285e+00 (4.7634e+00)\tAcc@1   1.95 (  1.15)\tAcc@5   7.42 (  5.33)\n",
      "Epoch: [0][ 49/167]\tTime  0.043 ( 0.123)\tData  0.003 ( 0.015)\tLoss 4.7671e+00 (4.7635e+00)\tAcc@1   0.78 (  1.14)\tAcc@5   5.47 (  5.34)\n",
      "Epoch: [0][ 50/167]\tTime  0.044 ( 0.122)\tData  0.003 ( 0.015)\tLoss 4.7526e+00 (4.7633e+00)\tAcc@1   1.56 (  1.15)\tAcc@5   3.91 (  5.31)\n",
      "Epoch: [0][ 51/167]\tTime  0.050 ( 0.120)\tData  0.003 ( 0.015)\tLoss 4.7530e+00 (4.7631e+00)\tAcc@1   1.17 (  1.15)\tAcc@5   4.30 (  5.29)\n",
      "Epoch: [0][ 52/167]\tTime  0.044 ( 0.119)\tData  0.003 ( 0.015)\tLoss 4.7721e+00 (4.7633e+00)\tAcc@1   0.39 (  1.14)\tAcc@5   5.47 (  5.29)\n",
      "Epoch: [0][ 53/167]\tTime  0.047 ( 0.117)\tData  0.003 ( 0.014)\tLoss 4.7669e+00 (4.7633e+00)\tAcc@1   1.56 (  1.14)\tAcc@5   7.03 (  5.32)\n",
      "Epoch: [0][ 54/167]\tTime  0.045 ( 0.116)\tData  0.003 ( 0.014)\tLoss 4.7478e+00 (4.7631e+00)\tAcc@1   0.78 (  1.14)\tAcc@5   5.47 (  5.33)\n",
      "Epoch: [0][ 55/167]\tTime  0.044 ( 0.115)\tData  0.003 ( 0.014)\tLoss 4.7985e+00 (4.7637e+00)\tAcc@1   0.78 (  1.13)\tAcc@5   3.52 (  5.29)\n",
      "Epoch: [0][ 56/167]\tTime  0.051 ( 0.114)\tData  0.003 ( 0.014)\tLoss 4.7479e+00 (4.7634e+00)\tAcc@1   1.17 (  1.13)\tAcc@5   2.73 (  5.25)\n",
      "Epoch: [0][ 57/167]\tTime  0.063 ( 0.113)\tData  0.004 ( 0.014)\tLoss 4.7949e+00 (4.7640e+00)\tAcc@1   0.78 (  1.12)\tAcc@5   3.12 (  5.21)\n",
      "Epoch: [0][ 58/167]\tTime  0.049 ( 0.112)\tData  0.002 ( 0.014)\tLoss 4.7888e+00 (4.7644e+00)\tAcc@1   0.78 (  1.12)\tAcc@5   4.69 (  5.20)\n",
      "Epoch: [0][ 59/167]\tTime  0.047 ( 0.111)\tData  0.003 ( 0.013)\tLoss 4.7453e+00 (4.7641e+00)\tAcc@1   3.12 (  1.15)\tAcc@5   6.25 (  5.22)\n",
      "Epoch: [0][ 60/167]\tTime  0.073 ( 0.110)\tData  0.017 ( 0.013)\tLoss 4.7301e+00 (4.7635e+00)\tAcc@1   1.56 (  1.16)\tAcc@5   8.20 (  5.27)\n",
      "Epoch: [0][ 61/167]\tTime  0.088 ( 0.110)\tData  0.003 ( 0.013)\tLoss 4.7516e+00 (4.7633e+00)\tAcc@1   1.56 (  1.17)\tAcc@5   5.86 (  5.28)\n",
      "Epoch: [0][ 62/167]\tTime  0.058 ( 0.109)\tData  0.003 ( 0.013)\tLoss 4.7635e+00 (4.7633e+00)\tAcc@1   1.17 (  1.17)\tAcc@5   3.52 (  5.25)\n",
      "Epoch: [0][ 63/167]\tTime  0.045 ( 0.108)\tData  0.003 ( 0.013)\tLoss 4.7067e+00 (4.7624e+00)\tAcc@1   0.78 (  1.16)\tAcc@5   6.25 (  5.27)\n",
      "Epoch: [0][ 64/167]\tTime  0.046 ( 0.107)\tData  0.003 ( 0.013)\tLoss 4.7967e+00 (4.7630e+00)\tAcc@1   0.39 (  1.15)\tAcc@5   4.30 (  5.25)\n",
      "Epoch: [0][ 65/167]\tTime  0.076 ( 0.106)\tData  0.003 ( 0.013)\tLoss 4.7537e+00 (4.7628e+00)\tAcc@1   0.39 (  1.14)\tAcc@5   2.73 (  5.21)\n",
      "Epoch: [0][ 66/167]\tTime  0.058 ( 0.106)\tData  0.004 ( 0.012)\tLoss 4.8165e+00 (4.7636e+00)\tAcc@1   0.39 (  1.13)\tAcc@5   2.73 (  5.18)\n",
      "Epoch: [0][ 67/167]\tTime  0.048 ( 0.105)\tData  0.004 ( 0.012)\tLoss 4.7763e+00 (4.7638e+00)\tAcc@1   1.56 (  1.13)\tAcc@5   5.08 (  5.18)\n",
      "Epoch: [0][ 68/167]\tTime  0.047 ( 0.104)\tData  0.003 ( 0.012)\tLoss 4.7463e+00 (4.7636e+00)\tAcc@1   0.00 (  1.12)\tAcc@5   2.34 (  5.13)\n",
      "Epoch: [0][ 69/167]\tTime  0.051 ( 0.103)\tData  0.003 ( 0.012)\tLoss 4.7172e+00 (4.7629e+00)\tAcc@1   1.17 (  1.12)\tAcc@5   5.86 (  5.15)\n",
      "Epoch: [0][ 70/167]\tTime  0.047 ( 0.102)\tData  0.003 ( 0.012)\tLoss 4.7614e+00 (4.7629e+00)\tAcc@1   1.95 (  1.13)\tAcc@5   4.30 (  5.13)\n",
      "Epoch: [0][ 71/167]\tTime  0.049 ( 0.102)\tData  0.004 ( 0.012)\tLoss 4.7700e+00 (4.7630e+00)\tAcc@1   0.39 (  1.12)\tAcc@5   4.69 (  5.13)\n",
      "Epoch: [0][ 72/167]\tTime  0.049 ( 0.101)\tData  0.003 ( 0.012)\tLoss 4.7281e+00 (4.7625e+00)\tAcc@1   0.78 (  1.11)\tAcc@5   4.30 (  5.12)\n",
      "Epoch: [0][ 73/167]\tTime  0.047 ( 0.100)\tData  0.004 ( 0.012)\tLoss 4.7633e+00 (4.7625e+00)\tAcc@1   1.56 (  1.12)\tAcc@5   5.47 (  5.12)\n",
      "Epoch: [0][ 74/167]\tTime  0.048 ( 0.100)\tData  0.004 ( 0.012)\tLoss 4.7140e+00 (4.7619e+00)\tAcc@1   1.17 (  1.12)\tAcc@5   6.64 (  5.14)\n",
      "Epoch: [0][ 75/167]\tTime  0.046 ( 0.099)\tData  0.003 ( 0.011)\tLoss 4.7461e+00 (4.7616e+00)\tAcc@1   1.56 (  1.13)\tAcc@5   3.91 (  5.12)\n",
      "Epoch: [0][ 76/167]\tTime  0.054 ( 0.098)\tData  0.003 ( 0.011)\tLoss 4.7527e+00 (4.7615e+00)\tAcc@1   1.56 (  1.13)\tAcc@5   5.86 (  5.13)\n",
      "Epoch: [0][ 77/167]\tTime  0.045 ( 0.098)\tData  0.003 ( 0.011)\tLoss 4.7368e+00 (4.7612e+00)\tAcc@1   0.78 (  1.13)\tAcc@5   4.30 (  5.12)\n",
      "Epoch: [0][ 78/167]\tTime  0.049 ( 0.097)\tData  0.004 ( 0.011)\tLoss 4.7905e+00 (4.7616e+00)\tAcc@1   0.39 (  1.12)\tAcc@5   4.30 (  5.11)\n",
      "Epoch: [0][ 79/167]\tTime  0.047 ( 0.096)\tData  0.004 ( 0.011)\tLoss 4.8332e+00 (4.7625e+00)\tAcc@1   0.39 (  1.11)\tAcc@5   3.12 (  5.09)\n",
      "Epoch: [0][ 80/167]\tTime  0.048 ( 0.096)\tData  0.004 ( 0.011)\tLoss 4.7986e+00 (4.7629e+00)\tAcc@1   1.17 (  1.11)\tAcc@5   4.69 (  5.08)\n",
      "Epoch: [0][ 81/167]\tTime  0.049 ( 0.095)\tData  0.003 ( 0.011)\tLoss 4.7828e+00 (4.7632e+00)\tAcc@1   0.39 (  1.10)\tAcc@5   2.34 (  5.05)\n",
      "Epoch: [0][ 82/167]\tTime  0.053 ( 0.095)\tData  0.004 ( 0.011)\tLoss 4.7911e+00 (4.7635e+00)\tAcc@1   0.39 (  1.09)\tAcc@5   4.30 (  5.04)\n",
      "Epoch: [0][ 83/167]\tTime  0.048 ( 0.094)\tData  0.004 ( 0.011)\tLoss 4.7079e+00 (4.7628e+00)\tAcc@1   1.17 (  1.09)\tAcc@5   5.86 (  5.05)\n",
      "Epoch: [0][ 84/167]\tTime  0.044 ( 0.094)\tData  0.003 ( 0.011)\tLoss 4.7783e+00 (4.7630e+00)\tAcc@1   0.78 (  1.09)\tAcc@5   2.73 (  5.02)\n",
      "Epoch: [0][ 85/167]\tTime  0.046 ( 0.093)\tData  0.003 ( 0.011)\tLoss 4.7639e+00 (4.7630e+00)\tAcc@1   1.95 (  1.10)\tAcc@5   7.03 (  5.05)\n",
      "Epoch: [0][ 86/167]\tTime  0.059 ( 0.093)\tData  0.003 ( 0.010)\tLoss 4.7582e+00 (4.7630e+00)\tAcc@1   0.78 (  1.10)\tAcc@5   3.52 (  5.03)\n",
      "Epoch: [0][ 87/167]\tTime  0.044 ( 0.092)\tData  0.004 ( 0.010)\tLoss 4.8026e+00 (4.7634e+00)\tAcc@1   0.78 (  1.09)\tAcc@5   3.52 (  5.01)\n",
      "Epoch: [0][ 88/167]\tTime  0.047 ( 0.092)\tData  0.003 ( 0.010)\tLoss 4.7711e+00 (4.7635e+00)\tAcc@1   1.17 (  1.09)\tAcc@5   7.03 (  5.03)\n",
      "Epoch: [0][ 89/167]\tTime  0.067 ( 0.091)\tData  0.003 ( 0.010)\tLoss 4.7767e+00 (4.7637e+00)\tAcc@1   0.39 (  1.09)\tAcc@5   6.25 (  5.05)\n",
      "Epoch: [0][ 90/167]\tTime  0.064 ( 0.091)\tData  0.019 ( 0.010)\tLoss 4.7233e+00 (4.7632e+00)\tAcc@1   0.78 (  1.08)\tAcc@5   4.30 (  5.04)\n",
      "Epoch: [0][ 91/167]\tTime  0.048 ( 0.091)\tData  0.004 ( 0.010)\tLoss 4.7999e+00 (4.7636e+00)\tAcc@1   1.56 (  1.09)\tAcc@5   3.91 (  5.03)\n",
      "Epoch: [0][ 92/167]\tTime  0.047 ( 0.090)\tData  0.004 ( 0.010)\tLoss 4.7461e+00 (4.7634e+00)\tAcc@1   0.39 (  1.08)\tAcc@5   4.69 (  5.02)\n",
      "Epoch: [0][ 93/167]\tTime  0.046 ( 0.090)\tData  0.003 ( 0.010)\tLoss 4.7946e+00 (4.7638e+00)\tAcc@1   0.78 (  1.08)\tAcc@5   6.25 (  5.04)\n",
      "Epoch: [0][ 94/167]\tTime  0.047 ( 0.089)\tData  0.003 ( 0.010)\tLoss 4.7898e+00 (4.7640e+00)\tAcc@1   1.17 (  1.08)\tAcc@5   3.52 (  5.02)\n",
      "Epoch: [0][ 95/167]\tTime  0.050 ( 0.089)\tData  0.003 ( 0.010)\tLoss 4.7162e+00 (4.7635e+00)\tAcc@1   0.78 (  1.07)\tAcc@5   4.69 (  5.02)\n",
      "Epoch: [0][ 96/167]\tTime  0.052 ( 0.088)\tData  0.008 ( 0.010)\tLoss 4.7578e+00 (4.7635e+00)\tAcc@1   1.95 (  1.08)\tAcc@5   5.47 (  5.02)\n",
      "Epoch: [0][ 97/167]\tTime  0.046 ( 0.088)\tData  0.003 ( 0.010)\tLoss 4.7005e+00 (4.7628e+00)\tAcc@1   1.95 (  1.09)\tAcc@5   7.81 (  5.05)\n",
      "Epoch: [0][ 98/167]\tTime  0.045 ( 0.087)\tData  0.003 ( 0.010)\tLoss 4.7811e+00 (4.7630e+00)\tAcc@1   0.00 (  1.08)\tAcc@5   1.95 (  5.02)\n",
      "Epoch: [0][ 99/167]\tTime  0.044 ( 0.087)\tData  0.004 ( 0.010)\tLoss 4.8099e+00 (4.7635e+00)\tAcc@1   0.78 (  1.08)\tAcc@5   2.73 (  5.00)\n",
      "Epoch: [0][100/167]\tTime  0.050 ( 0.087)\tData  0.003 ( 0.010)\tLoss 4.7913e+00 (4.7638e+00)\tAcc@1   0.78 (  1.08)\tAcc@5   2.73 (  4.97)\n",
      "Epoch: [0][101/167]\tTime  0.050 ( 0.086)\tData  0.006 ( 0.010)\tLoss 4.7808e+00 (4.7639e+00)\tAcc@1   1.17 (  1.08)\tAcc@5   5.08 (  4.97)\n",
      "Epoch: [0][102/167]\tTime  0.047 ( 0.086)\tData  0.003 ( 0.010)\tLoss 4.7376e+00 (4.7637e+00)\tAcc@1   1.17 (  1.08)\tAcc@5   5.08 (  4.98)\n",
      "Epoch: [0][103/167]\tTime  0.046 ( 0.086)\tData  0.003 ( 0.009)\tLoss 4.7475e+00 (4.7635e+00)\tAcc@1   0.39 (  1.07)\tAcc@5   6.25 (  4.99)\n",
      "Epoch: [0][104/167]\tTime  0.045 ( 0.085)\tData  0.003 ( 0.009)\tLoss 4.7792e+00 (4.7637e+00)\tAcc@1   0.39 (  1.06)\tAcc@5   4.69 (  4.99)\n",
      "Epoch: [0][105/167]\tTime  0.068 ( 0.085)\tData  0.003 ( 0.009)\tLoss 4.7458e+00 (4.7635e+00)\tAcc@1   1.17 (  1.07)\tAcc@5   4.69 (  4.98)\n",
      "Epoch: [0][106/167]\tTime  0.047 ( 0.085)\tData  0.003 ( 0.009)\tLoss 4.7987e+00 (4.7638e+00)\tAcc@1   0.78 (  1.06)\tAcc@5   5.47 (  4.99)\n",
      "Epoch: [0][107/167]\tTime  0.047 ( 0.084)\tData  0.003 ( 0.009)\tLoss 4.7672e+00 (4.7639e+00)\tAcc@1   1.17 (  1.06)\tAcc@5   8.98 (  5.02)\n",
      "Epoch: [0][108/167]\tTime  0.046 ( 0.084)\tData  0.004 ( 0.009)\tLoss 4.7628e+00 (4.7639e+00)\tAcc@1   0.39 (  1.06)\tAcc@5   5.47 (  5.03)\n",
      "Epoch: [0][109/167]\tTime  0.043 ( 0.084)\tData  0.004 ( 0.009)\tLoss 4.7389e+00 (4.7636e+00)\tAcc@1   1.95 (  1.07)\tAcc@5   5.86 (  5.04)\n",
      "Epoch: [0][110/167]\tTime  0.044 ( 0.083)\tData  0.002 ( 0.009)\tLoss 4.7720e+00 (4.7637e+00)\tAcc@1   0.78 (  1.06)\tAcc@5   5.08 (  5.04)\n",
      "Epoch: [0][111/167]\tTime  0.043 ( 0.083)\tData  0.003 ( 0.009)\tLoss 4.7764e+00 (4.7638e+00)\tAcc@1   1.17 (  1.06)\tAcc@5   6.25 (  5.05)\n",
      "Epoch: [0][112/167]\tTime  0.043 ( 0.083)\tData  0.003 ( 0.009)\tLoss 4.7309e+00 (4.7635e+00)\tAcc@1   1.17 (  1.06)\tAcc@5   7.03 (  5.06)\n",
      "Epoch: [0][113/167]\tTime  0.045 ( 0.082)\tData  0.003 ( 0.009)\tLoss 4.7270e+00 (4.7632e+00)\tAcc@1   2.73 (  1.08)\tAcc@5   7.81 (  5.09)\n",
      "Epoch: [0][114/167]\tTime  0.049 ( 0.082)\tData  0.003 ( 0.009)\tLoss 4.7519e+00 (4.7631e+00)\tAcc@1   1.56 (  1.08)\tAcc@5   5.47 (  5.09)\n",
      "Epoch: [0][115/167]\tTime  0.046 ( 0.082)\tData  0.004 ( 0.009)\tLoss 4.7526e+00 (4.7630e+00)\tAcc@1   0.78 (  1.08)\tAcc@5   4.69 (  5.09)\n",
      "Epoch: [0][116/167]\tTime  0.045 ( 0.081)\tData  0.003 ( 0.009)\tLoss 4.8159e+00 (4.7635e+00)\tAcc@1   1.56 (  1.09)\tAcc@5   5.08 (  5.09)\n",
      "Epoch: [0][117/167]\tTime  0.048 ( 0.081)\tData  0.003 ( 0.009)\tLoss 4.7258e+00 (4.7631e+00)\tAcc@1   2.34 (  1.10)\tAcc@5   6.64 (  5.10)\n",
      "Epoch: [0][118/167]\tTime  0.050 ( 0.081)\tData  0.003 ( 0.009)\tLoss 4.7116e+00 (4.7627e+00)\tAcc@1   1.17 (  1.10)\tAcc@5   6.25 (  5.11)\n",
      "Epoch: [0][119/167]\tTime  0.046 ( 0.080)\tData  0.004 ( 0.009)\tLoss 4.7314e+00 (4.7625e+00)\tAcc@1   0.39 (  1.09)\tAcc@5   5.08 (  5.11)\n",
      "Epoch: [0][120/167]\tTime  0.044 ( 0.080)\tData  0.003 ( 0.009)\tLoss 4.7250e+00 (4.7621e+00)\tAcc@1   1.56 (  1.09)\tAcc@5   5.86 (  5.12)\n",
      "Epoch: [0][121/167]\tTime  0.043 ( 0.080)\tData  0.003 ( 0.009)\tLoss 4.7883e+00 (4.7624e+00)\tAcc@1   0.39 (  1.09)\tAcc@5   3.91 (  5.11)\n",
      "Epoch: [0][122/167]\tTime  0.042 ( 0.080)\tData  0.003 ( 0.008)\tLoss 4.7945e+00 (4.7626e+00)\tAcc@1   1.56 (  1.09)\tAcc@5   4.69 (  5.10)\n",
      "Epoch: [0][123/167]\tTime  0.041 ( 0.079)\tData  0.003 ( 0.008)\tLoss 4.7657e+00 (4.7626e+00)\tAcc@1   0.39 (  1.09)\tAcc@5   4.69 (  5.10)\n",
      "Epoch: [0][124/167]\tTime  0.053 ( 0.079)\tData  0.002 ( 0.008)\tLoss 4.7466e+00 (4.7625e+00)\tAcc@1   2.34 (  1.10)\tAcc@5   5.86 (  5.11)\n",
      "Epoch: [0][125/167]\tTime  0.052 ( 0.079)\tData  0.004 ( 0.008)\tLoss 4.7779e+00 (4.7626e+00)\tAcc@1   1.95 (  1.10)\tAcc@5   5.47 (  5.11)\n",
      "Epoch: [0][126/167]\tTime  0.042 ( 0.079)\tData  0.003 ( 0.008)\tLoss 4.7959e+00 (4.7629e+00)\tAcc@1   0.78 (  1.10)\tAcc@5   4.69 (  5.11)\n",
      "Epoch: [0][127/167]\tTime  0.045 ( 0.078)\tData  0.003 ( 0.008)\tLoss 4.7561e+00 (4.7628e+00)\tAcc@1   1.17 (  1.10)\tAcc@5   6.64 (  5.12)\n",
      "Epoch: [0][128/167]\tTime  0.054 ( 0.078)\tData  0.014 ( 0.008)\tLoss 4.7736e+00 (4.7629e+00)\tAcc@1   1.56 (  1.11)\tAcc@5   3.52 (  5.11)\n",
      "Epoch: [0][129/167]\tTime  0.044 ( 0.078)\tData  0.003 ( 0.008)\tLoss 4.8066e+00 (4.7633e+00)\tAcc@1   1.95 (  1.11)\tAcc@5   5.47 (  5.11)\n",
      "Epoch: [0][130/167]\tTime  0.053 ( 0.078)\tData  0.005 ( 0.008)\tLoss 4.7657e+00 (4.7633e+00)\tAcc@1   0.00 (  1.10)\tAcc@5   5.86 (  5.11)\n",
      "Epoch: [0][131/167]\tTime  0.050 ( 0.077)\tData  0.004 ( 0.008)\tLoss 4.7433e+00 (4.7631e+00)\tAcc@1   1.95 (  1.11)\tAcc@5   5.47 (  5.12)\n",
      "Epoch: [0][132/167]\tTime  0.043 ( 0.077)\tData  0.003 ( 0.008)\tLoss 4.7811e+00 (4.7633e+00)\tAcc@1   3.12 (  1.12)\tAcc@5   7.03 (  5.13)\n",
      "Epoch: [0][133/167]\tTime  0.045 ( 0.077)\tData  0.003 ( 0.008)\tLoss 4.8187e+00 (4.7637e+00)\tAcc@1   0.39 (  1.12)\tAcc@5   5.08 (  5.13)\n",
      "Epoch: [0][134/167]\tTime  0.051 ( 0.077)\tData  0.003 ( 0.008)\tLoss 4.7796e+00 (4.7638e+00)\tAcc@1   1.17 (  1.12)\tAcc@5   5.08 (  5.13)\n",
      "Epoch: [0][135/167]\tTime  0.049 ( 0.077)\tData  0.004 ( 0.008)\tLoss 4.7772e+00 (4.7639e+00)\tAcc@1   0.00 (  1.11)\tAcc@5   4.30 (  5.12)\n",
      "Epoch: [0][136/167]\tTime  0.057 ( 0.076)\tData  0.004 ( 0.008)\tLoss 4.7886e+00 (4.7641e+00)\tAcc@1   1.17 (  1.11)\tAcc@5   6.25 (  5.13)\n",
      "Epoch: [0][137/167]\tTime  0.046 ( 0.076)\tData  0.003 ( 0.008)\tLoss 4.8054e+00 (4.7644e+00)\tAcc@1   1.56 (  1.12)\tAcc@5   5.47 (  5.13)\n",
      "Epoch: [0][138/167]\tTime  0.048 ( 0.076)\tData  0.006 ( 0.008)\tLoss 4.7916e+00 (4.7646e+00)\tAcc@1   1.17 (  1.12)\tAcc@5   4.69 (  5.13)\n",
      "Epoch: [0][139/167]\tTime  0.047 ( 0.076)\tData  0.003 ( 0.008)\tLoss 4.8080e+00 (4.7649e+00)\tAcc@1   0.78 (  1.11)\tAcc@5   3.12 (  5.12)\n",
      "Epoch: [0][140/167]\tTime  0.052 ( 0.076)\tData  0.005 ( 0.008)\tLoss 4.8248e+00 (4.7653e+00)\tAcc@1   0.78 (  1.11)\tAcc@5   4.30 (  5.11)\n",
      "Epoch: [0][141/167]\tTime  0.048 ( 0.075)\tData  0.004 ( 0.008)\tLoss 4.7379e+00 (4.7651e+00)\tAcc@1   0.39 (  1.11)\tAcc@5   5.08 (  5.11)\n",
      "Epoch: [0][142/167]\tTime  0.045 ( 0.075)\tData  0.003 ( 0.008)\tLoss 4.7793e+00 (4.7652e+00)\tAcc@1   0.39 (  1.10)\tAcc@5   4.69 (  5.11)\n",
      "Epoch: [0][143/167]\tTime  0.085 ( 0.075)\tData  0.029 ( 0.008)\tLoss 4.7298e+00 (4.7650e+00)\tAcc@1   0.39 (  1.10)\tAcc@5   3.12 (  5.09)\n",
      "Epoch: [0][144/167]\tTime  0.045 ( 0.075)\tData  0.003 ( 0.008)\tLoss 4.7544e+00 (4.7649e+00)\tAcc@1   3.12 (  1.11)\tAcc@5   8.59 (  5.12)\n",
      "Epoch: [0][145/167]\tTime  0.044 ( 0.075)\tData  0.004 ( 0.008)\tLoss 4.7098e+00 (4.7645e+00)\tAcc@1   1.56 (  1.11)\tAcc@5   5.86 (  5.12)\n",
      "Epoch: [0][146/167]\tTime  0.045 ( 0.075)\tData  0.005 ( 0.008)\tLoss 4.6852e+00 (4.7640e+00)\tAcc@1   2.73 (  1.12)\tAcc@5   7.81 (  5.14)\n",
      "Epoch: [0][147/167]\tTime  0.046 ( 0.074)\tData  0.003 ( 0.008)\tLoss 4.7542e+00 (4.7639e+00)\tAcc@1   1.95 (  1.13)\tAcc@5   7.81 (  5.16)\n",
      "Epoch: [0][148/167]\tTime  0.045 ( 0.074)\tData  0.005 ( 0.008)\tLoss 4.7979e+00 (4.7641e+00)\tAcc@1   0.00 (  1.12)\tAcc@5   5.08 (  5.16)\n",
      "Epoch: [0][149/167]\tTime  0.054 ( 0.074)\tData  0.003 ( 0.008)\tLoss 4.7763e+00 (4.7642e+00)\tAcc@1   0.39 (  1.12)\tAcc@5   5.86 (  5.16)\n",
      "Epoch: [0][150/167]\tTime  0.067 ( 0.074)\tData  0.004 ( 0.008)\tLoss 4.8007e+00 (4.7645e+00)\tAcc@1   0.78 (  1.11)\tAcc@5   2.73 (  5.15)\n",
      "Epoch: [0][151/167]\tTime  0.059 ( 0.074)\tData  0.019 ( 0.008)\tLoss 4.7659e+00 (4.7645e+00)\tAcc@1   1.95 (  1.12)\tAcc@5   5.86 (  5.15)\n",
      "Epoch: [0][152/167]\tTime  0.044 ( 0.074)\tData  0.003 ( 0.008)\tLoss 4.8143e+00 (4.7648e+00)\tAcc@1   0.78 (  1.12)\tAcc@5   5.47 (  5.15)\n",
      "Epoch: [0][153/167]\tTime  0.046 ( 0.074)\tData  0.003 ( 0.008)\tLoss 4.7833e+00 (4.7649e+00)\tAcc@1   0.78 (  1.12)\tAcc@5   6.64 (  5.16)\n",
      "Epoch: [0][154/167]\tTime  0.046 ( 0.073)\tData  0.003 ( 0.008)\tLoss 4.7606e+00 (4.7649e+00)\tAcc@1   0.78 (  1.11)\tAcc@5   5.86 (  5.17)\n",
      "Epoch: [0][155/167]\tTime  0.046 ( 0.073)\tData  0.003 ( 0.008)\tLoss 4.7720e+00 (4.7649e+00)\tAcc@1   1.56 (  1.12)\tAcc@5   5.47 (  5.17)\n",
      "Epoch: [0][156/167]\tTime  0.047 ( 0.073)\tData  0.004 ( 0.008)\tLoss 4.7251e+00 (4.7647e+00)\tAcc@1   0.39 (  1.11)\tAcc@5   4.69 (  5.17)\n",
      "Epoch: [0][157/167]\tTime  0.047 ( 0.073)\tData  0.003 ( 0.008)\tLoss 4.7333e+00 (4.7645e+00)\tAcc@1   1.56 (  1.12)\tAcc@5   6.25 (  5.17)\n",
      "Epoch: [0][158/167]\tTime  0.073 ( 0.073)\tData  0.029 ( 0.008)\tLoss 4.7509e+00 (4.7644e+00)\tAcc@1   1.95 (  1.12)\tAcc@5   6.64 (  5.18)\n",
      "Epoch: [0][159/167]\tTime  0.044 ( 0.073)\tData  0.002 ( 0.008)\tLoss 4.7073e+00 (4.7640e+00)\tAcc@1   1.56 (  1.12)\tAcc@5   6.64 (  5.19)\n",
      "Epoch: [0][160/167]\tTime  0.044 ( 0.073)\tData  0.002 ( 0.008)\tLoss 4.7999e+00 (4.7643e+00)\tAcc@1   0.39 (  1.12)\tAcc@5   3.12 (  5.18)\n",
      "Epoch: [0][161/167]\tTime  0.047 ( 0.072)\tData  0.004 ( 0.008)\tLoss 4.7883e+00 (4.7644e+00)\tAcc@1   1.17 (  1.12)\tAcc@5   3.91 (  5.17)\n",
      "Epoch: [0][162/167]\tTime  0.043 ( 0.072)\tData  0.003 ( 0.008)\tLoss 4.7922e+00 (4.7646e+00)\tAcc@1   1.17 (  1.12)\tAcc@5   6.25 (  5.18)\n",
      "Epoch: [0][163/167]\tTime  0.043 ( 0.072)\tData  0.002 ( 0.008)\tLoss 4.8061e+00 (4.7648e+00)\tAcc@1   2.34 (  1.13)\tAcc@5   6.64 (  5.19)\n",
      "Epoch: [0][164/167]\tTime  0.045 ( 0.072)\tData  0.004 ( 0.008)\tLoss 4.7703e+00 (4.7649e+00)\tAcc@1   1.95 (  1.13)\tAcc@5   5.08 (  5.19)\n",
      "Epoch: [0][165/167]\tTime  0.043 ( 0.072)\tData  0.002 ( 0.008)\tLoss 4.7839e+00 (4.7650e+00)\tAcc@1   1.56 (  1.13)\tAcc@5   4.69 (  5.18)\n",
      "Epoch: [0][166/167]\tTime  0.166 ( 0.072)\tData  0.001 ( 0.008)\tLoss 4.2107e+00 (4.7649e+00)\tAcc@1   0.00 (  1.13)\tAcc@5  25.00 (  5.19)\n",
      "Test: [ 0/30]\tTime  0.597 ( 0.597)\tLoss 4.7424e+00 (4.7424e+00)\tAcc@1   1.17 (  1.17)\tAcc@5   4.30 (  4.30)\n",
      "Test: [ 1/30]\tTime  0.024 ( 0.310)\tLoss 4.7787e+00 (4.7605e+00)\tAcc@1   1.17 (  1.17)\tAcc@5   3.91 (  4.10)\n",
      "Test: [ 2/30]\tTime  0.019 ( 0.213)\tLoss 4.7650e+00 (4.7620e+00)\tAcc@1   1.56 (  1.30)\tAcc@5   3.91 (  4.04)\n",
      "Test: [ 3/30]\tTime  0.018 ( 0.164)\tLoss 4.7206e+00 (4.7516e+00)\tAcc@1   0.39 (  1.07)\tAcc@5   5.47 (  4.39)\n",
      "Test: [ 4/30]\tTime  0.020 ( 0.136)\tLoss 4.7124e+00 (4.7438e+00)\tAcc@1   1.17 (  1.09)\tAcc@5   2.73 (  4.06)\n",
      "Test: [ 5/30]\tTime  0.018 ( 0.116)\tLoss 4.7558e+00 (4.7458e+00)\tAcc@1   0.00 (  0.91)\tAcc@5   5.47 (  4.30)\n",
      "Test: [ 6/30]\tTime  0.017 ( 0.102)\tLoss 4.7422e+00 (4.7453e+00)\tAcc@1   0.39 (  0.84)\tAcc@5   4.69 (  4.35)\n",
      "Test: [ 7/30]\tTime  0.020 ( 0.092)\tLoss 4.7287e+00 (4.7432e+00)\tAcc@1   1.56 (  0.93)\tAcc@5   6.64 (  4.64)\n",
      "Test: [ 8/30]\tTime  0.021 ( 0.084)\tLoss 4.7160e+00 (4.7402e+00)\tAcc@1   0.39 (  0.87)\tAcc@5   3.12 (  4.47)\n",
      "Test: [ 9/30]\tTime  0.020 ( 0.077)\tLoss 4.7524e+00 (4.7414e+00)\tAcc@1   0.39 (  0.82)\tAcc@5   4.30 (  4.45)\n",
      "Test: [10/30]\tTime  0.030 ( 0.073)\tLoss 4.8401e+00 (4.7504e+00)\tAcc@1   0.39 (  0.78)\tAcc@5   2.34 (  4.26)\n",
      "Test: [11/30]\tTime  0.022 ( 0.069)\tLoss 4.7942e+00 (4.7540e+00)\tAcc@1   0.78 (  0.78)\tAcc@5   4.30 (  4.26)\n",
      "Test: [12/30]\tTime  0.021 ( 0.065)\tLoss 4.7304e+00 (4.7522e+00)\tAcc@1   0.00 (  0.72)\tAcc@5   4.30 (  4.27)\n",
      "Test: [13/30]\tTime  0.020 ( 0.062)\tLoss 4.7904e+00 (4.7549e+00)\tAcc@1   0.78 (  0.73)\tAcc@5   3.91 (  4.24)\n",
      "Test: [14/30]\tTime  0.019 ( 0.059)\tLoss 4.7855e+00 (4.7570e+00)\tAcc@1   1.17 (  0.76)\tAcc@5   5.08 (  4.30)\n",
      "Test: [15/30]\tTime  0.022 ( 0.057)\tLoss 4.8098e+00 (4.7603e+00)\tAcc@1   0.78 (  0.76)\tAcc@5   3.12 (  4.22)\n",
      "Test: [16/30]\tTime  0.020 ( 0.055)\tLoss 4.6843e+00 (4.7558e+00)\tAcc@1   1.56 (  0.80)\tAcc@5   5.47 (  4.30)\n",
      "Test: [17/30]\tTime  0.019 ( 0.053)\tLoss 4.7102e+00 (4.7533e+00)\tAcc@1   1.17 (  0.82)\tAcc@5   6.25 (  4.41)\n",
      "Test: [18/30]\tTime  0.020 ( 0.051)\tLoss 4.7001e+00 (4.7505e+00)\tAcc@1   1.17 (  0.84)\tAcc@5   4.30 (  4.40)\n",
      "Test: [19/30]\tTime  0.021 ( 0.049)\tLoss 4.7078e+00 (4.7483e+00)\tAcc@1   1.17 (  0.86)\tAcc@5   5.86 (  4.47)\n",
      "Test: [20/30]\tTime  0.019 ( 0.048)\tLoss 4.7612e+00 (4.7490e+00)\tAcc@1   1.56 (  0.89)\tAcc@5   5.47 (  4.52)\n",
      "Test: [21/30]\tTime  0.024 ( 0.047)\tLoss 4.7665e+00 (4.7498e+00)\tAcc@1   1.56 (  0.92)\tAcc@5   5.47 (  4.56)\n",
      "Test: [22/30]\tTime  0.019 ( 0.046)\tLoss 4.7754e+00 (4.7509e+00)\tAcc@1   0.78 (  0.92)\tAcc@5   3.12 (  4.50)\n",
      "Test: [23/30]\tTime  0.021 ( 0.045)\tLoss 4.7441e+00 (4.7506e+00)\tAcc@1   2.34 (  0.98)\tAcc@5   7.03 (  4.61)\n",
      "Test: [24/30]\tTime  0.038 ( 0.044)\tLoss 4.8478e+00 (4.7545e+00)\tAcc@1   0.39 (  0.95)\tAcc@5   3.52 (  4.56)\n",
      "Test: [25/30]\tTime  0.020 ( 0.043)\tLoss 4.7154e+00 (4.7530e+00)\tAcc@1   0.39 (  0.93)\tAcc@5   6.25 (  4.63)\n",
      "Test: [26/30]\tTime  0.024 ( 0.043)\tLoss 4.7974e+00 (4.7546e+00)\tAcc@1   0.39 (  0.91)\tAcc@5   5.86 (  4.67)\n",
      "Test: [27/30]\tTime  0.020 ( 0.042)\tLoss 4.8147e+00 (4.7568e+00)\tAcc@1   1.17 (  0.92)\tAcc@5   4.30 (  4.66)\n",
      "Test: [28/30]\tTime  0.017 ( 0.041)\tLoss 4.7703e+00 (4.7572e+00)\tAcc@1   1.95 (  0.96)\tAcc@5   5.08 (  4.67)\n",
      "Test: [29/30]\tTime  0.089 ( 0.043)\tLoss 4.8127e+00 (4.7578e+00)\tAcc@1   1.32 (  0.96)\tAcc@5   6.58 (  4.69)\n",
      " * acc@1 0.960 acc@5 4.693\n",
      "03/19 01:28:53 PM 0, 1.1341176470588235, 4.764930433565028, 0.9600000381469727, 4.757801800282796\n",
      "Test: [ 0/40]\tTime  0.560 ( 0.560)\tLoss 4.8246e+00 (4.8246e+00)\tAcc@1   0.00 (  0.00)\tAcc@5   3.91 (  3.91)\n",
      "Test: [ 1/40]\tTime  0.026 ( 0.293)\tLoss 4.6920e+00 (4.7583e+00)\tAcc@1   1.17 (  0.59)\tAcc@5   7.03 (  5.47)\n",
      "Test: [ 2/40]\tTime  0.018 ( 0.201)\tLoss 4.7506e+00 (4.7557e+00)\tAcc@1   1.56 (  0.91)\tAcc@5   4.30 (  5.08)\n",
      "Test: [ 3/40]\tTime  0.016 ( 0.155)\tLoss 4.7553e+00 (4.7556e+00)\tAcc@1   0.78 (  0.88)\tAcc@5   5.47 (  5.18)\n",
      "Test: [ 4/40]\tTime  0.022 ( 0.128)\tLoss 4.7297e+00 (4.7505e+00)\tAcc@1   0.78 (  0.86)\tAcc@5   6.25 (  5.39)\n",
      "Test: [ 5/40]\tTime  0.022 ( 0.111)\tLoss 4.7001e+00 (4.7421e+00)\tAcc@1   1.95 (  1.04)\tAcc@5   5.08 (  5.34)\n",
      "Test: [ 6/40]\tTime  0.024 ( 0.098)\tLoss 4.7701e+00 (4.7461e+00)\tAcc@1   0.78 (  1.00)\tAcc@5   5.08 (  5.30)\n",
      "Test: [ 7/40]\tTime  0.028 ( 0.090)\tLoss 4.7038e+00 (4.7408e+00)\tAcc@1   0.78 (  0.98)\tAcc@5   4.69 (  5.22)\n",
      "Test: [ 8/40]\tTime  0.022 ( 0.082)\tLoss 4.7646e+00 (4.7434e+00)\tAcc@1   0.78 (  0.95)\tAcc@5   3.12 (  4.99)\n",
      "Test: [ 9/40]\tTime  0.017 ( 0.076)\tLoss 4.7188e+00 (4.7410e+00)\tAcc@1   0.78 (  0.94)\tAcc@5   7.03 (  5.20)\n",
      "Test: [10/40]\tTime  0.022 ( 0.071)\tLoss 4.7688e+00 (4.7435e+00)\tAcc@1   0.39 (  0.89)\tAcc@5   3.52 (  5.04)\n",
      "Test: [11/40]\tTime  0.039 ( 0.068)\tLoss 4.7777e+00 (4.7463e+00)\tAcc@1   1.56 (  0.94)\tAcc@5   6.64 (  5.18)\n",
      "Test: [12/40]\tTime  0.017 ( 0.064)\tLoss 4.7420e+00 (4.7460e+00)\tAcc@1   1.17 (  0.96)\tAcc@5   4.69 (  5.14)\n",
      "Test: [13/40]\tTime  0.022 ( 0.061)\tLoss 4.7696e+00 (4.7477e+00)\tAcc@1   0.78 (  0.95)\tAcc@5   3.12 (  4.99)\n",
      "Test: [14/40]\tTime  0.023 ( 0.059)\tLoss 4.8126e+00 (4.7520e+00)\tAcc@1   0.78 (  0.94)\tAcc@5   6.25 (  5.08)\n",
      "Test: [15/40]\tTime  0.024 ( 0.056)\tLoss 4.7594e+00 (4.7525e+00)\tAcc@1   0.39 (  0.90)\tAcc@5   3.91 (  5.00)\n",
      "Test: [16/40]\tTime  0.024 ( 0.054)\tLoss 4.7953e+00 (4.7550e+00)\tAcc@1   0.78 (  0.90)\tAcc@5   5.08 (  5.01)\n",
      "Test: [17/40]\tTime  0.031 ( 0.053)\tLoss 4.7167e+00 (4.7529e+00)\tAcc@1   0.39 (  0.87)\tAcc@5   5.86 (  5.06)\n",
      "Test: [18/40]\tTime  0.021 ( 0.051)\tLoss 4.7397e+00 (4.7522e+00)\tAcc@1   0.39 (  0.84)\tAcc@5   6.25 (  5.12)\n",
      "Test: [19/40]\tTime  0.025 ( 0.050)\tLoss 4.7848e+00 (4.7538e+00)\tAcc@1   1.17 (  0.86)\tAcc@5   5.47 (  5.14)\n",
      "Test: [20/40]\tTime  0.021 ( 0.049)\tLoss 4.7256e+00 (4.7525e+00)\tAcc@1   0.39 (  0.84)\tAcc@5   7.03 (  5.23)\n",
      "Test: [21/40]\tTime  0.025 ( 0.048)\tLoss 4.7525e+00 (4.7525e+00)\tAcc@1   0.78 (  0.83)\tAcc@5   5.47 (  5.24)\n",
      "Test: [22/40]\tTime  0.025 ( 0.047)\tLoss 4.6776e+00 (4.7492e+00)\tAcc@1   0.78 (  0.83)\tAcc@5   5.86 (  5.26)\n",
      "Test: [23/40]\tTime  0.050 ( 0.047)\tLoss 4.7592e+00 (4.7496e+00)\tAcc@1   0.39 (  0.81)\tAcc@5   5.86 (  5.29)\n",
      "Test: [24/40]\tTime  0.025 ( 0.046)\tLoss 4.7617e+00 (4.7501e+00)\tAcc@1   1.17 (  0.83)\tAcc@5   7.03 (  5.36)\n",
      "Test: [25/40]\tTime  0.024 ( 0.045)\tLoss 4.7205e+00 (4.7490e+00)\tAcc@1   1.56 (  0.86)\tAcc@5   5.08 (  5.35)\n",
      "Test: [26/40]\tTime  0.035 ( 0.045)\tLoss 4.7231e+00 (4.7480e+00)\tAcc@1   0.39 (  0.84)\tAcc@5   4.30 (  5.31)\n",
      "Test: [27/40]\tTime  0.032 ( 0.044)\tLoss 4.7540e+00 (4.7482e+00)\tAcc@1   0.39 (  0.82)\tAcc@5   3.12 (  5.23)\n",
      "Test: [28/40]\tTime  0.022 ( 0.043)\tLoss 4.7604e+00 (4.7487e+00)\tAcc@1   0.78 (  0.82)\tAcc@5   4.69 (  5.21)\n",
      "Test: [29/40]\tTime  0.038 ( 0.043)\tLoss 4.7553e+00 (4.7489e+00)\tAcc@1   0.78 (  0.82)\tAcc@5   5.47 (  5.22)\n",
      "Test: [30/40]\tTime  0.022 ( 0.043)\tLoss 4.7855e+00 (4.7501e+00)\tAcc@1   1.56 (  0.84)\tAcc@5   5.47 (  5.23)\n",
      "Test: [31/40]\tTime  0.019 ( 0.042)\tLoss 4.7085e+00 (4.7488e+00)\tAcc@1   1.56 (  0.87)\tAcc@5   7.81 (  5.31)\n",
      "Test: [32/40]\tTime  0.023 ( 0.041)\tLoss 4.7689e+00 (4.7494e+00)\tAcc@1   0.78 (  0.86)\tAcc@5   4.30 (  5.28)\n",
      "Test: [33/40]\tTime  0.018 ( 0.041)\tLoss 4.7961e+00 (4.7507e+00)\tAcc@1   0.78 (  0.86)\tAcc@5   3.91 (  5.24)\n",
      "Test: [34/40]\tTime  0.018 ( 0.040)\tLoss 4.7340e+00 (4.7503e+00)\tAcc@1   1.56 (  0.88)\tAcc@5   5.86 (  5.26)\n",
      "Test: [35/40]\tTime  0.018 ( 0.039)\tLoss 4.7151e+00 (4.7493e+00)\tAcc@1   1.17 (  0.89)\tAcc@5   6.64 (  5.30)\n",
      "Test: [36/40]\tTime  0.018 ( 0.039)\tLoss 4.6897e+00 (4.7477e+00)\tAcc@1   0.78 (  0.89)\tAcc@5   5.47 (  5.30)\n",
      "Test: [37/40]\tTime  0.018 ( 0.038)\tLoss 4.7415e+00 (4.7475e+00)\tAcc@1   0.78 (  0.88)\tAcc@5   7.03 (  5.35)\n",
      "Test: [38/40]\tTime  0.017 ( 0.038)\tLoss 4.6845e+00 (4.7459e+00)\tAcc@1   0.78 (  0.88)\tAcc@5   9.38 (  5.45)\n",
      "Test: [39/40]\tTime  0.069 ( 0.038)\tLoss 4.6368e+00 (4.7457e+00)\tAcc@1   0.00 (  0.88)\tAcc@5   6.25 (  5.45)\n",
      " * acc@1 0.880 acc@5 5.450\n",
      "total training time = 0.0006037940184275309 hours\n"
     ]
    }
   ],
   "source": [
    "algo.binarize()"
   ]
  },
  {
   "cell_type": "markdown",
   "id": "860e2294",
   "metadata": {},
   "source": [
    "### Loading the Checkpoint to know the test accuracy"
   ]
  },
  {
   "cell_type": "code",
   "execution_count": 14,
   "id": "d9fe0b2e",
   "metadata": {},
   "outputs": [],
   "source": [
    "chk=torch.load('./save_path_resnet50_cifar100_fullbin/model_best.pth.tar')"
   ]
  },
  {
   "cell_type": "code",
   "execution_count": 15,
   "id": "38bd9631",
   "metadata": {},
   "outputs": [
    {
     "data": {
      "text/plain": [
       "0"
      ]
     },
     "execution_count": 15,
     "metadata": {},
     "output_type": "execute_result"
    }
   ],
   "source": [
    "chk['epoch']"
   ]
  },
  {
   "cell_type": "markdown",
   "id": "54d012c5",
   "metadata": {},
   "source": [
    "### Test Accuracy"
   ]
  },
  {
   "cell_type": "code",
   "execution_count": 16,
   "id": "0e94609d",
   "metadata": {},
   "outputs": [
    {
     "data": {
      "text/plain": [
       "tensor(0.9600, device='cuda:0')"
      ]
     },
     "execution_count": 16,
     "metadata": {},
     "output_type": "execute_result"
    }
   ],
   "source": [
    "chk['best_top1_acc']"
   ]
  },
  {
   "cell_type": "code",
   "execution_count": null,
   "id": "ac1ac0db",
   "metadata": {},
   "outputs": [],
   "source": []
  }
 ],
 "metadata": {
  "kernelspec": {
   "display_name": "ml",
   "language": "python",
   "name": "ml"
  },
  "language_info": {
   "codemirror_mode": {
    "name": "ipython",
    "version": 3
   },
   "file_extension": ".py",
   "mimetype": "text/x-python",
   "name": "python",
   "nbconvert_exporter": "python",
   "pygments_lexer": "ipython3",
   "version": "3.10.5"
  }
 },
 "nbformat": 4,
 "nbformat_minor": 5
}
