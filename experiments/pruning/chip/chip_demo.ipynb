{
 "cells": [
  {
   "attachments": {},
   "cell_type": "markdown",
   "id": "ebe56f88",
   "metadata": {},
   "source": [
    "## **Chip**\n",
    "\n",
    "This notebook demonstrates the implementation of the paper - **Chip: CHannel Independence-based Pruning for Compact Neural Networks**\n",
    "\n",
    "Steps to generate feature maps, calculate channel independence and then compress it are as follows:\n",
    "\n",
    "Load/create the config file.\n",
    "Load dataset and create dataloaders.\n",
    "Load the model along with the weights.\n",
    "Create Chip object and pass the parameters in the form of a dictionary.\n",
    "Pass the dataloaders into the compress_model method to obtain the compressed model.\n",
    "Since this is a demo notebook the number of epochs have been set to 2."
   ]
  },
  {
   "cell_type": "code",
   "execution_count": 1,
   "id": "a37d5a1a",
   "metadata": {},
   "outputs": [
    {
     "name": "stderr",
     "output_type": "stream",
     "text": [
      "/opt/conda/envs/py117/lib/python3.10/site-packages/tqdm/auto.py:21: TqdmWarning: IProgress not found. Please update jupyter and ipywidgets. See https://ipywidgets.readthedocs.io/en/stable/user_install.html\n",
      "  from .autonotebook import tqdm as notebook_tqdm\n"
     ]
    }
   ],
   "source": [
    "import os\n",
    "\n",
    "os.environ[\"CUDA_DEVICE_ORDER\"] = \"PCI_BUS_ID\"\n",
    "os.environ[\"CUDA_VISIBLE_DEVICES\"] = \"1\"\n",
    "\n",
    "import sys\n",
    "\n",
    "sys.path.append(\"../../../\")\n",
    "\n",
    "import torch\n",
    "import matplotlib.pyplot as plt\n",
    "from torchvision import transforms\n",
    "from trailmet.models import ModelsFactory\n",
    "from trailmet.datasets.classification import DatasetFactory\n",
    "import yaml"
   ]
  },
  {
   "cell_type": "code",
   "execution_count": 2,
   "id": "58baf27d",
   "metadata": {},
   "outputs": [
    {
     "name": "stdout",
     "output_type": "stream",
     "text": [
      "Files already downloaded and verified\n",
      "Files already downloaded and verified\n",
      "Files already downloaded and verified\n"
     ]
    }
   ],
   "source": [
    "train_transform = transforms.Compose([transforms.ToTensor()])\n",
    "\n",
    "val_transform = transforms.Compose([transforms.ToTensor()])\n",
    "\n",
    "test_transform = transforms.Compose([transforms.ToTensor()])\n",
    "\n",
    "transforms1 = {\"train\": train_transform, \"val\": val_transform, \"test\": test_transform}\n",
    "\n",
    "\n",
    "def train_target_transform(label):\n",
    "    return label\n",
    "\n",
    "\n",
    "def val_target_transform(label):\n",
    "    return label\n",
    "\n",
    "\n",
    "def test_target_transform(label):\n",
    "    return label\n",
    "\n",
    "\n",
    "target_transforms = {\"train\": None, \"val\": None, \"test\": None}\n",
    "\n",
    "\n",
    "cifar_dataset = DatasetFactory.create_dataset(\n",
    "    name=\"CIFAR100\",\n",
    "    root=\"./\",\n",
    "    split_types=[\"train\", \"val\", \"test\"],\n",
    "    val_fraction=0.2,\n",
    "    transform=transforms1,\n",
    "    target_transform=target_transforms,\n",
    ")"
   ]
  },
  {
   "attachments": {},
   "cell_type": "markdown",
   "id": "8ec0c93e",
   "metadata": {},
   "source": [
    "## Getting the configurations."
   ]
  },
  {
   "cell_type": "code",
   "execution_count": 3,
   "id": "bca9b4da",
   "metadata": {},
   "outputs": [
    {
     "data": {
      "text/plain": [
       "{'CFG': {'batch_size': 16,\n",
       "  'arch': 'resnet_50',\n",
       "  'repeat': 5,\n",
       "  'ci_dir': './ci_resnet_50',\n",
       "  'lr_type': 'cos',\n",
       "  'learning_rate': 0.01,\n",
       "  'epochs': 2,\n",
       "  'num_layers': 53,\n",
       "  'feature_map_dir': './conv_feature_map',\n",
       "  'sparsity': '[0.]+[0.1]*3+[0.35]*16',\n",
       "  'label_smooth': 0,\n",
       "  'device': 'cuda',\n",
       "  'gpu': 1,\n",
       "  'momentum': 0.9,\n",
       "  'weight_decay': 0.005,\n",
       "  'lr_decay_step': '30,60',\n",
       "  'result_dir': './result',\n",
       "  'pretrain_dir': './pretrained_models/resnet_50.pt',\n",
       "  'conv_index': 1},\n",
       " 'wandb': True,\n",
       " 'insize': 32}"
      ]
     },
     "execution_count": 3,
     "metadata": {},
     "output_type": "execute_result"
    }
   ],
   "source": [
    "with open(\"./chip.yaml\", \"r\") as stream:\n",
    "    data_loaded = yaml.safe_load(stream)\n",
    "data_loaded"
   ]
  },
  {
   "attachments": {},
   "cell_type": "markdown",
   "id": "fff49499",
   "metadata": {},
   "source": [
    "## Creating the dataloaders"
   ]
  },
  {
   "cell_type": "code",
   "execution_count": 4,
   "id": "f390129d",
   "metadata": {},
   "outputs": [],
   "source": [
    "train_loader = torch.utils.data.DataLoader(\n",
    "    cifar_dataset[\"train\"],\n",
    "    batch_size=128,\n",
    "    sampler=cifar_dataset[\"train_sampler\"],\n",
    "    num_workers=2,\n",
    ")\n",
    "val_loader = torch.utils.data.DataLoader(\n",
    "    cifar_dataset[\"val\"],\n",
    "    batch_size=128,\n",
    "    sampler=cifar_dataset[\"val_sampler\"],\n",
    "    num_workers=2,\n",
    ")\n",
    "test_loader = torch.utils.data.DataLoader(\n",
    "    cifar_dataset[\"test\"],\n",
    "    batch_size=128,\n",
    "    sampler=cifar_dataset[\"test_sampler\"],\n",
    "    num_workers=2,\n",
    ")"
   ]
  },
  {
   "attachments": {},
   "cell_type": "markdown",
   "id": "6ee48fbe",
   "metadata": {},
   "source": [
    "## Loading the model."
   ]
  },
  {
   "cell_type": "code",
   "execution_count": 5,
   "id": "762204af",
   "metadata": {},
   "outputs": [],
   "source": [
    "model = ModelsFactory.create_model(\n",
    "    name=\"resnet50\", version=\"chip\", num_classes=100, **data_loaded[\"CFG\"]\n",
    ")"
   ]
  },
  {
   "attachments": {},
   "cell_type": "markdown",
   "id": "947b466a",
   "metadata": {},
   "source": [
    "## Creating the method's object followed by compression."
   ]
  },
  {
   "cell_type": "code",
   "execution_count": 6,
   "id": "4aaedc48",
   "metadata": {},
   "outputs": [],
   "source": [
    "from trailmet.algorithms.prune.chip import Chip"
   ]
  },
  {
   "cell_type": "code",
   "execution_count": 7,
   "id": "a883e42a",
   "metadata": {},
   "outputs": [
    {
     "name": "stderr",
     "output_type": "stream",
     "text": [
      "\u001b[34m\u001b[1mwandb\u001b[0m: Currently logged in as: \u001b[33manimesh-007\u001b[0m. Use \u001b[1m`wandb login --relogin`\u001b[0m to force relogin\n"
     ]
    },
    {
     "data": {
      "text/html": [
       "wandb version 0.15.4 is available!  To upgrade, please run:\n",
       " $ pip install wandb --upgrade"
      ],
      "text/plain": [
       "<IPython.core.display.HTML object>"
      ]
     },
     "metadata": {},
     "output_type": "display_data"
    },
    {
     "data": {
      "text/html": [
       "Tracking run with wandb version 0.14.0"
      ],
      "text/plain": [
       "<IPython.core.display.HTML object>"
      ]
     },
     "metadata": {},
     "output_type": "display_data"
    },
    {
     "data": {
      "text/html": [
       "Run data is saved locally in <code>/workspace/animesh_trailmet/experiments/pruning/chip/wandb/run-20230625_215935-2k1puohk</code>"
      ],
      "text/plain": [
       "<IPython.core.display.HTML object>"
      ]
     },
     "metadata": {},
     "output_type": "display_data"
    },
    {
     "data": {
      "text/html": [
       "Syncing run <strong><a href='https://wandb.ai/animesh-007/Trailmet%20Chip/runs/2k1puohk' target=\"_blank\">CIFAR100_2_0.01_Jun-25_21:59:33</a></strong> to <a href='https://wandb.ai/animesh-007/Trailmet%20Chip' target=\"_blank\">Weights & Biases</a> (<a href='https://wandb.me/run' target=\"_blank\">docs</a>)<br/>"
      ],
      "text/plain": [
       "<IPython.core.display.HTML object>"
      ]
     },
     "metadata": {},
     "output_type": "display_data"
    },
    {
     "data": {
      "text/html": [
       " View project at <a href='https://wandb.ai/animesh-007/Trailmet%20Chip' target=\"_blank\">https://wandb.ai/animesh-007/Trailmet%20Chip</a>"
      ],
      "text/plain": [
       "<IPython.core.display.HTML object>"
      ]
     },
     "metadata": {},
     "output_type": "display_data"
    },
    {
     "data": {
      "text/html": [
       " View run at <a href='https://wandb.ai/animesh-007/Trailmet%20Chip/runs/2k1puohk' target=\"_blank\">https://wandb.ai/animesh-007/Trailmet%20Chip/runs/2k1puohk</a>"
      ],
      "text/plain": [
       "<IPython.core.display.HTML object>"
      ]
     },
     "metadata": {},
     "output_type": "display_data"
    }
   ],
   "source": [
    "a = Chip(\n",
    "    model,\n",
    "    {\"train\": train_loader, \"val\": val_loader, \"test\": test_loader},\n",
    "    **data_loaded[\"CFG\"]\n",
    ")"
   ]
  },
  {
   "cell_type": "code",
   "execution_count": 8,
   "id": "ee028409",
   "metadata": {},
   "outputs": [
    {
     "name": "stdout",
     "output_type": "stream",
     "text": [
      "Calculating feature maps of ResNet50 for block 0\n"
     ]
    },
    {
     "name": "stderr",
     "output_type": "stream",
     "text": [
      "Block 0: 100%|██████████| 3/3 [00:09<00:00,  3.21s/it]\n"
     ]
    },
    {
     "name": "stdout",
     "output_type": "stream",
     "text": [
      "Calculating feature maps of ResNet50 for block 1\n"
     ]
    },
    {
     "name": "stderr",
     "output_type": "stream",
     "text": [
      "Block 1: 100%|██████████| 4/4 [00:09<00:00,  2.44s/it]\n"
     ]
    },
    {
     "name": "stdout",
     "output_type": "stream",
     "text": [
      "Calculating feature maps of ResNet50 for block 2\n"
     ]
    },
    {
     "name": "stderr",
     "output_type": "stream",
     "text": [
      "Block 2: 100%|██████████| 6/6 [00:13<00:00,  2.28s/it]\n"
     ]
    },
    {
     "name": "stdout",
     "output_type": "stream",
     "text": [
      "Calculating feature maps of ResNet50 for block 3\n"
     ]
    },
    {
     "name": "stderr",
     "output_type": "stream",
     "text": [
      "Block 3: 100%|██████████| 3/3 [00:06<00:00,  2.33s/it]\n"
     ]
    },
    {
     "name": "stdout",
     "output_type": "stream",
     "text": [
      "Caclulating Mean Repeat CI for layer 0\n"
     ]
    },
    {
     "name": "stderr",
     "output_type": "stream",
     "text": [
      "Repeat CI for layer 0:   0%|          | 0/5 [00:00<?, ?it/s]/workspace/animesh_trailmet/experiments/pruning/chip/../../../trailmet/algorithms/prune/chip.py:145: UserWarning: To copy construct from a tensor, it is recommended to use sourceTensor.clone().detach() or sourceTensor.clone().detach().requires_grad_(True), rather than torch.tensor(sourceTensor).\n",
      "  torch.tensor(conv_reshape[i, :, :]), p=\"nuc\"\n",
      "Repeat CI for layer 0: 100%|██████████| 5/5 [00:35<00:00,  7.10s/it]\n"
     ]
    },
    {
     "name": "stdout",
     "output_type": "stream",
     "text": [
      "Caclulating Mean Repeat CI for layer 1\n"
     ]
    },
    {
     "name": "stderr",
     "output_type": "stream",
     "text": [
      "Repeat CI for layer 1: 100%|██████████| 5/5 [00:33<00:00,  6.65s/it]\n"
     ]
    },
    {
     "name": "stdout",
     "output_type": "stream",
     "text": [
      "Caclulating Mean Repeat CI for layer 2\n"
     ]
    },
    {
     "name": "stderr",
     "output_type": "stream",
     "text": [
      "Repeat CI for layer 2: 100%|██████████| 5/5 [00:36<00:00,  7.23s/it]\n"
     ]
    },
    {
     "name": "stdout",
     "output_type": "stream",
     "text": [
      "Caclulating Mean Repeat CI for layer 3\n"
     ]
    },
    {
     "name": "stderr",
     "output_type": "stream",
     "text": [
      "Repeat CI for layer 3: 100%|██████████| 5/5 [05:40<00:00, 68.13s/it]\n"
     ]
    },
    {
     "name": "stdout",
     "output_type": "stream",
     "text": [
      "Caclulating Mean Repeat CI for layer 4\n"
     ]
    },
    {
     "name": "stderr",
     "output_type": "stream",
     "text": [
      "Repeat CI for layer 4: 100%|██████████| 5/5 [05:42<00:00, 68.46s/it]\n"
     ]
    },
    {
     "name": "stdout",
     "output_type": "stream",
     "text": [
      "Caclulating Mean Repeat CI for layer 5\n"
     ]
    },
    {
     "name": "stderr",
     "output_type": "stream",
     "text": [
      "Repeat CI for layer 5: 100%|██████████| 5/5 [00:37<00:00,  7.54s/it]\n"
     ]
    },
    {
     "name": "stdout",
     "output_type": "stream",
     "text": [
      "Caclulating Mean Repeat CI for layer 6\n"
     ]
    },
    {
     "name": "stderr",
     "output_type": "stream",
     "text": [
      "Repeat CI for layer 6: 100%|██████████| 5/5 [00:38<00:00,  7.69s/it]\n"
     ]
    },
    {
     "name": "stdout",
     "output_type": "stream",
     "text": [
      "Caclulating Mean Repeat CI for layer 7\n"
     ]
    },
    {
     "name": "stderr",
     "output_type": "stream",
     "text": [
      "Repeat CI for layer 7: 100%|██████████| 5/5 [05:39<00:00, 67.92s/it]\n"
     ]
    },
    {
     "name": "stdout",
     "output_type": "stream",
     "text": [
      "Caclulating Mean Repeat CI for layer 8\n"
     ]
    },
    {
     "name": "stderr",
     "output_type": "stream",
     "text": [
      "Repeat CI for layer 8: 100%|██████████| 5/5 [00:40<00:00,  8.02s/it]\n"
     ]
    },
    {
     "name": "stdout",
     "output_type": "stream",
     "text": [
      "Caclulating Mean Repeat CI for layer 9\n"
     ]
    },
    {
     "name": "stderr",
     "output_type": "stream",
     "text": [
      "Repeat CI for layer 9: 100%|██████████| 5/5 [00:39<00:00,  7.96s/it]\n"
     ]
    },
    {
     "name": "stdout",
     "output_type": "stream",
     "text": [
      "Caclulating Mean Repeat CI for layer 10\n"
     ]
    },
    {
     "name": "stderr",
     "output_type": "stream",
     "text": [
      "Repeat CI for layer 10: 100%|██████████| 5/5 [12:09<00:00, 145.93s/it]\n"
     ]
    },
    {
     "name": "stdout",
     "output_type": "stream",
     "text": [
      "Caclulating Mean Repeat CI for layer 11\n"
     ]
    },
    {
     "name": "stderr",
     "output_type": "stream",
     "text": [
      "Repeat CI for layer 11: 100%|██████████| 5/5 [01:39<00:00, 19.93s/it]\n"
     ]
    },
    {
     "name": "stdout",
     "output_type": "stream",
     "text": [
      "Caclulating Mean Repeat CI for layer 12\n"
     ]
    },
    {
     "name": "stderr",
     "output_type": "stream",
     "text": [
      "Repeat CI for layer 12: 100%|██████████| 5/5 [00:19<00:00,  3.89s/it]\n"
     ]
    },
    {
     "name": "stdout",
     "output_type": "stream",
     "text": [
      "Caclulating Mean Repeat CI for layer 13\n"
     ]
    },
    {
     "name": "stderr",
     "output_type": "stream",
     "text": [
      "Repeat CI for layer 13: 100%|██████████| 5/5 [01:36<00:00, 19.36s/it]\n"
     ]
    },
    {
     "name": "stdout",
     "output_type": "stream",
     "text": [
      "Caclulating Mean Repeat CI for layer 14\n"
     ]
    },
    {
     "name": "stderr",
     "output_type": "stream",
     "text": [
      "Repeat CI for layer 14: 100%|██████████| 5/5 [01:38<00:00, 19.79s/it]\n"
     ]
    },
    {
     "name": "stdout",
     "output_type": "stream",
     "text": [
      "Caclulating Mean Repeat CI for layer 15\n"
     ]
    },
    {
     "name": "stderr",
     "output_type": "stream",
     "text": [
      "Repeat CI for layer 15: 100%|██████████| 5/5 [00:21<00:00,  4.24s/it]\n"
     ]
    },
    {
     "name": "stdout",
     "output_type": "stream",
     "text": [
      "Caclulating Mean Repeat CI for layer 16\n"
     ]
    },
    {
     "name": "stderr",
     "output_type": "stream",
     "text": [
      "Repeat CI for layer 16: 100%|██████████| 5/5 [00:21<00:00,  4.27s/it]\n"
     ]
    },
    {
     "name": "stdout",
     "output_type": "stream",
     "text": [
      "Caclulating Mean Repeat CI for layer 17\n"
     ]
    },
    {
     "name": "stderr",
     "output_type": "stream",
     "text": [
      "Repeat CI for layer 17: 100%|██████████| 5/5 [02:38<00:00, 31.63s/it]\n"
     ]
    },
    {
     "name": "stdout",
     "output_type": "stream",
     "text": [
      "Caclulating Mean Repeat CI for layer 18\n"
     ]
    },
    {
     "name": "stderr",
     "output_type": "stream",
     "text": [
      "Repeat CI for layer 18: 100%|██████████| 5/5 [00:28<00:00,  5.74s/it]\n"
     ]
    },
    {
     "name": "stdout",
     "output_type": "stream",
     "text": [
      "Caclulating Mean Repeat CI for layer 19\n"
     ]
    },
    {
     "name": "stderr",
     "output_type": "stream",
     "text": [
      "Repeat CI for layer 19: 100%|██████████| 5/5 [00:26<00:00,  5.27s/it]\n"
     ]
    },
    {
     "name": "stdout",
     "output_type": "stream",
     "text": [
      "Caclulating Mean Repeat CI for layer 20\n"
     ]
    },
    {
     "name": "stderr",
     "output_type": "stream",
     "text": [
      "Repeat CI for layer 20: 100%|██████████| 5/5 [02:33<00:00, 30.76s/it]\n"
     ]
    },
    {
     "name": "stdout",
     "output_type": "stream",
     "text": [
      "Caclulating Mean Repeat CI for layer 21\n"
     ]
    },
    {
     "name": "stderr",
     "output_type": "stream",
     "text": [
      "Repeat CI for layer 21: 100%|██████████| 5/5 [00:28<00:00,  5.68s/it]\n"
     ]
    },
    {
     "name": "stdout",
     "output_type": "stream",
     "text": [
      "Caclulating Mean Repeat CI for layer 22\n"
     ]
    },
    {
     "name": "stderr",
     "output_type": "stream",
     "text": [
      "Repeat CI for layer 22: 100%|██████████| 5/5 [00:28<00:00,  5.80s/it]\n"
     ]
    },
    {
     "name": "stdout",
     "output_type": "stream",
     "text": [
      "Caclulating Mean Repeat CI for layer 23\n"
     ]
    },
    {
     "name": "stderr",
     "output_type": "stream",
     "text": [
      "Repeat CI for layer 23: 100%|██████████| 5/5 [02:24<00:00, 28.94s/it]\n"
     ]
    },
    {
     "name": "stdout",
     "output_type": "stream",
     "text": [
      "Caclulating Mean Repeat CI for layer 24\n"
     ]
    },
    {
     "name": "stderr",
     "output_type": "stream",
     "text": [
      "Repeat CI for layer 24: 100%|██████████| 5/5 [01:09<00:00, 13.91s/it]\n"
     ]
    },
    {
     "name": "stdout",
     "output_type": "stream",
     "text": [
      "Caclulating Mean Repeat CI for layer 25\n"
     ]
    },
    {
     "name": "stderr",
     "output_type": "stream",
     "text": [
      "Repeat CI for layer 25: 100%|██████████| 5/5 [00:44<00:00,  8.98s/it]\n"
     ]
    },
    {
     "name": "stdout",
     "output_type": "stream",
     "text": [
      "Caclulating Mean Repeat CI for layer 26\n"
     ]
    },
    {
     "name": "stderr",
     "output_type": "stream",
     "text": [
      "Repeat CI for layer 26: 100%|██████████| 5/5 [04:10<00:00, 50.01s/it]\n"
     ]
    },
    {
     "name": "stdout",
     "output_type": "stream",
     "text": [
      "Caclulating Mean Repeat CI for layer 27\n"
     ]
    },
    {
     "name": "stderr",
     "output_type": "stream",
     "text": [
      "Repeat CI for layer 27: 100%|██████████| 5/5 [03:25<00:00, 41.11s/it]\n"
     ]
    },
    {
     "name": "stdout",
     "output_type": "stream",
     "text": [
      "Caclulating Mean Repeat CI for layer 28\n"
     ]
    },
    {
     "name": "stderr",
     "output_type": "stream",
     "text": [
      "Repeat CI for layer 28: 100%|██████████| 5/5 [00:41<00:00,  8.33s/it]\n"
     ]
    },
    {
     "name": "stdout",
     "output_type": "stream",
     "text": [
      "Caclulating Mean Repeat CI for layer 29\n"
     ]
    },
    {
     "name": "stderr",
     "output_type": "stream",
     "text": [
      "Repeat CI for layer 29: 100%|██████████| 5/5 [00:44<00:00,  9.00s/it]\n"
     ]
    },
    {
     "name": "stdout",
     "output_type": "stream",
     "text": [
      "Caclulating Mean Repeat CI for layer 30\n"
     ]
    },
    {
     "name": "stderr",
     "output_type": "stream",
     "text": [
      "Repeat CI for layer 30: 100%|██████████| 5/5 [03:22<00:00, 40.57s/it]\n"
     ]
    },
    {
     "name": "stdout",
     "output_type": "stream",
     "text": [
      "Caclulating Mean Repeat CI for layer 31\n"
     ]
    },
    {
     "name": "stderr",
     "output_type": "stream",
     "text": [
      "Repeat CI for layer 31: 100%|██████████| 5/5 [00:38<00:00,  7.75s/it]\n"
     ]
    },
    {
     "name": "stdout",
     "output_type": "stream",
     "text": [
      "Caclulating Mean Repeat CI for layer 32\n"
     ]
    },
    {
     "name": "stderr",
     "output_type": "stream",
     "text": [
      "Repeat CI for layer 32: 100%|██████████| 5/5 [00:30<00:00,  6.18s/it]\n"
     ]
    },
    {
     "name": "stdout",
     "output_type": "stream",
     "text": [
      "Caclulating Mean Repeat CI for layer 33\n"
     ]
    },
    {
     "name": "stderr",
     "output_type": "stream",
     "text": [
      "Repeat CI for layer 33: 100%|██████████| 5/5 [02:27<00:00, 29.41s/it]\n"
     ]
    },
    {
     "name": "stdout",
     "output_type": "stream",
     "text": [
      "Caclulating Mean Repeat CI for layer 34\n"
     ]
    },
    {
     "name": "stderr",
     "output_type": "stream",
     "text": [
      "Repeat CI for layer 34: 100%|██████████| 5/5 [00:30<00:00,  6.18s/it]\n"
     ]
    },
    {
     "name": "stdout",
     "output_type": "stream",
     "text": [
      "Caclulating Mean Repeat CI for layer 35\n"
     ]
    },
    {
     "name": "stderr",
     "output_type": "stream",
     "text": [
      "Repeat CI for layer 35: 100%|██████████| 5/5 [00:31<00:00,  6.39s/it]\n"
     ]
    },
    {
     "name": "stdout",
     "output_type": "stream",
     "text": [
      "Caclulating Mean Repeat CI for layer 36\n"
     ]
    },
    {
     "name": "stderr",
     "output_type": "stream",
     "text": [
      "Repeat CI for layer 36: 100%|██████████| 5/5 [02:12<00:00, 26.59s/it]\n"
     ]
    },
    {
     "name": "stdout",
     "output_type": "stream",
     "text": [
      "Caclulating Mean Repeat CI for layer 37\n"
     ]
    },
    {
     "name": "stderr",
     "output_type": "stream",
     "text": [
      "Repeat CI for layer 37: 100%|██████████| 5/5 [00:31<00:00,  6.25s/it]\n"
     ]
    },
    {
     "name": "stdout",
     "output_type": "stream",
     "text": [
      "Caclulating Mean Repeat CI for layer 38\n"
     ]
    },
    {
     "name": "stderr",
     "output_type": "stream",
     "text": [
      "Repeat CI for layer 38:   0%|          | 0/5 [00:00<?, ?it/s]"
     ]
    }
   ],
   "source": [
    "a.compress_model()"
   ]
  },
  {
   "cell_type": "code",
   "execution_count": null,
   "id": "9202be5a",
   "metadata": {},
   "outputs": [],
   "source": []
  },
  {
   "cell_type": "code",
   "execution_count": null,
   "id": "d156d44e",
   "metadata": {},
   "outputs": [],
   "source": []
  }
 ],
 "metadata": {
  "kernelspec": {
   "display_name": "Python 3 (ipykernel)",
   "language": "python",
   "name": "python3"
  },
  "language_info": {
   "codemirror_mode": {
    "name": "ipython",
    "version": 3
   },
   "file_extension": ".py",
   "mimetype": "text/x-python",
   "name": "python",
   "nbconvert_exporter": "python",
   "pygments_lexer": "ipython3",
   "version": "3.10.9"
  }
 },
 "nbformat": 4,
 "nbformat_minor": 5
}
