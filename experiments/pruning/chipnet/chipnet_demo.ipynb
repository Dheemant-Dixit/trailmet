{
  "cells": [
    {
      "attachments": {},
      "cell_type": "markdown",
      "metadata": {
        "id": "iE3b83Z-nOMr"
      },
      "source": [
        "\n",
        "## **ChipNet**\n",
        "\n",
        "This notebook demonstrates the implementation of the paper - **ChipNet: Budget-Aware Pruning with Heaviside Continuous Approximations**\n",
        "\n",
        "Steps to train a baseline model and then compress it for a given budget are as follows: \n",
        "*   Load the YAML file.\n",
        "*   Load dataset and create dataloaders.\n",
        "*   Create ChipNet object and pass the parameters in the form of a dictionary.\n",
        "*   Pass the dataloaders into the compress_model method to obtain the compressed model.\n",
        "\n",
        "Since this is a demo notebook the number of epochs have been set to 1, 1 and 2 respectively for pretraining, pruning and finetuning respectively.\n",
        "\n"
      ]
    },
    {
      "cell_type": "code",
      "execution_count": 1,
      "metadata": {
        "id": "sawZx2AaUrSb"
      },
      "outputs": [
        {
          "name": "stderr",
          "output_type": "stream",
          "text": [
            "/opt/conda/envs/py117/lib/python3.10/site-packages/tqdm/auto.py:21: TqdmWarning: IProgress not found. Please update jupyter and ipywidgets. See https://ipywidgets.readthedocs.io/en/stable/user_install.html\n",
            "  from .autonotebook import tqdm as notebook_tqdm\n"
          ]
        }
      ],
      "source": [
        "import os\n",
        "os.environ[\"CUDA_DEVICE_ORDER\"]=\"PCI_BUS_ID\"   \n",
        "os.environ[\"CUDA_VISIBLE_DEVICES\"]=\"1\"\n",
        "\n",
        "import sys\n",
        "sys.path.append(\"../../../\")\n",
        "\n",
        "import torch\n",
        "import matplotlib.pyplot as plt\n",
        "from torchvision import transforms\n",
        "from trailmet.models import ModelsFactory\n",
        "from trailmet.datasets.classification import DatasetFactory\n",
        "import yaml"
      ]
    },
    {
      "attachments": {},
      "cell_type": "markdown",
      "metadata": {
        "id": "kumEj_KQoDa6"
      },
      "source": [
        "### Loading the yaml file for the configurations."
      ]
    },
    {
      "cell_type": "code",
      "execution_count": 2,
      "metadata": {
        "colab": {
          "base_uri": "https://localhost:8080/"
        },
        "id": "gScM1VukUyUd",
        "outputId": "532c5ad8-838e-499f-869a-10bb5a55b207"
      },
      "outputs": [
        {
          "name": "stdout",
          "output_type": "stream",
          "text": [
            "{'CHIPNET_ARGS': {'BUDGET_TYPE': 'channel_ratio', 'TARGET_BUDGET': 0.5, 'BUDGET_LOSS_WEIGHTAGE': 30, 'CRISPNESS_LOSS_WEIGHTAGE': 10, 'BETA_INCREMENT': 5, 'GAMMA_INCREMENT': 2, 'STEEPNESS': 100}, 'PRETRAIN': {'EPOCHS': 1, 'TEST_ONLY': False, 'OPTIMIZER': 'SGD', 'LR': 0.05, 'SCHEDULER_TYPE': 1, 'WEIGHT_DECAY': 0.001}, 'PRUNE': {'EPOCHS': 1, 'TEST_ONLY': False, 'OPTIMIZER': 'SGD', 'LR': 0.05, 'WEIGHT_DECAY': 0.001}, 'FINETUNE': {'EPOCHS': 2, 'TEST_ONLY': False, 'OPTIMIZER': 'SGD', 'LR': 0.05, 'SCHEDULER_TYPE': 1, 'WEIGHT_DECAY': 0.001}, 'wandb': True, 'insize': 32}\n"
          ]
        }
      ],
      "source": [
        "import os\n",
        "with open(os.path.join(\"chipnet.yaml\"), 'r') as stream:\n",
        "    data_loaded = yaml.safe_load(stream)\n",
        "print(data_loaded)"
      ]
    },
    {
      "attachments": {},
      "cell_type": "markdown",
      "metadata": {
        "id": "IA1AN-IzoK5q"
      },
      "source": [
        "### Loading the model."
      ]
    },
    {
      "cell_type": "code",
      "execution_count": 3,
      "metadata": {
        "id": "nB_iWiaeWUuZ"
      },
      "outputs": [],
      "source": [
        "model = ModelsFactory.create_model(name='resnet50', num_classes=100, pretrained=False, **data_loaded)"
      ]
    },
    {
      "attachments": {},
      "cell_type": "markdown",
      "metadata": {
        "id": "hb8NqjjFoNUh"
      },
      "source": [
        "### Loading the dataset."
      ]
    },
    {
      "cell_type": "code",
      "execution_count": 4,
      "metadata": {
        "colab": {
          "base_uri": "https://localhost:8080/"
        },
        "id": "osLzBsQeVwxw",
        "outputId": "4d32f266-58c2-41da-e698-b3eb91a2db1c"
      },
      "outputs": [
        {
          "name": "stdout",
          "output_type": "stream",
          "text": [
            "Files already downloaded and verified\n",
            "Files already downloaded and verified\n",
            "Files already downloaded and verified\n"
          ]
        }
      ],
      "source": [
        "train_transform = transforms.Compose(\n",
        "[transforms.ToTensor()])\n",
        "\n",
        "val_transform = transforms.Compose(\n",
        "[transforms.ToTensor()])\n",
        "\n",
        "test_transform = transforms.Compose(\n",
        "[transforms.ToTensor()])\n",
        "\n",
        "transforms1 = {\n",
        "    'train': train_transform, \n",
        "    'val': val_transform, \n",
        "    'test': test_transform}\n",
        "def train_target_transform(label):\n",
        "    return label\n",
        "\n",
        "def val_target_transform(label):\n",
        "    return label\n",
        "\n",
        "def test_target_transform(label):\n",
        "    return label\n",
        "\n",
        "target_transforms = {\n",
        "    'train': None, \n",
        "    'val': None, \n",
        "    'test': None}\n",
        "\n",
        "\n",
        "cifar_dataset = DatasetFactory.create_dataset(name = 'CIFAR100', \n",
        "                                        root = \"./data_dir/\",\n",
        "                                        split_types = ['train', 'val', 'test'],\n",
        "                                        val_fraction = 0.2,\n",
        "                                        transform = transforms1,\n",
        "                                        target_transform = target_transforms\n",
        ")\n"
      ]
    },
    {
      "attachments": {},
      "cell_type": "markdown",
      "metadata": {
        "id": "pYUC-GRxoTs4"
      },
      "source": [
        "### Creating the dataloaders."
      ]
    },
    {
      "cell_type": "code",
      "execution_count": 5,
      "metadata": {
        "id": "LvP7d7IYV1q_"
      },
      "outputs": [],
      "source": [
        "train_loader = torch.utils.data.DataLoader(\n",
        "        cifar_dataset['train'], batch_size=64, \n",
        "        sampler=cifar_dataset['train_sampler'],\n",
        "        num_workers=0\n",
        "    )\n",
        "val_loader = torch.utils.data.DataLoader(\n",
        "        cifar_dataset['val'], batch_size=64, \n",
        "        sampler=cifar_dataset['val_sampler'],\n",
        "        num_workers=0\n",
        "    )\n",
        "test_loader = torch.utils.data.DataLoader(\n",
        "        cifar_dataset['test'], batch_size=64, \n",
        "        sampler=cifar_dataset['test_sampler'],\n",
        "        num_workers=0\n",
        "    )"
      ]
    },
    {
      "attachments": {},
      "cell_type": "markdown",
      "metadata": {
        "id": "jxxv1kvnoZUL"
      },
      "source": [
        "### Creating the method's object followed by compression"
      ]
    },
    {
      "cell_type": "code",
      "execution_count": 6,
      "metadata": {
        "id": "7LK8Pw3lWKVA"
      },
      "outputs": [],
      "source": [
        "from trailmet.algorithms.prune.chipnet import ChipNet"
      ]
    },
    {
      "cell_type": "code",
      "execution_count": 7,
      "metadata": {
        "id": "gRxxsYSZWMpQ"
      },
      "outputs": [
        {
          "name": "stderr",
          "output_type": "stream",
          "text": [
            "Failed to detect the name of this notebook, you can set it manually with the WANDB_NOTEBOOK_NAME environment variable to enable code saving.\n",
            "\u001b[34m\u001b[1mwandb\u001b[0m: Currently logged in as: \u001b[33manimesh-007\u001b[0m. Use \u001b[1m`wandb login --relogin`\u001b[0m to force relogin\n"
          ]
        },
        {
          "data": {
            "text/html": [
              "wandb version 0.15.4 is available!  To upgrade, please run:\n",
              " $ pip install wandb --upgrade"
            ],
            "text/plain": [
              "<IPython.core.display.HTML object>"
            ]
          },
          "metadata": {},
          "output_type": "display_data"
        },
        {
          "data": {
            "text/html": [
              "Tracking run with wandb version 0.14.0"
            ],
            "text/plain": [
              "<IPython.core.display.HTML object>"
            ]
          },
          "metadata": {},
          "output_type": "display_data"
        },
        {
          "data": {
            "text/html": [
              "Run data is saved locally in <code>/workspace/animesh_trailmet/experiments/pruning/chipnet/wandb/run-20230625_220634-adh7kov4</code>"
            ],
            "text/plain": [
              "<IPython.core.display.HTML object>"
            ]
          },
          "metadata": {},
          "output_type": "display_data"
        },
        {
          "data": {
            "text/html": [
              "Syncing run <strong><a href='https://wandb.ai/animesh-007/Trailmet%20ChipNet/runs/adh7kov4' target=\"_blank\">CIFAR100_ChipNet</a></strong> to <a href='https://wandb.ai/animesh-007/Trailmet%20ChipNet' target=\"_blank\">Weights & Biases</a> (<a href='https://wandb.me/run' target=\"_blank\">docs</a>)<br/>"
            ],
            "text/plain": [
              "<IPython.core.display.HTML object>"
            ]
          },
          "metadata": {},
          "output_type": "display_data"
        },
        {
          "data": {
            "text/html": [
              " View project at <a href='https://wandb.ai/animesh-007/Trailmet%20ChipNet' target=\"_blank\">https://wandb.ai/animesh-007/Trailmet%20ChipNet</a>"
            ],
            "text/plain": [
              "<IPython.core.display.HTML object>"
            ]
          },
          "metadata": {},
          "output_type": "display_data"
        },
        {
          "data": {
            "text/html": [
              " View run at <a href='https://wandb.ai/animesh-007/Trailmet%20ChipNet/runs/adh7kov4' target=\"_blank\">https://wandb.ai/animesh-007/Trailmet%20ChipNet/runs/adh7kov4</a>"
            ],
            "text/plain": [
              "<IPython.core.display.HTML object>"
            ]
          },
          "metadata": {},
          "output_type": "display_data"
        }
      ],
      "source": [
        "a = ChipNet(model, {'train': train_loader, 'val': val_loader, 'test': test_loader}, **data_loaded)"
      ]
    },
    {
      "cell_type": "code",
      "execution_count": 8,
      "metadata": {
        "colab": {
          "base_uri": "https://localhost:8080/"
        },
        "id": "HpsqRsKgWPtj",
        "outputId": "30b2b27a-007f-4aad-f685-8eb572b4a4c3"
      },
      "outputs": [
        {
          "name": "stdout",
          "output_type": "stream",
          "text": [
            "Pretrainning the model\n"
          ]
        },
        {
          "name": "stderr",
          "output_type": "stream",
          "text": [
            "Training PRETRAIN Epoch [0] (625 / 625 Steps) (batch time=0.04972s) (data time=0.01012s) (loss=3.91660): 100%|| 625/625 [00:33<00:00, 18.79it/s]\n",
            "Validating PRETRAIN Epoch [0] (157 / 157 Steps) (batch time=0.02602s) (loss=3.73506) (top1=18.75000) (top5=43.75000): 100%|| 157/157 [00:03<00:00, 43.23it/s]\n"
          ]
        },
        {
          "name": "stdout",
          "output_type": "stream",
          "text": [
            " * acc@1 9.860 acc@5 30.950\n"
          ]
        },
        {
          "name": "stderr",
          "output_type": "stream",
          "text": [
            "Validating PRETRAIN Epoch [0] (157 / 157 Steps) (batch time=0.01580s) (loss=3.99817) (top1=6.25000) (top5=25.00000): 100%|| 157/157 [00:03<00:00, 44.03it/s] \n"
          ]
        },
        {
          "name": "stdout",
          "output_type": "stream",
          "text": [
            " * acc@1 10.090 acc@5 31.260\n",
            "Test Accuracy: 10.09000015258789 | Valid Accuracy: 9.859999656677246\n",
            "preparing model for pruning\n",
            "Starting epoch 0 / 1\n"
          ]
        },
        {
          "name": "stderr",
          "output_type": "stream",
          "text": [
            "Training PRUNE Epoch [0] (625 / 625 Steps) (batch time=0.16470s) (data time=0.01399s) (loss=4.49717): 100%|| 625/625 [01:45<00:00,  5.95it/s]\n"
          ]
        },
        {
          "name": "stdout",
          "output_type": "stream",
          "text": [
            "[1 / 1] Validation before pruning\n"
          ]
        },
        {
          "name": "stderr",
          "output_type": "stream",
          "text": [
            "Validating PRUNE Epoch [0] (157 / 157 Steps) (batch time=0.06089s) (loss=4.52407) (top1=0.00000) (top5=6.25000): 100%|| 157/157 [00:09<00:00, 16.96it/s] \n"
          ]
        },
        {
          "name": "stdout",
          "output_type": "stream",
          "text": [
            " * acc@1 4.010 acc@5 16.080\n",
            "[1 / 1] Validation after pruning\n"
          ]
        },
        {
          "name": "stderr",
          "output_type": "stream",
          "text": [
            "Validating PRUNE Epoch [0] (157 / 157 Steps) (batch time=0.04330s) (loss=1536.38904) (top1=0.00000) (top5=0.00000): 100%|| 157/157 [00:06<00:00, 22.57it/s] \n"
          ]
        },
        {
          "name": "stdout",
          "output_type": "stream",
          "text": [
            " * acc@1 1.410 acc@5 5.500\n",
            "Changed beta to 1.02 changed gamma to 2.8284271247461903\n",
            "**Saving checkpoint**\n",
            "Finetuning the model\n"
          ]
        },
        {
          "name": "stderr",
          "output_type": "stream",
          "text": [
            "Training FINETUNE Epoch [0] (625 / 625 Steps) (batch time=0.05796s) (data time=0.00922s) (loss=4.09101): 100%|| 625/625 [00:38<00:00, 16.28it/s]\n",
            "Validating FINETUNE Epoch [0] (157 / 157 Steps) (batch time=0.06656s) (loss=4.32007) (top1=0.00000) (top5=12.50000): 100%|| 157/157 [00:05<00:00, 31.06it/s] \n"
          ]
        },
        {
          "name": "stdout",
          "output_type": "stream",
          "text": [
            " * acc@1 4.450 acc@5 17.650\n"
          ]
        },
        {
          "name": "stderr",
          "output_type": "stream",
          "text": [
            "Training FINETUNE Epoch [1] (625 / 625 Steps) (batch time=0.05819s) (data time=0.00911s) (loss=4.11850): 100%|| 625/625 [00:38<00:00, 16.42it/s]\n",
            "Validating FINETUNE Epoch [1] (157 / 157 Steps) (batch time=0.02904s) (loss=4.34621) (top1=0.00000) (top5=18.75000): 100%|| 157/157 [00:04<00:00, 32.64it/s]\n"
          ]
        },
        {
          "name": "stdout",
          "output_type": "stream",
          "text": [
            " * acc@1 4.210 acc@5 18.630\n"
          ]
        },
        {
          "name": "stderr",
          "output_type": "stream",
          "text": [
            "Validating FINETUNE Epoch [1] (157 / 157 Steps) (batch time=0.02115s) (loss=4.69811) (top1=0.00000) (top5=31.25000): 100%|| 157/157 [00:04<00:00, 35.35it/s]"
          ]
        },
        {
          "name": "stdout",
          "output_type": "stream",
          "text": [
            " * acc@1 4.530 acc@5 18.000\n",
            "Test Accuracy: 4.529999732971191 | Valid Accuracy: 4.449999809265137\n"
          ]
        },
        {
          "name": "stderr",
          "output_type": "stream",
          "text": [
            "\n"
          ]
        }
      ],
      "source": [
        "a.compress_model()"
      ]
    }
  ],
  "metadata": {
    "accelerator": "GPU",
    "colab": {
      "authorship_tag": "ABX9TyNNYHtfi466iTgScQQ0I9MP",
      "provenance": []
    },
    "gpuClass": "standard",
    "kernelspec": {
      "display_name": "Python 3",
      "name": "python3"
    },
    "language_info": {
      "codemirror_mode": {
        "name": "ipython",
        "version": 3
      },
      "file_extension": ".py",
      "mimetype": "text/x-python",
      "name": "python",
      "nbconvert_exporter": "python",
      "pygments_lexer": "ipython3",
      "version": "3.10.9"
    }
  },
  "nbformat": 4,
  "nbformat_minor": 0
}
