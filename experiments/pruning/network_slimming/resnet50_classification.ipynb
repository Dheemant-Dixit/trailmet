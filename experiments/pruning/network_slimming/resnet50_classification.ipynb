{
 "cells": [
  {
   "cell_type": "markdown",
   "metadata": {},
   "source": [
    "<h1>Network Slimming</h1>\n",
    "This notebook demonstrates the implementation of this paper <a href=https://arxiv.org/abs/1708.06519> Learning Efficient Convolutional Networks through Network Slimming</a>\n",
    "<h4>Steps to train a baseline model and then compress it given a channel budget are as follows:</h4>\n",
    "<ul>\n",
    "    <li>Load the YAML file. </li>\n",
    "    <li>Load dataset and create dataloaders. </li>\n",
    "    <li>Create <b>Network_Slimming</b> object and pass the parameters in the form of a dictionary. </li>\n",
    "    <li>Pass the dataloaders into the <b>compress_model</b> method to obtain the compressed model. </li>\n",
    "</ul>\n",
    "Since this is a demo notebook the number of epochs have been set to 2."
   ]
  },
  {
   "cell_type": "code",
   "execution_count": 1,
   "metadata": {},
   "outputs": [],
   "source": [
    "import sys\n",
    "import os\n",
    "sys.path.append(\"../../\")\n",
    "os.environ['CUDA_VISIBLE_DEVICES']='1'\n",
    "\n",
    "import torch\n",
    "from torchvision import transforms\n",
    "\n",
    "import yaml\n",
    "\n",
    "from trailmet.datasets.classification import DatasetFactory\n",
    "from trailmet.algorithms.prune.network_slimming import Network_Slimming"
   ]
  },
  {
   "cell_type": "code",
   "execution_count": 2,
   "metadata": {
    "scrolled": true
   },
   "outputs": [
    {
     "name": "stdout",
     "output_type": "stream",
     "text": [
      "/workspace/code/Nahush26/trail/trailmet/experiments/network_slimming\r\n"
     ]
    }
   ],
   "source": [
    "!pwd\n",
    "root = \"/workspace/code/Nahush26/trail/trailmet/algorithms/network_slimming\""
   ]
  },
  {
   "cell_type": "markdown",
   "metadata": {},
   "source": [
    "<h3> Loading the YAML file. </h3>"
   ]
  },
  {
   "cell_type": "code",
   "execution_count": 4,
   "metadata": {},
   "outputs": [
    {
     "data": {
      "text/plain": [
       "{'num_classes': 100,\n",
       " 'weight_decay': 0.0005,\n",
       " 'net': 'resnet50',\n",
       " 'dataset': 'c100',\n",
       " 'epochs': 2,\n",
       " 's': 0.003,\n",
       " 'learning_rate': 0.002,\n",
       " 'fine_tune_epochs': 2,\n",
       " 'fine_tune_lr': 0.0004,\n",
       " 'prune_ratio': 0.5,\n",
       " 'schema_root': '/workspace/code/Nahush26/trail/trailmet/experiments/network_slimming'}"
      ]
     },
     "execution_count": 4,
     "metadata": {},
     "output_type": "execute_result"
    }
   ],
   "source": [
    "with open(os.path.join(root, \"resnet50_cifar100.yaml\"), 'r') as stream:\n",
    "    data_loaded = yaml.safe_load(stream)\n",
    "data_loaded['schema_root'] = root\n",
    "data_loaded"
   ]
  },
  {
   "cell_type": "markdown",
   "metadata": {},
   "source": [
    "<h3>Loading CIFAR100Dataset</h3>"
   ]
  },
  {
   "cell_type": "code",
   "execution_count": 5,
   "metadata": {},
   "outputs": [
    {
     "name": "stdout",
     "output_type": "stream",
     "text": [
      "Files already downloaded and verified\n",
      "Files already downloaded and verified\n",
      "Files already downloaded and verified\n"
     ]
    }
   ],
   "source": [
    "transform_train = transforms.Compose(\n",
    "                [\n",
    "                    transforms.ToTensor(),\n",
    "                    transforms.Pad(4, padding_mode='reflect'),\n",
    "                    transforms.RandomHorizontalFlip(p=0.5),\n",
    "                    transforms.RandomCrop(32),\n",
    "                    transforms.Normalize((0.4914, 0.4822, 0.4465), (0.247, 0.243, 0.261))\n",
    "                ]\n",
    "            )\n",
    "\n",
    "transform_test = transforms.Compose(\n",
    "                [\n",
    "                    transforms.ToTensor(),\n",
    "                    transforms.Normalize((0.4914, 0.4822, 0.4465), (0.247, 0.243, 0.261))\n",
    "                ]\n",
    "            )\n",
    "\n",
    "transforms1 = {\n",
    "    'train': transform_train, \n",
    "    'val': transform_test, \n",
    "    'test': transform_test}\n",
    "\n",
    "target_transforms = {\n",
    "    'train': None, \n",
    "    'val': None, \n",
    "    'test': None}\n",
    "\n",
    "cifar_dataset = DatasetFactory.create_dataset(name = 'CIFAR100', \n",
    "                                        root = \"./data\",\n",
    "                                        split_types = ['train', 'val', 'test'],\n",
    "                                        val_fraction = 0.1,\n",
    "                                        transform = transforms1,\n",
    "                                        target_transform = target_transforms,\n",
    "                                        random_seed=42\n",
    "                                        )"
   ]
  },
  {
   "cell_type": "markdown",
   "metadata": {},
   "source": [
    "<h5>Creating the dataloaders</h5>"
   ]
  },
  {
   "cell_type": "code",
   "execution_count": 6,
   "metadata": {},
   "outputs": [],
   "source": [
    "dataloaders = { 'train' : torch.utils.data.DataLoader(\n",
    "        cifar_dataset['train'], batch_size=64, \n",
    "        sampler=cifar_dataset['train_sampler'],\n",
    "        num_workers=0\n",
    "    ),\n",
    "               'val':  torch.utils.data.DataLoader(\n",
    "        cifar_dataset['val'], batch_size=64, \n",
    "        sampler=cifar_dataset['val_sampler'],\n",
    "        num_workers=0\n",
    "    ),  \n",
    "               'test':  torch.utils.data.DataLoader(\n",
    "        cifar_dataset['test'], batch_size=64, \n",
    "        sampler=cifar_dataset['test_sampler'],\n",
    "        num_workers=0\n",
    "    )}"
   ]
  },
  {
   "cell_type": "markdown",
   "metadata": {},
   "source": [
    "<h3> Creating the method's object proceed with compression. </h3>"
   ]
  },
  {
   "cell_type": "code",
   "execution_count": 7,
   "metadata": {},
   "outputs": [],
   "source": [
    "slim = Network_Slimming(**data_loaded)"
   ]
  },
  {
   "cell_type": "code",
   "execution_count": 9,
   "metadata": {},
   "outputs": [
    {
     "name": "stdout",
     "output_type": "stream",
     "text": [
      "EPOCH NUMBER  0\n"
     ]
    },
    {
     "name": "stderr",
     "output_type": "stream",
     "text": [
      "100%|██████████████████████████████████████████████████████████████████████| 704/704 [03:12<00:00,  3.65it/s, loss=4.66]\n",
      "100%|████████████████████████████████████████████████████████████| 79/79 [00:07<00:00, 10.13it/s, acc=0.0144, loss=4.58]\n"
     ]
    },
    {
     "name": "stdout",
     "output_type": "stream",
     "text": [
      "**Saving model**\n",
      "EPOCH NUMBER  1\n"
     ]
    },
    {
     "name": "stderr",
     "output_type": "stream",
     "text": [
      "100%|██████████████████████████████████████████████████████████████████████| 704/704 [03:12<00:00,  3.65it/s, loss=4.57]\n",
      "100%|████████████████████████████████████████████████████████████| 79/79 [00:07<00:00, 10.18it/s, acc=0.0172, loss=4.54]\n"
     ]
    },
    {
     "name": "stdout",
     "output_type": "stream",
     "text": [
      "**Saving model**\n",
      "============shortcuts [0]===========\n",
      "model.layer1.0.bn3: 121\n",
      "model.layer1.0.downsample.1: 126\n",
      "model.layer1.1.bn3: 140\n",
      "model.layer1.2.bn3: 130\n",
      "merged indexes length: 251\n",
      "============shortcuts [1]===========\n",
      "model.layer2.0.bn3: 259\n",
      "model.layer2.0.downsample.1: 263\n",
      "model.layer2.1.bn3: 254\n",
      "model.layer2.2.bn3: 245\n",
      "model.layer2.3.bn3: 267\n",
      "merged indexes length: 503\n",
      "============shortcuts [2]===========\n",
      "model.layer3.0.bn3: 520\n",
      "model.layer3.0.downsample.1: 525\n",
      "model.layer3.1.bn3: 529\n",
      "model.layer3.2.bn3: 545\n",
      "model.layer3.3.bn3: 547\n",
      "model.layer3.4.bn3: 558\n",
      "model.layer3.5.bn3: 581\n",
      "merged indexes length: 1013\n",
      "============shortcuts [3]===========\n",
      "model.layer4.0.bn3: 982\n",
      "model.layer4.0.downsample.1: 982\n",
      "model.layer4.1.bn3: 946\n",
      "model.layer4.2.bn3: 979\n",
      "merged indexes length: 1581\n",
      "\n",
      "BatchNorm2d prune info\n",
      "|    | name                        | channels   | prune percent   |\n",
      "|---:|:----------------------------|:-----------|:----------------|\n",
      "|  0 | model.bn1                   | 29/64      | 54.69%          |\n",
      "|  1 | model.layer1.0.bn1          | 34/64      | 46.88%          |\n",
      "|  2 | model.layer1.0.bn2          | 30/64      | 53.12%          |\n",
      "|  3 | model.layer1.0.bn3          | 251/256    | 1.95%           |\n",
      "|  4 | model.layer1.0.downsample.1 | 251/256    | 1.95%           |\n",
      "|  5 | model.layer1.1.bn1          | 33/64      | 48.44%          |\n",
      "|  6 | model.layer1.1.bn2          | 34/64      | 46.88%          |\n",
      "|  7 | model.layer1.1.bn3          | 251/256    | 1.95%           |\n",
      "|  8 | model.layer1.2.bn1          | 34/64      | 46.88%          |\n",
      "|  9 | model.layer1.2.bn2          | 33/64      | 48.44%          |\n",
      "| 10 | model.layer1.2.bn3          | 251/256    | 1.95%           |\n",
      "| 11 | model.layer2.0.bn1          | 63/128     | 50.78%          |\n",
      "| 12 | model.layer2.0.bn2          | 65/128     | 49.22%          |\n",
      "| 13 | model.layer2.0.bn3          | 503/512    | 1.76%           |\n",
      "| 14 | model.layer2.0.downsample.1 | 503/512    | 1.76%           |\n",
      "| 15 | model.layer2.1.bn1          | 67/128     | 47.66%          |\n",
      "| 16 | model.layer2.1.bn2          | 57/128     | 55.47%          |\n",
      "| 17 | model.layer2.1.bn3          | 503/512    | 1.76%           |\n",
      "| 18 | model.layer2.2.bn1          | 65/128     | 49.22%          |\n",
      "| 19 | model.layer2.2.bn2          | 69/128     | 46.09%          |\n",
      "| 20 | model.layer2.2.bn3          | 503/512    | 1.76%           |\n",
      "| 21 | model.layer2.3.bn1          | 63/128     | 50.78%          |\n",
      "| 22 | model.layer2.3.bn2          | 63/128     | 50.78%          |\n",
      "| 23 | model.layer2.3.bn3          | 503/512    | 1.76%           |\n",
      "| 24 | model.layer3.0.bn1          | 123/256    | 51.95%          |\n",
      "| 25 | model.layer3.0.bn2          | 136/256    | 46.88%          |\n",
      "| 26 | model.layer3.0.bn3          | 1013/1024  | 1.07%           |\n",
      "| 27 | model.layer3.0.downsample.1 | 1013/1024  | 1.07%           |\n",
      "| 28 | model.layer3.1.bn1          | 126/256    | 50.78%          |\n",
      "| 29 | model.layer3.1.bn2          | 126/256    | 50.78%          |\n",
      "| 30 | model.layer3.1.bn3          | 1013/1024  | 1.07%           |\n",
      "| 31 | model.layer3.2.bn1          | 133/256    | 48.05%          |\n",
      "| 32 | model.layer3.2.bn2          | 139/256    | 45.70%          |\n",
      "| 33 | model.layer3.2.bn3          | 1013/1024  | 1.07%           |\n",
      "| 34 | model.layer3.3.bn1          | 136/256    | 46.88%          |\n",
      "| 35 | model.layer3.3.bn2          | 119/256    | 53.52%          |\n",
      "| 36 | model.layer3.3.bn3          | 1013/1024  | 1.07%           |\n",
      "| 37 | model.layer3.4.bn1          | 124/256    | 51.56%          |\n",
      "| 38 | model.layer3.4.bn2          | 127/256    | 50.39%          |\n",
      "| 39 | model.layer3.4.bn3          | 1013/1024  | 1.07%           |\n",
      "| 40 | model.layer3.5.bn1          | 130/256    | 49.22%          |\n",
      "| 41 | model.layer3.5.bn2          | 122/256    | 52.34%          |\n",
      "| 42 | model.layer3.5.bn3          | 1013/1024  | 1.07%           |\n",
      "| 43 | model.layer4.0.bn1          | 242/512    | 52.73%          |\n",
      "| 44 | model.layer4.0.bn2          | 253/512    | 50.59%          |\n",
      "| 45 | model.layer4.0.bn3          | 1581/2048  | 22.80%          |\n",
      "| 46 | model.layer4.0.downsample.1 | 1581/2048  | 22.80%          |\n",
      "| 47 | model.layer4.1.bn1          | 255/512    | 50.20%          |\n",
      "| 48 | model.layer4.1.bn2          | 245/512    | 52.15%          |\n",
      "| 49 | model.layer4.1.bn3          | 1581/2048  | 22.80%          |\n",
      "| 50 | model.layer4.2.bn1          | 240/512    | 53.12%          |\n",
      "| 51 | model.layer4.2.bn2          | 221/512    | 56.84%          |\n",
      "| 52 | model.layer4.2.bn3          | 1581/2048  | 22.80%          |\n",
      "\n",
      "\n",
      "Conv2d prune info\n",
      "|    | name                        | weight shape    | pruned weight shape   | prune percent   |\n",
      "|---:|:----------------------------|:----------------|:----------------------|:----------------|\n",
      "|  0 | model.conv1                 | [3,64] g=1      | [3,29] g=1            | 54.69%          |\n",
      "|  1 | model.layer1.0.conv1        | [64,64] g=1     | [29,34] g=1           | 75.93%          |\n",
      "|  2 | model.layer1.0.conv2        | [64,64] g=1     | [34,30] g=1           | 75.10%          |\n",
      "|  3 | model.layer1.0.conv3        | [64,256] g=1    | [30,251] g=1          | 54.04%          |\n",
      "|  4 | model.layer1.0.downsample.0 | [64,256] g=1    | [29,251] g=1          | 55.57%          |\n",
      "|  5 | model.layer1.1.conv1        | [256,64] g=1    | [251,33] g=1          | 49.44%          |\n",
      "|  6 | model.layer1.1.conv2        | [64,64] g=1     | [33,34] g=1           | 72.61%          |\n",
      "|  7 | model.layer1.1.conv3        | [64,256] g=1    | [34,251] g=1          | 47.91%          |\n",
      "|  8 | model.layer1.2.conv1        | [256,64] g=1    | [251,34] g=1          | 47.91%          |\n",
      "|  9 | model.layer1.2.conv2        | [64,64] g=1     | [34,33] g=1           | 72.61%          |\n",
      "| 10 | model.layer1.2.conv3        | [64,256] g=1    | [33,251] g=1          | 49.44%          |\n",
      "| 11 | model.layer2.0.conv1        | [256,128] g=1   | [251,63] g=1          | 51.74%          |\n",
      "| 12 | model.layer2.0.conv2        | [128,128] g=1   | [63,65] g=1           | 75.01%          |\n",
      "| 13 | model.layer2.0.conv3        | [128,512] g=1   | [65,503] g=1          | 50.11%          |\n",
      "| 14 | model.layer2.0.downsample.0 | [256,512] g=1   | [251,503] g=1         | 3.68%           |\n",
      "| 15 | model.layer2.1.conv1        | [512,128] g=1   | [503,67] g=1          | 48.58%          |\n",
      "| 16 | model.layer2.1.conv2        | [128,128] g=1   | [67,57] g=1           | 76.69%          |\n",
      "| 17 | model.layer2.1.conv3        | [128,512] g=1   | [57,503] g=1          | 56.25%          |\n",
      "| 18 | model.layer2.2.conv1        | [512,128] g=1   | [503,65] g=1          | 50.11%          |\n",
      "| 19 | model.layer2.2.conv2        | [128,128] g=1   | [65,69] g=1           | 72.63%          |\n",
      "| 20 | model.layer2.2.conv3        | [128,512] g=1   | [69,503] g=1          | 47.04%          |\n",
      "| 21 | model.layer2.3.conv1        | [512,128] g=1   | [503,63] g=1          | 51.65%          |\n",
      "| 22 | model.layer2.3.conv2        | [128,128] g=1   | [63,63] g=1           | 75.78%          |\n",
      "| 23 | model.layer2.3.conv3        | [128,512] g=1   | [63,503] g=1          | 51.65%          |\n",
      "| 24 | model.layer3.0.conv1        | [512,256] g=1   | [503,123] g=1         | 52.80%          |\n",
      "| 25 | model.layer3.0.conv2        | [256,256] g=1   | [123,136] g=1         | 74.48%          |\n",
      "| 26 | model.layer3.0.conv3        | [256,1024] g=1  | [136,1013] g=1        | 47.45%          |\n",
      "| 27 | model.layer3.0.downsample.0 | [512,1024] g=1  | [503,1013] g=1        | 2.81%           |\n",
      "| 28 | model.layer3.1.conv1        | [1024,256] g=1  | [1013,126] g=1        | 51.31%          |\n",
      "| 29 | model.layer3.1.conv2        | [256,256] g=1   | [126,126] g=1         | 75.78%          |\n",
      "| 30 | model.layer3.1.conv3        | [256,1024] g=1  | [126,1013] g=1        | 51.31%          |\n",
      "| 31 | model.layer3.2.conv1        | [1024,256] g=1  | [1013,133] g=1        | 48.60%          |\n",
      "| 32 | model.layer3.2.conv2        | [256,256] g=1   | [133,139] g=1         | 71.79%          |\n",
      "| 33 | model.layer3.2.conv3        | [256,1024] g=1  | [139,1013] g=1        | 46.29%          |\n",
      "| 34 | model.layer3.3.conv1        | [1024,256] g=1  | [1013,136] g=1        | 47.45%          |\n",
      "| 35 | model.layer3.3.conv2        | [256,256] g=1   | [136,119] g=1         | 75.31%          |\n",
      "| 36 | model.layer3.3.conv3        | [256,1024] g=1  | [119,1013] g=1        | 54.01%          |\n",
      "| 37 | model.layer3.4.conv1        | [1024,256] g=1  | [1013,124] g=1        | 52.08%          |\n",
      "| 38 | model.layer3.4.conv2        | [256,256] g=1   | [124,127] g=1         | 75.97%          |\n",
      "| 39 | model.layer3.4.conv3        | [256,1024] g=1  | [127,1013] g=1        | 50.92%          |\n",
      "| 40 | model.layer3.5.conv1        | [1024,256] g=1  | [1013,130] g=1        | 49.76%          |\n",
      "| 41 | model.layer3.5.conv2        | [256,256] g=1   | [130,122] g=1         | 75.80%          |\n",
      "| 42 | model.layer3.5.conv3        | [256,1024] g=1  | [122,1013] g=1        | 52.86%          |\n",
      "| 43 | model.layer4.0.conv1        | [1024,512] g=1  | [1013,242] g=1        | 53.24%          |\n",
      "| 44 | model.layer4.0.conv2        | [512,512] g=1   | [242,253] g=1         | 76.64%          |\n",
      "| 45 | model.layer4.0.conv3        | [512,2048] g=1  | [253,1581] g=1        | 61.85%          |\n",
      "| 46 | model.layer4.0.downsample.0 | [1024,2048] g=1 | [1013,1581] g=1       | 23.63%          |\n",
      "| 47 | model.layer4.1.conv1        | [2048,512] g=1  | [1581,255] g=1        | 61.55%          |\n",
      "| 48 | model.layer4.1.conv2        | [512,512] g=1   | [255,245] g=1         | 76.17%          |\n",
      "| 49 | model.layer4.1.conv3        | [512,2048] g=1  | [245,1581] g=1        | 63.06%          |\n",
      "| 50 | model.layer4.2.conv1        | [2048,512] g=1  | [1581,240] g=1        | 63.81%          |\n",
      "| 51 | model.layer4.2.conv2        | [512,512] g=1   | [240,221] g=1         | 79.77%          |\n",
      "| 52 | model.layer4.2.conv3        | [512,2048] g=1  | [221,1581] g=1        | 66.68%          |\n",
      "\n",
      "\n",
      "Conv2d after cat prune info\n",
      "\n",
      "\n",
      "\n",
      "Linear prune info\n",
      "|    | name     | in_features   |   prune percent |\n",
      "|---:|:---------|:--------------|----------------:|\n",
      "|  0 | model.fc | 1581/2048     |            22.8 |\n",
      "\n",
      "|     | name                        | module                                                                            |\n",
      "|----:|:----------------------------|:----------------------------------------------------------------------------------|\n",
      "|   0 | model.conv1                 | Conv2d(3, 29, kernel_size=(3, 3), stride=(1, 1), padding=(1, 1), bias=False)      |\n",
      "|   1 | model.bn1                   | BatchNorm2d(29, eps=1e-05, momentum=0.1, affine=True, track_running_stats=True)   |\n",
      "|   2 | model.layer1.0.conv1        | Conv2d(29, 34, kernel_size=(1, 1), stride=(1, 1), bias=False)                     |\n",
      "|   3 | model.layer1.0.bn1          | BatchNorm2d(34, eps=1e-05, momentum=0.1, affine=True, track_running_stats=True)   |\n",
      "|   4 | model.layer1.0.conv2        | Conv2d(34, 30, kernel_size=(3, 3), stride=(1, 1), padding=(1, 1), bias=False)     |\n",
      "|   5 | model.layer1.0.bn2          | BatchNorm2d(30, eps=1e-05, momentum=0.1, affine=True, track_running_stats=True)   |\n",
      "|   6 | model.layer1.0.conv3        | Conv2d(30, 251, kernel_size=(1, 1), stride=(1, 1), bias=False)                    |\n",
      "|   7 | model.layer1.0.bn3          | BatchNorm2d(251, eps=1e-05, momentum=0.1, affine=True, track_running_stats=True)  |\n",
      "|   8 | model.layer1.0.downsample.0 | Conv2d(29, 251, kernel_size=(1, 1), stride=(1, 1), bias=False)                    |\n",
      "|   9 | model.layer1.0.downsample.1 | BatchNorm2d(251, eps=1e-05, momentum=0.1, affine=True, track_running_stats=True)  |\n",
      "|  10 | model.layer1.1.conv1        | Conv2d(251, 33, kernel_size=(1, 1), stride=(1, 1), bias=False)                    |\n",
      "|  11 | model.layer1.1.bn1          | BatchNorm2d(33, eps=1e-05, momentum=0.1, affine=True, track_running_stats=True)   |\n",
      "|  12 | model.layer1.1.conv2        | Conv2d(33, 34, kernel_size=(3, 3), stride=(1, 1), padding=(1, 1), bias=False)     |\n",
      "|  13 | model.layer1.1.bn2          | BatchNorm2d(34, eps=1e-05, momentum=0.1, affine=True, track_running_stats=True)   |\n",
      "|  14 | model.layer1.1.conv3        | Conv2d(34, 251, kernel_size=(1, 1), stride=(1, 1), bias=False)                    |\n",
      "|  15 | model.layer1.1.bn3          | BatchNorm2d(251, eps=1e-05, momentum=0.1, affine=True, track_running_stats=True)  |\n",
      "|  16 | model.layer1.2.conv1        | Conv2d(251, 34, kernel_size=(1, 1), stride=(1, 1), bias=False)                    |\n",
      "|  17 | model.layer1.2.bn1          | BatchNorm2d(34, eps=1e-05, momentum=0.1, affine=True, track_running_stats=True)   |\n",
      "|  18 | model.layer1.2.conv2        | Conv2d(34, 33, kernel_size=(3, 3), stride=(1, 1), padding=(1, 1), bias=False)     |\n",
      "|  19 | model.layer1.2.bn2          | BatchNorm2d(33, eps=1e-05, momentum=0.1, affine=True, track_running_stats=True)   |\n",
      "|  20 | model.layer1.2.conv3        | Conv2d(33, 251, kernel_size=(1, 1), stride=(1, 1), bias=False)                    |\n",
      "|  21 | model.layer1.2.bn3          | BatchNorm2d(251, eps=1e-05, momentum=0.1, affine=True, track_running_stats=True)  |\n",
      "|  22 | model.layer2.0.conv1        | Conv2d(251, 63, kernel_size=(1, 1), stride=(1, 1), bias=False)                    |\n",
      "|  23 | model.layer2.0.bn1          | BatchNorm2d(63, eps=1e-05, momentum=0.1, affine=True, track_running_stats=True)   |\n",
      "|  24 | model.layer2.0.conv2        | Conv2d(63, 65, kernel_size=(3, 3), stride=(2, 2), padding=(1, 1), bias=False)     |\n",
      "|  25 | model.layer2.0.bn2          | BatchNorm2d(65, eps=1e-05, momentum=0.1, affine=True, track_running_stats=True)   |\n",
      "|  26 | model.layer2.0.conv3        | Conv2d(65, 503, kernel_size=(1, 1), stride=(1, 1), bias=False)                    |\n",
      "|  27 | model.layer2.0.bn3          | BatchNorm2d(503, eps=1e-05, momentum=0.1, affine=True, track_running_stats=True)  |\n",
      "|  28 | model.layer2.0.downsample.0 | Conv2d(251, 503, kernel_size=(1, 1), stride=(2, 2), bias=False)                   |\n",
      "|  29 | model.layer2.0.downsample.1 | BatchNorm2d(503, eps=1e-05, momentum=0.1, affine=True, track_running_stats=True)  |\n",
      "|  30 | model.layer2.1.conv1        | Conv2d(503, 67, kernel_size=(1, 1), stride=(1, 1), bias=False)                    |\n",
      "|  31 | model.layer2.1.bn1          | BatchNorm2d(67, eps=1e-05, momentum=0.1, affine=True, track_running_stats=True)   |\n",
      "|  32 | model.layer2.1.conv2        | Conv2d(67, 57, kernel_size=(3, 3), stride=(1, 1), padding=(1, 1), bias=False)     |\n",
      "|  33 | model.layer2.1.bn2          | BatchNorm2d(57, eps=1e-05, momentum=0.1, affine=True, track_running_stats=True)   |\n",
      "|  34 | model.layer2.1.conv3        | Conv2d(57, 503, kernel_size=(1, 1), stride=(1, 1), bias=False)                    |\n",
      "|  35 | model.layer2.1.bn3          | BatchNorm2d(503, eps=1e-05, momentum=0.1, affine=True, track_running_stats=True)  |\n",
      "|  36 | model.layer2.2.conv1        | Conv2d(503, 65, kernel_size=(1, 1), stride=(1, 1), bias=False)                    |\n",
      "|  37 | model.layer2.2.bn1          | BatchNorm2d(65, eps=1e-05, momentum=0.1, affine=True, track_running_stats=True)   |\n",
      "|  38 | model.layer2.2.conv2        | Conv2d(65, 69, kernel_size=(3, 3), stride=(1, 1), padding=(1, 1), bias=False)     |\n",
      "|  39 | model.layer2.2.bn2          | BatchNorm2d(69, eps=1e-05, momentum=0.1, affine=True, track_running_stats=True)   |\n",
      "|  40 | model.layer2.2.conv3        | Conv2d(69, 503, kernel_size=(1, 1), stride=(1, 1), bias=False)                    |\n",
      "|  41 | model.layer2.2.bn3          | BatchNorm2d(503, eps=1e-05, momentum=0.1, affine=True, track_running_stats=True)  |\n",
      "|  42 | model.layer2.3.conv1        | Conv2d(503, 63, kernel_size=(1, 1), stride=(1, 1), bias=False)                    |\n",
      "|  43 | model.layer2.3.bn1          | BatchNorm2d(63, eps=1e-05, momentum=0.1, affine=True, track_running_stats=True)   |\n",
      "|  44 | model.layer2.3.conv2        | Conv2d(63, 63, kernel_size=(3, 3), stride=(1, 1), padding=(1, 1), bias=False)     |\n",
      "|  45 | model.layer2.3.bn2          | BatchNorm2d(63, eps=1e-05, momentum=0.1, affine=True, track_running_stats=True)   |\n",
      "|  46 | model.layer2.3.conv3        | Conv2d(63, 503, kernel_size=(1, 1), stride=(1, 1), bias=False)                    |\n",
      "|  47 | model.layer2.3.bn3          | BatchNorm2d(503, eps=1e-05, momentum=0.1, affine=True, track_running_stats=True)  |\n",
      "|  48 | model.layer3.0.conv1        | Conv2d(503, 123, kernel_size=(1, 1), stride=(1, 1), bias=False)                   |\n",
      "|  49 | model.layer3.0.bn1          | BatchNorm2d(123, eps=1e-05, momentum=0.1, affine=True, track_running_stats=True)  |\n",
      "|  50 | model.layer3.0.conv2        | Conv2d(123, 136, kernel_size=(3, 3), stride=(2, 2), padding=(1, 1), bias=False)   |\n",
      "|  51 | model.layer3.0.bn2          | BatchNorm2d(136, eps=1e-05, momentum=0.1, affine=True, track_running_stats=True)  |\n",
      "|  52 | model.layer3.0.conv3        | Conv2d(136, 1013, kernel_size=(1, 1), stride=(1, 1), bias=False)                  |\n",
      "|  53 | model.layer3.0.bn3          | BatchNorm2d(1013, eps=1e-05, momentum=0.1, affine=True, track_running_stats=True) |\n",
      "|  54 | model.layer3.0.downsample.0 | Conv2d(503, 1013, kernel_size=(1, 1), stride=(2, 2), bias=False)                  |\n",
      "|  55 | model.layer3.0.downsample.1 | BatchNorm2d(1013, eps=1e-05, momentum=0.1, affine=True, track_running_stats=True) |\n",
      "|  56 | model.layer3.1.conv1        | Conv2d(1013, 126, kernel_size=(1, 1), stride=(1, 1), bias=False)                  |\n",
      "|  57 | model.layer3.1.bn1          | BatchNorm2d(126, eps=1e-05, momentum=0.1, affine=True, track_running_stats=True)  |\n",
      "|  58 | model.layer3.1.conv2        | Conv2d(126, 126, kernel_size=(3, 3), stride=(1, 1), padding=(1, 1), bias=False)   |\n",
      "|  59 | model.layer3.1.bn2          | BatchNorm2d(126, eps=1e-05, momentum=0.1, affine=True, track_running_stats=True)  |\n",
      "|  60 | model.layer3.1.conv3        | Conv2d(126, 1013, kernel_size=(1, 1), stride=(1, 1), bias=False)                  |\n",
      "|  61 | model.layer3.1.bn3          | BatchNorm2d(1013, eps=1e-05, momentum=0.1, affine=True, track_running_stats=True) |\n",
      "|  62 | model.layer3.2.conv1        | Conv2d(1013, 133, kernel_size=(1, 1), stride=(1, 1), bias=False)                  |\n",
      "|  63 | model.layer3.2.bn1          | BatchNorm2d(133, eps=1e-05, momentum=0.1, affine=True, track_running_stats=True)  |\n",
      "|  64 | model.layer3.2.conv2        | Conv2d(133, 139, kernel_size=(3, 3), stride=(1, 1), padding=(1, 1), bias=False)   |\n",
      "|  65 | model.layer3.2.bn2          | BatchNorm2d(139, eps=1e-05, momentum=0.1, affine=True, track_running_stats=True)  |\n",
      "|  66 | model.layer3.2.conv3        | Conv2d(139, 1013, kernel_size=(1, 1), stride=(1, 1), bias=False)                  |\n",
      "|  67 | model.layer3.2.bn3          | BatchNorm2d(1013, eps=1e-05, momentum=0.1, affine=True, track_running_stats=True) |\n",
      "|  68 | model.layer3.3.conv1        | Conv2d(1013, 136, kernel_size=(1, 1), stride=(1, 1), bias=False)                  |\n",
      "|  69 | model.layer3.3.bn1          | BatchNorm2d(136, eps=1e-05, momentum=0.1, affine=True, track_running_stats=True)  |\n",
      "|  70 | model.layer3.3.conv2        | Conv2d(136, 119, kernel_size=(3, 3), stride=(1, 1), padding=(1, 1), bias=False)   |\n",
      "|  71 | model.layer3.3.bn2          | BatchNorm2d(119, eps=1e-05, momentum=0.1, affine=True, track_running_stats=True)  |\n",
      "|  72 | model.layer3.3.conv3        | Conv2d(119, 1013, kernel_size=(1, 1), stride=(1, 1), bias=False)                  |\n",
      "|  73 | model.layer3.3.bn3          | BatchNorm2d(1013, eps=1e-05, momentum=0.1, affine=True, track_running_stats=True) |\n",
      "|  74 | model.layer3.4.conv1        | Conv2d(1013, 124, kernel_size=(1, 1), stride=(1, 1), bias=False)                  |\n",
      "|  75 | model.layer3.4.bn1          | BatchNorm2d(124, eps=1e-05, momentum=0.1, affine=True, track_running_stats=True)  |\n",
      "|  76 | model.layer3.4.conv2        | Conv2d(124, 127, kernel_size=(3, 3), stride=(1, 1), padding=(1, 1), bias=False)   |\n",
      "|  77 | model.layer3.4.bn2          | BatchNorm2d(127, eps=1e-05, momentum=0.1, affine=True, track_running_stats=True)  |\n",
      "|  78 | model.layer3.4.conv3        | Conv2d(127, 1013, kernel_size=(1, 1), stride=(1, 1), bias=False)                  |\n",
      "|  79 | model.layer3.4.bn3          | BatchNorm2d(1013, eps=1e-05, momentum=0.1, affine=True, track_running_stats=True) |\n",
      "|  80 | model.layer3.5.conv1        | Conv2d(1013, 130, kernel_size=(1, 1), stride=(1, 1), bias=False)                  |\n",
      "|  81 | model.layer3.5.bn1          | BatchNorm2d(130, eps=1e-05, momentum=0.1, affine=True, track_running_stats=True)  |\n",
      "|  82 | model.layer3.5.conv2        | Conv2d(130, 122, kernel_size=(3, 3), stride=(1, 1), padding=(1, 1), bias=False)   |\n",
      "|  83 | model.layer3.5.bn2          | BatchNorm2d(122, eps=1e-05, momentum=0.1, affine=True, track_running_stats=True)  |\n",
      "|  84 | model.layer3.5.conv3        | Conv2d(122, 1013, kernel_size=(1, 1), stride=(1, 1), bias=False)                  |\n",
      "|  85 | model.layer3.5.bn3          | BatchNorm2d(1013, eps=1e-05, momentum=0.1, affine=True, track_running_stats=True) |\n",
      "|  86 | model.layer4.0.conv1        | Conv2d(1013, 242, kernel_size=(1, 1), stride=(1, 1), bias=False)                  |\n",
      "|  87 | model.layer4.0.bn1          | BatchNorm2d(242, eps=1e-05, momentum=0.1, affine=True, track_running_stats=True)  |\n",
      "|  88 | model.layer4.0.conv2        | Conv2d(242, 253, kernel_size=(3, 3), stride=(2, 2), padding=(1, 1), bias=False)   |\n",
      "|  89 | model.layer4.0.bn2          | BatchNorm2d(253, eps=1e-05, momentum=0.1, affine=True, track_running_stats=True)  |\n",
      "|  90 | model.layer4.0.conv3        | Conv2d(253, 1581, kernel_size=(1, 1), stride=(1, 1), bias=False)                  |\n",
      "|  91 | model.layer4.0.bn3          | BatchNorm2d(1581, eps=1e-05, momentum=0.1, affine=True, track_running_stats=True) |\n",
      "|  92 | model.layer4.0.downsample.0 | Conv2d(1013, 1581, kernel_size=(1, 1), stride=(2, 2), bias=False)                 |\n",
      "|  93 | model.layer4.0.downsample.1 | BatchNorm2d(1581, eps=1e-05, momentum=0.1, affine=True, track_running_stats=True) |\n",
      "|  94 | model.layer4.1.conv1        | Conv2d(1581, 255, kernel_size=(1, 1), stride=(1, 1), bias=False)                  |\n",
      "|  95 | model.layer4.1.bn1          | BatchNorm2d(255, eps=1e-05, momentum=0.1, affine=True, track_running_stats=True)  |\n",
      "|  96 | model.layer4.1.conv2        | Conv2d(255, 245, kernel_size=(3, 3), stride=(1, 1), padding=(1, 1), bias=False)   |\n",
      "|  97 | model.layer4.1.bn2          | BatchNorm2d(245, eps=1e-05, momentum=0.1, affine=True, track_running_stats=True)  |\n",
      "|  98 | model.layer4.1.conv3        | Conv2d(245, 1581, kernel_size=(1, 1), stride=(1, 1), bias=False)                  |\n",
      "|  99 | model.layer4.1.bn3          | BatchNorm2d(1581, eps=1e-05, momentum=0.1, affine=True, track_running_stats=True) |\n",
      "| 100 | model.layer4.2.conv1        | Conv2d(1581, 240, kernel_size=(1, 1), stride=(1, 1), bias=False)                  |\n",
      "| 101 | model.layer4.2.bn1          | BatchNorm2d(240, eps=1e-05, momentum=0.1, affine=True, track_running_stats=True)  |\n",
      "| 102 | model.layer4.2.conv2        | Conv2d(240, 221, kernel_size=(3, 3), stride=(1, 1), padding=(1, 1), bias=False)   |\n",
      "| 103 | model.layer4.2.bn2          | BatchNorm2d(221, eps=1e-05, momentum=0.1, affine=True, track_running_stats=True)  |\n",
      "| 104 | model.layer4.2.conv3        | Conv2d(221, 1581, kernel_size=(1, 1), stride=(1, 1), bias=False)                  |\n",
      "| 105 | model.layer4.2.bn3          | BatchNorm2d(1581, eps=1e-05, momentum=0.1, affine=True, track_running_stats=True) |\n",
      "| 106 | model.fc                    | Linear(in_features=1581, out_features=100, bias=True)                             |\n",
      "EPOCH NUMBER  0\n"
     ]
    },
    {
     "name": "stderr",
     "output_type": "stream",
     "text": [
      "100%|██████████████████████████████████████████████████████████████████████| 704/704 [02:12<00:00,  5.32it/s, loss=4.57]\n",
      "100%|████████████████████████████████████████████████████████████| 79/79 [00:05<00:00, 13.91it/s, acc=0.0206, loss=4.51]\n"
     ]
    },
    {
     "name": "stdout",
     "output_type": "stream",
     "text": [
      "**Saving model with key**\n",
      "EPOCH NUMBER  1\n"
     ]
    },
    {
     "name": "stderr",
     "output_type": "stream",
     "text": [
      "100%|███████████████████████████████████████████████████████████████████████| 704/704 [02:12<00:00,  5.32it/s, loss=4.5]\n",
      "100%|████████████████████████████████████████████████████████████| 79/79 [00:05<00:00, 13.90it/s, acc=0.0212, loss=4.46]\n"
     ]
    },
    {
     "name": "stdout",
     "output_type": "stream",
     "text": [
      "**Saving model with key**\n"
     ]
    }
   ],
   "source": [
    "slim.compress_model(dataloaders)"
   ]
  }
 ],
 "metadata": {
  "kernelspec": {
   "display_name": "Python 3 (ipykernel)",
   "language": "python",
   "name": "python3"
  },
  "language_info": {
   "codemirror_mode": {
    "name": "ipython",
    "version": 3
   },
   "file_extension": ".py",
   "mimetype": "text/x-python",
   "name": "python",
   "nbconvert_exporter": "python",
   "pygments_lexer": "ipython3",
   "version": "3.8.10"
  },
  "vscode": {
   "interpreter": {
    "hash": "4f946df053fbf2b937619d3c5458e7af74262f9a954d8797ba0b27400bcafe06"
   }
  }
 },
 "nbformat": 4,
 "nbformat_minor": 4
}
