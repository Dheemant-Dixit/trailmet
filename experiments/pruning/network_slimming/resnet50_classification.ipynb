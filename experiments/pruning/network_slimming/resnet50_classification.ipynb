{
 "cells": [
  {
   "attachments": {},
   "cell_type": "markdown",
   "metadata": {},
   "source": [
    "<h1>Network Slimming</h1>\n",
    "This notebook demonstrates the implementation of this paper <a href=https://arxiv.org/abs/1708.06519> Learning Efficient Convolutional Networks through Network Slimming</a>\n",
    "<h4>Steps to train a baseline model and then compress it given a channel budget are as follows:</h4>\n",
    "<ul>\n",
    "    <li>Load the YAML file. </li>\n",
    "    <li>Load dataset and create dataloaders. </li>\n",
    "    <li>Create <b>Network_Slimming</b> object and pass the parameters in the form of a dictionary. </li>\n",
    "    <li>Pass the dataloaders into the <b>compress_model</b> method to obtain the compressed model. </li>\n",
    "</ul>\n",
    "Since this is a demo notebook the number of epochs have been set to 2."
   ]
  },
  {
   "cell_type": "code",
   "execution_count": 1,
   "metadata": {},
   "outputs": [
    {
     "name": "stderr",
     "output_type": "stream",
     "text": [
      "/opt/conda/envs/py117/lib/python3.10/site-packages/tqdm/auto.py:21: TqdmWarning: IProgress not found. Please update jupyter and ipywidgets. See https://ipywidgets.readthedocs.io/en/stable/user_install.html\n",
      "  from .autonotebook import tqdm as notebook_tqdm\n"
     ]
    }
   ],
   "source": [
    "import sys\n",
    "import os\n",
    "sys.path.append(\"../../../\")\n",
    "os.environ['CUDA_VISIBLE_DEVICES']='1'\n",
    "\n",
    "import torch\n",
    "from torchvision import transforms\n",
    "\n",
    "import yaml\n",
    "\n",
    "from trailmet.datasets.classification import DatasetFactory\n",
    "from trailmet.models import ModelsFactory\n",
    "from trailmet.algorithms.prune.network_slimming import Network_Slimming"
   ]
  },
  {
   "attachments": {},
   "cell_type": "markdown",
   "metadata": {},
   "source": [
    "<h3> Loading the YAML file. </h3>"
   ]
  },
  {
   "cell_type": "code",
   "execution_count": 8,
   "metadata": {},
   "outputs": [
    {
     "data": {
      "text/plain": [
       "{'num_classes': 100,\n",
       " 'weight_decay': 0.0005,\n",
       " 'net': 'resnet50',\n",
       " 'dataset': 'c100',\n",
       " 'epochs': 2,\n",
       " 's': 0.003,\n",
       " 'learning_rate': 0.002,\n",
       " 'fine_tune_epochs': 2,\n",
       " 'fine_tune_lr': 0.0004,\n",
       " 'prune_ratio': 0.5,\n",
       " 'wandb': True,\n",
       " 'insize': 32,\n",
       " 'schema_root': './'}"
      ]
     },
     "execution_count": 8,
     "metadata": {},
     "output_type": "execute_result"
    }
   ],
   "source": [
    "with open(os.path.join(\"./resnet50_cifar100.yaml\"), 'r') as stream:\n",
    "    data_loaded = yaml.safe_load(stream)\n",
    "data_loaded['schema_root'] = \"./\"\n",
    "data_loaded"
   ]
  },
  {
   "attachments": {},
   "cell_type": "markdown",
   "metadata": {},
   "source": [
    "<h3>Loading CIFAR100Dataset</h3>"
   ]
  },
  {
   "cell_type": "code",
   "execution_count": 3,
   "metadata": {},
   "outputs": [
    {
     "name": "stdout",
     "output_type": "stream",
     "text": [
      "Files already downloaded and verified\n",
      "Files already downloaded and verified\n",
      "Files already downloaded and verified\n"
     ]
    }
   ],
   "source": [
    "transform_train = transforms.Compose(\n",
    "                [\n",
    "                    transforms.ToTensor(),\n",
    "                    transforms.Pad(4, padding_mode='reflect'),\n",
    "                    transforms.RandomHorizontalFlip(p=0.5),\n",
    "                    transforms.RandomCrop(32),\n",
    "                    transforms.Normalize((0.4914, 0.4822, 0.4465), (0.247, 0.243, 0.261))\n",
    "                ]\n",
    "            )\n",
    "\n",
    "transform_test = transforms.Compose(\n",
    "                [\n",
    "                    transforms.ToTensor(),\n",
    "                    transforms.Normalize((0.4914, 0.4822, 0.4465), (0.247, 0.243, 0.261))\n",
    "                ]\n",
    "            )\n",
    "\n",
    "transforms1 = {\n",
    "    'train': transform_train, \n",
    "    'val': transform_test, \n",
    "    'test': transform_test}\n",
    "\n",
    "target_transforms = {\n",
    "    'train': None, \n",
    "    'val': None, \n",
    "    'test': None}\n",
    "\n",
    "cifar_dataset = DatasetFactory.create_dataset(name = 'CIFAR100', \n",
    "                                        root = \"./data\",\n",
    "                                        split_types = ['train', 'val', 'test'],\n",
    "                                        val_fraction = 0.1,\n",
    "                                        transform = transforms1,\n",
    "                                        target_transform = target_transforms,\n",
    "                                        random_seed=42\n",
    "                                        )"
   ]
  },
  {
   "attachments": {},
   "cell_type": "markdown",
   "metadata": {},
   "source": [
    "<h5>Creating the dataloaders</h5>"
   ]
  },
  {
   "cell_type": "code",
   "execution_count": 4,
   "metadata": {},
   "outputs": [],
   "source": [
    "dataloaders = { 'train' : torch.utils.data.DataLoader(\n",
    "        cifar_dataset['train'], batch_size=64, \n",
    "        sampler=cifar_dataset['train_sampler'],\n",
    "        num_workers=0\n",
    "    ),\n",
    "               'val':  torch.utils.data.DataLoader(\n",
    "        cifar_dataset['val'], batch_size=64, \n",
    "        sampler=cifar_dataset['val_sampler'],\n",
    "        num_workers=0\n",
    "    ),  \n",
    "               'test':  torch.utils.data.DataLoader(\n",
    "        cifar_dataset['test'], batch_size=64, \n",
    "        sampler=cifar_dataset['test_sampler'],\n",
    "        num_workers=0\n",
    "    )}"
   ]
  },
  {
   "attachments": {},
   "cell_type": "markdown",
   "metadata": {},
   "source": [
    "## Loading Model"
   ]
  },
  {
   "cell_type": "code",
   "execution_count": 9,
   "metadata": {},
   "outputs": [],
   "source": [
    "model = ModelsFactory.create_model(name='resnet50', pretrained=False, **data_loaded)"
   ]
  },
  {
   "attachments": {},
   "cell_type": "markdown",
   "metadata": {},
   "source": [
    "<h3> Creating the method's object proceed with compression. </h3>"
   ]
  },
  {
   "cell_type": "code",
   "execution_count": 10,
   "metadata": {},
   "outputs": [
    {
     "name": "stderr",
     "output_type": "stream",
     "text": [
      "\u001b[34m\u001b[1mwandb\u001b[0m: Currently logged in as: \u001b[33manimesh-007\u001b[0m. Use \u001b[1m`wandb login --relogin`\u001b[0m to force relogin\n"
     ]
    },
    {
     "data": {
      "text/html": [
       "wandb version 0.15.4 is available!  To upgrade, please run:\n",
       " $ pip install wandb --upgrade"
      ],
      "text/plain": [
       "<IPython.core.display.HTML object>"
      ]
     },
     "metadata": {},
     "output_type": "display_data"
    },
    {
     "data": {
      "text/html": [
       "Tracking run with wandb version 0.14.0"
      ],
      "text/plain": [
       "<IPython.core.display.HTML object>"
      ]
     },
     "metadata": {},
     "output_type": "display_data"
    },
    {
     "data": {
      "text/html": [
       "Run data is saved locally in <code>/workspace/animesh_trailmet/experiments/pruning/network_slimming/wandb/run-20230625_222200-r2q8esv2</code>"
      ],
      "text/plain": [
       "<IPython.core.display.HTML object>"
      ]
     },
     "metadata": {},
     "output_type": "display_data"
    },
    {
     "data": {
      "text/html": [
       "Syncing run <strong><a href='https://wandb.ai/animesh-007/Trailmet%20Network_Slimming/runs/r2q8esv2' target=\"_blank\">CIFAR100_2_0.002_Jun-25_22:21:59</a></strong> to <a href='https://wandb.ai/animesh-007/Trailmet%20Network_Slimming' target=\"_blank\">Weights & Biases</a> (<a href='https://wandb.me/run' target=\"_blank\">docs</a>)<br/>"
      ],
      "text/plain": [
       "<IPython.core.display.HTML object>"
      ]
     },
     "metadata": {},
     "output_type": "display_data"
    },
    {
     "data": {
      "text/html": [
       " View project at <a href='https://wandb.ai/animesh-007/Trailmet%20Network_Slimming' target=\"_blank\">https://wandb.ai/animesh-007/Trailmet%20Network_Slimming</a>"
      ],
      "text/plain": [
       "<IPython.core.display.HTML object>"
      ]
     },
     "metadata": {},
     "output_type": "display_data"
    },
    {
     "data": {
      "text/html": [
       " View run at <a href='https://wandb.ai/animesh-007/Trailmet%20Network_Slimming/runs/r2q8esv2' target=\"_blank\">https://wandb.ai/animesh-007/Trailmet%20Network_Slimming/runs/r2q8esv2</a>"
      ],
      "text/plain": [
       "<IPython.core.display.HTML object>"
      ]
     },
     "metadata": {},
     "output_type": "display_data"
    }
   ],
   "source": [
    "slim = Network_Slimming(model, dataloaders, **data_loaded)"
   ]
  },
  {
   "cell_type": "code",
   "execution_count": 12,
   "metadata": {},
   "outputs": [
    {
     "name": "stderr",
     "output_type": "stream",
     "text": [
      "Training Epoch [0] (704 / 704 Steps) (batch time=0.26610s) (data time=0.19870s) (loss=4.57249): 100%|| 704/704 [01:41<00:00,  6.92it/s]\n",
      "Validating Epoch [0] (79 / 79 Steps) (batch time=0.01835s) (loss=4.47627) (top1=0.00000) (top5=12.50000): 100%|| 79/79 [00:01<00:00, 40.26it/s]\n"
     ]
    },
    {
     "name": "stdout",
     "output_type": "stream",
     "text": [
      " * acc@1 1.100 acc@5 5.900\n"
     ]
    },
    {
     "name": "stderr",
     "output_type": "stream",
     "text": [
      "Training Epoch [1] (704 / 704 Steps) (batch time=0.09909s) (data time=0.05468s) (loss=4.66276): 100%|| 704/704 [02:02<00:00,  5.77it/s]\n",
      "Validating Epoch [1] (79 / 79 Steps) (batch time=0.01553s) (loss=4.55720) (top1=0.00000) (top5=25.00000): 100%|| 79/79 [00:01<00:00, 39.72it/s]\n"
     ]
    },
    {
     "name": "stdout",
     "output_type": "stream",
     "text": [
      " * acc@1 1.160 acc@5 5.760\n",
      "============shortcuts [0]===========\n",
      "model.layer1.0.bn3: 124\n",
      "model.layer1.0.downsample.1: 125\n",
      "model.layer1.1.bn3: 128\n",
      "model.layer1.2.bn3: 132\n",
      "merged indexes length: 244\n",
      "============shortcuts [1]===========\n",
      "model.layer2.0.bn3: 249\n",
      "model.layer2.0.downsample.1: 254\n",
      "model.layer2.1.bn3: 262\n",
      "model.layer2.2.bn3: 262\n",
      "model.layer2.3.bn3: 267\n",
      "merged indexes length: 500\n",
      "============shortcuts [2]===========\n",
      "model.layer3.0.bn3: 491\n",
      "model.layer3.0.downsample.1: 535\n",
      "model.layer3.1.bn3: 537\n",
      "model.layer3.2.bn3: 522\n",
      "model.layer3.3.bn3: 564\n",
      "model.layer3.4.bn3: 564\n",
      "model.layer3.5.bn3: 554\n",
      "merged indexes length: 1019\n",
      "============shortcuts [3]===========\n",
      "model.layer4.0.bn3: 975\n",
      "model.layer4.0.downsample.1: 981\n",
      "model.layer4.1.bn3: 937\n",
      "model.layer4.2.bn3: 950\n",
      "merged indexes length: 1720\n",
      "\n",
      "BatchNorm2d prune info\n",
      "|    | name                        | channels   | prune percent   |\n",
      "|---:|:----------------------------|:-----------|:----------------|\n",
      "|  0 | model.bn1                   | 34/64      | 46.88%          |\n",
      "|  1 | model.layer1.0.bn1          | 36/64      | 43.75%          |\n",
      "|  2 | model.layer1.0.bn2          | 29/64      | 54.69%          |\n",
      "|  3 | model.layer1.0.bn3          | 244/256    | 4.69%           |\n",
      "|  4 | model.layer1.0.downsample.1 | 244/256    | 4.69%           |\n",
      "|  5 | model.layer1.1.bn1          | 35/64      | 45.31%          |\n",
      "|  6 | model.layer1.1.bn2          | 28/64      | 56.25%          |\n",
      "|  7 | model.layer1.1.bn3          | 244/256    | 4.69%           |\n",
      "|  8 | model.layer1.2.bn1          | 28/64      | 56.25%          |\n",
      "|  9 | model.layer1.2.bn2          | 31/64      | 51.56%          |\n",
      "| 10 | model.layer1.2.bn3          | 244/256    | 4.69%           |\n",
      "| 11 | model.layer2.0.bn1          | 64/128     | 50.00%          |\n",
      "| 12 | model.layer2.0.bn2          | 69/128     | 46.09%          |\n",
      "| 13 | model.layer2.0.bn3          | 500/512    | 2.34%           |\n",
      "| 14 | model.layer2.0.downsample.1 | 500/512    | 2.34%           |\n",
      "| 15 | model.layer2.1.bn1          | 63/128     | 50.78%          |\n",
      "| 16 | model.layer2.1.bn2          | 68/128     | 46.88%          |\n",
      "| 17 | model.layer2.1.bn3          | 500/512    | 2.34%           |\n",
      "| 18 | model.layer2.2.bn1          | 60/128     | 53.12%          |\n",
      "| 19 | model.layer2.2.bn2          | 59/128     | 53.91%          |\n",
      "| 20 | model.layer2.2.bn3          | 500/512    | 2.34%           |\n",
      "| 21 | model.layer2.3.bn1          | 66/128     | 48.44%          |\n",
      "| 22 | model.layer2.3.bn2          | 66/128     | 48.44%          |\n",
      "| 23 | model.layer2.3.bn3          | 500/512    | 2.34%           |\n",
      "| 24 | model.layer3.0.bn1          | 117/256    | 54.30%          |\n",
      "| 25 | model.layer3.0.bn2          | 131/256    | 48.83%          |\n",
      "| 26 | model.layer3.0.bn3          | 1019/1024  | 0.49%           |\n",
      "| 27 | model.layer3.0.downsample.1 | 1019/1024  | 0.49%           |\n",
      "| 28 | model.layer3.1.bn1          | 118/256    | 53.91%          |\n",
      "| 29 | model.layer3.1.bn2          | 128/256    | 50.00%          |\n",
      "| 30 | model.layer3.1.bn3          | 1019/1024  | 0.49%           |\n",
      "| 31 | model.layer3.2.bn1          | 134/256    | 47.66%          |\n",
      "| 32 | model.layer3.2.bn2          | 139/256    | 45.70%          |\n",
      "| 33 | model.layer3.2.bn3          | 1019/1024  | 0.49%           |\n",
      "| 34 | model.layer3.3.bn1          | 124/256    | 51.56%          |\n",
      "| 35 | model.layer3.3.bn2          | 131/256    | 48.83%          |\n",
      "| 36 | model.layer3.3.bn3          | 1019/1024  | 0.49%           |\n",
      "| 37 | model.layer3.4.bn1          | 121/256    | 52.73%          |\n",
      "| 38 | model.layer3.4.bn2          | 134/256    | 47.66%          |\n",
      "| 39 | model.layer3.4.bn3          | 1019/1024  | 0.49%           |\n",
      "| 40 | model.layer3.5.bn1          | 140/256    | 45.31%          |\n",
      "| 41 | model.layer3.5.bn2          | 137/256    | 46.48%          |\n",
      "| 42 | model.layer3.5.bn3          | 1019/1024  | 0.49%           |\n",
      "| 43 | model.layer4.0.bn1          | 264/512    | 48.44%          |\n",
      "| 44 | model.layer4.0.bn2          | 253/512    | 50.59%          |\n",
      "| 45 | model.layer4.0.bn3          | 1720/2048  | 16.02%          |\n",
      "| 46 | model.layer4.0.downsample.1 | 1720/2048  | 16.02%          |\n",
      "| 47 | model.layer4.1.bn1          | 256/512    | 50.00%          |\n",
      "| 48 | model.layer4.1.bn2          | 252/512    | 50.78%          |\n",
      "| 49 | model.layer4.1.bn3          | 1720/2048  | 16.02%          |\n",
      "| 50 | model.layer4.2.bn1          | 255/512    | 50.20%          |\n",
      "| 51 | model.layer4.2.bn2          | 258/512    | 49.61%          |\n",
      "| 52 | model.layer4.2.bn3          | 1720/2048  | 16.02%          |\n",
      "\n",
      "\n",
      "Conv2d prune info\n",
      "|    | name                        | weight shape    | pruned weight shape   | prune percent   |\n",
      "|---:|:----------------------------|:----------------|:----------------------|:----------------|\n",
      "|  0 | model.conv1                 | [3,64] g=1      | [3,34] g=1            | 46.88%          |\n",
      "|  1 | model.layer1.0.conv1        | [64,64] g=1     | [34,36] g=1           | 70.12%          |\n",
      "|  2 | model.layer1.0.conv2        | [64,64] g=1     | [36,29] g=1           | 74.51%          |\n",
      "|  3 | model.layer1.0.conv3        | [64,256] g=1    | [29,244] g=1          | 56.81%          |\n",
      "|  4 | model.layer1.0.downsample.0 | [64,256] g=1    | [34,244] g=1          | 49.37%          |\n",
      "|  5 | model.layer1.1.conv1        | [256,64] g=1    | [244,35] g=1          | 47.88%          |\n",
      "|  6 | model.layer1.1.conv2        | [64,64] g=1     | [35,28] g=1           | 76.07%          |\n",
      "|  7 | model.layer1.1.conv3        | [64,256] g=1    | [28,244] g=1          | 58.30%          |\n",
      "|  8 | model.layer1.2.conv1        | [256,64] g=1    | [244,28] g=1          | 58.30%          |\n",
      "|  9 | model.layer1.2.conv2        | [64,64] g=1     | [28,31] g=1           | 78.81%          |\n",
      "| 10 | model.layer1.2.conv3        | [64,256] g=1    | [31,244] g=1          | 53.83%          |\n",
      "| 11 | model.layer2.0.conv1        | [256,128] g=1   | [244,64] g=1          | 52.34%          |\n",
      "| 12 | model.layer2.0.conv2        | [128,128] g=1   | [64,69] g=1           | 73.05%          |\n",
      "| 13 | model.layer2.0.conv3        | [128,512] g=1   | [69,500] g=1          | 47.36%          |\n",
      "| 14 | model.layer2.0.downsample.0 | [256,512] g=1   | [244,500] g=1         | 6.92%           |\n",
      "| 15 | model.layer2.1.conv1        | [512,128] g=1   | [500,63] g=1          | 51.93%          |\n",
      "| 16 | model.layer2.1.conv2        | [128,128] g=1   | [63,68] g=1           | 73.85%          |\n",
      "| 17 | model.layer2.1.conv3        | [128,512] g=1   | [68,500] g=1          | 48.12%          |\n",
      "| 18 | model.layer2.2.conv1        | [512,128] g=1   | [500,60] g=1          | 54.22%          |\n",
      "| 19 | model.layer2.2.conv2        | [128,128] g=1   | [60,59] g=1           | 78.39%          |\n",
      "| 20 | model.layer2.2.conv3        | [128,512] g=1   | [59,500] g=1          | 54.99%          |\n",
      "| 21 | model.layer2.3.conv1        | [512,128] g=1   | [500,66] g=1          | 49.65%          |\n",
      "| 22 | model.layer2.3.conv2        | [128,128] g=1   | [66,66] g=1           | 73.41%          |\n",
      "| 23 | model.layer2.3.conv3        | [128,512] g=1   | [66,500] g=1          | 49.65%          |\n",
      "| 24 | model.layer3.0.conv1        | [512,256] g=1   | [500,117] g=1         | 55.37%          |\n",
      "| 25 | model.layer3.0.conv2        | [256,256] g=1   | [117,131] g=1         | 76.61%          |\n",
      "| 26 | model.layer3.0.conv3        | [256,1024] g=1  | [131,1019] g=1        | 49.08%          |\n",
      "| 27 | model.layer3.0.downsample.0 | [512,1024] g=1  | [500,1019] g=1        | 2.82%           |\n",
      "| 28 | model.layer3.1.conv1        | [1024,256] g=1  | [1019,118] g=1        | 54.13%          |\n",
      "| 29 | model.layer3.1.conv2        | [256,256] g=1   | [118,128] g=1         | 76.95%          |\n",
      "| 30 | model.layer3.1.conv3        | [256,1024] g=1  | [128,1019] g=1        | 50.24%          |\n",
      "| 31 | model.layer3.2.conv1        | [1024,256] g=1  | [1019,134] g=1        | 47.91%          |\n",
      "| 32 | model.layer3.2.conv2        | [256,256] g=1   | [134,139] g=1         | 71.58%          |\n",
      "| 33 | model.layer3.2.conv3        | [256,1024] g=1  | [139,1019] g=1        | 45.97%          |\n",
      "| 34 | model.layer3.3.conv1        | [1024,256] g=1  | [1019,124] g=1        | 51.80%          |\n",
      "| 35 | model.layer3.3.conv2        | [256,256] g=1   | [124,131] g=1         | 75.21%          |\n",
      "| 36 | model.layer3.3.conv3        | [256,1024] g=1  | [131,1019] g=1        | 49.08%          |\n",
      "| 37 | model.layer3.4.conv1        | [1024,256] g=1  | [1019,121] g=1        | 52.97%          |\n",
      "| 38 | model.layer3.4.conv2        | [256,256] g=1   | [121,134] g=1         | 75.26%          |\n",
      "| 39 | model.layer3.4.conv3        | [256,1024] g=1  | [134,1019] g=1        | 47.91%          |\n",
      "| 40 | model.layer3.5.conv1        | [1024,256] g=1  | [1019,140] g=1        | 45.58%          |\n",
      "| 41 | model.layer3.5.conv2        | [256,256] g=1   | [140,137] g=1         | 70.73%          |\n",
      "| 42 | model.layer3.5.conv3        | [256,1024] g=1  | [137,1019] g=1        | 46.75%          |\n",
      "| 43 | model.layer4.0.conv1        | [1024,512] g=1  | [1019,264] g=1        | 48.69%          |\n",
      "| 44 | model.layer4.0.conv2        | [512,512] g=1   | [264,253] g=1         | 74.52%          |\n",
      "| 45 | model.layer4.0.conv3        | [512,2048] g=1  | [253,1720] g=1        | 58.50%          |\n",
      "| 46 | model.layer4.0.downsample.0 | [1024,2048] g=1 | [1019,1720] g=1       | 16.43%          |\n",
      "| 47 | model.layer4.1.conv1        | [2048,512] g=1  | [1720,256] g=1        | 58.01%          |\n",
      "| 48 | model.layer4.1.conv2        | [512,512] g=1   | [256,252] g=1         | 75.39%          |\n",
      "| 49 | model.layer4.1.conv3        | [512,2048] g=1  | [252,1720] g=1        | 58.66%          |\n",
      "| 50 | model.layer4.2.conv1        | [2048,512] g=1  | [1720,255] g=1        | 58.17%          |\n",
      "| 51 | model.layer4.2.conv2        | [512,512] g=1   | [255,258] g=1         | 74.90%          |\n",
      "| 52 | model.layer4.2.conv3        | [512,2048] g=1  | [258,1720] g=1        | 57.68%          |\n",
      "\n",
      "\n",
      "Conv2d after cat prune info\n",
      "\n",
      "\n",
      "\n",
      "Linear prune info\n",
      "|    | name     | in_features   |   prune percent |\n",
      "|---:|:---------|:--------------|----------------:|\n",
      "|  0 | model.fc | 1720/2048     |           16.02 |\n",
      "\n",
      "|     | name                  | module                                                                            |\n",
      "|----:|:----------------------|:----------------------------------------------------------------------------------|\n",
      "|   0 | conv1                 | Conv2d(3, 34, kernel_size=(3, 3), stride=(1, 1), padding=(1, 1), bias=False)      |\n",
      "|   1 | bn1                   | BatchNorm2d(34, eps=1e-05, momentum=0.1, affine=True, track_running_stats=True)   |\n",
      "|   2 | layer1.0.conv1        | Conv2d(34, 36, kernel_size=(1, 1), stride=(1, 1), bias=False)                     |\n",
      "|   3 | layer1.0.bn1          | BatchNorm2d(36, eps=1e-05, momentum=0.1, affine=True, track_running_stats=True)   |\n",
      "|   4 | layer1.0.conv2        | Conv2d(36, 29, kernel_size=(3, 3), stride=(1, 1), padding=(1, 1), bias=False)     |\n",
      "|   5 | layer1.0.bn2          | BatchNorm2d(29, eps=1e-05, momentum=0.1, affine=True, track_running_stats=True)   |\n",
      "|   6 | layer1.0.conv3        | Conv2d(29, 244, kernel_size=(1, 1), stride=(1, 1), bias=False)                    |\n",
      "|   7 | layer1.0.bn3          | BatchNorm2d(244, eps=1e-05, momentum=0.1, affine=True, track_running_stats=True)  |\n",
      "|   8 | layer1.0.downsample.0 | Conv2d(34, 244, kernel_size=(1, 1), stride=(1, 1), bias=False)                    |\n",
      "|   9 | layer1.0.downsample.1 | BatchNorm2d(244, eps=1e-05, momentum=0.1, affine=True, track_running_stats=True)  |\n",
      "|  10 | layer1.1.conv1        | Conv2d(244, 35, kernel_size=(1, 1), stride=(1, 1), bias=False)                    |\n",
      "|  11 | layer1.1.bn1          | BatchNorm2d(35, eps=1e-05, momentum=0.1, affine=True, track_running_stats=True)   |\n",
      "|  12 | layer1.1.conv2        | Conv2d(35, 28, kernel_size=(3, 3), stride=(1, 1), padding=(1, 1), bias=False)     |\n",
      "|  13 | layer1.1.bn2          | BatchNorm2d(28, eps=1e-05, momentum=0.1, affine=True, track_running_stats=True)   |\n",
      "|  14 | layer1.1.conv3        | Conv2d(28, 244, kernel_size=(1, 1), stride=(1, 1), bias=False)                    |\n",
      "|  15 | layer1.1.bn3          | BatchNorm2d(244, eps=1e-05, momentum=0.1, affine=True, track_running_stats=True)  |\n",
      "|  16 | layer1.2.conv1        | Conv2d(244, 28, kernel_size=(1, 1), stride=(1, 1), bias=False)                    |\n",
      "|  17 | layer1.2.bn1          | BatchNorm2d(28, eps=1e-05, momentum=0.1, affine=True, track_running_stats=True)   |\n",
      "|  18 | layer1.2.conv2        | Conv2d(28, 31, kernel_size=(3, 3), stride=(1, 1), padding=(1, 1), bias=False)     |\n",
      "|  19 | layer1.2.bn2          | BatchNorm2d(31, eps=1e-05, momentum=0.1, affine=True, track_running_stats=True)   |\n",
      "|  20 | layer1.2.conv3        | Conv2d(31, 244, kernel_size=(1, 1), stride=(1, 1), bias=False)                    |\n",
      "|  21 | layer1.2.bn3          | BatchNorm2d(244, eps=1e-05, momentum=0.1, affine=True, track_running_stats=True)  |\n",
      "|  22 | layer2.0.conv1        | Conv2d(244, 64, kernel_size=(1, 1), stride=(1, 1), bias=False)                    |\n",
      "|  23 | layer2.0.bn1          | BatchNorm2d(64, eps=1e-05, momentum=0.1, affine=True, track_running_stats=True)   |\n",
      "|  24 | layer2.0.conv2        | Conv2d(64, 69, kernel_size=(3, 3), stride=(2, 2), padding=(1, 1), bias=False)     |\n",
      "|  25 | layer2.0.bn2          | BatchNorm2d(69, eps=1e-05, momentum=0.1, affine=True, track_running_stats=True)   |\n",
      "|  26 | layer2.0.conv3        | Conv2d(69, 500, kernel_size=(1, 1), stride=(1, 1), bias=False)                    |\n",
      "|  27 | layer2.0.bn3          | BatchNorm2d(500, eps=1e-05, momentum=0.1, affine=True, track_running_stats=True)  |\n",
      "|  28 | layer2.0.downsample.0 | Conv2d(244, 500, kernel_size=(1, 1), stride=(2, 2), bias=False)                   |\n",
      "|  29 | layer2.0.downsample.1 | BatchNorm2d(500, eps=1e-05, momentum=0.1, affine=True, track_running_stats=True)  |\n",
      "|  30 | layer2.1.conv1        | Conv2d(500, 63, kernel_size=(1, 1), stride=(1, 1), bias=False)                    |\n",
      "|  31 | layer2.1.bn1          | BatchNorm2d(63, eps=1e-05, momentum=0.1, affine=True, track_running_stats=True)   |\n",
      "|  32 | layer2.1.conv2        | Conv2d(63, 68, kernel_size=(3, 3), stride=(1, 1), padding=(1, 1), bias=False)     |\n",
      "|  33 | layer2.1.bn2          | BatchNorm2d(68, eps=1e-05, momentum=0.1, affine=True, track_running_stats=True)   |\n",
      "|  34 | layer2.1.conv3        | Conv2d(68, 500, kernel_size=(1, 1), stride=(1, 1), bias=False)                    |\n",
      "|  35 | layer2.1.bn3          | BatchNorm2d(500, eps=1e-05, momentum=0.1, affine=True, track_running_stats=True)  |\n",
      "|  36 | layer2.2.conv1        | Conv2d(500, 60, kernel_size=(1, 1), stride=(1, 1), bias=False)                    |\n",
      "|  37 | layer2.2.bn1          | BatchNorm2d(60, eps=1e-05, momentum=0.1, affine=True, track_running_stats=True)   |\n",
      "|  38 | layer2.2.conv2        | Conv2d(60, 59, kernel_size=(3, 3), stride=(1, 1), padding=(1, 1), bias=False)     |\n",
      "|  39 | layer2.2.bn2          | BatchNorm2d(59, eps=1e-05, momentum=0.1, affine=True, track_running_stats=True)   |\n",
      "|  40 | layer2.2.conv3        | Conv2d(59, 500, kernel_size=(1, 1), stride=(1, 1), bias=False)                    |\n",
      "|  41 | layer2.2.bn3          | BatchNorm2d(500, eps=1e-05, momentum=0.1, affine=True, track_running_stats=True)  |\n",
      "|  42 | layer2.3.conv1        | Conv2d(500, 66, kernel_size=(1, 1), stride=(1, 1), bias=False)                    |\n",
      "|  43 | layer2.3.bn1          | BatchNorm2d(66, eps=1e-05, momentum=0.1, affine=True, track_running_stats=True)   |\n",
      "|  44 | layer2.3.conv2        | Conv2d(66, 66, kernel_size=(3, 3), stride=(1, 1), padding=(1, 1), bias=False)     |\n",
      "|  45 | layer2.3.bn2          | BatchNorm2d(66, eps=1e-05, momentum=0.1, affine=True, track_running_stats=True)   |\n",
      "|  46 | layer2.3.conv3        | Conv2d(66, 500, kernel_size=(1, 1), stride=(1, 1), bias=False)                    |\n",
      "|  47 | layer2.3.bn3          | BatchNorm2d(500, eps=1e-05, momentum=0.1, affine=True, track_running_stats=True)  |\n",
      "|  48 | layer3.0.conv1        | Conv2d(500, 117, kernel_size=(1, 1), stride=(1, 1), bias=False)                   |\n",
      "|  49 | layer3.0.bn1          | BatchNorm2d(117, eps=1e-05, momentum=0.1, affine=True, track_running_stats=True)  |\n",
      "|  50 | layer3.0.conv2        | Conv2d(117, 131, kernel_size=(3, 3), stride=(2, 2), padding=(1, 1), bias=False)   |\n",
      "|  51 | layer3.0.bn2          | BatchNorm2d(131, eps=1e-05, momentum=0.1, affine=True, track_running_stats=True)  |\n",
      "|  52 | layer3.0.conv3        | Conv2d(131, 1019, kernel_size=(1, 1), stride=(1, 1), bias=False)                  |\n",
      "|  53 | layer3.0.bn3          | BatchNorm2d(1019, eps=1e-05, momentum=0.1, affine=True, track_running_stats=True) |\n",
      "|  54 | layer3.0.downsample.0 | Conv2d(500, 1019, kernel_size=(1, 1), stride=(2, 2), bias=False)                  |\n",
      "|  55 | layer3.0.downsample.1 | BatchNorm2d(1019, eps=1e-05, momentum=0.1, affine=True, track_running_stats=True) |\n",
      "|  56 | layer3.1.conv1        | Conv2d(1019, 118, kernel_size=(1, 1), stride=(1, 1), bias=False)                  |\n",
      "|  57 | layer3.1.bn1          | BatchNorm2d(118, eps=1e-05, momentum=0.1, affine=True, track_running_stats=True)  |\n",
      "|  58 | layer3.1.conv2        | Conv2d(118, 128, kernel_size=(3, 3), stride=(1, 1), padding=(1, 1), bias=False)   |\n",
      "|  59 | layer3.1.bn2          | BatchNorm2d(128, eps=1e-05, momentum=0.1, affine=True, track_running_stats=True)  |\n",
      "|  60 | layer3.1.conv3        | Conv2d(128, 1019, kernel_size=(1, 1), stride=(1, 1), bias=False)                  |\n",
      "|  61 | layer3.1.bn3          | BatchNorm2d(1019, eps=1e-05, momentum=0.1, affine=True, track_running_stats=True) |\n",
      "|  62 | layer3.2.conv1        | Conv2d(1019, 134, kernel_size=(1, 1), stride=(1, 1), bias=False)                  |\n",
      "|  63 | layer3.2.bn1          | BatchNorm2d(134, eps=1e-05, momentum=0.1, affine=True, track_running_stats=True)  |\n",
      "|  64 | layer3.2.conv2        | Conv2d(134, 139, kernel_size=(3, 3), stride=(1, 1), padding=(1, 1), bias=False)   |\n",
      "|  65 | layer3.2.bn2          | BatchNorm2d(139, eps=1e-05, momentum=0.1, affine=True, track_running_stats=True)  |\n",
      "|  66 | layer3.2.conv3        | Conv2d(139, 1019, kernel_size=(1, 1), stride=(1, 1), bias=False)                  |\n",
      "|  67 | layer3.2.bn3          | BatchNorm2d(1019, eps=1e-05, momentum=0.1, affine=True, track_running_stats=True) |\n",
      "|  68 | layer3.3.conv1        | Conv2d(1019, 124, kernel_size=(1, 1), stride=(1, 1), bias=False)                  |\n",
      "|  69 | layer3.3.bn1          | BatchNorm2d(124, eps=1e-05, momentum=0.1, affine=True, track_running_stats=True)  |\n",
      "|  70 | layer3.3.conv2        | Conv2d(124, 131, kernel_size=(3, 3), stride=(1, 1), padding=(1, 1), bias=False)   |\n",
      "|  71 | layer3.3.bn2          | BatchNorm2d(131, eps=1e-05, momentum=0.1, affine=True, track_running_stats=True)  |\n",
      "|  72 | layer3.3.conv3        | Conv2d(131, 1019, kernel_size=(1, 1), stride=(1, 1), bias=False)                  |\n",
      "|  73 | layer3.3.bn3          | BatchNorm2d(1019, eps=1e-05, momentum=0.1, affine=True, track_running_stats=True) |\n",
      "|  74 | layer3.4.conv1        | Conv2d(1019, 121, kernel_size=(1, 1), stride=(1, 1), bias=False)                  |\n",
      "|  75 | layer3.4.bn1          | BatchNorm2d(121, eps=1e-05, momentum=0.1, affine=True, track_running_stats=True)  |\n",
      "|  76 | layer3.4.conv2        | Conv2d(121, 134, kernel_size=(3, 3), stride=(1, 1), padding=(1, 1), bias=False)   |\n",
      "|  77 | layer3.4.bn2          | BatchNorm2d(134, eps=1e-05, momentum=0.1, affine=True, track_running_stats=True)  |\n",
      "|  78 | layer3.4.conv3        | Conv2d(134, 1019, kernel_size=(1, 1), stride=(1, 1), bias=False)                  |\n",
      "|  79 | layer3.4.bn3          | BatchNorm2d(1019, eps=1e-05, momentum=0.1, affine=True, track_running_stats=True) |\n",
      "|  80 | layer3.5.conv1        | Conv2d(1019, 140, kernel_size=(1, 1), stride=(1, 1), bias=False)                  |\n",
      "|  81 | layer3.5.bn1          | BatchNorm2d(140, eps=1e-05, momentum=0.1, affine=True, track_running_stats=True)  |\n",
      "|  82 | layer3.5.conv2        | Conv2d(140, 137, kernel_size=(3, 3), stride=(1, 1), padding=(1, 1), bias=False)   |\n",
      "|  83 | layer3.5.bn2          | BatchNorm2d(137, eps=1e-05, momentum=0.1, affine=True, track_running_stats=True)  |\n",
      "|  84 | layer3.5.conv3        | Conv2d(137, 1019, kernel_size=(1, 1), stride=(1, 1), bias=False)                  |\n",
      "|  85 | layer3.5.bn3          | BatchNorm2d(1019, eps=1e-05, momentum=0.1, affine=True, track_running_stats=True) |\n",
      "|  86 | layer4.0.conv1        | Conv2d(1019, 264, kernel_size=(1, 1), stride=(1, 1), bias=False)                  |\n",
      "|  87 | layer4.0.bn1          | BatchNorm2d(264, eps=1e-05, momentum=0.1, affine=True, track_running_stats=True)  |\n",
      "|  88 | layer4.0.conv2        | Conv2d(264, 253, kernel_size=(3, 3), stride=(2, 2), padding=(1, 1), bias=False)   |\n",
      "|  89 | layer4.0.bn2          | BatchNorm2d(253, eps=1e-05, momentum=0.1, affine=True, track_running_stats=True)  |\n",
      "|  90 | layer4.0.conv3        | Conv2d(253, 1720, kernel_size=(1, 1), stride=(1, 1), bias=False)                  |\n",
      "|  91 | layer4.0.bn3          | BatchNorm2d(1720, eps=1e-05, momentum=0.1, affine=True, track_running_stats=True) |\n",
      "|  92 | layer4.0.downsample.0 | Conv2d(1019, 1720, kernel_size=(1, 1), stride=(2, 2), bias=False)                 |\n",
      "|  93 | layer4.0.downsample.1 | BatchNorm2d(1720, eps=1e-05, momentum=0.1, affine=True, track_running_stats=True) |\n",
      "|  94 | layer4.1.conv1        | Conv2d(1720, 256, kernel_size=(1, 1), stride=(1, 1), bias=False)                  |\n",
      "|  95 | layer4.1.bn1          | BatchNorm2d(256, eps=1e-05, momentum=0.1, affine=True, track_running_stats=True)  |\n",
      "|  96 | layer4.1.conv2        | Conv2d(256, 252, kernel_size=(3, 3), stride=(1, 1), padding=(1, 1), bias=False)   |\n",
      "|  97 | layer4.1.bn2          | BatchNorm2d(252, eps=1e-05, momentum=0.1, affine=True, track_running_stats=True)  |\n",
      "|  98 | layer4.1.conv3        | Conv2d(252, 1720, kernel_size=(1, 1), stride=(1, 1), bias=False)                  |\n",
      "|  99 | layer4.1.bn3          | BatchNorm2d(1720, eps=1e-05, momentum=0.1, affine=True, track_running_stats=True) |\n",
      "| 100 | layer4.2.conv1        | Conv2d(1720, 255, kernel_size=(1, 1), stride=(1, 1), bias=False)                  |\n",
      "| 101 | layer4.2.bn1          | BatchNorm2d(255, eps=1e-05, momentum=0.1, affine=True, track_running_stats=True)  |\n",
      "| 102 | layer4.2.conv2        | Conv2d(255, 258, kernel_size=(3, 3), stride=(1, 1), padding=(1, 1), bias=False)   |\n",
      "| 103 | layer4.2.bn2          | BatchNorm2d(258, eps=1e-05, momentum=0.1, affine=True, track_running_stats=True)  |\n",
      "| 104 | layer4.2.conv3        | Conv2d(258, 1720, kernel_size=(1, 1), stride=(1, 1), bias=False)                  |\n",
      "| 105 | layer4.2.bn3          | BatchNorm2d(1720, eps=1e-05, momentum=0.1, affine=True, track_running_stats=True) |\n",
      "| 106 | fc                    | Linear(in_features=1720, out_features=100, bias=True)                             |\n"
     ]
    },
    {
     "name": "stderr",
     "output_type": "stream",
     "text": [
      "Training Epoch [0] (704 / 704 Steps) (batch time=0.32138s) (data time=0.17613s) (loss=4.79924): 100%|| 704/704 [01:47<00:00,  6.57it/s]\n",
      "Validating Epoch [0] (79 / 79 Steps) (batch time=0.01556s) (loss=4.59786) (top1=0.00000) (top5=0.00000): 100%|| 79/79 [00:01<00:00, 42.06it/s] \n"
     ]
    },
    {
     "name": "stdout",
     "output_type": "stream",
     "text": [
      " * acc@1 1.760 acc@5 8.060\n"
     ]
    },
    {
     "name": "stderr",
     "output_type": "stream",
     "text": [
      "Training Epoch [1] (704 / 704 Steps) (batch time=0.14155s) (data time=0.05515s) (loss=4.93959): 100%|| 704/704 [02:00<00:00,  5.84it/s]\n",
      "Validating Epoch [1] (79 / 79 Steps) (batch time=0.01560s) (loss=4.63713) (top1=0.00000) (top5=0.00000): 100%|| 79/79 [00:02<00:00, 38.10it/s] \n"
     ]
    },
    {
     "name": "stdout",
     "output_type": "stream",
     "text": [
      " * acc@1 2.080 acc@5 9.020\n"
     ]
    }
   ],
   "source": [
    "slim.compress_model()"
   ]
  }
 ],
 "metadata": {
  "kernelspec": {
   "display_name": "Python 3 (ipykernel)",
   "language": "python",
   "name": "python3"
  },
  "language_info": {
   "codemirror_mode": {
    "name": "ipython",
    "version": 3
   },
   "file_extension": ".py",
   "mimetype": "text/x-python",
   "name": "python",
   "nbconvert_exporter": "python",
   "pygments_lexer": "ipython3",
   "version": "3.10.9"
  },
  "vscode": {
   "interpreter": {
    "hash": "4f946df053fbf2b937619d3c5458e7af74262f9a954d8797ba0b27400bcafe06"
   }
  }
 },
 "nbformat": 4,
 "nbformat_minor": 4
}
