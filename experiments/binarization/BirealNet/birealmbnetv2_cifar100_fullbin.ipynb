{
 "cells": [
  {
   "cell_type": "code",
   "execution_count": 1,
   "id": "50fac477",
   "metadata": {},
   "outputs": [],
   "source": [
    "import os\n",
    "os.environ[\"CUDA_DEVICE_ORDER\"]=\"PCI_BUS_ID\" \n",
    "os.environ[\"CUDA_VISIBLE_DEVICES\"]=\"1\""
   ]
  },
  {
   "cell_type": "code",
   "execution_count": 2,
   "id": "d35cfa55",
   "metadata": {},
   "outputs": [],
   "source": [
    "import sys\n",
    "import os\n",
    "import shutil\n",
    "sys.path.append(\"../../../\")"
   ]
  },
  {
   "cell_type": "code",
   "execution_count": 3,
   "id": "d83a039f",
   "metadata": {},
   "outputs": [
    {
     "name": "stderr",
     "output_type": "stream",
     "text": [
      "/opt/conda/envs/py117/lib/python3.10/site-packages/tqdm/auto.py:21: TqdmWarning: IProgress not found. Please update jupyter and ipywidgets. See https://ipywidgets.readthedocs.io/en/stable/user_install.html\n",
      "  from .autonotebook import tqdm as notebook_tqdm\n"
     ]
    }
   ],
   "source": [
    "# load important packages\n",
    "import torch\n",
    "import torchvision\n",
    "import matplotlib.pyplot as plt\n",
    "from torchvision import transforms\n",
    "from trailmet.algorithms.binarize.utils import *\n",
    "from trailmet.datasets.classification import DatasetFactory"
   ]
  },
  {
   "cell_type": "code",
   "execution_count": 4,
   "id": "4bc0ad37",
   "metadata": {
    "scrolled": false
   },
   "outputs": [],
   "source": [
    "from trailmet.algorithms.binarize.birealnet import BirealNet\n",
    "from trailmet.models import ModelsFactory"
   ]
  },
  {
   "cell_type": "code",
   "execution_count": 5,
   "id": "e4231b6e",
   "metadata": {},
   "outputs": [],
   "source": [
    "import yaml\n",
    "root = './'\n",
    "import os\n",
    "with open(os.path.join(root,\"birealnet_cifar100.yaml\"),'r') as stream:\n",
    "    kwargs = yaml.safe_load(stream)"
   ]
  },
  {
   "cell_type": "code",
   "execution_count": 6,
   "id": "9b32f7f5",
   "metadata": {},
   "outputs": [
    {
     "data": {
      "text/plain": [
       "{'batch_size': 256,\n",
       " 'valid_size': 0.1,\n",
       " 'num_train': 0,\n",
       " 'epochs': 1,\n",
       " 'optimizer': 'torch.optim.Adam',\n",
       " 'lr': 0.001,\n",
       " 'momentum': 0.9,\n",
       " 'save_path': './save_path_resnet50_cifar100_fullbin',\n",
       " 'data_path': '',\n",
       " 'label_smooth': 0.1,\n",
       " 'weight_decay': 0,\n",
       " 'workers': 4,\n",
       " 'device': 'cuda',\n",
       " 'dataset': 'c100',\n",
       " 'num_classes': 100,\n",
       " 'num_fp': 0,\n",
       " 'insize': 32,\n",
       " 'wandb': True}"
      ]
     },
     "execution_count": 6,
     "metadata": {},
     "output_type": "execute_result"
    }
   ],
   "source": [
    "kwargs"
   ]
  },
  {
   "cell_type": "code",
   "execution_count": 7,
   "id": "64047166",
   "metadata": {},
   "outputs": [
    {
     "name": "stdout",
     "output_type": "stream",
     "text": [
      "> SEEDING DONE\n"
     ]
    }
   ],
   "source": [
    "def set_seed(seed):\n",
    "    torch.manual_seed(seed)\n",
    "    torch.cuda.manual_seed(seed)\n",
    "    torch.backends.cudnn.deterministic = True\n",
    "    torch.backends.cudnn.benchmark = False\n",
    "    os.environ['PYTHONHASHSEED'] = str(seed)\n",
    "    print('> SEEDING DONE')\n",
    "    \n",
    "set_seed(1024)  "
   ]
  },
  {
   "cell_type": "code",
   "execution_count": 8,
   "id": "fde1d8bd",
   "metadata": {},
   "outputs": [],
   "source": [
    "# Augmentation\n",
    "crop_scale = 0.08\n",
    "lighting_param = 0.1\n",
    "train_transform = transforms.Compose([\n",
    "    transforms.RandomResizedCrop(32, scale=(crop_scale, 1.0)),\n",
    "    transforms.RandomHorizontalFlip(),\n",
    "    transforms.ToTensor()])\n",
    "\n",
    "valid_transform = transforms.Compose([\n",
    "        transforms.Resize(36),\n",
    "        transforms.CenterCrop(32),\n",
    "        transforms.ToTensor()\n",
    "    ])\n",
    "test_transform = valid_transform\n",
    "\n",
    "input_transforms = {\n",
    "    'train': train_transform, \n",
    "    'val': valid_transform, \n",
    "    'test': test_transform}\n",
    "\n",
    "target_transforms = {\n",
    "    'train': None, \n",
    "    'val': None, \n",
    "    'test': None}"
   ]
  },
  {
   "cell_type": "code",
   "execution_count": 9,
   "id": "5a9d88f2",
   "metadata": {},
   "outputs": [
    {
     "name": "stdout",
     "output_type": "stream",
     "text": [
      "Files already downloaded and verified\n",
      "Files already downloaded and verified\n",
      "Files already downloaded and verified\n"
     ]
    }
   ],
   "source": [
    "# Create Dataset\n",
    "cifar100_dataset = DatasetFactory.create_dataset(name = 'CIFAR100', \n",
    "                                        root = \"./\",\n",
    "                                        split_types = ['train', 'val', 'test'],\n",
    "                                        val_fraction = 0.15,\n",
    "                                        transform = input_transforms,\n",
    "                                        target_transform = target_transforms\n",
    "                                        )\n",
    "# Define DataLoaders\n",
    "train_loader100 = torch.utils.data.DataLoader(\n",
    "        cifar100_dataset['train'], batch_size=kwargs['batch_size'], \n",
    "        sampler=cifar100_dataset['train_sampler'],\n",
    "        num_workers=kwargs['workers']\n",
    "    )\n",
    "val_loader100 = torch.utils.data.DataLoader(\n",
    "        cifar100_dataset['val'], batch_size=kwargs['batch_size'], \n",
    "        sampler=cifar100_dataset['val_sampler'],\n",
    "        num_workers=kwargs['workers']\n",
    "    )\n",
    "test_loader100 = torch.utils.data.DataLoader(\n",
    "        cifar100_dataset['test'], batch_size=kwargs['batch_size'], \n",
    "        sampler=cifar100_dataset['test_sampler'],\n",
    "        num_workers=kwargs['workers']\n",
    "    )\n",
    "\n",
    "dataloaders = {\n",
    "        'train': train_loader100, 'val': val_loader100, \"test\": test_loader100\n",
    "}\n"
   ]
  },
  {
   "cell_type": "code",
   "execution_count": 10,
   "id": "3b43f93a",
   "metadata": {},
   "outputs": [],
   "source": [
    "model = ModelsFactory.create_model(name = 'mobilenetv2', version='bireal', **kwargs)\n"
   ]
  },
  {
   "cell_type": "code",
   "execution_count": 11,
   "id": "9bfd6556",
   "metadata": {},
   "outputs": [
    {
     "name": "stderr",
     "output_type": "stream",
     "text": [
      "\u001b[34m\u001b[1mwandb\u001b[0m: Currently logged in as: \u001b[33manimesh-007\u001b[0m. Use \u001b[1m`wandb login --relogin`\u001b[0m to force relogin\n"
     ]
    },
    {
     "data": {
      "text/html": [
       "wandb version 0.15.4 is available!  To upgrade, please run:\n",
       " $ pip install wandb --upgrade"
      ],
      "text/plain": [
       "<IPython.core.display.HTML object>"
      ]
     },
     "metadata": {},
     "output_type": "display_data"
    },
    {
     "data": {
      "text/html": [
       "Tracking run with wandb version 0.14.0"
      ],
      "text/plain": [
       "<IPython.core.display.HTML object>"
      ]
     },
     "metadata": {},
     "output_type": "display_data"
    },
    {
     "data": {
      "text/html": [
       "Run data is saved locally in <code>/workspace/animesh_trailmet/experiments/binarization/BirealNet/wandb/run-20230625_192611-0l6teosm</code>"
      ],
      "text/plain": [
       "<IPython.core.display.HTML object>"
      ]
     },
     "metadata": {},
     "output_type": "display_data"
    },
    {
     "data": {
      "text/html": [
       "Syncing run <strong><a href='https://wandb.ai/animesh-007/Trailmet%20BiRealNet/runs/0l6teosm' target=\"_blank\">CIFAR100_1_0.001_Jun-25_19:26:09</a></strong> to <a href='https://wandb.ai/animesh-007/Trailmet%20BiRealNet' target=\"_blank\">Weights & Biases</a> (<a href='https://wandb.me/run' target=\"_blank\">docs</a>)<br/>"
      ],
      "text/plain": [
       "<IPython.core.display.HTML object>"
      ]
     },
     "metadata": {},
     "output_type": "display_data"
    },
    {
     "data": {
      "text/html": [
       " View project at <a href='https://wandb.ai/animesh-007/Trailmet%20BiRealNet' target=\"_blank\">https://wandb.ai/animesh-007/Trailmet%20BiRealNet</a>"
      ],
      "text/plain": [
       "<IPython.core.display.HTML object>"
      ]
     },
     "metadata": {},
     "output_type": "display_data"
    },
    {
     "data": {
      "text/html": [
       " View run at <a href='https://wandb.ai/animesh-007/Trailmet%20BiRealNet/runs/0l6teosm' target=\"_blank\">https://wandb.ai/animesh-007/Trailmet%20BiRealNet/runs/0l6teosm</a>"
      ],
      "text/plain": [
       "<IPython.core.display.HTML object>"
      ]
     },
     "metadata": {},
     "output_type": "display_data"
    }
   ],
   "source": [
    "algo = BirealNet(model, dataloaders, **kwargs)"
   ]
  },
  {
   "cell_type": "code",
   "execution_count": 12,
   "id": "c0a4f9d0",
   "metadata": {},
   "outputs": [
    {
     "name": "stderr",
     "output_type": "stream",
     "text": [
      "Training BiRealNet Epoch [X] (X / X Steps) (batch time=X.Xs) (data time=X.Xs) (loss=X.X) (top1=X.X) (top5=X.X):   0%|| 0/167 [00:00<?, ?it/s]"
     ]
    },
    {
     "name": "stdout",
     "output_type": "stream",
     "text": [
      "learning_rate: 0.0\n"
     ]
    },
    {
     "name": "stderr",
     "output_type": "stream",
     "text": [
      "/opt/conda/envs/py117/lib/python3.10/site-packages/torch/optim/lr_scheduler.py:138: UserWarning: Detected call of `lr_scheduler.step()` before `optimizer.step()`. In PyTorch 1.1.0 and later, you should call them in the opposite order: `optimizer.step()` before `lr_scheduler.step()`.  Failure to do this will result in PyTorch skipping the first value of the learning rate schedule. See more details at https://pytorch.org/docs/stable/optim.html#how-to-adjust-learning-rate\n",
      "  warnings.warn(\"Detected call of `lr_scheduler.step()` before `optimizer.step()`. \"\n",
      "Training BiRealNet Epoch [0] (167 / 167 Steps) (batch time=0.24529s) (data time=0.00281s) (loss=4.80715) (top1=0.00000) (top5=0.00000): 100%|| 167/167 [00:15<00:00, 10.55it/s]\n",
      "Validating BiRealNet Epoch [0] (30 / 30 Steps) (batch time=0.23393s) (loss=4.87406) (top1=1.31579) (top5=3.94737): 100%|| 30/30 [00:01<00:00, 19.08it/s]\n"
     ]
    },
    {
     "name": "stdout",
     "output_type": "stream",
     "text": [
      " * Val acc@1 0.667 Val acc@5 4.160\n"
     ]
    },
    {
     "name": "stderr",
     "output_type": "stream",
     "text": [
      "Testing BiRealNet Epoch [0] (40 / 40 Steps) (batch time=0.16732s) (loss=4.75638) (top1=0.00000) (top5=6.25000): 100%|| 40/40 [00:01<00:00, 24.17it/s]"
     ]
    },
    {
     "name": "stdout",
     "output_type": "stream",
     "text": [
      " * Test acc@1 0.660 Test acc@5 4.310\n",
      "total training time = 0.0012819021145502726 hours\n"
     ]
    },
    {
     "name": "stderr",
     "output_type": "stream",
     "text": [
      "\n"
     ]
    }
   ],
   "source": [
    "algo.binarize()"
   ]
  }
 ],
 "metadata": {
  "kernelspec": {
   "display_name": "py117",
   "language": "python",
   "name": "python3"
  },
  "language_info": {
   "codemirror_mode": {
    "name": "ipython",
    "version": 3
   },
   "file_extension": ".py",
   "mimetype": "text/x-python",
   "name": "python",
   "nbconvert_exporter": "python",
   "pygments_lexer": "ipython3",
   "version": "3.10.9"
  }
 },
 "nbformat": 4,
 "nbformat_minor": 5
}
