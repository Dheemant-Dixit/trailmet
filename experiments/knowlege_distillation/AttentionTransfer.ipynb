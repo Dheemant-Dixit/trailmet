{
 "cells": [
  {
   "cell_type": "code",
   "execution_count": 39,
   "metadata": {
    "id": "CP9FUD9yVTn3"
   },
   "outputs": [],
   "source": [
    "from trailmet.algorithms.distill.attention_transfer import AttentionTransfer\n",
    "import torch\n",
    "import torchvision\n",
    "import torch.nn as nn\n",
    "from torchvision import transforms\n",
    "from torch.utils.data import DataLoader\n",
    "\n",
    "from tqdm import tqdm\n",
    "from sklearn.metrics import accuracy_score\n",
    "import numpy as np"
   ]
  },
  {
   "cell_type": "markdown",
   "metadata": {
    "id": "pC124keNVTn6"
   },
   "source": [
    "# Dataset"
   ]
  },
  {
   "cell_type": "code",
   "execution_count": 40,
   "metadata": {
    "id": "_mHEwwycVTn8"
   },
   "outputs": [],
   "source": [
    "device = torch.device('cuda' if torch.cuda.is_available() else 'cpu')"
   ]
  },
  {
   "cell_type": "code",
   "execution_count": 41,
   "metadata": {
    "id": "0EwK_RVoVTn8"
   },
   "outputs": [],
   "source": [
    "transform_train = transforms.Compose(\n",
    "                [\n",
    "                    transforms.ToTensor(),\n",
    "                    transforms.Pad(4, padding_mode='reflect'),\n",
    "                    transforms.RandomHorizontalFlip(p=0.5),\n",
    "                    transforms.RandomCrop(32),\n",
    "                    transforms.Normalize((0.4914, 0.4822, 0.4465), (0.247, 0.243, 0.261))\n",
    "                ]\n",
    "            )\n",
    "\n",
    "transform_test = transforms.Compose(\n",
    "                [\n",
    "                    transforms.ToTensor(),\n",
    "                    transforms.Normalize((0.4914, 0.4822, 0.4465), (0.247, 0.243, 0.261))\n",
    "                ]\n",
    "            )\n",
    "\n",
    "transforms1 = {\n",
    "    'train': transform_train, \n",
    "    'val': transform_test, \n",
    "    'test': transform_test}\n",
    "\n",
    "target_transforms = {\n",
    "    'train': None, \n",
    "    'val': None, \n",
    "    'test': None}"
   ]
  },
  {
   "cell_type": "code",
   "execution_count": 42,
   "metadata": {
    "colab": {
     "base_uri": "https://localhost:8080/"
    },
    "id": "PHFlUHnSgRTD",
    "outputId": "16679e32-060c-443b-96d6-ddc57a7e4f58"
   },
   "outputs": [
    {
     "name": "stdout",
     "output_type": "stream",
     "text": [
      "Files already downloaded and verified\n",
      "Files already downloaded and verified\n",
      "Files already downloaded and verified\n"
     ]
    }
   ],
   "source": [
    "from trailmet.datasets.classification import DatasetFactory\n",
    "\n",
    "cifar_dataset = DatasetFactory.create_dataset(name = 'CIFAR10', \n",
    "                                        root = \"./data\",\n",
    "                                        split_types = ['train', 'val', 'test'],\n",
    "                                        val_fraction = 0.1,\n",
    "                                        transform = transforms1,\n",
    "                                        target_transform = target_transforms,\n",
    "                                        random_seed=42\n",
    "                                        )"
   ]
  },
  {
   "cell_type": "code",
   "execution_count": 43,
   "metadata": {
    "id": "PRVfJ1rig3YY"
   },
   "outputs": [],
   "source": [
    "train_loader = torch.utils.data.DataLoader(\n",
    "        cifar_dataset['train_dataset'], batch_size=128, \n",
    "        sampler=cifar_dataset['train_sampler'],\n",
    "        num_workers=2\n",
    "    )\n",
    "\n",
    "val_loader = torch.utils.data.DataLoader(\n",
    "        cifar_dataset['val_dataset'], batch_size=128, \n",
    "        sampler=cifar_dataset['val_sampler'],\n",
    "        num_workers=2\n",
    "    )\n",
    "\n",
    "test_loader = torch.utils.data.DataLoader(\n",
    "        cifar_dataset['test_dataset'], batch_size=128, \n",
    "        sampler=cifar_dataset['test_sampler'],\n",
    "        num_workers=2\n",
    "    )"
   ]
  },
  {
   "cell_type": "code",
   "execution_count": 44,
   "metadata": {
    "id": "UE7yYGUUiZ3U"
   },
   "outputs": [],
   "source": [
    "dataloaders = {'train':train_loader, 'val':val_loader, 'test':test_loader}"
   ]
  },
  {
   "cell_type": "markdown",
   "metadata": {
    "id": "frJVv5qoVTn_"
   },
   "source": [
    "# Model"
   ]
  },
  {
   "cell_type": "code",
   "execution_count": 45,
   "metadata": {
    "id": "msaBLaXRVToA"
   },
   "outputs": [],
   "source": [
    "import torch\n",
    "import torch.nn as nn\n",
    "import torch.nn.functional as F\n",
    "\n",
    "class BasicBlock(nn.Module):\n",
    "    def __init__(self, in_planes, out_planes, stride, dropRate=0.0):\n",
    "        super(BasicBlock, self).__init__()\n",
    "        self.bn1 = nn.BatchNorm2d(in_planes)\n",
    "        self.relu1 = nn.ReLU(inplace=True)\n",
    "        self.conv1 = nn.Conv2d(in_planes, out_planes, kernel_size=3, stride=stride,\n",
    "                               padding=1, bias=False)\n",
    "        self.bn2 = nn.BatchNorm2d(out_planes)\n",
    "        self.relu2 = nn.ReLU(inplace=True)\n",
    "        self.conv2 = nn.Conv2d(out_planes, out_planes, kernel_size=3, stride=1,\n",
    "                               padding=1, bias=False)\n",
    "        self.droprate = dropRate\n",
    "        self.equalInOut = (in_planes == out_planes)\n",
    "        self.convShortcut = (not self.equalInOut) and nn.Conv2d(in_planes, out_planes, kernel_size=1, stride=stride,\n",
    "                               padding=0, bias=False) or None\n",
    "    def forward(self, x):\n",
    "        if not self.equalInOut:\n",
    "            x = self.relu1(self.bn1(x))\n",
    "        else:\n",
    "            out = self.relu1(self.bn1(x))\n",
    "        out = self.relu2(self.bn2(self.conv1(out if self.equalInOut else x)))\n",
    "        if self.droprate > 0:\n",
    "            out = F.dropout(out, p=self.droprate, training=self.training)\n",
    "        out = self.conv2(out)\n",
    "        return torch.add(x if self.equalInOut else self.convShortcut(x), out)\n",
    "\n",
    "class NetworkBlock(nn.Module):\n",
    "    def __init__(self, nb_layers, in_planes, out_planes, block, stride, dropRate=0.0):\n",
    "        super(NetworkBlock, self).__init__()\n",
    "        self.layer = self._make_layer(block, in_planes, out_planes, nb_layers, stride, dropRate)\n",
    "    def _make_layer(self, block, in_planes, out_planes, nb_layers, stride, dropRate):\n",
    "        layers = []\n",
    "        for i in range(int(nb_layers)):\n",
    "            layers.append(block(i == 0 and in_planes or out_planes, out_planes, i == 0 and stride or 1, dropRate))\n",
    "        return nn.Sequential(*layers)\n",
    "    def forward(self, x):\n",
    "        return self.layer(x)\n",
    "\n",
    "class WideResNet(nn.Module):\n",
    "    def __init__(self, depth, num_classes, widen_factor=1, dropRate=0.0):\n",
    "        super(WideResNet, self).__init__()\n",
    "        nChannels = [16, 16*widen_factor, 32*widen_factor, 64*widen_factor]\n",
    "        assert((depth - 4) % 6 == 0)\n",
    "        n = (depth - 4) / 6\n",
    "        block = BasicBlock\n",
    "        # 1st conv before any network block\n",
    "        self.conv1 = nn.Conv2d(3, nChannels[0], kernel_size=3, stride=1,\n",
    "                               padding=1, bias=False)\n",
    "        # 1st block\n",
    "        self.block1 = NetworkBlock(n, nChannels[0], nChannels[1], block, 1, dropRate)\n",
    "        # 2nd block\n",
    "        self.block2 = NetworkBlock(n, nChannels[1], nChannels[2], block, 2, dropRate)\n",
    "        # 3rd block\n",
    "        self.block3 = NetworkBlock(n, nChannels[2], nChannels[3], block, 2, dropRate)\n",
    "        # global average pooling and classifier\n",
    "        self.bn1 = nn.BatchNorm2d(nChannels[3])\n",
    "        self.relu = nn.ReLU(inplace=True)\n",
    "        self.fc = nn.Linear(nChannels[3], num_classes)\n",
    "        self.nChannels = nChannels[3]\n",
    "\n",
    "        for m in self.modules():\n",
    "            if isinstance(m, nn.Conv2d):\n",
    "                nn.init.kaiming_normal_(m.weight, mode='fan_out', nonlinearity='relu')\n",
    "            elif isinstance(m, nn.BatchNorm2d):\n",
    "                m.weight.data.fill_(1)\n",
    "                m.bias.data.zero_()\n",
    "            elif isinstance(m, nn.Linear):\n",
    "                m.bias.data.zero_()\n",
    "    def forward(self, x):\n",
    "        out = self.conv1(x)\n",
    "        out1 = self.block1(out)\n",
    "        out2 = self.block2(out1)\n",
    "        out3 = self.block3(out2)\n",
    "        out = self.relu(self.bn1(out3))\n",
    "        out = F.avg_pool2d(out, 8)\n",
    "        out = out.view(-1, self.nChannels)\n",
    "\n",
    "        return self.fc(out)\n",
    "\n",
    "\n",
    "def make_wideresnet(depth, widen_factor, num_classes, dropRate=0.0):\n",
    "    \"\"\"Creates and returns the requested model\n",
    "\n",
    "    Parameters\n",
    "    ----------\n",
    "    depth : int\n",
    "    widen_factor : int\n",
    "    num_classes : int\n",
    "    dropRate : float, optional\n",
    "\n",
    "    Returns\n",
    "    -------\n",
    "    WideResNet model\n",
    "\n",
    "    \"\"\"\n",
    "    model = WideResNet(depth, num_classes, widen_factor, dropRate)\n",
    "    return model"
   ]
  },
  {
   "cell_type": "code",
   "execution_count": 46,
   "metadata": {
    "colab": {
     "base_uri": "https://localhost:8080/"
    },
    "id": "XifOZKPAVToB",
    "outputId": "66944f36-0649-4f89-ae60-de9166135b96"
   },
   "outputs": [
    {
     "data": {
      "text/plain": [
       "WideResNet(\n",
       "  (conv1): Conv2d(3, 16, kernel_size=(3, 3), stride=(1, 1), padding=(1, 1), bias=False)\n",
       "  (block1): NetworkBlock(\n",
       "    (layer): Sequential(\n",
       "      (0): BasicBlock(\n",
       "        (bn1): BatchNorm2d(16, eps=1e-05, momentum=0.1, affine=True, track_running_stats=True)\n",
       "        (relu1): ReLU(inplace=True)\n",
       "        (conv1): Conv2d(16, 16, kernel_size=(3, 3), stride=(1, 1), padding=(1, 1), bias=False)\n",
       "        (bn2): BatchNorm2d(16, eps=1e-05, momentum=0.1, affine=True, track_running_stats=True)\n",
       "        (relu2): ReLU(inplace=True)\n",
       "        (conv2): Conv2d(16, 16, kernel_size=(3, 3), stride=(1, 1), padding=(1, 1), bias=False)\n",
       "      )\n",
       "      (1): BasicBlock(\n",
       "        (bn1): BatchNorm2d(16, eps=1e-05, momentum=0.1, affine=True, track_running_stats=True)\n",
       "        (relu1): ReLU(inplace=True)\n",
       "        (conv1): Conv2d(16, 16, kernel_size=(3, 3), stride=(1, 1), padding=(1, 1), bias=False)\n",
       "        (bn2): BatchNorm2d(16, eps=1e-05, momentum=0.1, affine=True, track_running_stats=True)\n",
       "        (relu2): ReLU(inplace=True)\n",
       "        (conv2): Conv2d(16, 16, kernel_size=(3, 3), stride=(1, 1), padding=(1, 1), bias=False)\n",
       "      )\n",
       "    )\n",
       "  )\n",
       "  (block2): NetworkBlock(\n",
       "    (layer): Sequential(\n",
       "      (0): BasicBlock(\n",
       "        (bn1): BatchNorm2d(16, eps=1e-05, momentum=0.1, affine=True, track_running_stats=True)\n",
       "        (relu1): ReLU(inplace=True)\n",
       "        (conv1): Conv2d(16, 32, kernel_size=(3, 3), stride=(2, 2), padding=(1, 1), bias=False)\n",
       "        (bn2): BatchNorm2d(32, eps=1e-05, momentum=0.1, affine=True, track_running_stats=True)\n",
       "        (relu2): ReLU(inplace=True)\n",
       "        (conv2): Conv2d(32, 32, kernel_size=(3, 3), stride=(1, 1), padding=(1, 1), bias=False)\n",
       "        (convShortcut): Conv2d(16, 32, kernel_size=(1, 1), stride=(2, 2), bias=False)\n",
       "      )\n",
       "      (1): BasicBlock(\n",
       "        (bn1): BatchNorm2d(32, eps=1e-05, momentum=0.1, affine=True, track_running_stats=True)\n",
       "        (relu1): ReLU(inplace=True)\n",
       "        (conv1): Conv2d(32, 32, kernel_size=(3, 3), stride=(1, 1), padding=(1, 1), bias=False)\n",
       "        (bn2): BatchNorm2d(32, eps=1e-05, momentum=0.1, affine=True, track_running_stats=True)\n",
       "        (relu2): ReLU(inplace=True)\n",
       "        (conv2): Conv2d(32, 32, kernel_size=(3, 3), stride=(1, 1), padding=(1, 1), bias=False)\n",
       "      )\n",
       "    )\n",
       "  )\n",
       "  (block3): NetworkBlock(\n",
       "    (layer): Sequential(\n",
       "      (0): BasicBlock(\n",
       "        (bn1): BatchNorm2d(32, eps=1e-05, momentum=0.1, affine=True, track_running_stats=True)\n",
       "        (relu1): ReLU(inplace=True)\n",
       "        (conv1): Conv2d(32, 64, kernel_size=(3, 3), stride=(2, 2), padding=(1, 1), bias=False)\n",
       "        (bn2): BatchNorm2d(64, eps=1e-05, momentum=0.1, affine=True, track_running_stats=True)\n",
       "        (relu2): ReLU(inplace=True)\n",
       "        (conv2): Conv2d(64, 64, kernel_size=(3, 3), stride=(1, 1), padding=(1, 1), bias=False)\n",
       "        (convShortcut): Conv2d(32, 64, kernel_size=(1, 1), stride=(2, 2), bias=False)\n",
       "      )\n",
       "      (1): BasicBlock(\n",
       "        (bn1): BatchNorm2d(64, eps=1e-05, momentum=0.1, affine=True, track_running_stats=True)\n",
       "        (relu1): ReLU(inplace=True)\n",
       "        (conv1): Conv2d(64, 64, kernel_size=(3, 3), stride=(1, 1), padding=(1, 1), bias=False)\n",
       "        (bn2): BatchNorm2d(64, eps=1e-05, momentum=0.1, affine=True, track_running_stats=True)\n",
       "        (relu2): ReLU(inplace=True)\n",
       "        (conv2): Conv2d(64, 64, kernel_size=(3, 3), stride=(1, 1), padding=(1, 1), bias=False)\n",
       "      )\n",
       "    )\n",
       "  )\n",
       "  (bn1): BatchNorm2d(64, eps=1e-05, momentum=0.1, affine=True, track_running_stats=True)\n",
       "  (relu): ReLU(inplace=True)\n",
       "  (fc): Linear(in_features=64, out_features=10, bias=True)\n",
       ")"
      ]
     },
     "execution_count": 46,
     "metadata": {},
     "output_type": "execute_result"
    }
   ],
   "source": [
    "teacher_model = make_wideresnet(16, 2, 10)\n",
    "student_model = make_wideresnet(16, 1, 10)\n",
    "\n",
    "teacher_model.to(device)\n",
    "student_model.to(device)"
   ]
  },
  {
   "cell_type": "code",
   "execution_count": 47,
   "metadata": {
    "colab": {
     "base_uri": "https://localhost:8080/"
    },
    "id": "y-liOye7jOgP",
    "outputId": "8a37df07-e7c6-44af-edc9-2ef1bc1401c9"
   },
   "outputs": [
    {
     "data": {
      "text/plain": [
       "<All keys matched successfully>"
      ]
     },
     "execution_count": 47,
     "metadata": {},
     "output_type": "execute_result"
    }
   ],
   "source": [
    "teacher_model.load_state_dict(torch.load('./wrn-16-2-(94.02).pt'))"
   ]
  },
  {
   "cell_type": "code",
   "execution_count": 48,
   "metadata": {
    "id": "hRYn1mSWVToB"
   },
   "outputs": [],
   "source": [
    "kwargs = {\n",
    "    'DISTILL_ARGS' : {\n",
    "        'BETA':1000,\n",
    "        'EPOCHS':200,\n",
    "        'LR':0.1,\n",
    "        'WEIGHT_DECAY':0.0005,\n",
    "        'TEACHER_LAYER_NAMES':['block1', 'block2', 'block3'],\n",
    "        'STUDENT_LAYER_NAMES':['block1', 'block2', 'block3'],\n",
    "    },\n",
    "    'DEVICE' : device,\n",
    "    'log_dir' : 'at_wrn16x1'\n",
    "}"
   ]
  },
  {
   "cell_type": "code",
   "execution_count": 49,
   "metadata": {
    "id": "1f1tmxodVToB"
   },
   "outputs": [],
   "source": [
    "box = AttentionTransfer(teacher_model, student_model, dataloaders, **kwargs)"
   ]
  },
  {
   "cell_type": "code",
   "execution_count": 50,
   "metadata": {
    "colab": {
     "base_uri": "https://localhost:8080/"
    },
    "id": "lQWD6lfzVToC",
    "outputId": "5822e17c-484f-440a-f258-ebcb753e429a"
   },
   "outputs": [
    {
     "name": "stdout",
     "output_type": "stream",
     "text": [
      "=====TRAINING STUDENT NETWORK=====\n",
      "Epoch: 1\n"
     ]
    },
    {
     "name": "stderr",
     "output_type": "stream",
     "text": [
      "100%|██████████████████████████████████████████████████████████████████████████████████████████████████████████| 352/352 [00:16<00:00, 21.63it/s, loss=3.33]\n",
      "100%|█████████████████████████████████████████████████████████████████████████████████████████████████| 40/40 [00:00<00:00, 41.25it/s, acc=0.589, loss=2.73]\n"
     ]
    },
    {
     "name": "stdout",
     "output_type": "stream",
     "text": [
      "**Saving checkpoint**\n",
      "Epoch: 2\n"
     ]
    },
    {
     "name": "stderr",
     "output_type": "stream",
     "text": [
      "100%|██████████████████████████████████████████████████████████████████████████████████████████████████████████| 352/352 [00:16<00:00, 21.91it/s, loss=2.41]\n",
      "100%|█████████████████████████████████████████████████████████████████████████████████████████████████| 40/40 [00:01<00:00, 38.35it/s, acc=0.706, loss=2.36]\n"
     ]
    },
    {
     "name": "stdout",
     "output_type": "stream",
     "text": [
      "**Saving checkpoint**\n",
      "Epoch: 3\n"
     ]
    },
    {
     "name": "stderr",
     "output_type": "stream",
     "text": [
      "100%|██████████████████████████████████████████████████████████████████████████████████████████████████████████| 352/352 [00:16<00:00, 21.27it/s, loss=2.09]\n",
      "100%|█████████████████████████████████████████████████████████████████████████████████████████████████| 40/40 [00:01<00:00, 39.33it/s, acc=0.687, loss=2.32]\n"
     ]
    },
    {
     "name": "stdout",
     "output_type": "stream",
     "text": [
      "Epoch: 4\n"
     ]
    },
    {
     "name": "stderr",
     "output_type": "stream",
     "text": [
      "100%|██████████████████████████████████████████████████████████████████████████████████████████████████████████| 352/352 [00:16<00:00, 21.13it/s, loss=1.91]\n",
      "100%|█████████████████████████████████████████████████████████████████████████████████████████████████| 40/40 [00:01<00:00, 34.79it/s, acc=0.773, loss=1.97]\n"
     ]
    },
    {
     "name": "stdout",
     "output_type": "stream",
     "text": [
      "**Saving checkpoint**\n",
      "Epoch: 5\n"
     ]
    },
    {
     "name": "stderr",
     "output_type": "stream",
     "text": [
      "100%|██████████████████████████████████████████████████████████████████████████████████████████████████████████| 352/352 [00:16<00:00, 21.83it/s, loss=1.79]\n",
      "100%|█████████████████████████████████████████████████████████████████████████████████████████████████| 40/40 [00:01<00:00, 36.17it/s, acc=0.677, loss=2.29]\n"
     ]
    },
    {
     "name": "stdout",
     "output_type": "stream",
     "text": [
      "Epoch: 6\n"
     ]
    },
    {
     "name": "stderr",
     "output_type": "stream",
     "text": [
      "100%|███████████████████████████████████████████████████████████████████████████████████████████████████████████| 352/352 [00:16<00:00, 21.53it/s, loss=1.7]\n",
      "100%|█████████████████████████████████████████████████████████████████████████████████████████████████| 40/40 [00:01<00:00, 39.75it/s, acc=0.803, loss=1.78]\n"
     ]
    },
    {
     "name": "stdout",
     "output_type": "stream",
     "text": [
      "**Saving checkpoint**\n",
      "Epoch: 7\n"
     ]
    },
    {
     "name": "stderr",
     "output_type": "stream",
     "text": [
      "100%|██████████████████████████████████████████████████████████████████████████████████████████████████████████| 352/352 [00:15<00:00, 22.15it/s, loss=1.64]\n",
      "100%|█████████████████████████████████████████████████████████████████████████████████████████████████| 40/40 [00:01<00:00, 32.78it/s, acc=0.766, loss=1.87]\n"
     ]
    },
    {
     "name": "stdout",
     "output_type": "stream",
     "text": [
      "Epoch: 8\n"
     ]
    },
    {
     "name": "stderr",
     "output_type": "stream",
     "text": [
      "100%|██████████████████████████████████████████████████████████████████████████████████████████████████████████| 352/352 [00:16<00:00, 21.45it/s, loss=1.58]\n",
      "100%|█████████████████████████████████████████████████████████████████████████████████████████████████| 40/40 [00:01<00:00, 38.46it/s, acc=0.801, loss=1.77]\n"
     ]
    },
    {
     "name": "stdout",
     "output_type": "stream",
     "text": [
      "Epoch: 9\n"
     ]
    },
    {
     "name": "stderr",
     "output_type": "stream",
     "text": [
      "100%|██████████████████████████████████████████████████████████████████████████████████████████████████████████| 352/352 [00:16<00:00, 21.70it/s, loss=1.55]\n",
      "100%|█████████████████████████████████████████████████████████████████████████████████████████████████| 40/40 [00:00<00:00, 40.87it/s, acc=0.767, loss=1.89]\n"
     ]
    },
    {
     "name": "stdout",
     "output_type": "stream",
     "text": [
      "Epoch: 10\n"
     ]
    },
    {
     "name": "stderr",
     "output_type": "stream",
     "text": [
      "100%|██████████████████████████████████████████████████████████████████████████████████████████████████████████| 352/352 [00:16<00:00, 21.59it/s, loss=1.51]\n",
      "100%|█████████████████████████████████████████████████████████████████████████████████████████████████| 40/40 [00:01<00:00, 38.03it/s, acc=0.767, loss=1.86]\n"
     ]
    },
    {
     "name": "stdout",
     "output_type": "stream",
     "text": [
      "Epoch: 11\n"
     ]
    },
    {
     "name": "stderr",
     "output_type": "stream",
     "text": [
      "100%|██████████████████████████████████████████████████████████████████████████████████████████████████████████| 352/352 [00:16<00:00, 21.55it/s, loss=1.49]\n",
      "100%|█████████████████████████████████████████████████████████████████████████████████████████████████| 40/40 [00:01<00:00, 39.80it/s, acc=0.788, loss=1.86]\n"
     ]
    },
    {
     "name": "stdout",
     "output_type": "stream",
     "text": [
      "Epoch: 12\n"
     ]
    },
    {
     "name": "stderr",
     "output_type": "stream",
     "text": [
      "100%|██████████████████████████████████████████████████████████████████████████████████████████████████████████| 352/352 [00:16<00:00, 21.52it/s, loss=1.46]\n",
      "100%|██████████████████████████████████████████████████████████████████████████████████████████████████| 40/40 [00:01<00:00, 35.86it/s, acc=0.777, loss=1.8]\n"
     ]
    },
    {
     "name": "stdout",
     "output_type": "stream",
     "text": [
      "Epoch: 13\n"
     ]
    },
    {
     "name": "stderr",
     "output_type": "stream",
     "text": [
      "100%|██████████████████████████████████████████████████████████████████████████████████████████████████████████| 352/352 [00:16<00:00, 21.55it/s, loss=1.45]\n",
      "100%|█████████████████████████████████████████████████████████████████████████████████████████████████| 40/40 [00:01<00:00, 37.40it/s, acc=0.772, loss=1.83]\n"
     ]
    },
    {
     "name": "stdout",
     "output_type": "stream",
     "text": [
      "Epoch: 14\n"
     ]
    },
    {
     "name": "stderr",
     "output_type": "stream",
     "text": [
      "100%|██████████████████████████████████████████████████████████████████████████████████████████████████████████| 352/352 [00:16<00:00, 21.94it/s, loss=1.43]\n",
      "100%|██████████████████████████████████████████████████████████████████████████████████████████████████| 40/40 [00:01<00:00, 39.46it/s, acc=0.75, loss=1.92]\n"
     ]
    },
    {
     "name": "stdout",
     "output_type": "stream",
     "text": [
      "Epoch: 15\n"
     ]
    },
    {
     "name": "stderr",
     "output_type": "stream",
     "text": [
      "100%|██████████████████████████████████████████████████████████████████████████████████████████████████████████| 352/352 [00:16<00:00, 21.49it/s, loss=1.42]\n",
      "100%|█████████████████████████████████████████████████████████████████████████████████████████████████| 40/40 [00:01<00:00, 37.60it/s, acc=0.817, loss=1.65]\n"
     ]
    },
    {
     "name": "stdout",
     "output_type": "stream",
     "text": [
      "**Saving checkpoint**\n",
      "Epoch: 16\n"
     ]
    },
    {
     "name": "stderr",
     "output_type": "stream",
     "text": [
      "100%|██████████████████████████████████████████████████████████████████████████████████████████████████████████| 352/352 [00:16<00:00, 21.58it/s, loss=1.39]\n",
      "100%|████████████████████████████████████████████████████████████████████████████████████████████████████| 40/40 [00:01<00:00, 39.88it/s, acc=0.719, loss=2]\n"
     ]
    },
    {
     "name": "stdout",
     "output_type": "stream",
     "text": [
      "Epoch: 17\n"
     ]
    },
    {
     "name": "stderr",
     "output_type": "stream",
     "text": [
      "100%|██████████████████████████████████████████████████████████████████████████████████████████████████████████| 352/352 [00:16<00:00, 21.80it/s, loss=1.39]\n",
      "100%|█████████████████████████████████████████████████████████████████████████████████████████████████| 40/40 [00:01<00:00, 37.97it/s, acc=0.809, loss=1.64]\n"
     ]
    },
    {
     "name": "stdout",
     "output_type": "stream",
     "text": [
      "Epoch: 18\n"
     ]
    },
    {
     "name": "stderr",
     "output_type": "stream",
     "text": [
      "100%|██████████████████████████████████████████████████████████████████████████████████████████████████████████| 352/352 [00:16<00:00, 21.76it/s, loss=1.38]\n",
      "100%|██████████████████████████████████████████████████████████████████████████████████████████████████| 40/40 [00:01<00:00, 39.02it/s, acc=0.75, loss=1.86]\n"
     ]
    },
    {
     "name": "stdout",
     "output_type": "stream",
     "text": [
      "Epoch: 19\n"
     ]
    },
    {
     "name": "stderr",
     "output_type": "stream",
     "text": [
      "100%|██████████████████████████████████████████████████████████████████████████████████████████████████████████| 352/352 [00:16<00:00, 21.02it/s, loss=1.37]\n",
      "100%|█████████████████████████████████████████████████████████████████████████████████████████████████| 40/40 [00:01<00:00, 39.15it/s, acc=0.831, loss=1.58]\n"
     ]
    },
    {
     "name": "stdout",
     "output_type": "stream",
     "text": [
      "**Saving checkpoint**\n",
      "Epoch: 20\n"
     ]
    },
    {
     "name": "stderr",
     "output_type": "stream",
     "text": [
      "100%|██████████████████████████████████████████████████████████████████████████████████████████████████████████| 352/352 [00:16<00:00, 21.81it/s, loss=1.37]\n",
      "100%|█████████████████████████████████████████████████████████████████████████████████████████████████| 40/40 [00:01<00:00, 38.44it/s, acc=0.826, loss=1.67]\n"
     ]
    },
    {
     "name": "stdout",
     "output_type": "stream",
     "text": [
      "Epoch: 21\n"
     ]
    },
    {
     "name": "stderr",
     "output_type": "stream",
     "text": [
      "100%|██████████████████████████████████████████████████████████████████████████████████████████████████████████| 352/352 [00:16<00:00, 21.38it/s, loss=1.36]\n",
      "100%|█████████████████████████████████████████████████████████████████████████████████████████████████| 40/40 [00:01<00:00, 37.77it/s, acc=0.791, loss=1.74]\n"
     ]
    },
    {
     "name": "stdout",
     "output_type": "stream",
     "text": [
      "Epoch: 22\n"
     ]
    },
    {
     "name": "stderr",
     "output_type": "stream",
     "text": [
      "100%|██████████████████████████████████████████████████████████████████████████████████████████████████████████| 352/352 [00:16<00:00, 21.22it/s, loss=1.34]\n",
      "100%|█████████████████████████████████████████████████████████████████████████████████████████████████| 40/40 [00:01<00:00, 37.73it/s, acc=0.822, loss=1.56]\n"
     ]
    },
    {
     "name": "stdout",
     "output_type": "stream",
     "text": [
      "Epoch: 23\n"
     ]
    },
    {
     "name": "stderr",
     "output_type": "stream",
     "text": [
      "100%|██████████████████████████████████████████████████████████████████████████████████████████████████████████| 352/352 [00:16<00:00, 21.67it/s, loss=1.34]\n",
      "100%|██████████████████████████████████████████████████████████████████████████████████████████████████| 40/40 [00:01<00:00, 37.54it/s, acc=0.805, loss=1.7]\n"
     ]
    },
    {
     "name": "stdout",
     "output_type": "stream",
     "text": [
      "Epoch: 24\n"
     ]
    },
    {
     "name": "stderr",
     "output_type": "stream",
     "text": [
      "100%|██████████████████████████████████████████████████████████████████████████████████████████████████████████| 352/352 [00:16<00:00, 21.51it/s, loss=1.34]\n",
      "100%|██████████████████████████████████████████████████████████████████████████████████████████████████| 40/40 [00:01<00:00, 38.69it/s, acc=0.791, loss=1.7]\n"
     ]
    },
    {
     "name": "stdout",
     "output_type": "stream",
     "text": [
      "Epoch: 25\n"
     ]
    },
    {
     "name": "stderr",
     "output_type": "stream",
     "text": [
      "100%|██████████████████████████████████████████████████████████████████████████████████████████████████████████| 352/352 [00:16<00:00, 21.36it/s, loss=1.33]\n",
      "100%|█████████████████████████████████████████████████████████████████████████████████████████████████| 40/40 [00:01<00:00, 38.41it/s, acc=0.832, loss=1.55]\n"
     ]
    },
    {
     "name": "stdout",
     "output_type": "stream",
     "text": [
      "**Saving checkpoint**\n",
      "Epoch: 26\n"
     ]
    },
    {
     "name": "stderr",
     "output_type": "stream",
     "text": [
      "100%|██████████████████████████████████████████████████████████████████████████████████████████████████████████| 352/352 [00:16<00:00, 21.19it/s, loss=1.32]\n",
      "100%|██████████████████████████████████████████████████████████████████████████████████████████████████| 40/40 [00:01<00:00, 39.73it/s, acc=0.813, loss=1.6]\n"
     ]
    },
    {
     "name": "stdout",
     "output_type": "stream",
     "text": [
      "Epoch: 27\n"
     ]
    },
    {
     "name": "stderr",
     "output_type": "stream",
     "text": [
      "100%|██████████████████████████████████████████████████████████████████████████████████████████████████████████| 352/352 [00:16<00:00, 21.23it/s, loss=1.32]\n",
      "100%|█████████████████████████████████████████████████████████████████████████████████████████████████| 40/40 [00:01<00:00, 38.95it/s, acc=0.778, loss=1.77]\n"
     ]
    },
    {
     "name": "stdout",
     "output_type": "stream",
     "text": [
      "Epoch: 28\n"
     ]
    },
    {
     "name": "stderr",
     "output_type": "stream",
     "text": [
      "100%|██████████████████████████████████████████████████████████████████████████████████████████████████████████| 352/352 [00:16<00:00, 21.33it/s, loss=1.32]\n",
      "100%|█████████████████████████████████████████████████████████████████████████████████████████████████| 40/40 [00:01<00:00, 39.15it/s, acc=0.826, loss=1.52]\n"
     ]
    },
    {
     "name": "stdout",
     "output_type": "stream",
     "text": [
      "Epoch: 29\n"
     ]
    },
    {
     "name": "stderr",
     "output_type": "stream",
     "text": [
      "100%|██████████████████████████████████████████████████████████████████████████████████████████████████████████| 352/352 [00:16<00:00, 21.78it/s, loss=1.31]\n",
      "100%|█████████████████████████████████████████████████████████████████████████████████████████████████| 40/40 [00:01<00:00, 38.87it/s, acc=0.828, loss=1.53]\n"
     ]
    },
    {
     "name": "stdout",
     "output_type": "stream",
     "text": [
      "Epoch: 30\n"
     ]
    },
    {
     "name": "stderr",
     "output_type": "stream",
     "text": [
      "100%|███████████████████████████████████████████████████████████████████████████████████████████████████████████| 352/352 [00:16<00:00, 21.46it/s, loss=1.3]\n",
      "100%|██████████████████████████████████████████████████████████████████████████████████████████████████| 40/40 [00:00<00:00, 42.14it/s, acc=0.821, loss=1.6]\n"
     ]
    },
    {
     "name": "stdout",
     "output_type": "stream",
     "text": [
      "Epoch: 31\n"
     ]
    },
    {
     "name": "stderr",
     "output_type": "stream",
     "text": [
      "100%|███████████████████████████████████████████████████████████████████████████████████████████████████████████| 352/352 [00:16<00:00, 21.64it/s, loss=1.3]\n",
      "100%|█████████████████████████████████████████████████████████████████████████████████████████████████| 40/40 [00:01<00:00, 36.85it/s, acc=0.829, loss=1.61]\n"
     ]
    },
    {
     "name": "stdout",
     "output_type": "stream",
     "text": [
      "Epoch: 32\n"
     ]
    },
    {
     "name": "stderr",
     "output_type": "stream",
     "text": [
      "100%|███████████████████████████████████████████████████████████████████████████████████████████████████████████| 352/352 [00:16<00:00, 21.69it/s, loss=1.3]\n",
      "100%|██████████████████████████████████████████████████████████████████████████████████████████████████| 40/40 [00:00<00:00, 42.01it/s, acc=0.83, loss=1.58]\n"
     ]
    },
    {
     "name": "stdout",
     "output_type": "stream",
     "text": [
      "Epoch: 33\n"
     ]
    },
    {
     "name": "stderr",
     "output_type": "stream",
     "text": [
      "100%|███████████████████████████████████████████████████████████████████████████████████████████████████████████| 352/352 [00:16<00:00, 21.30it/s, loss=1.3]\n",
      "100%|█████████████████████████████████████████████████████████████████████████████████████████████████| 40/40 [00:01<00:00, 39.42it/s, acc=0.849, loss=1.49]\n"
     ]
    },
    {
     "name": "stdout",
     "output_type": "stream",
     "text": [
      "**Saving checkpoint**\n",
      "Epoch: 34\n"
     ]
    },
    {
     "name": "stderr",
     "output_type": "stream",
     "text": [
      "100%|██████████████████████████████████████████████████████████████████████████████████████████████████████████| 352/352 [00:16<00:00, 21.32it/s, loss=1.29]\n",
      "100%|█████████████████████████████████████████████████████████████████████████████████████████████████| 40/40 [00:01<00:00, 39.73it/s, acc=0.819, loss=1.61]\n"
     ]
    },
    {
     "name": "stdout",
     "output_type": "stream",
     "text": [
      "Epoch: 35\n"
     ]
    },
    {
     "name": "stderr",
     "output_type": "stream",
     "text": [
      "100%|██████████████████████████████████████████████████████████████████████████████████████████████████████████| 352/352 [00:15<00:00, 22.00it/s, loss=1.29]\n",
      "100%|██████████████████████████████████████████████████████████████████████████████████████████████████| 40/40 [00:01<00:00, 34.25it/s, acc=0.796, loss=1.7]\n"
     ]
    },
    {
     "name": "stdout",
     "output_type": "stream",
     "text": [
      "Epoch: 36\n"
     ]
    },
    {
     "name": "stderr",
     "output_type": "stream",
     "text": [
      "100%|██████████████████████████████████████████████████████████████████████████████████████████████████████████| 352/352 [00:16<00:00, 21.35it/s, loss=1.29]\n",
      "100%|██████████████████████████████████████████████████████████████████████████████████████████████████| 40/40 [00:01<00:00, 39.83it/s, acc=0.806, loss=1.7]\n"
     ]
    },
    {
     "name": "stdout",
     "output_type": "stream",
     "text": [
      "Epoch: 37\n"
     ]
    },
    {
     "name": "stderr",
     "output_type": "stream",
     "text": [
      "100%|██████████████████████████████████████████████████████████████████████████████████████████████████████████| 352/352 [00:16<00:00, 21.55it/s, loss=1.28]\n",
      "100%|██████████████████████████████████████████████████████████████████████████████████████████████████| 40/40 [00:01<00:00, 37.16it/s, acc=0.79, loss=1.66]\n"
     ]
    },
    {
     "name": "stdout",
     "output_type": "stream",
     "text": [
      "Epoch: 38\n"
     ]
    },
    {
     "name": "stderr",
     "output_type": "stream",
     "text": [
      "100%|██████████████████████████████████████████████████████████████████████████████████████████████████████████| 352/352 [00:16<00:00, 21.39it/s, loss=1.28]\n",
      "100%|█████████████████████████████████████████████████████████████████████████████████████████████████| 40/40 [00:01<00:00, 39.21it/s, acc=0.781, loss=1.75]\n"
     ]
    },
    {
     "name": "stdout",
     "output_type": "stream",
     "text": [
      "Epoch: 39\n"
     ]
    },
    {
     "name": "stderr",
     "output_type": "stream",
     "text": [
      "100%|██████████████████████████████████████████████████████████████████████████████████████████████████████████| 352/352 [00:16<00:00, 21.04it/s, loss=1.28]\n",
      "100%|██████████████████████████████████████████████████████████████████████████████████████████████████| 40/40 [00:01<00:00, 39.01it/s, acc=0.819, loss=1.6]\n"
     ]
    },
    {
     "name": "stdout",
     "output_type": "stream",
     "text": [
      "Epoch: 40\n"
     ]
    },
    {
     "name": "stderr",
     "output_type": "stream",
     "text": [
      "100%|██████████████████████████████████████████████████████████████████████████████████████████████████████████| 352/352 [00:16<00:00, 21.80it/s, loss=1.28]\n",
      "100%|█████████████████████████████████████████████████████████████████████████████████████████████████| 40/40 [00:01<00:00, 38.08it/s, acc=0.836, loss=1.52]\n"
     ]
    },
    {
     "name": "stdout",
     "output_type": "stream",
     "text": [
      "Epoch: 41\n"
     ]
    },
    {
     "name": "stderr",
     "output_type": "stream",
     "text": [
      "100%|██████████████████████████████████████████████████████████████████████████████████████████████████████████| 352/352 [00:16<00:00, 21.36it/s, loss=1.28]\n",
      "100%|█████████████████████████████████████████████████████████████████████████████████████████████████| 40/40 [00:01<00:00, 35.90it/s, acc=0.824, loss=1.57]\n"
     ]
    },
    {
     "name": "stdout",
     "output_type": "stream",
     "text": [
      "Epoch: 42\n"
     ]
    },
    {
     "name": "stderr",
     "output_type": "stream",
     "text": [
      "100%|██████████████████████████████████████████████████████████████████████████████████████████████████████████| 352/352 [00:16<00:00, 21.54it/s, loss=1.28]\n",
      "100%|█████████████████████████████████████████████████████████████████████████████████████████████████| 40/40 [00:01<00:00, 36.65it/s, acc=0.766, loss=1.92]\n"
     ]
    },
    {
     "name": "stdout",
     "output_type": "stream",
     "text": [
      "Epoch: 43\n"
     ]
    },
    {
     "name": "stderr",
     "output_type": "stream",
     "text": [
      "100%|██████████████████████████████████████████████████████████████████████████████████████████████████████████| 352/352 [00:16<00:00, 21.15it/s, loss=1.27]\n",
      "100%|█████████████████████████████████████████████████████████████████████████████████████████████████| 40/40 [00:00<00:00, 41.75it/s, acc=0.821, loss=1.52]\n"
     ]
    },
    {
     "name": "stdout",
     "output_type": "stream",
     "text": [
      "Epoch: 44\n"
     ]
    },
    {
     "name": "stderr",
     "output_type": "stream",
     "text": [
      "100%|██████████████████████████████████████████████████████████████████████████████████████████████████████████| 352/352 [00:16<00:00, 21.28it/s, loss=1.26]\n",
      "100%|█████████████████████████████████████████████████████████████████████████████████████████████████| 40/40 [00:01<00:00, 36.75it/s, acc=0.852, loss=1.42]\n"
     ]
    },
    {
     "name": "stdout",
     "output_type": "stream",
     "text": [
      "**Saving checkpoint**\n",
      "Epoch: 45\n"
     ]
    },
    {
     "name": "stderr",
     "output_type": "stream",
     "text": [
      "100%|██████████████████████████████████████████████████████████████████████████████████████████████████████████| 352/352 [00:16<00:00, 21.18it/s, loss=1.27]\n",
      "100%|██████████████████████████████████████████████████████████████████████████████████████████████████| 40/40 [00:01<00:00, 38.96it/s, acc=0.785, loss=1.8]\n"
     ]
    },
    {
     "name": "stdout",
     "output_type": "stream",
     "text": [
      "Epoch: 46\n"
     ]
    },
    {
     "name": "stderr",
     "output_type": "stream",
     "text": [
      "100%|██████████████████████████████████████████████████████████████████████████████████████████████████████████| 352/352 [00:13<00:00, 26.13it/s, loss=1.27]\n",
      "100%|█████████████████████████████████████████████████████████████████████████████████████████████████| 40/40 [00:01<00:00, 36.72it/s, acc=0.846, loss=1.51]\n"
     ]
    },
    {
     "name": "stdout",
     "output_type": "stream",
     "text": [
      "Epoch: 47\n"
     ]
    },
    {
     "name": "stderr",
     "output_type": "stream",
     "text": [
      "100%|██████████████████████████████████████████████████████████████████████████████████████████████████████████| 352/352 [00:15<00:00, 22.09it/s, loss=1.26]\n",
      "100%|█████████████████████████████████████████████████████████████████████████████████████████████████| 40/40 [00:01<00:00, 38.31it/s, acc=0.831, loss=1.54]\n"
     ]
    },
    {
     "name": "stdout",
     "output_type": "stream",
     "text": [
      "Epoch: 48\n"
     ]
    },
    {
     "name": "stderr",
     "output_type": "stream",
     "text": [
      "100%|██████████████████████████████████████████████████████████████████████████████████████████████████████████| 352/352 [00:16<00:00, 21.82it/s, loss=1.27]\n",
      "100%|█████████████████████████████████████████████████████████████████████████████████████████████████| 40/40 [00:01<00:00, 36.76it/s, acc=0.822, loss=1.57]\n"
     ]
    },
    {
     "name": "stdout",
     "output_type": "stream",
     "text": [
      "Epoch: 49\n"
     ]
    },
    {
     "name": "stderr",
     "output_type": "stream",
     "text": [
      "100%|██████████████████████████████████████████████████████████████████████████████████████████████████████████| 352/352 [00:16<00:00, 21.67it/s, loss=1.26]\n",
      "100%|██████████████████████████████████████████████████████████████████████████████████████████████████| 40/40 [00:01<00:00, 36.34it/s, acc=0.867, loss=1.4]\n"
     ]
    },
    {
     "name": "stdout",
     "output_type": "stream",
     "text": [
      "**Saving checkpoint**\n",
      "Epoch: 50\n"
     ]
    },
    {
     "name": "stderr",
     "output_type": "stream",
     "text": [
      "100%|██████████████████████████████████████████████████████████████████████████████████████████████████████████| 352/352 [00:16<00:00, 21.74it/s, loss=1.26]\n",
      "100%|█████████████████████████████████████████████████████████████████████████████████████████████████| 40/40 [00:01<00:00, 33.97it/s, acc=0.822, loss=1.57]\n"
     ]
    },
    {
     "name": "stdout",
     "output_type": "stream",
     "text": [
      "Epoch: 51\n"
     ]
    },
    {
     "name": "stderr",
     "output_type": "stream",
     "text": [
      "100%|██████████████████████████████████████████████████████████████████████████████████████████████████████████| 352/352 [00:16<00:00, 21.79it/s, loss=1.26]\n",
      "100%|█████████████████████████████████████████████████████████████████████████████████████████████████| 40/40 [00:01<00:00, 38.06it/s, acc=0.802, loss=1.73]\n"
     ]
    },
    {
     "name": "stdout",
     "output_type": "stream",
     "text": [
      "Epoch: 52\n"
     ]
    },
    {
     "name": "stderr",
     "output_type": "stream",
     "text": [
      "100%|██████████████████████████████████████████████████████████████████████████████████████████████████████████| 352/352 [00:16<00:00, 21.52it/s, loss=1.26]\n",
      "100%|█████████████████████████████████████████████████████████████████████████████████████████████████| 40/40 [00:01<00:00, 37.33it/s, acc=0.833, loss=1.58]\n"
     ]
    },
    {
     "name": "stdout",
     "output_type": "stream",
     "text": [
      "Epoch: 53\n"
     ]
    },
    {
     "name": "stderr",
     "output_type": "stream",
     "text": [
      "100%|██████████████████████████████████████████████████████████████████████████████████████████████████████████| 352/352 [00:16<00:00, 21.47it/s, loss=1.25]\n",
      "100%|█████████████████████████████████████████████████████████████████████████████████████████████████| 40/40 [00:01<00:00, 38.19it/s, acc=0.842, loss=1.49]\n"
     ]
    },
    {
     "name": "stdout",
     "output_type": "stream",
     "text": [
      "Epoch: 54\n"
     ]
    },
    {
     "name": "stderr",
     "output_type": "stream",
     "text": [
      "100%|██████████████████████████████████████████████████████████████████████████████████████████████████████████| 352/352 [00:16<00:00, 21.04it/s, loss=1.24]\n",
      "100%|█████████████████████████████████████████████████████████████████████████████████████████████████| 40/40 [00:01<00:00, 38.32it/s, acc=0.849, loss=1.43]\n"
     ]
    },
    {
     "name": "stdout",
     "output_type": "stream",
     "text": [
      "Epoch: 55\n"
     ]
    },
    {
     "name": "stderr",
     "output_type": "stream",
     "text": [
      "100%|██████████████████████████████████████████████████████████████████████████████████████████████████████████| 352/352 [00:16<00:00, 21.74it/s, loss=1.25]\n",
      "100%|█████████████████████████████████████████████████████████████████████████████████████████████████| 40/40 [00:01<00:00, 37.18it/s, acc=0.825, loss=1.55]\n"
     ]
    },
    {
     "name": "stdout",
     "output_type": "stream",
     "text": [
      "Epoch: 56\n"
     ]
    },
    {
     "name": "stderr",
     "output_type": "stream",
     "text": [
      "100%|██████████████████████████████████████████████████████████████████████████████████████████████████████████| 352/352 [00:16<00:00, 21.42it/s, loss=1.26]\n",
      "100%|█████████████████████████████████████████████████████████████████████████████████████████████████| 40/40 [00:01<00:00, 39.90it/s, acc=0.838, loss=1.53]\n"
     ]
    },
    {
     "name": "stdout",
     "output_type": "stream",
     "text": [
      "Epoch: 57\n"
     ]
    },
    {
     "name": "stderr",
     "output_type": "stream",
     "text": [
      "100%|██████████████████████████████████████████████████████████████████████████████████████████████████████████| 352/352 [00:16<00:00, 21.92it/s, loss=1.25]\n",
      "100%|█████████████████████████████████████████████████████████████████████████████████████████████████| 40/40 [00:01<00:00, 37.28it/s, acc=0.814, loss=1.63]\n"
     ]
    },
    {
     "name": "stdout",
     "output_type": "stream",
     "text": [
      "Epoch: 58\n"
     ]
    },
    {
     "name": "stderr",
     "output_type": "stream",
     "text": [
      "100%|██████████████████████████████████████████████████████████████████████████████████████████████████████████| 352/352 [00:16<00:00, 21.44it/s, loss=1.25]\n",
      "100%|█████████████████████████████████████████████████████████████████████████████████████████████████| 40/40 [00:01<00:00, 37.86it/s, acc=0.808, loss=1.62]\n"
     ]
    },
    {
     "name": "stdout",
     "output_type": "stream",
     "text": [
      "Epoch: 59\n"
     ]
    },
    {
     "name": "stderr",
     "output_type": "stream",
     "text": [
      "100%|██████████████████████████████████████████████████████████████████████████████████████████████████████████| 352/352 [00:16<00:00, 21.30it/s, loss=1.25]\n",
      "100%|█████████████████████████████████████████████████████████████████████████████████████████████████| 40/40 [00:01<00:00, 37.18it/s, acc=0.824, loss=1.59]\n"
     ]
    },
    {
     "name": "stdout",
     "output_type": "stream",
     "text": [
      "Epoch: 60\n"
     ]
    },
    {
     "name": "stderr",
     "output_type": "stream",
     "text": [
      "100%|██████████████████████████████████████████████████████████████████████████████████████████████████████████| 352/352 [00:16<00:00, 21.62it/s, loss=1.25]\n",
      "100%|█████████████████████████████████████████████████████████████████████████████████████████████████| 40/40 [00:01<00:00, 37.77it/s, acc=0.816, loss=1.59]\n"
     ]
    },
    {
     "name": "stdout",
     "output_type": "stream",
     "text": [
      "Epoch: 61\n"
     ]
    },
    {
     "name": "stderr",
     "output_type": "stream",
     "text": [
      "100%|██████████████████████████████████████████████████████████████████████████████████████████████████████████| 352/352 [00:16<00:00, 21.00it/s, loss=1.02]\n",
      "100%|█████████████████████████████████████████████████████████████████████████████████████████████████| 40/40 [00:01<00:00, 37.72it/s, acc=0.891, loss=1.12]\n"
     ]
    },
    {
     "name": "stdout",
     "output_type": "stream",
     "text": [
      "**Saving checkpoint**\n",
      "Epoch: 62\n"
     ]
    },
    {
     "name": "stderr",
     "output_type": "stream",
     "text": [
      "100%|██████████████████████████████████████████████████████████████████████████████████████████████████████████| 352/352 [00:16<00:00, 21.95it/s, loss=0.96]\n",
      "100%|█████████████████████████████████████████████████████████████████████████████████████████████████| 40/40 [00:01<00:00, 37.49it/s, acc=0.904, loss=1.08]\n"
     ]
    },
    {
     "name": "stdout",
     "output_type": "stream",
     "text": [
      "**Saving checkpoint**\n",
      "Epoch: 63\n"
     ]
    },
    {
     "name": "stderr",
     "output_type": "stream",
     "text": [
      "100%|█████████████████████████████████████████████████████████████████████████████████████████████████████████| 352/352 [00:16<00:00, 21.52it/s, loss=0.944]\n",
      "100%|█████████████████████████████████████████████████████████████████████████████████████████████████| 40/40 [00:01<00:00, 36.44it/s, acc=0.907, loss=1.06]\n"
     ]
    },
    {
     "name": "stdout",
     "output_type": "stream",
     "text": [
      "**Saving checkpoint**\n",
      "Epoch: 64\n"
     ]
    },
    {
     "name": "stderr",
     "output_type": "stream",
     "text": [
      "100%|█████████████████████████████████████████████████████████████████████████████████████████████████████████| 352/352 [00:16<00:00, 21.44it/s, loss=0.934]\n",
      "100%|█████████████████████████████████████████████████████████████████████████████████████████████████| 40/40 [00:01<00:00, 38.37it/s, acc=0.907, loss=1.04]\n"
     ]
    },
    {
     "name": "stdout",
     "output_type": "stream",
     "text": [
      "Epoch: 65\n"
     ]
    },
    {
     "name": "stderr",
     "output_type": "stream",
     "text": [
      "100%|█████████████████████████████████████████████████████████████████████████████████████████████████████████| 352/352 [00:15<00:00, 22.08it/s, loss=0.928]\n",
      "100%|█████████████████████████████████████████████████████████████████████████████████████████████████| 40/40 [00:01<00:00, 37.67it/s, acc=0.901, loss=1.08]\n"
     ]
    },
    {
     "name": "stdout",
     "output_type": "stream",
     "text": [
      "Epoch: 66\n"
     ]
    },
    {
     "name": "stderr",
     "output_type": "stream",
     "text": [
      "100%|█████████████████████████████████████████████████████████████████████████████████████████████████████████| 352/352 [00:16<00:00, 21.66it/s, loss=0.929]\n",
      "100%|█████████████████████████████████████████████████████████████████████████████████████████████████| 40/40 [00:01<00:00, 35.53it/s, acc=0.905, loss=1.08]\n"
     ]
    },
    {
     "name": "stdout",
     "output_type": "stream",
     "text": [
      "Epoch: 67\n"
     ]
    },
    {
     "name": "stderr",
     "output_type": "stream",
     "text": [
      "100%|█████████████████████████████████████████████████████████████████████████████████████████████████████████| 352/352 [00:16<00:00, 21.66it/s, loss=0.924]\n",
      "100%|███████████████████████████████████████████████████████████████████████████████████████████████████| 40/40 [00:01<00:00, 38.87it/s, acc=0.9, loss=1.08]\n"
     ]
    },
    {
     "name": "stdout",
     "output_type": "stream",
     "text": [
      "Epoch: 68\n"
     ]
    },
    {
     "name": "stderr",
     "output_type": "stream",
     "text": [
      "100%|█████████████████████████████████████████████████████████████████████████████████████████████████████████| 352/352 [00:15<00:00, 22.00it/s, loss=0.924]\n",
      "100%|█████████████████████████████████████████████████████████████████████████████████████████████████| 40/40 [00:01<00:00, 37.92it/s, acc=0.902, loss=1.09]\n"
     ]
    },
    {
     "name": "stdout",
     "output_type": "stream",
     "text": [
      "Epoch: 69\n"
     ]
    },
    {
     "name": "stderr",
     "output_type": "stream",
     "text": [
      "100%|█████████████████████████████████████████████████████████████████████████████████████████████████████████| 352/352 [00:16<00:00, 21.40it/s, loss=0.923]\n",
      "100%|█████████████████████████████████████████████████████████████████████████████████████████████████| 40/40 [00:01<00:00, 36.28it/s, acc=0.909, loss=1.07]\n"
     ]
    },
    {
     "name": "stdout",
     "output_type": "stream",
     "text": [
      "**Saving checkpoint**\n",
      "Epoch: 70\n"
     ]
    },
    {
     "name": "stderr",
     "output_type": "stream",
     "text": [
      "100%|█████████████████████████████████████████████████████████████████████████████████████████████████████████| 352/352 [00:16<00:00, 21.50it/s, loss=0.923]\n",
      "100%|█████████████████████████████████████████████████████████████████████████████████████████████████| 40/40 [00:01<00:00, 36.53it/s, acc=0.892, loss=1.15]\n"
     ]
    },
    {
     "name": "stdout",
     "output_type": "stream",
     "text": [
      "Epoch: 71\n"
     ]
    },
    {
     "name": "stderr",
     "output_type": "stream",
     "text": [
      "100%|█████████████████████████████████████████████████████████████████████████████████████████████████████████| 352/352 [00:16<00:00, 21.12it/s, loss=0.927]\n",
      "100%|██████████████████████████████████████████████████████████████████████████████████████████████████| 40/40 [00:01<00:00, 38.51it/s, acc=0.897, loss=1.1]\n"
     ]
    },
    {
     "name": "stdout",
     "output_type": "stream",
     "text": [
      "Epoch: 72\n"
     ]
    },
    {
     "name": "stderr",
     "output_type": "stream",
     "text": [
      "100%|█████████████████████████████████████████████████████████████████████████████████████████████████████████| 352/352 [00:16<00:00, 21.53it/s, loss=0.932]\n",
      "100%|██████████████████████████████████████████████████████████████████████████████████████████████████| 40/40 [00:01<00:00, 36.05it/s, acc=0.88, loss=1.24]\n"
     ]
    },
    {
     "name": "stdout",
     "output_type": "stream",
     "text": [
      "Epoch: 73\n"
     ]
    },
    {
     "name": "stderr",
     "output_type": "stream",
     "text": [
      "100%|██████████████████████████████████████████████████████████████████████████████████████████████████████████| 352/352 [00:16<00:00, 21.57it/s, loss=0.93]\n",
      "100%|█████████████████████████████████████████████████████████████████████████████████████████████████| 40/40 [00:01<00:00, 37.99it/s, acc=0.888, loss=1.16]\n"
     ]
    },
    {
     "name": "stdout",
     "output_type": "stream",
     "text": [
      "Epoch: 74\n"
     ]
    },
    {
     "name": "stderr",
     "output_type": "stream",
     "text": [
      "100%|█████████████████████████████████████████████████████████████████████████████████████████████████████████| 352/352 [00:16<00:00, 21.25it/s, loss=0.934]\n",
      "100%|█████████████████████████████████████████████████████████████████████████████████████████████████| 40/40 [00:01<00:00, 39.32it/s, acc=0.894, loss=1.12]\n"
     ]
    },
    {
     "name": "stdout",
     "output_type": "stream",
     "text": [
      "Epoch: 75\n"
     ]
    },
    {
     "name": "stderr",
     "output_type": "stream",
     "text": [
      "100%|█████████████████████████████████████████████████████████████████████████████████████████████████████████| 352/352 [00:16<00:00, 21.52it/s, loss=0.934]\n",
      "100%|█████████████████████████████████████████████████████████████████████████████████████████████████| 40/40 [00:01<00:00, 38.22it/s, acc=0.889, loss=1.18]\n"
     ]
    },
    {
     "name": "stdout",
     "output_type": "stream",
     "text": [
      "Epoch: 76\n"
     ]
    },
    {
     "name": "stderr",
     "output_type": "stream",
     "text": [
      "100%|█████████████████████████████████████████████████████████████████████████████████████████████████████████| 352/352 [00:16<00:00, 21.66it/s, loss=0.933]\n",
      "100%|█████████████████████████████████████████████████████████████████████████████████████████████████| 40/40 [00:00<00:00, 40.12it/s, acc=0.879, loss=1.18]\n"
     ]
    },
    {
     "name": "stdout",
     "output_type": "stream",
     "text": [
      "Epoch: 77\n"
     ]
    },
    {
     "name": "stderr",
     "output_type": "stream",
     "text": [
      "100%|█████████████████████████████████████████████████████████████████████████████████████████████████████████| 352/352 [00:16<00:00, 21.30it/s, loss=0.937]\n",
      "100%|█████████████████████████████████████████████████████████████████████████████████████████████████| 40/40 [00:01<00:00, 37.32it/s, acc=0.894, loss=1.16]\n"
     ]
    },
    {
     "name": "stdout",
     "output_type": "stream",
     "text": [
      "Epoch: 78\n"
     ]
    },
    {
     "name": "stderr",
     "output_type": "stream",
     "text": [
      "100%|█████████████████████████████████████████████████████████████████████████████████████████████████████████| 352/352 [00:16<00:00, 21.74it/s, loss=0.934]\n",
      "100%|█████████████████████████████████████████████████████████████████████████████████████████████████| 40/40 [00:01<00:00, 35.78it/s, acc=0.875, loss=1.23]\n"
     ]
    },
    {
     "name": "stdout",
     "output_type": "stream",
     "text": [
      "Epoch: 79\n"
     ]
    },
    {
     "name": "stderr",
     "output_type": "stream",
     "text": [
      "100%|██████████████████████████████████████████████████████████████████████████████████████████████████████████| 352/352 [00:16<00:00, 21.81it/s, loss=0.94]\n",
      "100%|█████████████████████████████████████████████████████████████████████████████████████████████████| 40/40 [00:00<00:00, 40.27it/s, acc=0.898, loss=1.14]\n"
     ]
    },
    {
     "name": "stdout",
     "output_type": "stream",
     "text": [
      "Epoch: 80\n"
     ]
    },
    {
     "name": "stderr",
     "output_type": "stream",
     "text": [
      "100%|█████████████████████████████████████████████████████████████████████████████████████████████████████████| 352/352 [00:16<00:00, 21.43it/s, loss=0.943]\n",
      "100%|█████████████████████████████████████████████████████████████████████████████████████████████████| 40/40 [00:00<00:00, 40.48it/s, acc=0.896, loss=1.13]\n"
     ]
    },
    {
     "name": "stdout",
     "output_type": "stream",
     "text": [
      "Epoch: 81\n"
     ]
    },
    {
     "name": "stderr",
     "output_type": "stream",
     "text": [
      "100%|█████████████████████████████████████████████████████████████████████████████████████████████████████████| 352/352 [00:16<00:00, 21.97it/s, loss=0.937]\n",
      "100%|█████████████████████████████████████████████████████████████████████████████████████████████████| 40/40 [00:00<00:00, 40.56it/s, acc=0.898, loss=1.13]\n"
     ]
    },
    {
     "name": "stdout",
     "output_type": "stream",
     "text": [
      "Epoch: 82\n"
     ]
    },
    {
     "name": "stderr",
     "output_type": "stream",
     "text": [
      "100%|█████████████████████████████████████████████████████████████████████████████████████████████████████████| 352/352 [00:16<00:00, 21.87it/s, loss=0.937]\n",
      "100%|█████████████████████████████████████████████████████████████████████████████████████████████████| 40/40 [00:00<00:00, 40.01it/s, acc=0.887, loss=1.16]\n"
     ]
    },
    {
     "name": "stdout",
     "output_type": "stream",
     "text": [
      "Epoch: 83\n"
     ]
    },
    {
     "name": "stderr",
     "output_type": "stream",
     "text": [
      "100%|█████████████████████████████████████████████████████████████████████████████████████████████████████████| 352/352 [00:16<00:00, 21.84it/s, loss=0.934]\n",
      "100%|█████████████████████████████████████████████████████████████████████████████████████████████████| 40/40 [00:01<00:00, 36.05it/s, acc=0.887, loss=1.17]\n"
     ]
    },
    {
     "name": "stdout",
     "output_type": "stream",
     "text": [
      "Epoch: 84\n"
     ]
    },
    {
     "name": "stderr",
     "output_type": "stream",
     "text": [
      "100%|█████████████████████████████████████████████████████████████████████████████████████████████████████████| 352/352 [00:15<00:00, 22.04it/s, loss=0.936]\n",
      "100%|█████████████████████████████████████████████████████████████████████████████████████████████████| 40/40 [00:01<00:00, 38.30it/s, acc=0.893, loss=1.14]\n"
     ]
    },
    {
     "name": "stdout",
     "output_type": "stream",
     "text": [
      "Epoch: 85\n"
     ]
    },
    {
     "name": "stderr",
     "output_type": "stream",
     "text": [
      "100%|█████████████████████████████████████████████████████████████████████████████████████████████████████████| 352/352 [00:16<00:00, 21.30it/s, loss=0.936]\n",
      "100%|█████████████████████████████████████████████████████████████████████████████████████████████████| 40/40 [00:01<00:00, 39.00it/s, acc=0.895, loss=1.14]\n"
     ]
    },
    {
     "name": "stdout",
     "output_type": "stream",
     "text": [
      "Epoch: 86\n"
     ]
    },
    {
     "name": "stderr",
     "output_type": "stream",
     "text": [
      "100%|█████████████████████████████████████████████████████████████████████████████████████████████████████████| 352/352 [00:16<00:00, 21.93it/s, loss=0.942]\n",
      "100%|██████████████████████████████████████████████████████████████████████████████████████████████████| 40/40 [00:01<00:00, 39.37it/s, acc=0.888, loss=1.2]\n"
     ]
    },
    {
     "name": "stdout",
     "output_type": "stream",
     "text": [
      "Epoch: 87\n"
     ]
    },
    {
     "name": "stderr",
     "output_type": "stream",
     "text": [
      "100%|██████████████████████████████████████████████████████████████████████████████████████████████████████████| 352/352 [00:16<00:00, 21.69it/s, loss=0.94]\n",
      "100%|█████████████████████████████████████████████████████████████████████████████████████████████████| 40/40 [00:01<00:00, 36.05it/s, acc=0.891, loss=1.17]\n"
     ]
    },
    {
     "name": "stdout",
     "output_type": "stream",
     "text": [
      "Epoch: 88\n"
     ]
    },
    {
     "name": "stderr",
     "output_type": "stream",
     "text": [
      "100%|██████████████████████████████████████████████████████████████████████████████████████████████████████████| 352/352 [00:15<00:00, 22.55it/s, loss=0.94]\n",
      "100%|█████████████████████████████████████████████████████████████████████████████████████████████████| 40/40 [00:01<00:00, 39.38it/s, acc=0.886, loss=1.19]\n"
     ]
    },
    {
     "name": "stdout",
     "output_type": "stream",
     "text": [
      "Epoch: 89\n"
     ]
    },
    {
     "name": "stderr",
     "output_type": "stream",
     "text": [
      "100%|█████████████████████████████████████████████████████████████████████████████████████████████████████████| 352/352 [00:16<00:00, 20.95it/s, loss=0.941]\n",
      "100%|█████████████████████████████████████████████████████████████████████████████████████████████████| 40/40 [00:01<00:00, 39.85it/s, acc=0.894, loss=1.17]\n"
     ]
    },
    {
     "name": "stdout",
     "output_type": "stream",
     "text": [
      "Epoch: 90\n"
     ]
    },
    {
     "name": "stderr",
     "output_type": "stream",
     "text": [
      "100%|█████████████████████████████████████████████████████████████████████████████████████████████████████████| 352/352 [00:16<00:00, 21.28it/s, loss=0.942]\n",
      "100%|█████████████████████████████████████████████████████████████████████████████████████████████████| 40/40 [00:01<00:00, 38.92it/s, acc=0.884, loss=1.17]\n"
     ]
    },
    {
     "name": "stdout",
     "output_type": "stream",
     "text": [
      "Epoch: 91\n"
     ]
    },
    {
     "name": "stderr",
     "output_type": "stream",
     "text": [
      "100%|█████████████████████████████████████████████████████████████████████████████████████████████████████████| 352/352 [00:15<00:00, 22.01it/s, loss=0.943]\n",
      "100%|█████████████████████████████████████████████████████████████████████████████████████████████████| 40/40 [00:01<00:00, 38.49it/s, acc=0.873, loss=1.27]\n"
     ]
    },
    {
     "name": "stdout",
     "output_type": "stream",
     "text": [
      "Epoch: 92\n"
     ]
    },
    {
     "name": "stderr",
     "output_type": "stream",
     "text": [
      "100%|█████████████████████████████████████████████████████████████████████████████████████████████████████████| 352/352 [00:16<00:00, 21.53it/s, loss=0.939]\n",
      "100%|█████████████████████████████████████████████████████████████████████████████████████████████████| 40/40 [00:01<00:00, 37.37it/s, acc=0.868, loss=1.25]\n"
     ]
    },
    {
     "name": "stdout",
     "output_type": "stream",
     "text": [
      "Epoch: 93\n"
     ]
    },
    {
     "name": "stderr",
     "output_type": "stream",
     "text": [
      "100%|█████████████████████████████████████████████████████████████████████████████████████████████████████████| 352/352 [00:16<00:00, 21.57it/s, loss=0.939]\n",
      "100%|█████████████████████████████████████████████████████████████████████████████████████████████████| 40/40 [00:01<00:00, 30.95it/s, acc=0.872, loss=1.23]\n"
     ]
    },
    {
     "name": "stdout",
     "output_type": "stream",
     "text": [
      "Epoch: 94\n"
     ]
    },
    {
     "name": "stderr",
     "output_type": "stream",
     "text": [
      "100%|█████████████████████████████████████████████████████████████████████████████████████████████████████████| 352/352 [00:16<00:00, 21.65it/s, loss=0.937]\n",
      "100%|█████████████████████████████████████████████████████████████████████████████████████████████████| 40/40 [00:01<00:00, 38.18it/s, acc=0.894, loss=1.14]\n"
     ]
    },
    {
     "name": "stdout",
     "output_type": "stream",
     "text": [
      "Epoch: 95\n"
     ]
    },
    {
     "name": "stderr",
     "output_type": "stream",
     "text": [
      "100%|█████████████████████████████████████████████████████████████████████████████████████████████████████████| 352/352 [00:16<00:00, 21.54it/s, loss=0.944]\n",
      "100%|████████████████████████████████████████████████████████████████████████████████████████████████████| 40/40 [00:01<00:00, 38.92it/s, acc=0.9, loss=1.1]\n"
     ]
    },
    {
     "name": "stdout",
     "output_type": "stream",
     "text": [
      "Epoch: 96\n"
     ]
    },
    {
     "name": "stderr",
     "output_type": "stream",
     "text": [
      "100%|█████████████████████████████████████████████████████████████████████████████████████████████████████████| 352/352 [00:16<00:00, 21.77it/s, loss=0.942]\n",
      "100%|███████████████████████████████████████████████████████████████████████████████████████████████████| 40/40 [00:01<00:00, 38.89it/s, acc=0.9, loss=1.12]\n"
     ]
    },
    {
     "name": "stdout",
     "output_type": "stream",
     "text": [
      "Epoch: 97\n"
     ]
    },
    {
     "name": "stderr",
     "output_type": "stream",
     "text": [
      "100%|██████████████████████████████████████████████████████████████████████████████████████████████████████████| 352/352 [00:16<00:00, 21.30it/s, loss=0.94]\n",
      "100%|█████████████████████████████████████████████████████████████████████████████████████████████████| 40/40 [00:01<00:00, 38.16it/s, acc=0.896, loss=1.11]\n"
     ]
    },
    {
     "name": "stdout",
     "output_type": "stream",
     "text": [
      "Epoch: 98\n"
     ]
    },
    {
     "name": "stderr",
     "output_type": "stream",
     "text": [
      "100%|█████████████████████████████████████████████████████████████████████████████████████████████████████████| 352/352 [00:16<00:00, 21.45it/s, loss=0.933]\n",
      "100%|█████████████████████████████████████████████████████████████████████████████████████████████████| 40/40 [00:01<00:00, 37.97it/s, acc=0.886, loss=1.16]\n"
     ]
    },
    {
     "name": "stdout",
     "output_type": "stream",
     "text": [
      "Epoch: 99\n"
     ]
    },
    {
     "name": "stderr",
     "output_type": "stream",
     "text": [
      "100%|█████████████████████████████████████████████████████████████████████████████████████████████████████████| 352/352 [00:16<00:00, 20.88it/s, loss=0.941]\n",
      "100%|█████████████████████████████████████████████████████████████████████████████████████████████████| 40/40 [00:00<00:00, 41.11it/s, acc=0.885, loss=1.18]\n"
     ]
    },
    {
     "name": "stdout",
     "output_type": "stream",
     "text": [
      "Epoch: 100\n"
     ]
    },
    {
     "name": "stderr",
     "output_type": "stream",
     "text": [
      "100%|█████████████████████████████████████████████████████████████████████████████████████████████████████████| 352/352 [00:16<00:00, 21.55it/s, loss=0.937]\n",
      "100%|██████████████████████████████████████████████████████████████████████████████████████████████████| 40/40 [00:01<00:00, 38.71it/s, acc=0.89, loss=1.14]\n"
     ]
    },
    {
     "name": "stdout",
     "output_type": "stream",
     "text": [
      "Epoch: 101\n"
     ]
    },
    {
     "name": "stderr",
     "output_type": "stream",
     "text": [
      "100%|█████████████████████████████████████████████████████████████████████████████████████████████████████████| 352/352 [00:16<00:00, 21.22it/s, loss=0.936]\n",
      "100%|█████████████████████████████████████████████████████████████████████████████████████████████████| 40/40 [00:01<00:00, 38.27it/s, acc=0.897, loss=1.14]\n"
     ]
    },
    {
     "name": "stdout",
     "output_type": "stream",
     "text": [
      "Epoch: 102\n"
     ]
    },
    {
     "name": "stderr",
     "output_type": "stream",
     "text": [
      "100%|█████████████████████████████████████████████████████████████████████████████████████████████████████████| 352/352 [00:16<00:00, 21.45it/s, loss=0.933]\n",
      "100%|██████████████████████████████████████████████████████████████████████████████████████████████████| 40/40 [00:01<00:00, 37.06it/s, acc=0.88, loss=1.24]\n"
     ]
    },
    {
     "name": "stdout",
     "output_type": "stream",
     "text": [
      "Epoch: 103\n"
     ]
    },
    {
     "name": "stderr",
     "output_type": "stream",
     "text": [
      "100%|█████████████████████████████████████████████████████████████████████████████████████████████████████████| 352/352 [00:16<00:00, 21.41it/s, loss=0.934]\n",
      "100%|█████████████████████████████████████████████████████████████████████████████████████████████████| 40/40 [00:01<00:00, 38.24it/s, acc=0.893, loss=1.16]\n"
     ]
    },
    {
     "name": "stdout",
     "output_type": "stream",
     "text": [
      "Epoch: 104\n"
     ]
    },
    {
     "name": "stderr",
     "output_type": "stream",
     "text": [
      "100%|█████████████████████████████████████████████████████████████████████████████████████████████████████████| 352/352 [00:16<00:00, 21.44it/s, loss=0.933]\n",
      "100%|██████████████████████████████████████████████████████████████████████████████████████████████████| 40/40 [00:01<00:00, 33.55it/s, acc=0.885, loss=1.2]\n"
     ]
    },
    {
     "name": "stdout",
     "output_type": "stream",
     "text": [
      "Epoch: 105\n"
     ]
    },
    {
     "name": "stderr",
     "output_type": "stream",
     "text": [
      "100%|█████████████████████████████████████████████████████████████████████████████████████████████████████████| 352/352 [00:16<00:00, 21.09it/s, loss=0.931]\n",
      "100%|█████████████████████████████████████████████████████████████████████████████████████████████████| 40/40 [00:00<00:00, 40.16it/s, acc=0.897, loss=1.15]\n"
     ]
    },
    {
     "name": "stdout",
     "output_type": "stream",
     "text": [
      "Epoch: 106\n"
     ]
    },
    {
     "name": "stderr",
     "output_type": "stream",
     "text": [
      "100%|█████████████████████████████████████████████████████████████████████████████████████████████████████████| 352/352 [00:15<00:00, 22.09it/s, loss=0.936]\n",
      "100%|█████████████████████████████████████████████████████████████████████████████████████████████████| 40/40 [00:01<00:00, 36.64it/s, acc=0.899, loss=1.12]\n"
     ]
    },
    {
     "name": "stdout",
     "output_type": "stream",
     "text": [
      "Epoch: 107\n"
     ]
    },
    {
     "name": "stderr",
     "output_type": "stream",
     "text": [
      "100%|█████████████████████████████████████████████████████████████████████████████████████████████████████████| 352/352 [00:16<00:00, 21.73it/s, loss=0.932]\n",
      "100%|██████████████████████████████████████████████████████████████████████████████████████████████████| 40/40 [00:01<00:00, 37.90it/s, acc=0.903, loss=1.1]\n"
     ]
    },
    {
     "name": "stdout",
     "output_type": "stream",
     "text": [
      "Epoch: 108\n"
     ]
    },
    {
     "name": "stderr",
     "output_type": "stream",
     "text": [
      "100%|█████████████████████████████████████████████████████████████████████████████████████████████████████████| 352/352 [00:16<00:00, 21.87it/s, loss=0.934]\n",
      "100%|█████████████████████████████████████████████████████████████████████████████████████████████████| 40/40 [00:01<00:00, 34.77it/s, acc=0.887, loss=1.18]\n"
     ]
    },
    {
     "name": "stdout",
     "output_type": "stream",
     "text": [
      "Epoch: 109\n"
     ]
    },
    {
     "name": "stderr",
     "output_type": "stream",
     "text": [
      "100%|█████████████████████████████████████████████████████████████████████████████████████████████████████████| 352/352 [00:16<00:00, 21.81it/s, loss=0.932]\n",
      "100%|█████████████████████████████████████████████████████████████████████████████████████████████████| 40/40 [00:01<00:00, 39.17it/s, acc=0.891, loss=1.17]\n"
     ]
    },
    {
     "name": "stdout",
     "output_type": "stream",
     "text": [
      "Epoch: 110\n"
     ]
    },
    {
     "name": "stderr",
     "output_type": "stream",
     "text": [
      "100%|█████████████████████████████████████████████████████████████████████████████████████████████████████████| 352/352 [00:16<00:00, 21.22it/s, loss=0.924]\n",
      "100%|█████████████████████████████████████████████████████████████████████████████████████████████████| 40/40 [00:01<00:00, 38.17it/s, acc=0.891, loss=1.16]\n"
     ]
    },
    {
     "name": "stdout",
     "output_type": "stream",
     "text": [
      "Epoch: 111\n"
     ]
    },
    {
     "name": "stderr",
     "output_type": "stream",
     "text": [
      "100%|█████████████████████████████████████████████████████████████████████████████████████████████████████████| 352/352 [00:16<00:00, 21.66it/s, loss=0.933]\n",
      "100%|█████████████████████████████████████████████████████████████████████████████████████████████████| 40/40 [00:01<00:00, 38.10it/s, acc=0.882, loss=1.19]\n"
     ]
    },
    {
     "name": "stdout",
     "output_type": "stream",
     "text": [
      "Epoch: 112\n"
     ]
    },
    {
     "name": "stderr",
     "output_type": "stream",
     "text": [
      "100%|█████████████████████████████████████████████████████████████████████████████████████████████████████████| 352/352 [00:16<00:00, 21.36it/s, loss=0.927]\n",
      "100%|█████████████████████████████████████████████████████████████████████████████████████████████████| 40/40 [00:01<00:00, 36.73it/s, acc=0.892, loss=1.13]\n"
     ]
    },
    {
     "name": "stdout",
     "output_type": "stream",
     "text": [
      "Epoch: 113\n"
     ]
    },
    {
     "name": "stderr",
     "output_type": "stream",
     "text": [
      "100%|█████████████████████████████████████████████████████████████████████████████████████████████████████████| 352/352 [00:16<00:00, 21.86it/s, loss=0.932]\n",
      "100%|█████████████████████████████████████████████████████████████████████████████████████████████████| 40/40 [00:01<00:00, 38.76it/s, acc=0.889, loss=1.21]\n"
     ]
    },
    {
     "name": "stdout",
     "output_type": "stream",
     "text": [
      "Epoch: 114\n"
     ]
    },
    {
     "name": "stderr",
     "output_type": "stream",
     "text": [
      "100%|█████████████████████████████████████████████████████████████████████████████████████████████████████████| 352/352 [00:16<00:00, 20.92it/s, loss=0.932]\n",
      "100%|█████████████████████████████████████████████████████████████████████████████████████████████████| 40/40 [00:01<00:00, 38.46it/s, acc=0.888, loss=1.16]\n"
     ]
    },
    {
     "name": "stdout",
     "output_type": "stream",
     "text": [
      "Epoch: 115\n"
     ]
    },
    {
     "name": "stderr",
     "output_type": "stream",
     "text": [
      "100%|█████████████████████████████████████████████████████████████████████████████████████████████████████████| 352/352 [00:16<00:00, 21.95it/s, loss=0.934]\n",
      "100%|█████████████████████████████████████████████████████████████████████████████████████████████████| 40/40 [00:00<00:00, 40.05it/s, acc=0.873, loss=1.24]\n"
     ]
    },
    {
     "name": "stdout",
     "output_type": "stream",
     "text": [
      "Epoch: 116\n"
     ]
    },
    {
     "name": "stderr",
     "output_type": "stream",
     "text": [
      "100%|█████████████████████████████████████████████████████████████████████████████████████████████████████████| 352/352 [00:16<00:00, 21.68it/s, loss=0.928]\n",
      "100%|█████████████████████████████████████████████████████████████████████████████████████████████████| 40/40 [00:01<00:00, 38.08it/s, acc=0.902, loss=1.09]\n"
     ]
    },
    {
     "name": "stdout",
     "output_type": "stream",
     "text": [
      "Epoch: 117\n"
     ]
    },
    {
     "name": "stderr",
     "output_type": "stream",
     "text": [
      "100%|█████████████████████████████████████████████████████████████████████████████████████████████████████████| 352/352 [00:16<00:00, 21.15it/s, loss=0.926]\n",
      "100%|█████████████████████████████████████████████████████████████████████████████████████████████████| 40/40 [00:01<00:00, 38.94it/s, acc=0.877, loss=1.21]\n"
     ]
    },
    {
     "name": "stdout",
     "output_type": "stream",
     "text": [
      "Epoch: 118\n"
     ]
    },
    {
     "name": "stderr",
     "output_type": "stream",
     "text": [
      "100%|█████████████████████████████████████████████████████████████████████████████████████████████████████████| 352/352 [00:16<00:00, 21.09it/s, loss=0.931]\n",
      "100%|█████████████████████████████████████████████████████████████████████████████████████████████████| 40/40 [00:01<00:00, 35.06it/s, acc=0.894, loss=1.16]\n"
     ]
    },
    {
     "name": "stdout",
     "output_type": "stream",
     "text": [
      "Epoch: 119\n"
     ]
    },
    {
     "name": "stderr",
     "output_type": "stream",
     "text": [
      "100%|█████████████████████████████████████████████████████████████████████████████████████████████████████████| 352/352 [00:16<00:00, 21.80it/s, loss=0.932]\n",
      "100%|█████████████████████████████████████████████████████████████████████████████████████████████████| 40/40 [00:01<00:00, 39.63it/s, acc=0.902, loss=1.12]\n"
     ]
    },
    {
     "name": "stdout",
     "output_type": "stream",
     "text": [
      "Epoch: 120\n"
     ]
    },
    {
     "name": "stderr",
     "output_type": "stream",
     "text": [
      "100%|█████████████████████████████████████████████████████████████████████████████████████████████████████████| 352/352 [00:16<00:00, 21.30it/s, loss=0.919]\n",
      "100%|█████████████████████████████████████████████████████████████████████████████████████████████████| 40/40 [00:01<00:00, 37.00it/s, acc=0.898, loss=1.14]\n"
     ]
    },
    {
     "name": "stdout",
     "output_type": "stream",
     "text": [
      "Epoch: 121\n"
     ]
    },
    {
     "name": "stderr",
     "output_type": "stream",
     "text": [
      "100%|█████████████████████████████████████████████████████████████████████████████████████████████████████████| 352/352 [00:16<00:00, 21.96it/s, loss=0.807]\n",
      "100%|████████████████████████████████████████████████████████████████████████████████████████████████| 40/40 [00:01<00:00, 36.99it/s, acc=0.921, loss=0.949]\n"
     ]
    },
    {
     "name": "stdout",
     "output_type": "stream",
     "text": [
      "**Saving checkpoint**\n",
      "Epoch: 122\n"
     ]
    },
    {
     "name": "stderr",
     "output_type": "stream",
     "text": [
      "100%|█████████████████████████████████████████████████████████████████████████████████████████████████████████| 352/352 [00:16<00:00, 21.09it/s, loss=0.778]\n",
      "100%|████████████████████████████████████████████████████████████████████████████████████████████████| 40/40 [00:01<00:00, 39.54it/s, acc=0.915, loss=0.962]\n"
     ]
    },
    {
     "name": "stdout",
     "output_type": "stream",
     "text": [
      "Epoch: 123\n"
     ]
    },
    {
     "name": "stderr",
     "output_type": "stream",
     "text": [
      "100%|█████████████████████████████████████████████████████████████████████████████████████████████████████████| 352/352 [00:16<00:00, 21.15it/s, loss=0.767]\n",
      "100%|████████████████████████████████████████████████████████████████████████████████████████████████| 40/40 [00:01<00:00, 39.78it/s, acc=0.921, loss=0.939]\n"
     ]
    },
    {
     "name": "stdout",
     "output_type": "stream",
     "text": [
      "**Saving checkpoint**\n",
      "Epoch: 124\n"
     ]
    },
    {
     "name": "stderr",
     "output_type": "stream",
     "text": [
      "100%|██████████████████████████████████████████████████████████████████████████████████████████████████████████| 352/352 [00:16<00:00, 21.77it/s, loss=0.76]\n",
      "100%|█████████████████████████████████████████████████████████████████████████████████████████████████| 40/40 [00:01<00:00, 38.66it/s, acc=0.921, loss=0.93]\n"
     ]
    },
    {
     "name": "stdout",
     "output_type": "stream",
     "text": [
      "Epoch: 125\n"
     ]
    },
    {
     "name": "stderr",
     "output_type": "stream",
     "text": [
      "100%|█████████████████████████████████████████████████████████████████████████████████████████████████████████| 352/352 [00:16<00:00, 21.77it/s, loss=0.757]\n",
      "100%|█████████████████████████████████████████████████████████████████████████████████████████████████| 40/40 [00:01<00:00, 36.63it/s, acc=0.92, loss=0.951]\n"
     ]
    },
    {
     "name": "stdout",
     "output_type": "stream",
     "text": [
      "Epoch: 126\n"
     ]
    },
    {
     "name": "stderr",
     "output_type": "stream",
     "text": [
      "100%|█████████████████████████████████████████████████████████████████████████████████████████████████████████| 352/352 [00:16<00:00, 21.96it/s, loss=0.753]\n",
      "100%|████████████████████████████████████████████████████████████████████████████████████████████████| 40/40 [00:01<00:00, 37.19it/s, acc=0.917, loss=0.934]\n"
     ]
    },
    {
     "name": "stdout",
     "output_type": "stream",
     "text": [
      "Epoch: 127\n"
     ]
    },
    {
     "name": "stderr",
     "output_type": "stream",
     "text": [
      "100%|█████████████████████████████████████████████████████████████████████████████████████████████████████████| 352/352 [00:16<00:00, 21.49it/s, loss=0.751]\n",
      "100%|████████████████████████████████████████████████████████████████████████████████████████████████| 40/40 [00:01<00:00, 37.07it/s, acc=0.924, loss=0.934]\n"
     ]
    },
    {
     "name": "stdout",
     "output_type": "stream",
     "text": [
      "**Saving checkpoint**\n",
      "Epoch: 128\n"
     ]
    },
    {
     "name": "stderr",
     "output_type": "stream",
     "text": [
      "100%|██████████████████████████████████████████████████████████████████████████████████████████████████████████| 352/352 [00:15<00:00, 22.09it/s, loss=0.75]\n",
      "100%|████████████████████████████████████████████████████████████████████████████████████████████████| 40/40 [00:01<00:00, 38.46it/s, acc=0.916, loss=0.947]\n"
     ]
    },
    {
     "name": "stdout",
     "output_type": "stream",
     "text": [
      "Epoch: 129\n"
     ]
    },
    {
     "name": "stderr",
     "output_type": "stream",
     "text": [
      "100%|█████████████████████████████████████████████████████████████████████████████████████████████████████████| 352/352 [00:16<00:00, 21.93it/s, loss=0.745]\n",
      "100%|████████████████████████████████████████████████████████████████████████████████████████████████| 40/40 [00:01<00:00, 37.26it/s, acc=0.922, loss=0.952]\n"
     ]
    },
    {
     "name": "stdout",
     "output_type": "stream",
     "text": [
      "Epoch: 130\n"
     ]
    },
    {
     "name": "stderr",
     "output_type": "stream",
     "text": [
      "100%|█████████████████████████████████████████████████████████████████████████████████████████████████████████| 352/352 [00:16<00:00, 21.61it/s, loss=0.745]\n",
      "100%|████████████████████████████████████████████████████████████████████████████████████████████████| 40/40 [00:01<00:00, 38.65it/s, acc=0.916, loss=0.954]\n"
     ]
    },
    {
     "name": "stdout",
     "output_type": "stream",
     "text": [
      "Epoch: 131\n"
     ]
    },
    {
     "name": "stderr",
     "output_type": "stream",
     "text": [
      "100%|█████████████████████████████████████████████████████████████████████████████████████████████████████████| 352/352 [00:16<00:00, 21.31it/s, loss=0.745]\n",
      "100%|████████████████████████████████████████████████████████████████████████████████████████████████| 40/40 [00:01<00:00, 38.92it/s, acc=0.917, loss=0.938]\n"
     ]
    },
    {
     "name": "stdout",
     "output_type": "stream",
     "text": [
      "Epoch: 132\n"
     ]
    },
    {
     "name": "stderr",
     "output_type": "stream",
     "text": [
      "100%|█████████████████████████████████████████████████████████████████████████████████████████████████████████| 352/352 [00:16<00:00, 21.80it/s, loss=0.745]\n",
      "100%|█████████████████████████████████████████████████████████████████████████████████████████████████| 40/40 [00:01<00:00, 37.11it/s, acc=0.92, loss=0.936]\n"
     ]
    },
    {
     "name": "stdout",
     "output_type": "stream",
     "text": [
      "Epoch: 133\n"
     ]
    },
    {
     "name": "stderr",
     "output_type": "stream",
     "text": [
      "100%|█████████████████████████████████████████████████████████████████████████████████████████████████████████| 352/352 [00:16<00:00, 21.74it/s, loss=0.741]\n",
      "100%|████████████████████████████████████████████████████████████████████████████████████████████████| 40/40 [00:01<00:00, 38.06it/s, acc=0.919, loss=0.948]\n"
     ]
    },
    {
     "name": "stdout",
     "output_type": "stream",
     "text": [
      "Epoch: 134\n"
     ]
    },
    {
     "name": "stderr",
     "output_type": "stream",
     "text": [
      "100%|█████████████████████████████████████████████████████████████████████████████████████████████████████████| 352/352 [00:16<00:00, 21.81it/s, loss=0.743]\n",
      "100%|█████████████████████████████████████████████████████████████████████████████████████████████████| 40/40 [00:01<00:00, 37.24it/s, acc=0.92, loss=0.934]\n"
     ]
    },
    {
     "name": "stdout",
     "output_type": "stream",
     "text": [
      "Epoch: 135\n"
     ]
    },
    {
     "name": "stderr",
     "output_type": "stream",
     "text": [
      "100%|██████████████████████████████████████████████████████████████████████████████████████████████████████████| 352/352 [00:16<00:00, 21.56it/s, loss=0.74]\n",
      "100%|████████████████████████████████████████████████████████████████████████████████████████████████| 40/40 [00:01<00:00, 38.45it/s, acc=0.915, loss=0.967]\n"
     ]
    },
    {
     "name": "stdout",
     "output_type": "stream",
     "text": [
      "Epoch: 136\n"
     ]
    },
    {
     "name": "stderr",
     "output_type": "stream",
     "text": [
      "100%|█████████████████████████████████████████████████████████████████████████████████████████████████████████| 352/352 [00:16<00:00, 21.32it/s, loss=0.737]\n",
      "100%|█████████████████████████████████████████████████████████████████████████████████████████████████| 40/40 [00:01<00:00, 37.11it/s, acc=0.921, loss=0.96]\n"
     ]
    },
    {
     "name": "stdout",
     "output_type": "stream",
     "text": [
      "Epoch: 137\n"
     ]
    },
    {
     "name": "stderr",
     "output_type": "stream",
     "text": [
      "100%|█████████████████████████████████████████████████████████████████████████████████████████████████████████| 352/352 [00:16<00:00, 21.68it/s, loss=0.739]\n",
      "100%|████████████████████████████████████████████████████████████████████████████████████████████████| 40/40 [00:01<00:00, 35.15it/s, acc=0.921, loss=0.944]\n"
     ]
    },
    {
     "name": "stdout",
     "output_type": "stream",
     "text": [
      "Epoch: 138\n"
     ]
    },
    {
     "name": "stderr",
     "output_type": "stream",
     "text": [
      "100%|█████████████████████████████████████████████████████████████████████████████████████████████████████████| 352/352 [00:16<00:00, 21.38it/s, loss=0.739]\n",
      "100%|████████████████████████████████████████████████████████████████████████████████████████████████| 40/40 [00:01<00:00, 39.01it/s, acc=0.917, loss=0.973]\n"
     ]
    },
    {
     "name": "stdout",
     "output_type": "stream",
     "text": [
      "Epoch: 139\n"
     ]
    },
    {
     "name": "stderr",
     "output_type": "stream",
     "text": [
      "100%|█████████████████████████████████████████████████████████████████████████████████████████████████████████| 352/352 [00:16<00:00, 21.46it/s, loss=0.736]\n",
      "100%|████████████████████████████████████████████████████████████████████████████████████████████████| 40/40 [00:01<00:00, 39.36it/s, acc=0.921, loss=0.943]\n"
     ]
    },
    {
     "name": "stdout",
     "output_type": "stream",
     "text": [
      "Epoch: 140\n"
     ]
    },
    {
     "name": "stderr",
     "output_type": "stream",
     "text": [
      "100%|█████████████████████████████████████████████████████████████████████████████████████████████████████████| 352/352 [00:16<00:00, 21.84it/s, loss=0.739]\n",
      "100%|████████████████████████████████████████████████████████████████████████████████████████████████| 40/40 [00:01<00:00, 38.90it/s, acc=0.917, loss=0.968]\n"
     ]
    },
    {
     "name": "stdout",
     "output_type": "stream",
     "text": [
      "Epoch: 141\n"
     ]
    },
    {
     "name": "stderr",
     "output_type": "stream",
     "text": [
      "100%|█████████████████████████████████████████████████████████████████████████████████████████████████████████| 352/352 [00:16<00:00, 21.54it/s, loss=0.741]\n",
      "100%|████████████████████████████████████████████████████████████████████████████████████████████████| 40/40 [00:01<00:00, 34.91it/s, acc=0.918, loss=0.953]\n"
     ]
    },
    {
     "name": "stdout",
     "output_type": "stream",
     "text": [
      "Epoch: 142\n"
     ]
    },
    {
     "name": "stderr",
     "output_type": "stream",
     "text": [
      "100%|█████████████████████████████████████████████████████████████████████████████████████████████████████████| 352/352 [00:16<00:00, 21.48it/s, loss=0.737]\n",
      "100%|█████████████████████████████████████████████████████████████████████████████████████████████████| 40/40 [00:01<00:00, 38.90it/s, acc=0.918, loss=0.94]\n"
     ]
    },
    {
     "name": "stdout",
     "output_type": "stream",
     "text": [
      "Epoch: 143\n"
     ]
    },
    {
     "name": "stderr",
     "output_type": "stream",
     "text": [
      "100%|█████████████████████████████████████████████████████████████████████████████████████████████████████████| 352/352 [00:16<00:00, 21.14it/s, loss=0.732]\n",
      "100%|█████████████████████████████████████████████████████████████████████████████████████████████████| 40/40 [00:01<00:00, 35.42it/s, acc=0.92, loss=0.955]\n"
     ]
    },
    {
     "name": "stdout",
     "output_type": "stream",
     "text": [
      "Epoch: 144\n"
     ]
    },
    {
     "name": "stderr",
     "output_type": "stream",
     "text": [
      "100%|█████████████████████████████████████████████████████████████████████████████████████████████████████████| 352/352 [00:16<00:00, 21.68it/s, loss=0.739]\n",
      "100%|████████████████████████████████████████████████████████████████████████████████████████████████| 40/40 [00:01<00:00, 38.12it/s, acc=0.916, loss=0.966]\n"
     ]
    },
    {
     "name": "stdout",
     "output_type": "stream",
     "text": [
      "Epoch: 145\n"
     ]
    },
    {
     "name": "stderr",
     "output_type": "stream",
     "text": [
      "100%|█████████████████████████████████████████████████████████████████████████████████████████████████████████| 352/352 [00:16<00:00, 21.87it/s, loss=0.738]\n",
      "100%|█████████████████████████████████████████████████████████████████████████████████████████████████| 40/40 [00:01<00:00, 38.39it/s, acc=0.919, loss=0.95]\n"
     ]
    },
    {
     "name": "stdout",
     "output_type": "stream",
     "text": [
      "Epoch: 146\n"
     ]
    },
    {
     "name": "stderr",
     "output_type": "stream",
     "text": [
      "100%|█████████████████████████████████████████████████████████████████████████████████████████████████████████| 352/352 [00:16<00:00, 21.61it/s, loss=0.736]\n",
      "100%|████████████████████████████████████████████████████████████████████████████████████████████████| 40/40 [00:01<00:00, 37.59it/s, acc=0.917, loss=0.965]\n"
     ]
    },
    {
     "name": "stdout",
     "output_type": "stream",
     "text": [
      "Epoch: 147\n"
     ]
    },
    {
     "name": "stderr",
     "output_type": "stream",
     "text": [
      "100%|█████████████████████████████████████████████████████████████████████████████████████████████████████████| 352/352 [00:16<00:00, 21.87it/s, loss=0.737]\n",
      "100%|█████████████████████████████████████████████████████████████████████████████████████████████████| 40/40 [00:00<00:00, 41.26it/s, acc=0.92, loss=0.941]\n"
     ]
    },
    {
     "name": "stdout",
     "output_type": "stream",
     "text": [
      "Epoch: 148\n"
     ]
    },
    {
     "name": "stderr",
     "output_type": "stream",
     "text": [
      "100%|█████████████████████████████████████████████████████████████████████████████████████████████████████████| 352/352 [00:16<00:00, 20.84it/s, loss=0.736]\n",
      "100%|████████████████████████████████████████████████████████████████████████████████████████████████| 40/40 [00:00<00:00, 41.00it/s, acc=0.919, loss=0.948]\n"
     ]
    },
    {
     "name": "stdout",
     "output_type": "stream",
     "text": [
      "Epoch: 149\n"
     ]
    },
    {
     "name": "stderr",
     "output_type": "stream",
     "text": [
      "100%|█████████████████████████████████████████████████████████████████████████████████████████████████████████| 352/352 [00:16<00:00, 21.66it/s, loss=0.735]\n",
      "100%|████████████████████████████████████████████████████████████████████████████████████████████████| 40/40 [00:01<00:00, 33.85it/s, acc=0.918, loss=0.949]\n"
     ]
    },
    {
     "name": "stdout",
     "output_type": "stream",
     "text": [
      "Epoch: 150\n"
     ]
    },
    {
     "name": "stderr",
     "output_type": "stream",
     "text": [
      "100%|█████████████████████████████████████████████████████████████████████████████████████████████████████████| 352/352 [00:16<00:00, 21.72it/s, loss=0.739]\n",
      "100%|█████████████████████████████████████████████████████████████████████████████████████████████████| 40/40 [00:01<00:00, 37.26it/s, acc=0.92, loss=0.943]\n"
     ]
    },
    {
     "name": "stdout",
     "output_type": "stream",
     "text": [
      "Epoch: 151\n"
     ]
    },
    {
     "name": "stderr",
     "output_type": "stream",
     "text": [
      "100%|█████████████████████████████████████████████████████████████████████████████████████████████████████████| 352/352 [00:16<00:00, 21.44it/s, loss=0.733]\n",
      "100%|████████████████████████████████████████████████████████████████████████████████████████████████| 40/40 [00:01<00:00, 39.04it/s, acc=0.911, loss=0.991]\n"
     ]
    },
    {
     "name": "stdout",
     "output_type": "stream",
     "text": [
      "Epoch: 152\n"
     ]
    },
    {
     "name": "stderr",
     "output_type": "stream",
     "text": [
      "100%|█████████████████████████████████████████████████████████████████████████████████████████████████████████| 352/352 [00:16<00:00, 21.50it/s, loss=0.732]\n",
      "100%|████████████████████████████████████████████████████████████████████████████████████████████████| 40/40 [00:01<00:00, 36.45it/s, acc=0.914, loss=0.986]\n"
     ]
    },
    {
     "name": "stdout",
     "output_type": "stream",
     "text": [
      "Epoch: 153\n"
     ]
    },
    {
     "name": "stderr",
     "output_type": "stream",
     "text": [
      "100%|██████████████████████████████████████████████████████████████████████████████████████████████████████████| 352/352 [00:16<00:00, 21.52it/s, loss=0.74]\n",
      "100%|████████████████████████████████████████████████████████████████████████████████████████████████| 40/40 [00:01<00:00, 38.14it/s, acc=0.912, loss=0.973]\n"
     ]
    },
    {
     "name": "stdout",
     "output_type": "stream",
     "text": [
      "Epoch: 154\n"
     ]
    },
    {
     "name": "stderr",
     "output_type": "stream",
     "text": [
      "100%|█████████████████████████████████████████████████████████████████████████████████████████████████████████| 352/352 [00:16<00:00, 21.38it/s, loss=0.735]\n",
      "100%|████████████████████████████████████████████████████████████████████████████████████████████████| 40/40 [00:01<00:00, 37.30it/s, acc=0.917, loss=0.963]\n"
     ]
    },
    {
     "name": "stdout",
     "output_type": "stream",
     "text": [
      "Epoch: 155\n"
     ]
    },
    {
     "name": "stderr",
     "output_type": "stream",
     "text": [
      "100%|█████████████████████████████████████████████████████████████████████████████████████████████████████████| 352/352 [00:16<00:00, 21.28it/s, loss=0.735]\n",
      "100%|█████████████████████████████████████████████████████████████████████████████████████████████████| 40/40 [00:01<00:00, 39.83it/s, acc=0.92, loss=0.968]\n"
     ]
    },
    {
     "name": "stdout",
     "output_type": "stream",
     "text": [
      "Epoch: 156\n"
     ]
    },
    {
     "name": "stderr",
     "output_type": "stream",
     "text": [
      "100%|██████████████████████████████████████████████████████████████████████████████████████████████████████████| 352/352 [00:16<00:00, 21.44it/s, loss=0.74]\n",
      "100%|█████████████████████████████████████████████████████████████████████████████████████████████████| 40/40 [00:00<00:00, 41.58it/s, acc=0.92, loss=0.939]\n"
     ]
    },
    {
     "name": "stdout",
     "output_type": "stream",
     "text": [
      "Epoch: 157\n"
     ]
    },
    {
     "name": "stderr",
     "output_type": "stream",
     "text": [
      "100%|█████████████████████████████████████████████████████████████████████████████████████████████████████████| 352/352 [00:16<00:00, 21.50it/s, loss=0.738]\n",
      "100%|████████████████████████████████████████████████████████████████████████████████████████████████| 40/40 [00:01<00:00, 39.94it/s, acc=0.914, loss=0.969]\n"
     ]
    },
    {
     "name": "stdout",
     "output_type": "stream",
     "text": [
      "Epoch: 158\n"
     ]
    },
    {
     "name": "stderr",
     "output_type": "stream",
     "text": [
      "100%|█████████████████████████████████████████████████████████████████████████████████████████████████████████| 352/352 [00:16<00:00, 21.71it/s, loss=0.737]\n",
      "100%|████████████████████████████████████████████████████████████████████████████████████████████████| 40/40 [00:01<00:00, 38.87it/s, acc=0.914, loss=0.954]\n"
     ]
    },
    {
     "name": "stdout",
     "output_type": "stream",
     "text": [
      "Epoch: 159\n"
     ]
    },
    {
     "name": "stderr",
     "output_type": "stream",
     "text": [
      "100%|█████████████████████████████████████████████████████████████████████████████████████████████████████████| 352/352 [00:16<00:00, 21.82it/s, loss=0.735]\n",
      "100%|████████████████████████████████████████████████████████████████████████████████████████████████| 40/40 [00:01<00:00, 38.29it/s, acc=0.918, loss=0.944]\n"
     ]
    },
    {
     "name": "stdout",
     "output_type": "stream",
     "text": [
      "Epoch: 160\n"
     ]
    },
    {
     "name": "stderr",
     "output_type": "stream",
     "text": [
      "100%|█████████████████████████████████████████████████████████████████████████████████████████████████████████| 352/352 [00:16<00:00, 21.42it/s, loss=0.738]\n",
      "100%|████████████████████████████████████████████████████████████████████████████████████████████████| 40/40 [00:01<00:00, 38.94it/s, acc=0.922, loss=0.959]\n"
     ]
    },
    {
     "name": "stdout",
     "output_type": "stream",
     "text": [
      "Epoch: 161\n"
     ]
    },
    {
     "name": "stderr",
     "output_type": "stream",
     "text": [
      "100%|█████████████████████████████████████████████████████████████████████████████████████████████████████████| 352/352 [00:16<00:00, 21.51it/s, loss=0.698]\n",
      "100%|████████████████████████████████████████████████████████████████████████████████████████████████| 40/40 [00:01<00:00, 39.71it/s, acc=0.923, loss=0.914]\n"
     ]
    },
    {
     "name": "stdout",
     "output_type": "stream",
     "text": [
      "Epoch: 162\n"
     ]
    },
    {
     "name": "stderr",
     "output_type": "stream",
     "text": [
      "100%|█████████████████████████████████████████████████████████████████████████████████████████████████████████| 352/352 [00:16<00:00, 21.98it/s, loss=0.687]\n",
      "100%|████████████████████████████████████████████████████████████████████████████████████████████████| 40/40 [00:01<00:00, 36.47it/s, acc=0.927, loss=0.908]\n"
     ]
    },
    {
     "name": "stdout",
     "output_type": "stream",
     "text": [
      "**Saving checkpoint**\n",
      "Epoch: 163\n"
     ]
    },
    {
     "name": "stderr",
     "output_type": "stream",
     "text": [
      "100%|█████████████████████████████████████████████████████████████████████████████████████████████████████████| 352/352 [00:16<00:00, 20.84it/s, loss=0.685]\n",
      "100%|████████████████████████████████████████████████████████████████████████████████████████████████| 40/40 [00:01<00:00, 34.61it/s, acc=0.926, loss=0.932]\n"
     ]
    },
    {
     "name": "stdout",
     "output_type": "stream",
     "text": [
      "Epoch: 164\n"
     ]
    },
    {
     "name": "stderr",
     "output_type": "stream",
     "text": [
      "100%|█████████████████████████████████████████████████████████████████████████████████████████████████████████| 352/352 [00:16<00:00, 21.29it/s, loss=0.682]\n",
      "100%|████████████████████████████████████████████████████████████████████████████████████████████████| 40/40 [00:01<00:00, 32.54it/s, acc=0.926, loss=0.904]\n"
     ]
    },
    {
     "name": "stdout",
     "output_type": "stream",
     "text": [
      "Epoch: 165\n"
     ]
    },
    {
     "name": "stderr",
     "output_type": "stream",
     "text": [
      "100%|█████████████████████████████████████████████████████████████████████████████████████████████████████████| 352/352 [00:16<00:00, 21.51it/s, loss=0.681]\n",
      "100%|████████████████████████████████████████████████████████████████████████████████████████████████| 40/40 [00:01<00:00, 37.71it/s, acc=0.926, loss=0.901]\n"
     ]
    },
    {
     "name": "stdout",
     "output_type": "stream",
     "text": [
      "Epoch: 166\n"
     ]
    },
    {
     "name": "stderr",
     "output_type": "stream",
     "text": [
      "100%|█████████████████████████████████████████████████████████████████████████████████████████████████████████| 352/352 [00:16<00:00, 21.02it/s, loss=0.679]\n",
      "100%|████████████████████████████████████████████████████████████████████████████████████████████████| 40/40 [00:00<00:00, 41.65it/s, acc=0.927, loss=0.897]\n"
     ]
    },
    {
     "name": "stdout",
     "output_type": "stream",
     "text": [
      "Epoch: 167\n"
     ]
    },
    {
     "name": "stderr",
     "output_type": "stream",
     "text": [
      "100%|██████████████████████████████████████████████████████████████████████████████████████████████████████████| 352/352 [00:16<00:00, 21.81it/s, loss=0.68]\n",
      "100%|█████████████████████████████████████████████████████████████████████████████████████████████████| 40/40 [00:01<00:00, 37.48it/s, acc=0.925, loss=0.93]\n"
     ]
    },
    {
     "name": "stdout",
     "output_type": "stream",
     "text": [
      "Epoch: 168\n"
     ]
    },
    {
     "name": "stderr",
     "output_type": "stream",
     "text": [
      "100%|█████████████████████████████████████████████████████████████████████████████████████████████████████████| 352/352 [00:16<00:00, 21.57it/s, loss=0.681]\n",
      "100%|████████████████████████████████████████████████████████████████████████████████████████████████| 40/40 [00:01<00:00, 38.05it/s, acc=0.925, loss=0.913]\n"
     ]
    },
    {
     "name": "stdout",
     "output_type": "stream",
     "text": [
      "Epoch: 169\n"
     ]
    },
    {
     "name": "stderr",
     "output_type": "stream",
     "text": [
      "100%|██████████████████████████████████████████████████████████████████████████████████████████████████████████| 352/352 [00:15<00:00, 22.05it/s, loss=0.68]\n",
      "100%|████████████████████████████████████████████████████████████████████████████████████████████████| 40/40 [00:01<00:00, 38.69it/s, acc=0.926, loss=0.904]\n"
     ]
    },
    {
     "name": "stdout",
     "output_type": "stream",
     "text": [
      "Epoch: 170\n"
     ]
    },
    {
     "name": "stderr",
     "output_type": "stream",
     "text": [
      "100%|█████████████████████████████████████████████████████████████████████████████████████████████████████████| 352/352 [00:16<00:00, 21.47it/s, loss=0.677]\n",
      "100%|████████████████████████████████████████████████████████████████████████████████████████████████| 40/40 [00:00<00:00, 41.51it/s, acc=0.926, loss=0.903]\n"
     ]
    },
    {
     "name": "stdout",
     "output_type": "stream",
     "text": [
      "Epoch: 171\n"
     ]
    },
    {
     "name": "stderr",
     "output_type": "stream",
     "text": [
      "100%|█████████████████████████████████████████████████████████████████████████████████████████████████████████| 352/352 [00:16<00:00, 21.62it/s, loss=0.675]\n",
      "100%|████████████████████████████████████████████████████████████████████████████████████████████████| 40/40 [00:01<00:00, 38.98it/s, acc=0.923, loss=0.903]\n"
     ]
    },
    {
     "name": "stdout",
     "output_type": "stream",
     "text": [
      "Epoch: 172\n"
     ]
    },
    {
     "name": "stderr",
     "output_type": "stream",
     "text": [
      "100%|█████████████████████████████████████████████████████████████████████████████████████████████████████████| 352/352 [00:16<00:00, 21.60it/s, loss=0.675]\n",
      "100%|████████████████████████████████████████████████████████████████████████████████████████████████| 40/40 [00:01<00:00, 39.69it/s, acc=0.925, loss=0.911]\n"
     ]
    },
    {
     "name": "stdout",
     "output_type": "stream",
     "text": [
      "Epoch: 173\n"
     ]
    },
    {
     "name": "stderr",
     "output_type": "stream",
     "text": [
      "100%|█████████████████████████████████████████████████████████████████████████████████████████████████████████| 352/352 [00:15<00:00, 22.51it/s, loss=0.676]\n",
      "100%|████████████████████████████████████████████████████████████████████████████████████████████████| 40/40 [00:00<00:00, 41.07it/s, acc=0.925, loss=0.909]\n"
     ]
    },
    {
     "name": "stdout",
     "output_type": "stream",
     "text": [
      "Epoch: 174\n"
     ]
    },
    {
     "name": "stderr",
     "output_type": "stream",
     "text": [
      "100%|█████████████████████████████████████████████████████████████████████████████████████████████████████████| 352/352 [00:16<00:00, 21.63it/s, loss=0.679]\n",
      "100%|████████████████████████████████████████████████████████████████████████████████████████████████| 40/40 [00:01<00:00, 38.15it/s, acc=0.925, loss=0.901]\n"
     ]
    },
    {
     "name": "stdout",
     "output_type": "stream",
     "text": [
      "Epoch: 175\n"
     ]
    },
    {
     "name": "stderr",
     "output_type": "stream",
     "text": [
      "100%|█████████████████████████████████████████████████████████████████████████████████████████████████████████| 352/352 [00:16<00:00, 21.34it/s, loss=0.677]\n",
      "100%|████████████████████████████████████████████████████████████████████████████████████████████████| 40/40 [00:01<00:00, 39.79it/s, acc=0.926, loss=0.895]\n"
     ]
    },
    {
     "name": "stdout",
     "output_type": "stream",
     "text": [
      "Epoch: 176\n"
     ]
    },
    {
     "name": "stderr",
     "output_type": "stream",
     "text": [
      "100%|█████████████████████████████████████████████████████████████████████████████████████████████████████████| 352/352 [00:16<00:00, 21.73it/s, loss=0.675]\n",
      "100%|████████████████████████████████████████████████████████████████████████████████████████████████| 40/40 [00:01<00:00, 35.10it/s, acc=0.926, loss=0.908]\n"
     ]
    },
    {
     "name": "stdout",
     "output_type": "stream",
     "text": [
      "Epoch: 177\n"
     ]
    },
    {
     "name": "stderr",
     "output_type": "stream",
     "text": [
      "100%|█████████████████████████████████████████████████████████████████████████████████████████████████████████| 352/352 [00:16<00:00, 21.52it/s, loss=0.675]\n",
      "100%|████████████████████████████████████████████████████████████████████████████████████████████████| 40/40 [00:01<00:00, 33.53it/s, acc=0.924, loss=0.906]\n"
     ]
    },
    {
     "name": "stdout",
     "output_type": "stream",
     "text": [
      "Epoch: 178\n"
     ]
    },
    {
     "name": "stderr",
     "output_type": "stream",
     "text": [
      "100%|█████████████████████████████████████████████████████████████████████████████████████████████████████████| 352/352 [00:16<00:00, 21.30it/s, loss=0.675]\n",
      "100%|████████████████████████████████████████████████████████████████████████████████████████████████| 40/40 [00:01<00:00, 35.27it/s, acc=0.925, loss=0.903]\n"
     ]
    },
    {
     "name": "stdout",
     "output_type": "stream",
     "text": [
      "Epoch: 179\n"
     ]
    },
    {
     "name": "stderr",
     "output_type": "stream",
     "text": [
      "100%|█████████████████████████████████████████████████████████████████████████████████████████████████████████| 352/352 [00:16<00:00, 21.86it/s, loss=0.676]\n",
      "100%|████████████████████████████████████████████████████████████████████████████████████████████████| 40/40 [00:01<00:00, 38.46it/s, acc=0.925, loss=0.911]\n"
     ]
    },
    {
     "name": "stdout",
     "output_type": "stream",
     "text": [
      "Epoch: 180\n"
     ]
    },
    {
     "name": "stderr",
     "output_type": "stream",
     "text": [
      "100%|█████████████████████████████████████████████████████████████████████████████████████████████████████████| 352/352 [00:16<00:00, 21.30it/s, loss=0.674]\n",
      "100%|████████████████████████████████████████████████████████████████████████████████████████████████| 40/40 [00:01<00:00, 37.20it/s, acc=0.924, loss=0.906]\n"
     ]
    },
    {
     "name": "stdout",
     "output_type": "stream",
     "text": [
      "Epoch: 181\n"
     ]
    },
    {
     "name": "stderr",
     "output_type": "stream",
     "text": [
      "100%|█████████████████████████████████████████████████████████████████████████████████████████████████████████| 352/352 [00:15<00:00, 22.33it/s, loss=0.673]\n",
      "100%|████████████████████████████████████████████████████████████████████████████████████████████████| 40/40 [00:01<00:00, 39.25it/s, acc=0.924, loss=0.904]\n"
     ]
    },
    {
     "name": "stdout",
     "output_type": "stream",
     "text": [
      "Epoch: 182\n"
     ]
    },
    {
     "name": "stderr",
     "output_type": "stream",
     "text": [
      "100%|█████████████████████████████████████████████████████████████████████████████████████████████████████████| 352/352 [00:16<00:00, 21.71it/s, loss=0.675]\n",
      "100%|█████████████████████████████████████████████████████████████████████████████████████████████████| 40/40 [00:00<00:00, 41.18it/s, acc=0.923, loss=0.92]\n"
     ]
    },
    {
     "name": "stdout",
     "output_type": "stream",
     "text": [
      "Epoch: 183\n"
     ]
    },
    {
     "name": "stderr",
     "output_type": "stream",
     "text": [
      "100%|██████████████████████████████████████████████████████████████████████████████████████████████████████████| 352/352 [00:16<00:00, 21.70it/s, loss=0.67]\n",
      "100%|████████████████████████████████████████████████████████████████████████████████████████████████| 40/40 [00:01<00:00, 34.23it/s, acc=0.925, loss=0.921]\n"
     ]
    },
    {
     "name": "stdout",
     "output_type": "stream",
     "text": [
      "Epoch: 184\n"
     ]
    },
    {
     "name": "stderr",
     "output_type": "stream",
     "text": [
      "100%|█████████████████████████████████████████████████████████████████████████████████████████████████████████| 352/352 [00:16<00:00, 21.49it/s, loss=0.674]\n",
      "100%|████████████████████████████████████████████████████████████████████████████████████████████████| 40/40 [00:01<00:00, 37.85it/s, acc=0.925, loss=0.918]\n"
     ]
    },
    {
     "name": "stdout",
     "output_type": "stream",
     "text": [
      "Epoch: 185\n"
     ]
    },
    {
     "name": "stderr",
     "output_type": "stream",
     "text": [
      "100%|█████████████████████████████████████████████████████████████████████████████████████████████████████████| 352/352 [00:16<00:00, 21.70it/s, loss=0.673]\n",
      "100%|████████████████████████████████████████████████████████████████████████████████████████████████| 40/40 [00:01<00:00, 38.14it/s, acc=0.925, loss=0.916]\n"
     ]
    },
    {
     "name": "stdout",
     "output_type": "stream",
     "text": [
      "Epoch: 186\n"
     ]
    },
    {
     "name": "stderr",
     "output_type": "stream",
     "text": [
      "100%|██████████████████████████████████████████████████████████████████████████████████████████████████████████| 352/352 [00:16<00:00, 21.37it/s, loss=0.67]\n",
      "100%|████████████████████████████████████████████████████████████████████████████████████████████████| 40/40 [00:01<00:00, 36.66it/s, acc=0.923, loss=0.917]\n"
     ]
    },
    {
     "name": "stdout",
     "output_type": "stream",
     "text": [
      "Epoch: 187\n"
     ]
    },
    {
     "name": "stderr",
     "output_type": "stream",
     "text": [
      "100%|█████████████████████████████████████████████████████████████████████████████████████████████████████████| 352/352 [00:16<00:00, 21.43it/s, loss=0.673]\n",
      "100%|████████████████████████████████████████████████████████████████████████████████████████████████| 40/40 [00:01<00:00, 37.79it/s, acc=0.923, loss=0.906]\n"
     ]
    },
    {
     "name": "stdout",
     "output_type": "stream",
     "text": [
      "Epoch: 188\n"
     ]
    },
    {
     "name": "stderr",
     "output_type": "stream",
     "text": [
      "100%|█████████████████████████████████████████████████████████████████████████████████████████████████████████| 352/352 [00:16<00:00, 21.68it/s, loss=0.672]\n",
      "100%|████████████████████████████████████████████████████████████████████████████████████████████████| 40/40 [00:01<00:00, 35.37it/s, acc=0.926, loss=0.904]\n"
     ]
    },
    {
     "name": "stdout",
     "output_type": "stream",
     "text": [
      "Epoch: 189\n"
     ]
    },
    {
     "name": "stderr",
     "output_type": "stream",
     "text": [
      "100%|█████████████████████████████████████████████████████████████████████████████████████████████████████████| 352/352 [00:15<00:00, 22.15it/s, loss=0.672]\n",
      "100%|████████████████████████████████████████████████████████████████████████████████████████████████| 40/40 [00:01<00:00, 36.07it/s, acc=0.926, loss=0.911]\n"
     ]
    },
    {
     "name": "stdout",
     "output_type": "stream",
     "text": [
      "Epoch: 190\n"
     ]
    },
    {
     "name": "stderr",
     "output_type": "stream",
     "text": [
      "100%|█████████████████████████████████████████████████████████████████████████████████████████████████████████| 352/352 [00:16<00:00, 21.88it/s, loss=0.668]\n",
      "100%|████████████████████████████████████████████████████████████████████████████████████████████████| 40/40 [00:01<00:00, 37.66it/s, acc=0.925, loss=0.905]\n"
     ]
    },
    {
     "name": "stdout",
     "output_type": "stream",
     "text": [
      "Epoch: 191\n"
     ]
    },
    {
     "name": "stderr",
     "output_type": "stream",
     "text": [
      "100%|█████████████████████████████████████████████████████████████████████████████████████████████████████████| 352/352 [00:16<00:00, 21.27it/s, loss=0.668]\n",
      "100%|████████████████████████████████████████████████████████████████████████████████████████████████| 40/40 [00:01<00:00, 37.66it/s, acc=0.925, loss=0.911]\n"
     ]
    },
    {
     "name": "stdout",
     "output_type": "stream",
     "text": [
      "Epoch: 192\n"
     ]
    },
    {
     "name": "stderr",
     "output_type": "stream",
     "text": [
      "100%|█████████████████████████████████████████████████████████████████████████████████████████████████████████| 352/352 [00:16<00:00, 21.83it/s, loss=0.669]\n",
      "100%|████████████████████████████████████████████████████████████████████████████████████████████████| 40/40 [00:01<00:00, 35.93it/s, acc=0.925, loss=0.916]\n"
     ]
    },
    {
     "name": "stdout",
     "output_type": "stream",
     "text": [
      "Epoch: 193\n"
     ]
    },
    {
     "name": "stderr",
     "output_type": "stream",
     "text": [
      "100%|██████████████████████████████████████████████████████████████████████████████████████████████████████████| 352/352 [00:16<00:00, 21.87it/s, loss=0.67]\n",
      "100%|████████████████████████████████████████████████████████████████████████████████████████████████| 40/40 [00:01<00:00, 39.17it/s, acc=0.925, loss=0.901]\n"
     ]
    },
    {
     "name": "stdout",
     "output_type": "stream",
     "text": [
      "Epoch: 194\n"
     ]
    },
    {
     "name": "stderr",
     "output_type": "stream",
     "text": [
      "100%|█████████████████████████████████████████████████████████████████████████████████████████████████████████| 352/352 [00:16<00:00, 21.36it/s, loss=0.671]\n",
      "100%|████████████████████████████████████████████████████████████████████████████████████████████████| 40/40 [00:01<00:00, 39.23it/s, acc=0.921, loss=0.914]\n"
     ]
    },
    {
     "name": "stdout",
     "output_type": "stream",
     "text": [
      "Epoch: 195\n"
     ]
    },
    {
     "name": "stderr",
     "output_type": "stream",
     "text": [
      "100%|██████████████████████████████████████████████████████████████████████████████████████████████████████████| 352/352 [00:16<00:00, 21.50it/s, loss=0.67]\n",
      "100%|██████████████████████████████████████████████████████████████████████████████████████████████████| 40/40 [00:01<00:00, 39.71it/s, acc=0.926, loss=0.9]\n"
     ]
    },
    {
     "name": "stdout",
     "output_type": "stream",
     "text": [
      "Epoch: 196\n"
     ]
    },
    {
     "name": "stderr",
     "output_type": "stream",
     "text": [
      "100%|█████████████████████████████████████████████████████████████████████████████████████████████████████████| 352/352 [00:16<00:00, 21.29it/s, loss=0.672]\n",
      "100%|█████████████████████████████████████████████████████████████████████████████████████████████████| 40/40 [00:01<00:00, 38.89it/s, acc=0.925, loss=0.92]\n"
     ]
    },
    {
     "name": "stdout",
     "output_type": "stream",
     "text": [
      "Epoch: 197\n"
     ]
    },
    {
     "name": "stderr",
     "output_type": "stream",
     "text": [
      "100%|██████████████████████████████████████████████████████████████████████████████████████████████████████████| 352/352 [00:16<00:00, 21.77it/s, loss=0.67]\n",
      "100%|████████████████████████████████████████████████████████████████████████████████████████████████| 40/40 [00:01<00:00, 37.12it/s, acc=0.927, loss=0.912]\n"
     ]
    },
    {
     "name": "stdout",
     "output_type": "stream",
     "text": [
      "Epoch: 198\n"
     ]
    },
    {
     "name": "stderr",
     "output_type": "stream",
     "text": [
      "100%|█████████████████████████████████████████████████████████████████████████████████████████████████████████| 352/352 [00:16<00:00, 21.50it/s, loss=0.671]\n",
      "100%|████████████████████████████████████████████████████████████████████████████████████████████████| 40/40 [00:01<00:00, 39.56it/s, acc=0.924, loss=0.909]\n"
     ]
    },
    {
     "name": "stdout",
     "output_type": "stream",
     "text": [
      "Epoch: 199\n"
     ]
    },
    {
     "name": "stderr",
     "output_type": "stream",
     "text": [
      "100%|█████████████████████████████████████████████████████████████████████████████████████████████████████████| 352/352 [00:15<00:00, 22.16it/s, loss=0.669]\n",
      "100%|████████████████████████████████████████████████████████████████████████████████████████████████| 40/40 [00:01<00:00, 37.72it/s, acc=0.924, loss=0.908]\n"
     ]
    },
    {
     "name": "stdout",
     "output_type": "stream",
     "text": [
      "Epoch: 200\n"
     ]
    },
    {
     "name": "stderr",
     "output_type": "stream",
     "text": [
      "100%|█████████████████████████████████████████████████████████████████████████████████████████████████████████| 352/352 [00:16<00:00, 21.77it/s, loss=0.669]\n",
      "100%|████████████████████████████████████████████████████████████████████████████████████████████████| 40/40 [00:01<00:00, 38.24it/s, acc=0.925, loss=0.904]\n"
     ]
    }
   ],
   "source": [
    "box.compress_model()"
   ]
  },
  {
   "cell_type": "code",
   "execution_count": 48,
   "metadata": {
    "colab": {
     "base_uri": "https://localhost:8080/"
    },
    "id": "_-5DKHX-ocQz",
    "outputId": "b9211666-90bc-4e58-ac66-6af476a278a5"
   },
   "outputs": [
    {
     "data": {
      "text/plain": [
       "<All keys matched successfully>"
      ]
     },
     "execution_count": 48,
     "metadata": {},
     "output_type": "execute_result"
    }
   ],
   "source": [
    "student_model.load_state_dict(torch.load('./checkpoints/at_wrn16x1.pth')['state_dict'])"
   ]
  },
  {
   "cell_type": "code",
   "execution_count": 51,
   "metadata": {
    "colab": {
     "base_uri": "https://localhost:8080/"
    },
    "id": "a4NXQozDnjLQ",
    "outputId": "1af1da7f-7710-4517-ed15-157ccb38192a"
   },
   "outputs": [
    {
     "name": "stderr",
     "output_type": "stream",
     "text": [
      "100%|███████████████████████████████████████████████████████████████████████████████████████████████████████████████████████| 79/79 [00:01<00:00, 52.71it/s]\n"
     ]
    }
   ],
   "source": [
    "preds = []\n",
    "valid_labels = []\n",
    "student_model.eval()\n",
    "# Run the best model on test set\n",
    "for step, (images, labels) in tqdm(enumerate(test_loader), total = len(test_loader)):\n",
    "\n",
    "    images = images.to(device, dtype=torch.float)\n",
    "    labels = labels.to(device)\n",
    "    batch_size = labels.size(0)\n",
    "\n",
    "    with torch.no_grad():\n",
    "        y_preds = student_model(images)\n",
    "        \n",
    "    preds.append(y_preds.softmax(1).to('cpu').numpy())\n",
    "    valid_labels.append(labels.to('cpu').numpy())\n",
    "\n",
    "predictions = np.concatenate(preds)\n",
    "valid_labels = np.concatenate(valid_labels)\n",
    "\n",
    "# Get the score\n",
    "score = accuracy_score(valid_labels, predictions.argmax(1))"
   ]
  },
  {
   "cell_type": "code",
   "execution_count": 52,
   "metadata": {},
   "outputs": [
    {
     "data": {
      "text/plain": [
       "0.9207"
      ]
     },
     "execution_count": 52,
     "metadata": {},
     "output_type": "execute_result"
    }
   ],
   "source": [
    "score"
   ]
  },
  {
   "cell_type": "code",
   "execution_count": null,
   "metadata": {},
   "outputs": [],
   "source": []
  }
 ],
 "metadata": {
  "accelerator": "GPU",
  "colab": {
   "collapsed_sections": [],
   "name": "test.ipynb",
   "provenance": []
  },
  "gpuClass": "standard",
  "kernelspec": {
   "display_name": "Python 3 (ipykernel)",
   "language": "python",
   "name": "python3"
  },
  "language_info": {
   "codemirror_mode": {
    "name": "ipython",
    "version": 3
   },
   "file_extension": ".py",
   "mimetype": "text/x-python",
   "name": "python",
   "nbconvert_exporter": "python",
   "pygments_lexer": "ipython3",
   "version": "3.8.10"
  },
  "vscode": {
   "interpreter": {
    "hash": "c20c3092c0956f53c057234954b0e6e2beb63c056f97db512353abbe859d97b3"
   }
  }
 },
 "nbformat": 4,
 "nbformat_minor": 1
}
